{
 "cells": [
  {
   "cell_type": "markdown",
   "metadata": {
    "id": "3rYiDeEH0q0f"
   },
   "source": [
    "# ¿Cuál es la mejor tarifa?\n",
    "\n",
    "Trabajas como analista para el operador de telecomunicaciones Megaline. La empresa ofrece a sus clientes dos tarifas de prepago, Surf y Ultimate. El departamento comercial quiere saber cuál de las tarifas genera más ingresos para poder ajustar el presupuesto de publicidad.\n",
    "\n",
    "Vas a realizar un análisis preliminar de las tarifas basado en una selección de clientes relativamente pequeña. Tendrás los datos de 500 clientes de Megaline: quiénes son los clientes, de dónde son, qué tarifa usan, así como la cantidad de llamadas que hicieron y los mensajes de texto que enviaron en 2018. Tu trabajo es analizar el comportamiento de los clientes y determinar qué tarifa de prepago genera más ingresos."
   ]
  },
  {
   "cell_type": "markdown",
   "metadata": {
    "id": "4ysWWC5i0q00"
   },
   "source": [
    "## Carga de datos"
   ]
  },
  {
   "cell_type": "code",
   "execution_count": 1,
   "metadata": {},
   "outputs": [],
   "source": [
    "# Cargar todas las librerías\n",
    "\n",
    "import pandas as pd\n",
    "from matplotlib import pyplot as plt\n",
    "import numpy as np\n",
    "import seaborn as sns\n",
    "from scipy import stats as st"
   ]
  },
  {
   "cell_type": "code",
   "execution_count": 2,
   "metadata": {
    "id": "CCqPW7rS0q01",
    "trusted": true
   },
   "outputs": [],
   "source": [
    "# Carga los archivos de datos en diferentes DataFrames\n",
    "\n",
    "calls = pd.read_csv('megaline_calls.csv')\n",
    "internet = pd.read_csv('megaline_internet.csv')\n",
    "messages = pd.read_csv('megaline_messages.csv')\n",
    "plans = pd.read_csv('megaline_plans.csv')\n",
    "users = pd.read_csv('megaline_users.csv')"
   ]
  },
  {
   "cell_type": "markdown",
   "metadata": {
    "id": "69qqoJ3r0q01"
   },
   "source": [
    "## Preparar los datos"
   ]
  },
  {
   "cell_type": "markdown",
   "metadata": {
    "id": "ohBhimvH0q01"
   },
   "source": [
    "### Tarifas"
   ]
  },
  {
   "cell_type": "code",
   "execution_count": 3,
   "metadata": {
    "id": "GptqP3Q40q02",
    "trusted": true
   },
   "outputs": [
    {
     "name": "stdout",
     "output_type": "stream",
     "text": [
      "<class 'pandas.core.frame.DataFrame'>\n",
      "RangeIndex: 2 entries, 0 to 1\n",
      "Data columns (total 8 columns):\n",
      " #   Column                 Non-Null Count  Dtype  \n",
      "---  ------                 --------------  -----  \n",
      " 0   messages_included      2 non-null      int64  \n",
      " 1   mb_per_month_included  2 non-null      int64  \n",
      " 2   minutes_included       2 non-null      int64  \n",
      " 3   usd_monthly_pay        2 non-null      int64  \n",
      " 4   usd_per_gb             2 non-null      int64  \n",
      " 5   usd_per_message        2 non-null      float64\n",
      " 6   usd_per_minute         2 non-null      float64\n",
      " 7   plan_name              2 non-null      object \n",
      "dtypes: float64(2), int64(5), object(1)\n",
      "memory usage: 260.0+ bytes\n"
     ]
    }
   ],
   "source": [
    "# Imprime la información general/resumida sobre el DataFrame de las tarifas\n",
    "\n",
    "plans.info()"
   ]
  },
  {
   "cell_type": "code",
   "execution_count": 4,
   "metadata": {
    "id": "64xzjwL70q02",
    "trusted": true
   },
   "outputs": [
    {
     "data": {
      "text/html": [
       "<div>\n",
       "<style scoped>\n",
       "    .dataframe tbody tr th:only-of-type {\n",
       "        vertical-align: middle;\n",
       "    }\n",
       "\n",
       "    .dataframe tbody tr th {\n",
       "        vertical-align: top;\n",
       "    }\n",
       "\n",
       "    .dataframe thead th {\n",
       "        text-align: right;\n",
       "    }\n",
       "</style>\n",
       "<table border=\"1\" class=\"dataframe\">\n",
       "  <thead>\n",
       "    <tr style=\"text-align: right;\">\n",
       "      <th></th>\n",
       "      <th>messages_included</th>\n",
       "      <th>mb_per_month_included</th>\n",
       "      <th>minutes_included</th>\n",
       "      <th>usd_monthly_pay</th>\n",
       "      <th>usd_per_gb</th>\n",
       "      <th>usd_per_message</th>\n",
       "      <th>usd_per_minute</th>\n",
       "      <th>plan_name</th>\n",
       "    </tr>\n",
       "  </thead>\n",
       "  <tbody>\n",
       "    <tr>\n",
       "      <th>0</th>\n",
       "      <td>50</td>\n",
       "      <td>15360</td>\n",
       "      <td>500</td>\n",
       "      <td>20</td>\n",
       "      <td>10</td>\n",
       "      <td>0.03</td>\n",
       "      <td>0.03</td>\n",
       "      <td>surf</td>\n",
       "    </tr>\n",
       "    <tr>\n",
       "      <th>1</th>\n",
       "      <td>1000</td>\n",
       "      <td>30720</td>\n",
       "      <td>3000</td>\n",
       "      <td>70</td>\n",
       "      <td>7</td>\n",
       "      <td>0.01</td>\n",
       "      <td>0.01</td>\n",
       "      <td>ultimate</td>\n",
       "    </tr>\n",
       "  </tbody>\n",
       "</table>\n",
       "</div>"
      ],
      "text/plain": [
       "   messages_included  mb_per_month_included  minutes_included  \\\n",
       "0                 50                  15360               500   \n",
       "1               1000                  30720              3000   \n",
       "\n",
       "   usd_monthly_pay  usd_per_gb  usd_per_message  usd_per_minute plan_name  \n",
       "0               20          10             0.03            0.03      surf  \n",
       "1               70           7             0.01            0.01  ultimate  "
      ]
     },
     "execution_count": 4,
     "metadata": {},
     "output_type": "execute_result"
    }
   ],
   "source": [
    "# Imprime una muestra de los datos para las tarifas\n",
    "\n",
    "plans.head()"
   ]
  },
  {
   "cell_type": "markdown",
   "metadata": {},
   "source": [
    "- puede observar solo dos filas que contien la información de los planes"
   ]
  },
  {
   "cell_type": "markdown",
   "metadata": {
    "id": "1n2X6WXf0q04"
   },
   "source": [
    "### Usuarios/as"
   ]
  },
  {
   "cell_type": "code",
   "execution_count": 5,
   "metadata": {
    "id": "2NgjWFqx0q05",
    "trusted": true
   },
   "outputs": [
    {
     "name": "stdout",
     "output_type": "stream",
     "text": [
      "<class 'pandas.core.frame.DataFrame'>\n",
      "RangeIndex: 500 entries, 0 to 499\n",
      "Data columns (total 8 columns):\n",
      " #   Column      Non-Null Count  Dtype \n",
      "---  ------      --------------  ----- \n",
      " 0   user_id     500 non-null    int64 \n",
      " 1   first_name  500 non-null    object\n",
      " 2   last_name   500 non-null    object\n",
      " 3   age         500 non-null    int64 \n",
      " 4   city        500 non-null    object\n",
      " 5   reg_date    500 non-null    object\n",
      " 6   plan        500 non-null    object\n",
      " 7   churn_date  34 non-null     object\n",
      "dtypes: int64(2), object(6)\n",
      "memory usage: 31.4+ KB\n"
     ]
    }
   ],
   "source": [
    "# Imprime la información general/resumida sobre el DataFrame de usuarios\n",
    "\n",
    "users.info()"
   ]
  },
  {
   "cell_type": "code",
   "execution_count": 6,
   "metadata": {
    "id": "1IN1L9uh0q05",
    "trusted": true
   },
   "outputs": [
    {
     "data": {
      "text/html": [
       "<div>\n",
       "<style scoped>\n",
       "    .dataframe tbody tr th:only-of-type {\n",
       "        vertical-align: middle;\n",
       "    }\n",
       "\n",
       "    .dataframe tbody tr th {\n",
       "        vertical-align: top;\n",
       "    }\n",
       "\n",
       "    .dataframe thead th {\n",
       "        text-align: right;\n",
       "    }\n",
       "</style>\n",
       "<table border=\"1\" class=\"dataframe\">\n",
       "  <thead>\n",
       "    <tr style=\"text-align: right;\">\n",
       "      <th></th>\n",
       "      <th>user_id</th>\n",
       "      <th>first_name</th>\n",
       "      <th>last_name</th>\n",
       "      <th>age</th>\n",
       "      <th>city</th>\n",
       "      <th>reg_date</th>\n",
       "      <th>plan</th>\n",
       "      <th>churn_date</th>\n",
       "    </tr>\n",
       "  </thead>\n",
       "  <tbody>\n",
       "    <tr>\n",
       "      <th>0</th>\n",
       "      <td>1000</td>\n",
       "      <td>Anamaria</td>\n",
       "      <td>Bauer</td>\n",
       "      <td>45</td>\n",
       "      <td>Atlanta-Sandy Springs-Roswell, GA MSA</td>\n",
       "      <td>2018-12-24</td>\n",
       "      <td>ultimate</td>\n",
       "      <td>NaN</td>\n",
       "    </tr>\n",
       "    <tr>\n",
       "      <th>1</th>\n",
       "      <td>1001</td>\n",
       "      <td>Mickey</td>\n",
       "      <td>Wilkerson</td>\n",
       "      <td>28</td>\n",
       "      <td>Seattle-Tacoma-Bellevue, WA MSA</td>\n",
       "      <td>2018-08-13</td>\n",
       "      <td>surf</td>\n",
       "      <td>NaN</td>\n",
       "    </tr>\n",
       "    <tr>\n",
       "      <th>2</th>\n",
       "      <td>1002</td>\n",
       "      <td>Carlee</td>\n",
       "      <td>Hoffman</td>\n",
       "      <td>36</td>\n",
       "      <td>Las Vegas-Henderson-Paradise, NV MSA</td>\n",
       "      <td>2018-10-21</td>\n",
       "      <td>surf</td>\n",
       "      <td>NaN</td>\n",
       "    </tr>\n",
       "    <tr>\n",
       "      <th>3</th>\n",
       "      <td>1003</td>\n",
       "      <td>Reynaldo</td>\n",
       "      <td>Jenkins</td>\n",
       "      <td>52</td>\n",
       "      <td>Tulsa, OK MSA</td>\n",
       "      <td>2018-01-28</td>\n",
       "      <td>surf</td>\n",
       "      <td>NaN</td>\n",
       "    </tr>\n",
       "    <tr>\n",
       "      <th>4</th>\n",
       "      <td>1004</td>\n",
       "      <td>Leonila</td>\n",
       "      <td>Thompson</td>\n",
       "      <td>40</td>\n",
       "      <td>Seattle-Tacoma-Bellevue, WA MSA</td>\n",
       "      <td>2018-05-23</td>\n",
       "      <td>surf</td>\n",
       "      <td>NaN</td>\n",
       "    </tr>\n",
       "  </tbody>\n",
       "</table>\n",
       "</div>"
      ],
      "text/plain": [
       "   user_id first_name  last_name  age                                   city  \\\n",
       "0     1000   Anamaria      Bauer   45  Atlanta-Sandy Springs-Roswell, GA MSA   \n",
       "1     1001     Mickey  Wilkerson   28        Seattle-Tacoma-Bellevue, WA MSA   \n",
       "2     1002     Carlee    Hoffman   36   Las Vegas-Henderson-Paradise, NV MSA   \n",
       "3     1003   Reynaldo    Jenkins   52                          Tulsa, OK MSA   \n",
       "4     1004    Leonila   Thompson   40        Seattle-Tacoma-Bellevue, WA MSA   \n",
       "\n",
       "     reg_date      plan churn_date  \n",
       "0  2018-12-24  ultimate        NaN  \n",
       "1  2018-08-13      surf        NaN  \n",
       "2  2018-10-21      surf        NaN  \n",
       "3  2018-01-28      surf        NaN  \n",
       "4  2018-05-23      surf        NaN  "
      ]
     },
     "execution_count": 6,
     "metadata": {},
     "output_type": "execute_result"
    }
   ],
   "source": [
    "# Imprime una muestra de datos para usuarios\n",
    "\n",
    "users.head()"
   ]
  },
  {
   "cell_type": "markdown",
   "metadata": {},
   "source": [
    "- información de usuarios.\n",
    "- veo valores nulos, los cuales los voy a procesar."
   ]
  },
  {
   "cell_type": "markdown",
   "metadata": {
    "id": "yUqX-K0C0q07"
   },
   "source": [
    "**procesar valores ausentes**\n",
    "\n",
    "- Al observar los datos se puede apreciar una gran cantidad de valores ausentes. Esto se debe a que aparecen asi si los usuaros aun tienen el plan activo.\n",
    "\n",
    "- se reemplaza los valores ausentes por \"activo\""
   ]
  },
  {
   "cell_type": "code",
   "execution_count": 7,
   "metadata": {
    "trusted": true
   },
   "outputs": [
    {
     "name": "stdout",
     "output_type": "stream",
     "text": [
      "<class 'pandas.core.frame.DataFrame'>\n",
      "RangeIndex: 500 entries, 0 to 499\n",
      "Data columns (total 8 columns):\n",
      " #   Column      Non-Null Count  Dtype \n",
      "---  ------      --------------  ----- \n",
      " 0   user_id     500 non-null    int64 \n",
      " 1   first_name  500 non-null    object\n",
      " 2   last_name   500 non-null    object\n",
      " 3   age         500 non-null    int64 \n",
      " 4   city        500 non-null    object\n",
      " 5   reg_date    500 non-null    object\n",
      " 6   plan        500 non-null    object\n",
      " 7   churn_date  500 non-null    object\n",
      "dtypes: int64(2), object(6)\n",
      "memory usage: 31.4+ KB\n"
     ]
    },
   ],
   "source": [
    "users['churn_date'].fillna('activo', inplace=True)\n",
    "users.info()"
   ]
  },
  {
   "cell_type": "markdown",
   "metadata": {
    "id": "o7MeKCid0q08"
   },
   "source": [
    "### Llamadas"
   ]
  },
  {
   "cell_type": "code",
   "execution_count": 8,
   "metadata": {
    "id": "6dDlnoDm0q08",
    "trusted": true
   },
   "outputs": [
    {
     "name": "stdout",
     "output_type": "stream",
     "text": [
      "<class 'pandas.core.frame.DataFrame'>\n",
      "RangeIndex: 137735 entries, 0 to 137734\n",
      "Data columns (total 4 columns):\n",
      " #   Column     Non-Null Count   Dtype  \n",
      "---  ------     --------------   -----  \n",
      " 0   id         137735 non-null  object \n",
      " 1   user_id    137735 non-null  int64  \n",
      " 2   call_date  137735 non-null  object \n",
      " 3   duration   137735 non-null  float64\n",
      "dtypes: float64(1), int64(1), object(2)\n",
      "memory usage: 4.2+ MB\n"
     ]
    }
   ],
   "source": [
    "# Imprime la información general/resumida sobre el DataFrame de las llamadas\n",
    "\n",
    "calls.info()"
   ]
  },
  {
   "cell_type": "code",
   "execution_count": 9,
   "metadata": {
    "id": "kuh1vlNB0q09",
    "trusted": true
   },
   "outputs": [
    {
     "data": {
      "text/html": [
       "<div>\n",
       "<style scoped>\n",
       "    .dataframe tbody tr th:only-of-type {\n",
       "        vertical-align: middle;\n",
       "    }\n",
       "\n",
       "    .dataframe tbody tr th {\n",
       "        vertical-align: top;\n",
       "    }\n",
       "\n",
       "    .dataframe thead th {\n",
       "        text-align: right;\n",
       "    }\n",
       "</style>\n",
       "<table border=\"1\" class=\"dataframe\">\n",
       "  <thead>\n",
       "    <tr style=\"text-align: right;\">\n",
       "      <th></th>\n",
       "      <th>id</th>\n",
       "      <th>user_id</th>\n",
       "      <th>call_date</th>\n",
       "      <th>duration</th>\n",
       "    </tr>\n",
       "  </thead>\n",
       "  <tbody>\n",
       "    <tr>\n",
       "      <th>0</th>\n",
       "      <td>1000_93</td>\n",
       "      <td>1000</td>\n",
       "      <td>2018-12-27</td>\n",
       "      <td>8.52</td>\n",
       "    </tr>\n",
       "    <tr>\n",
       "      <th>1</th>\n",
       "      <td>1000_145</td>\n",
       "      <td>1000</td>\n",
       "      <td>2018-12-27</td>\n",
       "      <td>13.66</td>\n",
       "    </tr>\n",
       "    <tr>\n",
       "      <th>2</th>\n",
       "      <td>1000_247</td>\n",
       "      <td>1000</td>\n",
       "      <td>2018-12-27</td>\n",
       "      <td>14.48</td>\n",
       "    </tr>\n",
       "    <tr>\n",
       "      <th>3</th>\n",
       "      <td>1000_309</td>\n",
       "      <td>1000</td>\n",
       "      <td>2018-12-28</td>\n",
       "      <td>5.76</td>\n",
       "    </tr>\n",
       "    <tr>\n",
       "      <th>4</th>\n",
       "      <td>1000_380</td>\n",
       "      <td>1000</td>\n",
       "      <td>2018-12-30</td>\n",
       "      <td>4.22</td>\n",
       "    </tr>\n",
       "  </tbody>\n",
       "</table>\n",
       "</div>"
      ],
      "text/plain": [
       "         id  user_id   call_date  duration\n",
       "0   1000_93     1000  2018-12-27      8.52\n",
       "1  1000_145     1000  2018-12-27     13.66\n",
       "2  1000_247     1000  2018-12-27     14.48\n",
       "3  1000_309     1000  2018-12-28      5.76\n",
       "4  1000_380     1000  2018-12-30      4.22"
      ]
     },
     "execution_count": 9,
     "metadata": {},
     "output_type": "execute_result"
    }
   ],
   "source": [
    "# Imprime una muestra de datos para las llamadas\n",
    "\n",
    "calls.head()"
   ]
  },
  {
   "cell_type": "markdown",
   "metadata": {},
   "source": [
    "- información de las llamadas de los usuarios\n",
    "- no veo valores ausentes.\n",
    "- se necesita convertir a datatime y extraer el mes"
   ]
  },
  {
   "cell_type": "markdown",
   "metadata": {},
   "source": [
    "**convertir object a fecha**\n",
    "\n",
    "se cambia call_date a tipo datatime"
   ]
  },
  {
   "cell_type": "code",
   "execution_count": 10,
   "metadata": {
    "id": "S2r8xA4f0q0-",
    "trusted": true
   },
   "outputs": [
    {
     "name": "stdout",
     "output_type": "stream",
     "text": [
      "<class 'pandas.core.frame.DataFrame'>\n",
      "RangeIndex: 137735 entries, 0 to 137734\n",
      "Data columns (total 4 columns):\n",
      " #   Column     Non-Null Count   Dtype         \n",
      "---  ------     --------------   -----         \n",
      " 0   id         137735 non-null  object        \n",
      " 1   user_id    137735 non-null  int64         \n",
      " 2   call_date  137735 non-null  datetime64[ns]\n",
      " 3   duration   137735 non-null  float64       \n",
      "dtypes: datetime64[ns](1), float64(1), int64(1), object(1)\n",
      "memory usage: 4.2+ MB\n"
     ]
    }
   ],
   "source": [
    "calls['call_date'] = pd.to_datetime(calls['call_date'], format = '%Y-%m-%d')\n",
    "\n",
    "calls.info()"
   ]
  },
  {
   "cell_type": "markdown",
   "metadata": {},
   "source": [
    "**redondeo hacia arriba cada una de las llamadas**"
   ]
  },
  {
   "cell_type": "code",
   "execution_count": 11,
   "metadata": {
    "trusted": true
   },
   "outputs": [],
   "source": [
    "calls['duration'] = np.ceil(calls['duration'])"
   ]
  },
  {
   "cell_type": "markdown",
   "metadata": {},
   "source": [
    "**extraemos el mes de la fecha**"
   ]
  },
  {
   "cell_type": "code",
   "execution_count": 12,
   "metadata": {
    "id": "iZ1avpA_0q0_",
    "trusted": true
   },
   "outputs": [
    {
     "name": "stdout",
     "output_type": "stream",
     "text": [
      "<class 'pandas.core.frame.DataFrame'>\n",
      "RangeIndex: 137735 entries, 0 to 137734\n",
      "Data columns (total 5 columns):\n",
      " #   Column     Non-Null Count   Dtype         \n",
      "---  ------     --------------   -----         \n",
      " 0   id         137735 non-null  object        \n",
      " 1   user_id    137735 non-null  int64         \n",
      " 2   call_date  137735 non-null  datetime64[ns]\n",
      " 3   duration   137735 non-null  float64       \n",
      " 4   month      137735 non-null  int32         \n",
      "dtypes: datetime64[ns](1), float64(1), int32(1), int64(1), object(1)\n",
      "memory usage: 4.7+ MB\n"
     ]
    }
   ],
   "source": [
    "calls['month'] = calls['call_date'].dt.month\n",
    "\n",
    "calls.info()"
   ]
  },
  {
   "cell_type": "markdown",
   "metadata": {
    "id": "mOUZSi180q0_"
   },
   "source": [
    "### Mensajes"
   ]
  },
  {
   "cell_type": "code",
   "execution_count": 13,
   "metadata": {
    "id": "R-bYJpdV0q1A",
    "trusted": true
   },
   "outputs": [
    {
     "name": "stdout",
     "output_type": "stream",
     "text": [
      "<class 'pandas.core.frame.DataFrame'>\n",
      "RangeIndex: 76051 entries, 0 to 76050\n",
      "Data columns (total 3 columns):\n",
      " #   Column        Non-Null Count  Dtype \n",
      "---  ------        --------------  ----- \n",
      " 0   id            76051 non-null  object\n",
      " 1   user_id       76051 non-null  int64 \n",
      " 2   message_date  76051 non-null  object\n",
      "dtypes: int64(1), object(2)\n",
      "memory usage: 1.7+ MB\n"
     ]
    }
   ],
   "source": [
    "# Imprime la información general/resumida sobre el DataFrame de los mensajes\n",
    "messages.info()"
   ]
  },
  {
   "cell_type": "code",
   "execution_count": 14,
   "metadata": {
    "id": "mCEl2iGE0q1A",
    "trusted": true
   },
   "outputs": [
    {
     "data": {
      "text/html": [
       "<div>\n",
       "<style scoped>\n",
       "    .dataframe tbody tr th:only-of-type {\n",
       "        vertical-align: middle;\n",
       "    }\n",
       "\n",
       "    .dataframe tbody tr th {\n",
       "        vertical-align: top;\n",
       "    }\n",
       "\n",
       "    .dataframe thead th {\n",
       "        text-align: right;\n",
       "    }\n",
       "</style>\n",
       "<table border=\"1\" class=\"dataframe\">\n",
       "  <thead>\n",
       "    <tr style=\"text-align: right;\">\n",
       "      <th></th>\n",
       "      <th>id</th>\n",
       "      <th>user_id</th>\n",
       "      <th>message_date</th>\n",
       "    </tr>\n",
       "  </thead>\n",
       "  <tbody>\n",
       "    <tr>\n",
       "      <th>0</th>\n",
       "      <td>1000_125</td>\n",
       "      <td>1000</td>\n",
       "      <td>2018-12-27</td>\n",
       "    </tr>\n",
       "    <tr>\n",
       "      <th>1</th>\n",
       "      <td>1000_160</td>\n",
       "      <td>1000</td>\n",
       "      <td>2018-12-31</td>\n",
       "    </tr>\n",
       "    <tr>\n",
       "      <th>2</th>\n",
       "      <td>1000_223</td>\n",
       "      <td>1000</td>\n",
       "      <td>2018-12-31</td>\n",
       "    </tr>\n",
       "    <tr>\n",
       "      <th>3</th>\n",
       "      <td>1000_251</td>\n",
       "      <td>1000</td>\n",
       "      <td>2018-12-27</td>\n",
       "    </tr>\n",
       "    <tr>\n",
       "      <th>4</th>\n",
       "      <td>1000_255</td>\n",
       "      <td>1000</td>\n",
       "      <td>2018-12-26</td>\n",
       "    </tr>\n",
       "  </tbody>\n",
       "</table>\n",
       "</div>"
      ],
      "text/plain": [
       "         id  user_id message_date\n",
       "0  1000_125     1000   2018-12-27\n",
       "1  1000_160     1000   2018-12-31\n",
       "2  1000_223     1000   2018-12-31\n",
       "3  1000_251     1000   2018-12-27\n",
       "4  1000_255     1000   2018-12-26"
      ]
     },
     "execution_count": 14,
     "metadata": {},
     "output_type": "execute_result"
    }
   ],
   "source": [
    "# Imprime una muestra de datos para los mensajes\n",
    "messages.head()"
   ]
  },
  {
   "cell_type": "markdown",
   "metadata": {},
   "source": [
    "- inforamción de los mensajes envios de cada usuario\n",
    "- no veo valores nulos.\n",
    "- se debe extrer el mes."
   ]
  },
  {
   "cell_type": "markdown",
   "metadata": {
    "id": "vsllvkoa0q1B"
   },
   "source": [
    "**convertir object a fecha**\n",
    "\n",
    "se cambia message_date a tipo datatime"
   ]
  },
  {
   "cell_type": "code",
   "execution_count": 15,
   "metadata": {
    "trusted": true
   },
   "outputs": [
    {
     "name": "stdout",
     "output_type": "stream",
     "text": [
      "<class 'pandas.core.frame.DataFrame'>\n",
      "RangeIndex: 76051 entries, 0 to 76050\n",
      "Data columns (total 3 columns):\n",
      " #   Column        Non-Null Count  Dtype         \n",
      "---  ------        --------------  -----         \n",
      " 0   id            76051 non-null  object        \n",
      " 1   user_id       76051 non-null  int64         \n",
      " 2   message_date  76051 non-null  datetime64[ns]\n",
      "dtypes: datetime64[ns](1), int64(1), object(1)\n",
      "memory usage: 1.7+ MB\n"
     ]
    }
   ],
   "source": [
    "messages['message_date'] = pd.to_datetime(messages['message_date'], format = '%Y-%m-%d')\n",
    "\n",
    "messages.info()"
   ]
  },
  {
   "cell_type": "markdown",
   "metadata": {
    "id": "zYEXZac10q1C"
   },
   "source": [
    "**extraemos el mes de la fecha**"
   ]
  },
  {
   "cell_type": "code",
   "execution_count": 16,
   "metadata": {
    "trusted": true
   },
   "outputs": [
    {
     "data": {
      "text/html": [
       "<div>\n",
       "<style scoped>\n",
       "    .dataframe tbody tr th:only-of-type {\n",
       "        vertical-align: middle;\n",
       "    }\n",
       "\n",
       "    .dataframe tbody tr th {\n",
       "        vertical-align: top;\n",
       "    }\n",
       "\n",
       "    .dataframe thead th {\n",
       "        text-align: right;\n",
       "    }\n",
       "</style>\n",
       "<table border=\"1\" class=\"dataframe\">\n",
       "  <thead>\n",
       "    <tr style=\"text-align: right;\">\n",
       "      <th></th>\n",
       "      <th>id</th>\n",
       "      <th>user_id</th>\n",
       "      <th>message_date</th>\n",
       "      <th>month</th>\n",
       "    </tr>\n",
       "  </thead>\n",
       "  <tbody>\n",
       "    <tr>\n",
       "      <th>0</th>\n",
       "      <td>1000_125</td>\n",
       "      <td>1000</td>\n",
       "      <td>2018-12-27</td>\n",
       "      <td>12</td>\n",
       "    </tr>\n",
       "    <tr>\n",
       "      <th>1</th>\n",
       "      <td>1000_160</td>\n",
       "      <td>1000</td>\n",
       "      <td>2018-12-31</td>\n",
       "      <td>12</td>\n",
       "    </tr>\n",
       "    <tr>\n",
       "      <th>2</th>\n",
       "      <td>1000_223</td>\n",
       "      <td>1000</td>\n",
       "      <td>2018-12-31</td>\n",
       "      <td>12</td>\n",
       "    </tr>\n",
       "    <tr>\n",
       "      <th>3</th>\n",
       "      <td>1000_251</td>\n",
       "      <td>1000</td>\n",
       "      <td>2018-12-27</td>\n",
       "      <td>12</td>\n",
       "    </tr>\n",
       "    <tr>\n",
       "      <th>4</th>\n",
       "      <td>1000_255</td>\n",
       "      <td>1000</td>\n",
       "      <td>2018-12-26</td>\n",
       "      <td>12</td>\n",
       "    </tr>\n",
       "  </tbody>\n",
       "</table>\n",
       "</div>"
      ],
      "text/plain": [
       "         id  user_id message_date  month\n",
       "0  1000_125     1000   2018-12-27     12\n",
       "1  1000_160     1000   2018-12-31     12\n",
       "2  1000_223     1000   2018-12-31     12\n",
       "3  1000_251     1000   2018-12-27     12\n",
       "4  1000_255     1000   2018-12-26     12"
      ]
     },
     "execution_count": 16,
     "metadata": {},
     "output_type": "execute_result"
    }
   ],
   "source": [
    "messages['month'] = messages['message_date'].dt.month\n",
    "messages.head()"
   ]
  },
  {
   "cell_type": "markdown",
   "metadata": {
    "id": "bStkaxn40q1C"
   },
   "source": [
    "### Internet"
   ]
  },
  {
   "cell_type": "code",
   "execution_count": 17,
   "metadata": {
    "id": "e-Uz5qyn0q1C",
    "trusted": true
   },
   "outputs": [
    {
     "name": "stdout",
     "output_type": "stream",
     "text": [
      "<class 'pandas.core.frame.DataFrame'>\n",
      "RangeIndex: 104825 entries, 0 to 104824\n",
      "Data columns (total 4 columns):\n",
      " #   Column        Non-Null Count   Dtype  \n",
      "---  ------        --------------   -----  \n",
      " 0   id            104825 non-null  object \n",
      " 1   user_id       104825 non-null  int64  \n",
      " 2   session_date  104825 non-null  object \n",
      " 3   mb_used       104825 non-null  float64\n",
      "dtypes: float64(1), int64(1), object(2)\n",
      "memory usage: 3.2+ MB\n"
     ]
    }
   ],
   "source": [
    "# Imprime la información general/resumida sobre el DataFrame de internet\n",
    "internet.info()\n"
   ]
  },
  {
   "cell_type": "code",
   "execution_count": 18,
   "metadata": {
    "id": "9r3x_XLw0q1C",
    "trusted": true
   },
   "outputs": [
    {
     "data": {
      "text/html": [
       "<div>\n",
       "<style scoped>\n",
       "    .dataframe tbody tr th:only-of-type {\n",
       "        vertical-align: middle;\n",
       "    }\n",
       "\n",
       "    .dataframe tbody tr th {\n",
       "        vertical-align: top;\n",
       "    }\n",
       "\n",
       "    .dataframe thead th {\n",
       "        text-align: right;\n",
       "    }\n",
       "</style>\n",
       "<table border=\"1\" class=\"dataframe\">\n",
       "  <thead>\n",
       "    <tr style=\"text-align: right;\">\n",
       "      <th></th>\n",
       "      <th>id</th>\n",
       "      <th>user_id</th>\n",
       "      <th>session_date</th>\n",
       "      <th>mb_used</th>\n",
       "    </tr>\n",
       "  </thead>\n",
       "  <tbody>\n",
       "    <tr>\n",
       "      <th>0</th>\n",
       "      <td>1000_13</td>\n",
       "      <td>1000</td>\n",
       "      <td>2018-12-29</td>\n",
       "      <td>89.86</td>\n",
       "    </tr>\n",
       "    <tr>\n",
       "      <th>1</th>\n",
       "      <td>1000_204</td>\n",
       "      <td>1000</td>\n",
       "      <td>2018-12-31</td>\n",
       "      <td>0.00</td>\n",
       "    </tr>\n",
       "    <tr>\n",
       "      <th>2</th>\n",
       "      <td>1000_379</td>\n",
       "      <td>1000</td>\n",
       "      <td>2018-12-28</td>\n",
       "      <td>660.40</td>\n",
       "    </tr>\n",
       "    <tr>\n",
       "      <th>3</th>\n",
       "      <td>1000_413</td>\n",
       "      <td>1000</td>\n",
       "      <td>2018-12-26</td>\n",
       "      <td>270.99</td>\n",
       "    </tr>\n",
       "    <tr>\n",
       "      <th>4</th>\n",
       "      <td>1000_442</td>\n",
       "      <td>1000</td>\n",
       "      <td>2018-12-27</td>\n",
       "      <td>880.22</td>\n",
       "    </tr>\n",
       "  </tbody>\n",
       "</table>\n",
       "</div>"
      ],
      "text/plain": [
       "         id  user_id session_date  mb_used\n",
       "0   1000_13     1000   2018-12-29    89.86\n",
       "1  1000_204     1000   2018-12-31     0.00\n",
       "2  1000_379     1000   2018-12-28   660.40\n",
       "3  1000_413     1000   2018-12-26   270.99\n",
       "4  1000_442     1000   2018-12-27   880.22"
      ]
     },
     "execution_count": 18,
     "metadata": {},
     "output_type": "execute_result"
    }
   ],
   "source": [
    "# Imprime una muestra de datos para el tráfico de internet\n",
    "\n",
    "internet.head()"
   ]
  },
  {
   "cell_type": "markdown",
   "metadata": {},
   "source": [
    "- información del uso de internet de cada usuario.\n",
    "- no encuentro fallos.\n",
    "- se debe extraer el mes."
   ]
  },
  {
   "cell_type": "markdown",
   "metadata": {},
   "source": [
    "**convertir object a fecha**\n",
    "\n",
    "se cambia mb_used a tipo datatime"
   ]
  },
  {
   "cell_type": "code",
   "execution_count": 19,
   "metadata": {
    "id": "zVeanzdd0q1E",
    "trusted": true
   },
   "outputs": [
    {
     "name": "stdout",
     "output_type": "stream",
     "text": [
      "<class 'pandas.core.frame.DataFrame'>\n",
      "RangeIndex: 104825 entries, 0 to 104824\n",
      "Data columns (total 4 columns):\n",
      " #   Column        Non-Null Count   Dtype         \n",
      "---  ------        --------------   -----         \n",
      " 0   id            104825 non-null  object        \n",
      " 1   user_id       104825 non-null  int64         \n",
      " 2   session_date  104825 non-null  datetime64[ns]\n",
      " 3   mb_used       104825 non-null  float64       \n",
      "dtypes: datetime64[ns](1), float64(1), int64(1), object(1)\n",
      "memory usage: 3.2+ MB\n"
     ]
    }
   ],
   "source": [
    "internet['session_date'] = pd.to_datetime(internet['session_date'], format = '%Y-%m-%d')\n",
    "\n",
    "internet.info()"
   ]
  },
  {
   "cell_type": "markdown",
   "metadata": {
    "id": "ESiYPIEK0q1E"
   },
   "source": [
    "**extraemos el mes de la fecha**"
   ]
  },
  {
   "cell_type": "code",
   "execution_count": 20,
   "metadata": {
    "trusted": true
   },
   "outputs": [
    {
     "name": "stdout",
     "output_type": "stream",
     "text": [
      "<class 'pandas.core.frame.DataFrame'>\n",
      "RangeIndex: 104825 entries, 0 to 104824\n",
      "Data columns (total 5 columns):\n",
      " #   Column        Non-Null Count   Dtype         \n",
      "---  ------        --------------   -----         \n",
      " 0   id            104825 non-null  object        \n",
      " 1   user_id       104825 non-null  int64         \n",
      " 2   session_date  104825 non-null  datetime64[ns]\n",
      " 3   mb_used       104825 non-null  float64       \n",
      " 4   month         104825 non-null  int32         \n",
      "dtypes: datetime64[ns](1), float64(1), int32(1), int64(1), object(1)\n",
      "memory usage: 3.6+ MB\n"
     ]
    }
   ],
   "source": [
    "internet['month'] = internet['session_date'].dt.month\n",
    "internet.info()"
   ]
  },
  {
   "cell_type": "markdown",
   "metadata": {
    "id": "3UA2cqIW0q1E"
   },
   "source": [
    "## Estudiar las condiciones de las tarifas"
   ]
  },
  {
   "cell_type": "code",
   "execution_count": 21,
   "metadata": {
    "id": "i409op8p0q1F",
    "trusted": true
   },
   "outputs": [
    {
     "data": {
      "text/html": [
       "<div>\n",
       "<style scoped>\n",
       "    .dataframe tbody tr th:only-of-type {\n",
       "        vertical-align: middle;\n",
       "    }\n",
       "\n",
       "    .dataframe tbody tr th {\n",
       "        vertical-align: top;\n",
       "    }\n",
       "\n",
       "    .dataframe thead th {\n",
       "        text-align: right;\n",
       "    }\n",
       "</style>\n",
       "<table border=\"1\" class=\"dataframe\">\n",
       "  <thead>\n",
       "    <tr style=\"text-align: right;\">\n",
       "      <th></th>\n",
       "      <th>messages_included</th>\n",
       "      <th>mb_per_month_included</th>\n",
       "      <th>minutes_included</th>\n",
       "      <th>usd_monthly_pay</th>\n",
       "      <th>usd_per_gb</th>\n",
       "      <th>usd_per_message</th>\n",
       "      <th>usd_per_minute</th>\n",
       "      <th>plan_name</th>\n",
       "    </tr>\n",
       "  </thead>\n",
       "  <tbody>\n",
       "    <tr>\n",
       "      <th>0</th>\n",
       "      <td>50</td>\n",
       "      <td>15360</td>\n",
       "      <td>500</td>\n",
       "      <td>20</td>\n",
       "      <td>10</td>\n",
       "      <td>0.03</td>\n",
       "      <td>0.03</td>\n",
       "      <td>surf</td>\n",
       "    </tr>\n",
       "    <tr>\n",
       "      <th>1</th>\n",
       "      <td>1000</td>\n",
       "      <td>30720</td>\n",
       "      <td>3000</td>\n",
       "      <td>70</td>\n",
       "      <td>7</td>\n",
       "      <td>0.01</td>\n",
       "      <td>0.01</td>\n",
       "      <td>ultimate</td>\n",
       "    </tr>\n",
       "  </tbody>\n",
       "</table>\n",
       "</div>"
      ],
      "text/plain": [
       "   messages_included  mb_per_month_included  minutes_included  \\\n",
       "0                 50                  15360               500   \n",
       "1               1000                  30720              3000   \n",
       "\n",
       "   usd_monthly_pay  usd_per_gb  usd_per_message  usd_per_minute plan_name  \n",
       "0               20          10             0.03            0.03      surf  \n",
       "1               70           7             0.01            0.01  ultimate  "
      ]
     },
     "execution_count": 21,
     "metadata": {},
     "output_type": "execute_result"
    }
   ],
   "source": [
    "# Imprime las condiciones de la tarifa y asegúrate de que te quedan claras\n",
    "\n",
    "plans.head()"
   ]
  },
  {
   "cell_type": "markdown",
   "metadata": {
    "id": "hMR1tP5d0q1F"
   },
   "source": [
    "### Agregar datos por usuario"
   ]
  },
  {
   "cell_type": "code",
   "execution_count": 22,
   "metadata": {
    "id": "A332cedB0q1G",
    "trusted": true
   },
   "outputs": [
    {
     "data": {
      "text/html": [
       "<div>\n",
       "<style scoped>\n",
       "    .dataframe tbody tr th:only-of-type {\n",
       "        vertical-align: middle;\n",
       "    }\n",
       "\n",
       "    .dataframe tbody tr th {\n",
       "        vertical-align: top;\n",
       "    }\n",
       "\n",
       "    .dataframe thead th {\n",
       "        text-align: right;\n",
       "    }\n",
       "</style>\n",
       "<table border=\"1\" class=\"dataframe\">\n",
       "  <thead>\n",
       "    <tr style=\"text-align: right;\">\n",
       "      <th></th>\n",
       "      <th>user_id</th>\n",
       "      <th>month</th>\n",
       "      <th>calls_count</th>\n",
       "    </tr>\n",
       "  </thead>\n",
       "  <tbody>\n",
       "    <tr>\n",
       "      <th>0</th>\n",
       "      <td>1000</td>\n",
       "      <td>12</td>\n",
       "      <td>16</td>\n",
       "    </tr>\n",
       "    <tr>\n",
       "      <th>1</th>\n",
       "      <td>1001</td>\n",
       "      <td>8</td>\n",
       "      <td>27</td>\n",
       "    </tr>\n",
       "    <tr>\n",
       "      <th>2</th>\n",
       "      <td>1001</td>\n",
       "      <td>9</td>\n",
       "      <td>49</td>\n",
       "    </tr>\n",
       "    <tr>\n",
       "      <th>3</th>\n",
       "      <td>1001</td>\n",
       "      <td>10</td>\n",
       "      <td>65</td>\n",
       "    </tr>\n",
       "    <tr>\n",
       "      <th>4</th>\n",
       "      <td>1001</td>\n",
       "      <td>11</td>\n",
       "      <td>64</td>\n",
       "    </tr>\n",
       "  </tbody>\n",
       "</table>\n",
       "</div>"
      ],
      "text/plain": [
       "   user_id  month  calls_count\n",
       "0     1000     12           16\n",
       "1     1001      8           27\n",
       "2     1001      9           49\n",
       "3     1001     10           65\n",
       "4     1001     11           64"
      ]
     },
     "execution_count": 22,
     "metadata": {},
     "output_type": "execute_result"
    }
   ],
   "source": [
    "# Calcula el número de llamadas hechas por cada usuario al mes. Guarda el resultado.\n",
    "calls_month = calls.groupby(['user_id', 'month'])['duration'].count().reset_index(name='calls_count')\n",
    "calls_month.head()"
   ]
  },
  {
   "cell_type": "code",
   "execution_count": 23,
   "metadata": {
    "id": "aw2cmuql0q1G",
    "trusted": true
   },
   "outputs": [
    {
     "data": {
      "text/html": [
       "<div>\n",
       "<style scoped>\n",
       "    .dataframe tbody tr th:only-of-type {\n",
       "        vertical-align: middle;\n",
       "    }\n",
       "\n",
       "    .dataframe tbody tr th {\n",
       "        vertical-align: top;\n",
       "    }\n",
       "\n",
       "    .dataframe thead th {\n",
       "        text-align: right;\n",
       "    }\n",
       "</style>\n",
       "<table border=\"1\" class=\"dataframe\">\n",
       "  <thead>\n",
       "    <tr style=\"text-align: right;\">\n",
       "      <th></th>\n",
       "      <th>user_id</th>\n",
       "      <th>month</th>\n",
       "      <th>duration</th>\n",
       "    </tr>\n",
       "  </thead>\n",
       "  <tbody>\n",
       "    <tr>\n",
       "      <th>0</th>\n",
       "      <td>1000</td>\n",
       "      <td>12</td>\n",
       "      <td>124.0</td>\n",
       "    </tr>\n",
       "    <tr>\n",
       "      <th>1</th>\n",
       "      <td>1001</td>\n",
       "      <td>8</td>\n",
       "      <td>182.0</td>\n",
       "    </tr>\n",
       "    <tr>\n",
       "      <th>2</th>\n",
       "      <td>1001</td>\n",
       "      <td>9</td>\n",
       "      <td>315.0</td>\n",
       "    </tr>\n",
       "    <tr>\n",
       "      <th>3</th>\n",
       "      <td>1001</td>\n",
       "      <td>10</td>\n",
       "      <td>393.0</td>\n",
       "    </tr>\n",
       "    <tr>\n",
       "      <th>4</th>\n",
       "      <td>1001</td>\n",
       "      <td>11</td>\n",
       "      <td>426.0</td>\n",
       "    </tr>\n",
       "  </tbody>\n",
       "</table>\n",
       "</div>"
      ],
      "text/plain": [
       "   user_id  month  duration\n",
       "0     1000     12     124.0\n",
       "1     1001      8     182.0\n",
       "2     1001      9     315.0\n",
       "3     1001     10     393.0\n",
       "4     1001     11     426.0"
      ]
     },
     "execution_count": 23,
     "metadata": {},
     "output_type": "execute_result"
    }
   ],
   "source": [
    "# Calcula la cantidad de minutos usados por cada usuario al mes. Guarda el resultado.\n",
    "calls_mins = calls.groupby(['user_id', 'month'])['duration'].sum().reset_index()\n",
    "calls_mins.head()"
   ]
  },
  {
   "cell_type": "code",
   "execution_count": 24,
   "metadata": {
    "id": "CcQvNHn60q1G",
    "trusted": true
   },
   "outputs": [
    {
     "data": {
      "text/html": [
       "<div>\n",
       "<style scoped>\n",
       "    .dataframe tbody tr th:only-of-type {\n",
       "        vertical-align: middle;\n",
       "    }\n",
       "\n",
       "    .dataframe tbody tr th {\n",
       "        vertical-align: top;\n",
       "    }\n",
       "\n",
       "    .dataframe thead th {\n",
       "        text-align: right;\n",
       "    }\n",
       "</style>\n",
       "<table border=\"1\" class=\"dataframe\">\n",
       "  <thead>\n",
       "    <tr style=\"text-align: right;\">\n",
       "      <th></th>\n",
       "      <th>user_id</th>\n",
       "      <th>month</th>\n",
       "      <th>id</th>\n",
       "    </tr>\n",
       "  </thead>\n",
       "  <tbody>\n",
       "    <tr>\n",
       "      <th>0</th>\n",
       "      <td>1000</td>\n",
       "      <td>12</td>\n",
       "      <td>11</td>\n",
       "    </tr>\n",
       "    <tr>\n",
       "      <th>1</th>\n",
       "      <td>1001</td>\n",
       "      <td>8</td>\n",
       "      <td>30</td>\n",
       "    </tr>\n",
       "    <tr>\n",
       "      <th>2</th>\n",
       "      <td>1001</td>\n",
       "      <td>9</td>\n",
       "      <td>44</td>\n",
       "    </tr>\n",
       "    <tr>\n",
       "      <th>3</th>\n",
       "      <td>1001</td>\n",
       "      <td>10</td>\n",
       "      <td>53</td>\n",
       "    </tr>\n",
       "    <tr>\n",
       "      <th>4</th>\n",
       "      <td>1001</td>\n",
       "      <td>11</td>\n",
       "      <td>36</td>\n",
       "    </tr>\n",
       "  </tbody>\n",
       "</table>\n",
       "</div>"
      ],
      "text/plain": [
       "   user_id  month  id\n",
       "0     1000     12  11\n",
       "1     1001      8  30\n",
       "2     1001      9  44\n",
       "3     1001     10  53\n",
       "4     1001     11  36"
      ]
     },
     "execution_count": 24,
     "metadata": {},
     "output_type": "execute_result"
    }
   ],
   "source": [
    "# Calcula el número de mensajes enviados por cada usuario al mes. Guarda el resultado.\n",
    "messages_month = messages.groupby(['user_id','month'])['id'].count().reset_index()\n",
    "messages_month.head()"
   ]
  },
  {
   "cell_type": "code",
   "execution_count": 25,
   "metadata": {
    "id": "H1AqN2eG0q1H",
    "trusted": true
   },
   "outputs": [
    {
     "data": {
      "text/html": [
       "<div>\n",
       "<style scoped>\n",
       "    .dataframe tbody tr th:only-of-type {\n",
       "        vertical-align: middle;\n",
       "    }\n",
       "\n",
       "    .dataframe tbody tr th {\n",
       "        vertical-align: top;\n",
       "    }\n",
       "\n",
       "    .dataframe thead th {\n",
       "        text-align: right;\n",
       "    }\n",
       "</style>\n",
       "<table border=\"1\" class=\"dataframe\">\n",
       "  <thead>\n",
       "    <tr style=\"text-align: right;\">\n",
       "      <th></th>\n",
       "      <th>user_id</th>\n",
       "      <th>month</th>\n",
       "      <th>mb_used</th>\n",
       "    </tr>\n",
       "  </thead>\n",
       "  <tbody>\n",
       "    <tr>\n",
       "      <th>0</th>\n",
       "      <td>1000</td>\n",
       "      <td>12</td>\n",
       "      <td>1901.47</td>\n",
       "    </tr>\n",
       "    <tr>\n",
       "      <th>1</th>\n",
       "      <td>1001</td>\n",
       "      <td>8</td>\n",
       "      <td>6919.15</td>\n",
       "    </tr>\n",
       "    <tr>\n",
       "      <th>2</th>\n",
       "      <td>1001</td>\n",
       "      <td>9</td>\n",
       "      <td>13314.82</td>\n",
       "    </tr>\n",
       "    <tr>\n",
       "      <th>3</th>\n",
       "      <td>1001</td>\n",
       "      <td>10</td>\n",
       "      <td>22330.49</td>\n",
       "    </tr>\n",
       "    <tr>\n",
       "      <th>4</th>\n",
       "      <td>1001</td>\n",
       "      <td>11</td>\n",
       "      <td>18504.30</td>\n",
       "    </tr>\n",
       "  </tbody>\n",
       "</table>\n",
       "</div>"
      ],
      "text/plain": [
       "   user_id  month   mb_used\n",
       "0     1000     12   1901.47\n",
       "1     1001      8   6919.15\n",
       "2     1001      9  13314.82\n",
       "3     1001     10  22330.49\n",
       "4     1001     11  18504.30"
      ]
     },
     "execution_count": 25,
     "metadata": {},
     "output_type": "execute_result"
    }
   ],
   "source": [
    "# Calcula el volumen del tráfico de Internet usado por cada usuario al mes. Guarda el resultado.\n",
    "internet_month = internet.groupby(['user_id', 'month'])['mb_used'].sum().reset_index()\n",
    "internet_month.head()"
   ]
  },
  {
   "cell_type": "markdown",
   "metadata": {
    "id": "VDfYXnj80q1H"
   },
   "source": [
    "**Se Junta los datos agregados en un DataFrame para que haya un registro que represente lo que consumió un usuario único en un mes determinado**"
   ]
  },
  {
   "cell_type": "code",
   "execution_count": 26,
   "metadata": {
    "id": "FW99ykyf0q1H",
    "trusted": true
   },
   "outputs": [],
   "source": [
    "# Fusiona los datos de llamadas, minutos, mensajes e Internet con base en user_id y month\n",
    "users_merged = calls_month.merge(calls_mins, on=['user_id', 'month'], how='outer')\n",
    "users_merged = users_merged.merge(messages_month, on=['user_id', 'month'], how='outer')\n",
    "users_merged = users_merged.merge(internet_month, on=['user_id', 'month'], how='outer')\n",
    "\n",
    "#no todos los usarios hicieron llamdas o enviaron mensajes en algunos meses, por eso los valores nulos los reemplazo por 0\n",
    "users_merged.fillna(0, inplace=True)"
   ]
  },
  {
   "cell_type": "code",
   "execution_count": 27,
   "metadata": {
    "id": "0dNOXHag0q1H",
    "trusted": true
   },
   "outputs": [],
   "source": [
    "# Añade la información de la tarifa\n",
    "users_merged = users_merged.merge(users[['user_id', 'plan']], on='user_id')\n",
    "users_merged.rename(columns={'id':'messages_count','plan':'plan_name'}, inplace=True)\n",
    "users_merged = users_merged.merge(plans, on='plan_name')\n"
   ]
  },
  {
   "cell_type": "code",
   "execution_count": 28,
   "metadata": {
    "trusted": true
   },
   "outputs": [],
   "source": [
    "# Calcular el uso de internet en GB y redondearlo\n",
    "users_merged['gb_used'] = np.ceil(users_merged['mb_used'] / 1024)"
   ]
  },
  {
   "cell_type": "code",
   "execution_count": 29,
   "metadata": {
    "trusted": true
   },
   "outputs": [
    {
     "data": {
      "text/html": [
       "<div>\n",
       "<style scoped>\n",
       "    .dataframe tbody tr th:only-of-type {\n",
       "        vertical-align: middle;\n",
       "    }\n",
       "\n",
       "    .dataframe tbody tr th {\n",
       "        vertical-align: top;\n",
       "    }\n",
       "\n",
       "    .dataframe thead th {\n",
       "        text-align: right;\n",
       "    }\n",
       "</style>\n",
       "<table border=\"1\" class=\"dataframe\">\n",
       "  <thead>\n",
       "    <tr style=\"text-align: right;\">\n",
       "      <th></th>\n",
       "      <th>user_id</th>\n",
       "      <th>month</th>\n",
       "      <th>calls_count</th>\n",
       "      <th>duration</th>\n",
       "      <th>messages_count</th>\n",
       "      <th>mb_used</th>\n",
       "      <th>plan_name</th>\n",
       "      <th>messages_included</th>\n",
       "      <th>mb_per_month_included</th>\n",
       "      <th>minutes_included</th>\n",
       "      <th>usd_monthly_pay</th>\n",
       "      <th>usd_per_gb</th>\n",
       "      <th>usd_per_message</th>\n",
       "      <th>usd_per_minute</th>\n",
       "      <th>gb_used</th>\n",
       "    </tr>\n",
       "  </thead>\n",
       "  <tbody>\n",
       "    <tr>\n",
       "      <th>0</th>\n",
       "      <td>1000</td>\n",
       "      <td>12</td>\n",
       "      <td>16.0</td>\n",
       "      <td>124.0</td>\n",
       "      <td>11.0</td>\n",
       "      <td>1901.47</td>\n",
       "      <td>ultimate</td>\n",
       "      <td>1000</td>\n",
       "      <td>30720</td>\n",
       "      <td>3000</td>\n",
       "      <td>70</td>\n",
       "      <td>7</td>\n",
       "      <td>0.01</td>\n",
       "      <td>0.01</td>\n",
       "      <td>2.0</td>\n",
       "    </tr>\n",
       "    <tr>\n",
       "      <th>1</th>\n",
       "      <td>1001</td>\n",
       "      <td>8</td>\n",
       "      <td>27.0</td>\n",
       "      <td>182.0</td>\n",
       "      <td>30.0</td>\n",
       "      <td>6919.15</td>\n",
       "      <td>surf</td>\n",
       "      <td>50</td>\n",
       "      <td>15360</td>\n",
       "      <td>500</td>\n",
       "      <td>20</td>\n",
       "      <td>10</td>\n",
       "      <td>0.03</td>\n",
       "      <td>0.03</td>\n",
       "      <td>7.0</td>\n",
       "    </tr>\n",
       "    <tr>\n",
       "      <th>2</th>\n",
       "      <td>1001</td>\n",
       "      <td>9</td>\n",
       "      <td>49.0</td>\n",
       "      <td>315.0</td>\n",
       "      <td>44.0</td>\n",
       "      <td>13314.82</td>\n",
       "      <td>surf</td>\n",
       "      <td>50</td>\n",
       "      <td>15360</td>\n",
       "      <td>500</td>\n",
       "      <td>20</td>\n",
       "      <td>10</td>\n",
       "      <td>0.03</td>\n",
       "      <td>0.03</td>\n",
       "      <td>14.0</td>\n",
       "    </tr>\n",
       "    <tr>\n",
       "      <th>3</th>\n",
       "      <td>1001</td>\n",
       "      <td>10</td>\n",
       "      <td>65.0</td>\n",
       "      <td>393.0</td>\n",
       "      <td>53.0</td>\n",
       "      <td>22330.49</td>\n",
       "      <td>surf</td>\n",
       "      <td>50</td>\n",
       "      <td>15360</td>\n",
       "      <td>500</td>\n",
       "      <td>20</td>\n",
       "      <td>10</td>\n",
       "      <td>0.03</td>\n",
       "      <td>0.03</td>\n",
       "      <td>22.0</td>\n",
       "    </tr>\n",
       "    <tr>\n",
       "      <th>4</th>\n",
       "      <td>1001</td>\n",
       "      <td>11</td>\n",
       "      <td>64.0</td>\n",
       "      <td>426.0</td>\n",
       "      <td>36.0</td>\n",
       "      <td>18504.30</td>\n",
       "      <td>surf</td>\n",
       "      <td>50</td>\n",
       "      <td>15360</td>\n",
       "      <td>500</td>\n",
       "      <td>20</td>\n",
       "      <td>10</td>\n",
       "      <td>0.03</td>\n",
       "      <td>0.03</td>\n",
       "      <td>19.0</td>\n",
       "    </tr>\n",
       "  </tbody>\n",
       "</table>\n",
       "</div>"
      ],
      "text/plain": [
       "   user_id  month  calls_count  duration  messages_count   mb_used plan_name  \\\n",
       "0     1000     12         16.0     124.0            11.0   1901.47  ultimate   \n",
       "1     1001      8         27.0     182.0            30.0   6919.15      surf   \n",
       "2     1001      9         49.0     315.0            44.0  13314.82      surf   \n",
       "3     1001     10         65.0     393.0            53.0  22330.49      surf   \n",
       "4     1001     11         64.0     426.0            36.0  18504.30      surf   \n",
       "\n",
       "   messages_included  mb_per_month_included  minutes_included  \\\n",
       "0               1000                  30720              3000   \n",
       "1                 50                  15360               500   \n",
       "2                 50                  15360               500   \n",
       "3                 50                  15360               500   \n",
       "4                 50                  15360               500   \n",
       "\n",
       "   usd_monthly_pay  usd_per_gb  usd_per_message  usd_per_minute  gb_used  \n",
       "0               70           7             0.01            0.01      2.0  \n",
       "1               20          10             0.03            0.03      7.0  \n",
       "2               20          10             0.03            0.03     14.0  \n",
       "3               20          10             0.03            0.03     22.0  \n",
       "4               20          10             0.03            0.03     19.0  "
      ]
     },
     "execution_count": 29,
     "metadata": {},
     "output_type": "execute_result"
    }
   ],
   "source": [
    "users_merged.head()"
   ]
  },
  {
   "cell_type": "markdown",
   "metadata": {
    "id": "1IwGo4wg0q1I"
   },
   "source": [
    "**Se calcula los ingresos mensuales por usuario**"
   ]
  },
  {
   "cell_type": "code",
   "execution_count": 30,
   "metadata": {
    "id": "5FGCf_c60q1I",
    "trusted": true
   },
   "outputs": [],
   "source": [
    "# Calcular el exceso de cada servicio\n",
    "users_merged['validacion_llamadas'] = np.maximum(0, users_merged['duration'] - users_merged['minutes_included'])\n",
    "users_merged['validacion_mensajes'] = np.maximum(0, users_merged['messages_count'] - users_merged['messages_included'])\n",
    "users_merged['validacion_internet'] = np.maximum(0, users_merged['gb_used'] - users_merged['mb_per_month_included'] / 1024)\n"
   ]
  },
  {
   "cell_type": "code",
   "execution_count": 31,
   "metadata": {
    "trusted": true
   },
   "outputs": [],
   "source": [
    "# Calcular el total de ingresos mensuales\n",
    "users_merged['total_revenue'] = (\n",
    "    users_merged['usd_monthly_pay'] + \n",
    "    users_merged['validacion_llamadas'] * users_merged['usd_per_minute'] + \n",
    "    users_merged['validacion_mensajes'] * users_merged['usd_per_message'] + \n",
    "    users_merged['validacion_internet'] * users_merged['usd_per_gb']\n",
    ")"
   ]
  },
  {
   "cell_type": "code",
   "execution_count": 32,
   "metadata": {
    "trusted": true
   },
   "outputs": [
    {
     "data": {
      "text/html": [
       "<div>\n",
       "<style scoped>\n",
       "    .dataframe tbody tr th:only-of-type {\n",
       "        vertical-align: middle;\n",
       "    }\n",
       "\n",
       "    .dataframe tbody tr th {\n",
       "        vertical-align: top;\n",
       "    }\n",
       "\n",
       "    .dataframe thead th {\n",
       "        text-align: right;\n",
       "    }\n",
       "</style>\n",
       "<table border=\"1\" class=\"dataframe\">\n",
       "  <thead>\n",
       "    <tr style=\"text-align: right;\">\n",
       "      <th></th>\n",
       "      <th>user_id</th>\n",
       "      <th>month</th>\n",
       "      <th>calls_count</th>\n",
       "      <th>duration</th>\n",
       "      <th>messages_count</th>\n",
       "      <th>mb_used</th>\n",
       "      <th>plan_name</th>\n",
       "      <th>messages_included</th>\n",
       "      <th>mb_per_month_included</th>\n",
       "      <th>minutes_included</th>\n",
       "      <th>usd_monthly_pay</th>\n",
       "      <th>usd_per_gb</th>\n",
       "      <th>usd_per_message</th>\n",
       "      <th>usd_per_minute</th>\n",
       "      <th>gb_used</th>\n",
       "      <th>validacion_llamadas</th>\n",
       "      <th>validacion_mensajes</th>\n",
       "      <th>validacion_internet</th>\n",
       "      <th>total_revenue</th>\n",
       "    </tr>\n",
       "  </thead>\n",
       "  <tbody>\n",
       "    <tr>\n",
       "      <th>0</th>\n",
       "      <td>1000</td>\n",
       "      <td>12</td>\n",
       "      <td>16.0</td>\n",
       "      <td>124.0</td>\n",
       "      <td>11.0</td>\n",
       "      <td>1901.47</td>\n",
       "      <td>ultimate</td>\n",
       "      <td>1000</td>\n",
       "      <td>30720</td>\n",
       "      <td>3000</td>\n",
       "      <td>70</td>\n",
       "      <td>7</td>\n",
       "      <td>0.01</td>\n",
       "      <td>0.01</td>\n",
       "      <td>2.0</td>\n",
       "      <td>0.0</td>\n",
       "      <td>0.0</td>\n",
       "      <td>0.0</td>\n",
       "      <td>70.00</td>\n",
       "    </tr>\n",
       "    <tr>\n",
       "      <th>1</th>\n",
       "      <td>1001</td>\n",
       "      <td>8</td>\n",
       "      <td>27.0</td>\n",
       "      <td>182.0</td>\n",
       "      <td>30.0</td>\n",
       "      <td>6919.15</td>\n",
       "      <td>surf</td>\n",
       "      <td>50</td>\n",
       "      <td>15360</td>\n",
       "      <td>500</td>\n",
       "      <td>20</td>\n",
       "      <td>10</td>\n",
       "      <td>0.03</td>\n",
       "      <td>0.03</td>\n",
       "      <td>7.0</td>\n",
       "      <td>0.0</td>\n",
       "      <td>0.0</td>\n",
       "      <td>0.0</td>\n",
       "      <td>20.00</td>\n",
       "    </tr>\n",
       "    <tr>\n",
       "      <th>2</th>\n",
       "      <td>1001</td>\n",
       "      <td>9</td>\n",
       "      <td>49.0</td>\n",
       "      <td>315.0</td>\n",
       "      <td>44.0</td>\n",
       "      <td>13314.82</td>\n",
       "      <td>surf</td>\n",
       "      <td>50</td>\n",
       "      <td>15360</td>\n",
       "      <td>500</td>\n",
       "      <td>20</td>\n",
       "      <td>10</td>\n",
       "      <td>0.03</td>\n",
       "      <td>0.03</td>\n",
       "      <td>14.0</td>\n",
       "      <td>0.0</td>\n",
       "      <td>0.0</td>\n",
       "      <td>0.0</td>\n",
       "      <td>20.00</td>\n",
       "    </tr>\n",
       "    <tr>\n",
       "      <th>3</th>\n",
       "      <td>1001</td>\n",
       "      <td>10</td>\n",
       "      <td>65.0</td>\n",
       "      <td>393.0</td>\n",
       "      <td>53.0</td>\n",
       "      <td>22330.49</td>\n",
       "      <td>surf</td>\n",
       "      <td>50</td>\n",
       "      <td>15360</td>\n",
       "      <td>500</td>\n",
       "      <td>20</td>\n",
       "      <td>10</td>\n",
       "      <td>0.03</td>\n",
       "      <td>0.03</td>\n",
       "      <td>22.0</td>\n",
       "      <td>0.0</td>\n",
       "      <td>3.0</td>\n",
       "      <td>7.0</td>\n",
       "      <td>90.09</td>\n",
       "    </tr>\n",
       "    <tr>\n",
       "      <th>4</th>\n",
       "      <td>1001</td>\n",
       "      <td>11</td>\n",
       "      <td>64.0</td>\n",
       "      <td>426.0</td>\n",
       "      <td>36.0</td>\n",
       "      <td>18504.30</td>\n",
       "      <td>surf</td>\n",
       "      <td>50</td>\n",
       "      <td>15360</td>\n",
       "      <td>500</td>\n",
       "      <td>20</td>\n",
       "      <td>10</td>\n",
       "      <td>0.03</td>\n",
       "      <td>0.03</td>\n",
       "      <td>19.0</td>\n",
       "      <td>0.0</td>\n",
       "      <td>0.0</td>\n",
       "      <td>4.0</td>\n",
       "      <td>60.00</td>\n",
       "    </tr>\n",
       "  </tbody>\n",
       "</table>\n",
       "</div>"
      ],
      "text/plain": [
       "   user_id  month  calls_count  duration  messages_count   mb_used plan_name  \\\n",
       "0     1000     12         16.0     124.0            11.0   1901.47  ultimate   \n",
       "1     1001      8         27.0     182.0            30.0   6919.15      surf   \n",
       "2     1001      9         49.0     315.0            44.0  13314.82      surf   \n",
       "3     1001     10         65.0     393.0            53.0  22330.49      surf   \n",
       "4     1001     11         64.0     426.0            36.0  18504.30      surf   \n",
       "\n",
       "   messages_included  mb_per_month_included  minutes_included  \\\n",
       "0               1000                  30720              3000   \n",
       "1                 50                  15360               500   \n",
       "2                 50                  15360               500   \n",
       "3                 50                  15360               500   \n",
       "4                 50                  15360               500   \n",
       "\n",
       "   usd_monthly_pay  usd_per_gb  usd_per_message  usd_per_minute  gb_used  \\\n",
       "0               70           7             0.01            0.01      2.0   \n",
       "1               20          10             0.03            0.03      7.0   \n",
       "2               20          10             0.03            0.03     14.0   \n",
       "3               20          10             0.03            0.03     22.0   \n",
       "4               20          10             0.03            0.03     19.0   \n",
       "\n",
       "   validacion_llamadas  validacion_mensajes  validacion_internet  \\\n",
       "0                  0.0                  0.0                  0.0   \n",
       "1                  0.0                  0.0                  0.0   \n",
       "2                  0.0                  0.0                  0.0   \n",
       "3                  0.0                  3.0                  7.0   \n",
       "4                  0.0                  0.0                  4.0   \n",
       "\n",
       "   total_revenue  \n",
       "0          70.00  \n",
       "1          20.00  \n",
       "2          20.00  \n",
       "3          90.09  \n",
       "4          60.00  "
      ]
     },
     "execution_count": 32,
     "metadata": {},
     "output_type": "execute_result"
    }
   ],
   "source": [
    "users_merged.head()"
   ]
  },
  {
   "cell_type": "markdown",
   "metadata": {
    "id": "-jtyHzJb0q1I"
   },
   "source": [
    "## Estudia el comportamiento de usuario"
   ]
  },
  {
   "cell_type": "markdown",
   "metadata": {
    "id": "vtW4CJEe0q1J"
   },
   "source": [
    "### Llamadas"
   ]
  },
  {
   "cell_type": "code",
   "execution_count": 33,
   "metadata": {
    "id": "Jf5v5--k0q1J",
    "trusted": true
   },
   "outputs": [
    {
     "data": {
      "image/png": "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",
      "text/plain": [
       "<Figure size 1000x600 with 1 Axes>"
      ]
     },
     "metadata": {},
     "output_type": "display_data"
    }
   ],
   "source": [
    "# Compara la duración promedio de llamadas por cada plan y por cada mes. Traza un gráfico de barras para visualizarla.\n",
    "\n",
    "# Agrupar y calcular la duración promedio de llamadas por cada plan y mes\n",
    "call_month = users_merged.groupby(['plan_name', 'month'])['duration'].mean().reset_index()\n",
    "\n",
    "# Obtener los valores únicos de los meses y los planes\n",
    "months = call_month['month'].unique()\n",
    "planes = call_month['plan_name'].unique()\n",
    "\n",
    "# Crear la figura\n",
    "plt.figure(figsize=(10, 6))\n",
    "\n",
    "# Configurar el ancho de las barras y la posición en el eje X\n",
    "bar_width = 0.3  \n",
    "x_indexes = np.arange(len(months))  # Posiciones base para cada mes\n",
    "\n",
    "# Graficar cada plan con un desplazamiento diferente\n",
    "for i, plan in enumerate(planes):\n",
    "    subset = call_month[call_month['plan_name'] == plan]\n",
    "    plt.bar(x_indexes + i * bar_width, subset['duration'], width=bar_width, label=plan)\n",
    "\n",
    "# Personalizar el gráfico\n",
    "plt.xlabel('Mes')\n",
    "plt.ylabel('Duración promedio (min)')\n",
    "plt.title('Duración promedio de llamadas por mes y plan')\n",
    "plt.xticks(x_indexes + bar_width / 2, months)  # Centrar etiquetas de los meses\n",
    "plt.legend(title='Plan')\n",
    "plt.grid(axis='y', linestyle='--', alpha=0.5)\n",
    "\n",
    "# Mostrar el gráfico\n",
    "plt.show()"
   ]
  },
  {
   "cell_type": "code",
   "execution_count": 34,
   "metadata": {
    "id": "QoLqW1S_0q1J",
    "trusted": true
   },
   "outputs": [
    {
     "data": {
      "image/png": "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",
      "text/plain": [
       "<Figure size 1000x600 with 1 Axes>"
      ]
     },
     "metadata": {},
     "output_type": "display_data"
    }
   ],
   "source": [
    "# Compara el número de minutos mensuales que necesitan los usuarios de cada plan. Traza un histograma.\n",
    "\n",
    "# Filtrar los datos para cada plan\n",
    "surf = users_merged[users_merged['plan_name'] == 'surf']['duration']\n",
    "ultimate = users_merged[users_merged['plan_name'] == 'ultimate']['duration']\n",
    "\n",
    "# Crear el histograma\n",
    "plt.figure(figsize=(10, 6))\n",
    "plt.hist(surf, bins=30, alpha=0.7, label='Surf', color='blue')\n",
    "plt.hist(ultimate, bins=30, alpha=0.7, label='Ultimate', color='green')\n",
    "\n",
    "# Personalizar el gráfico\n",
    "plt.xlabel('Minutos usados al mes')\n",
    "plt.ylabel('Cantidad de usuarios')\n",
    "plt.title('Distribución del uso de minutos por plan')\n",
    "plt.legend(title='Plan')\n",
    "plt.grid(axis='y', linestyle='--', alpha=0.5)\n",
    "plt.xlim(0,1400)\n",
    "# Mostrar el gráfico\n",
    "plt.show()"
   ]
  },
  {
   "cell_type": "markdown",
   "metadata": {
    "id": "bLS9T8OH0q1K"
   },
   "source": [
    "**Se calcula la media y la varianza de la duración de las llamadas para averiguar si los usuarios de los distintos planes se comportan de forma diferente al realizar sus llamadas**"
   ]
  },
  {
   "cell_type": "code",
   "execution_count": 35,
   "metadata": {
    "id": "oSndbAnt0q1K",
    "trusted": true
   },
   "outputs": [
    {
     "name": "stdout",
     "output_type": "stream",
     "text": [
      "Plan Surf - Media: 428.75, Varianza: 54968.28\n",
      "Plan Ultimate - Media: 430.45, Varianza: 57844.46\n"
     ]
    }
   ],
   "source": [
    "# Calcula la media y la varianza de la duración mensual de llamadas.\n",
    "\n",
    "# Filtrar los datos por plan\n",
    "surf_calls = users_merged[users_merged['plan_name'] == 'surf']['duration']\n",
    "ultimate_calls = users_merged[users_merged['plan_name'] == 'ultimate']['duration']\n",
    "\n",
    "# Calcular la media y la varianza para cada plan\n",
    "surf_mean = surf_calls.mean()\n",
    "surf_var = np.var(surf_calls, ddof=1)\n",
    "\n",
    "ultimate_mean = ultimate_calls.mean()\n",
    "ultimate_var = np.var(ultimate_calls, ddof=1)\n",
    "\n",
    "# Imprimir resultados\n",
    "print(f\"Plan Surf - Media: {surf_mean:.2f}, Varianza: {surf_var:.2f}\")\n",
    "print(f\"Plan Ultimate - Media: {ultimate_mean:.2f}, Varianza: {ultimate_var:.2f}\")"
   ]
  },
  {
   "cell_type": "code",
   "execution_count": 36,
   "metadata": {
    "id": "nZzoRUKc0q1K",
    "trusted": true
   },
   "outputs": [
    {
     "data": {
      "image/png": "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",
      "text/plain": [
       "<Figure size 800x600 with 1 Axes>"
      ]
     },
     "metadata": {},
     "output_type": "display_data"
    }
   ],
   "source": [
    "# Traza un diagrama de caja para visualizar la distribución de la duración mensual de llamadas\n",
    "\n",
    "# Crear el diagrama de caja\n",
    "plt.figure(figsize=(8, 6))\n",
    "sns.boxplot(x='plan_name', y='duration', data=users_merged)\n",
    "\n",
    "# Configurar etiquetas y título\n",
    "plt.xlabel('Plan')\n",
    "plt.ylabel('Duración de llamadas (minutos)')\n",
    "plt.title('Distribución de la duración mensual de llamadas por plan')\n",
    "plt.grid(axis='y', linestyle='--', alpha=0.5)\n",
    "\n",
    "# Mostrar el gráfico\n",
    "plt.show()"
   ]
  },
  {
   "cell_type": "markdown",
   "metadata": {},
   "source": [
    "- podemos observar un comportameinto parecido en parecido en la grafica de barras y caja de bigotes. en cuanto al histograma podemor mirar que los usuarios del plan surf consumen mas minutos que los de ultimate.\n",
    "- su comportamiento no es acorde al plan ya que surf cuenta con menos limite de llamas, lo que implica cobros extras.\n"
   ]
  },
  {
   "cell_type": "markdown",
   "metadata": {
    "id": "8idKy8Wh0q1L"
   },
   "source": [
    "### Mensajes"
   ]
  },
  {
   "cell_type": "code",
   "execution_count": 37,
   "metadata": {
    "id": "NXLxiTit0q1L",
    "trusted": true
   },
   "outputs": [
    {
     "data": {
      "image/png": "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",
      "text/plain": [
       "<Figure size 1000x600 with 1 Axes>"
      ]
     },
     "metadata": {},
     "output_type": "display_data"
    }
   ],
   "source": [
    "# Comprara el número de mensajes que tienden a enviar cada mes los usuarios de cada plan\n",
    "message_month = users_merged.groupby(['plan_name', 'month'])['messages_count'].mean().reset_index()\n",
    "\n",
    "# Obtener los valores únicos de los meses y los planes\n",
    "months = message_month['month'].unique()\n",
    "planes = message_month['plan_name'].unique()\n",
    "\n",
    "# Crear la figura\n",
    "plt.figure(figsize=(10, 6))\n",
    "\n",
    "# Configurar el ancho de las barras y la posición en el eje X\n",
    "bar_width = 0.3  \n",
    "x_indexes = np.arange(len(months))  # Posiciones base para cada mes\n",
    "\n",
    "# Graficar cada plan con un desplazamiento diferente\n",
    "for i, plan in enumerate(planes):\n",
    "    subset = message_month[message_month['plan_name'] == plan]\n",
    "    plt.bar(x_indexes + i * bar_width, subset['messages_count'], width=bar_width, label=plan)\n",
    "\n",
    "# Personalizar el gráfico\n",
    "plt.xlabel('Mes')\n",
    "plt.ylabel('Número promedio de mensajes')\n",
    "plt.title('Número promedio de mensajes por mes y plan')\n",
    "plt.xticks(x_indexes + bar_width / 2, months)  # Centrar etiquetas de los meses\n",
    "plt.legend(title='Plan')\n",
    "plt.grid(axis='y', linestyle='--', alpha=0.5)\n",
    "\n",
    "# Mostrar el gráfico\n",
    "plt.show()"
   ]
  },
  {
   "cell_type": "code",
   "execution_count": 38,
   "metadata": {
    "id": "dtFwCGAp0q1M",
    "trusted": true
   },
   "outputs": [
    {
     "data": {
      "image/png": "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",
      "text/plain": [
       "<Figure size 800x600 with 1 Axes>"
      ]
     },
     "metadata": {},
     "output_type": "display_data"
    }
   ],
   "source": [
    "# Compara el número de minutos mensuales que necesitan los usuarios de cada plan. Traza un histograma.\n",
    "\n",
    "# Filtrar los datos para cada plan\n",
    "surf_messages = users_merged[users_merged['plan_name'] == 'surf']['messages_count']\n",
    "ultimate_messages = users_merged[users_merged['plan_name'] == 'ultimate']['messages_count']\n",
    "\n",
    "# Crear el histograma\n",
    "plt.figure(figsize=(8, 6))\n",
    "plt.hist(surf_messages, bins=30, alpha=0.6, label='Surf', edgecolor='black')\n",
    "plt.hist(ultimate_messages, bins=30, alpha=0.6, label='Ultimate', edgecolor='black')\n",
    "\n",
    "# Personalizar el gráfico\n",
    "plt.xlabel('Número de mensajes enviados por mes')\n",
    "plt.ylabel('Frecuencia de usuarios')\n",
    "plt.title('Distribución de mensajes enviados por mes según el plan')\n",
    "plt.legend(title='Plan')\n",
    "plt.grid(axis='y', linestyle='--', alpha=0.5)\n",
    "plt.xlim(0,150)\n",
    "plt.yticks(np.arange(0, 520, 30))\n",
    "\n",
    "# Mostrar el gráfico\n",
    "plt.show()"
   ]
  },
  {
   "cell_type": "code",
   "execution_count": 39,
   "metadata": {
    "trusted": true
   },
   "outputs": [
    {
     "data": {
      "image/png": "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",
      "text/plain": [
       "<Figure size 800x600 with 1 Axes>"
      ]
     },
     "metadata": {},
     "output_type": "display_data"
    }
   ],
   "source": [
    "# Traza un diagrama de caja para visualizar la distribución de la cantidad de mensajes al mes\n",
    "\n",
    "# Crear el diagrama de caja\n",
    "plt.figure(figsize=(8, 6))\n",
    "sns.boxplot(x='plan_name', y= 'messages_count', data=users_merged)\n",
    "\n",
    "# Configurar etiquetas y título\n",
    "plt.xlabel('Plan')\n",
    "plt.ylabel('Mensajes enviados')\n",
    "plt.title('distribución de la cantidad de mensajes al mes')\n",
    "plt.grid(axis='y', linestyle='--', alpha=0.5)\n",
    "plt.yticks(np.arange(0, 300, 25))\n",
    "\n",
    "# Mostrar el gráfico\n",
    "plt.show()"
   ]
  },
  {
   "cell_type": "markdown",
   "metadata": {},
   "source": [
    "- comportamiento simular, pero en el mumero de mensajes varia.\n",
    "- los usuarios de surf envian mas mensajes, al tener menos limite en al enviar mensajes van a pagar extra en su plan."
   ]
  },
  {
   "cell_type": "markdown",
   "metadata": {
    "id": "42YSypXz0q1M"
   },
   "source": [
    "### Internet"
   ]
  },
  {
   "cell_type": "code",
   "execution_count": 40,
   "metadata": {
    "id": "GRI_R7xF0q1L",
    "trusted": true
   },
   "outputs": [
    {
     "data": {
      "image/png": "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",
      "text/plain": [
       "<Figure size 1000x500 with 1 Axes>"
      ]
     },
     "metadata": {},
     "output_type": "display_data"
    }
   ],
   "source": [
    "# Compara la cantidad de tráfico de Internet consumido por usuarios por plan\n",
    "\n",
    "internet_usage_per_plan = users_merged.groupby(['plan_name', 'month'])['mb_used'].mean().reset_index()\n",
    "\n",
    "\n",
    "# Obtener los valores únicos de los meses y los planes\n",
    "months = internet_usage_per_plan['month'].unique()\n",
    "planes = internet_usage_per_plan['plan_name'].unique()\n",
    "\n",
    "# Crear la figura\n",
    "plt.figure(figsize=(10, 5))\n",
    "\n",
    "# Configurar el ancho de las barras y la posición en el eje X\n",
    "bar_width = 0.3  \n",
    "x_indexes = np.arange(len(months))  # Posiciones base para cada mes\n",
    "\n",
    "# Graficar cada plan con un desplazamiento diferente\n",
    "for i, plan in enumerate(planes):\n",
    "    subset = internet_usage_per_plan[internet_usage_per_plan['plan_name'] == plan]\n",
    "    plt.bar(x_indexes + i * bar_width, subset['mb_used'], width=bar_width, label=plan)\n",
    "\n",
    "# Personalizar el gráfico\n",
    "plt.xlabel('Mes')\n",
    "plt.ylabel('uso de Internet en mb')\n",
    "plt.title('Número promedio de uso de internet por mes y plan')\n",
    "plt.xticks(x_indexes + bar_width / 2, months)  # Centrar etiquetas de los meses\n",
    "plt.legend(title='Plan')\n",
    "plt.grid(axis='y', linestyle='--', alpha=0.5)\n",
    "\n",
    "# Mostrar el gráfico\n",
    "plt.show()"
   ]
  },
  {
   "cell_type": "code",
   "execution_count": 41,
   "metadata": {
    "id": "wnh8jYXi0q1N",
    "trusted": true
   },
   "outputs": [
    {
     "data": {
      "image/png": "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",
      "text/plain": [
       "<Figure size 1000x600 with 1 Axes>"
      ]
     },
     "metadata": {},
     "output_type": "display_data"
    }
   ],
   "source": [
    "# Compara el uso de internet mensuales que necesitan los usuarios de cada plan. Traza un histograma.\n",
    "\n",
    "# Filtrar los datos para cada plan\n",
    "surf_internet = users_merged[users_merged['plan_name'] == 'surf']['mb_used']\n",
    "ultimate_internet = users_merged[users_merged['plan_name'] == 'ultimate']['mb_used']\n",
    "\n",
    "# Crear Histograma\n",
    "plt.figure(figsize=(10, 6))\n",
    "\n",
    "plt.hist(surf_internet, bins=30, alpha=0.6, label='Surf', edgecolor='black')\n",
    "plt.hist(ultimate_internet, bins=30, alpha=0.6, label='Ultimate', edgecolor='black')\n",
    "\n",
    "# Personalizar el gráfico\n",
    "plt.xlabel('Uso de Internet (MB) por mes')\n",
    "plt.ylabel('Frecuencia de usuarios')\n",
    "plt.title('Distribución del uso de Internet por plan')\n",
    "plt.legend(title='Plan')\n",
    "plt.grid(axis='y', linestyle='--', alpha=0.5)\n",
    "plt.xlim(0,50000)\n",
    "# Mostrar el gráfico\n",
    "plt.show()\n"
   ]
  },
  {
   "cell_type": "code",
   "execution_count": 42,
   "metadata": {
    "id": "5VlyJ9ry0q1N",
    "trusted": true
   },
   "outputs": [
    {
     "data": {
      "image/png": "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",
      "text/plain": [
       "<Figure size 800x600 with 1 Axes>"
      ]
     },
     "metadata": {},
     "output_type": "display_data"
    }
   ],
   "source": [
    "# Traza un diagrama de caja para visualizar la distribución de la cantidad de internet al mes\n",
    "\n",
    "# Crear el diagrama de caja\n",
    "plt.figure(figsize=(8, 6))\n",
    "sns.boxplot(x='plan_name', y= 'mb_used', data=users_merged)\n",
    "\n",
    "# Configurar etiquetas y título\n",
    "plt.xlabel('plan_name')\n",
    "plt.ylabel('uso de internet')\n",
    "plt.title('distribución de la cantidad de internet al mes')\n",
    "plt.grid(axis='y', linestyle='--', alpha=0.5)\n",
    "#plt.yticks(np.arange(0, 300, 25))\n",
    "\n",
    "# Mostrar el gráfico\n",
    "plt.show()"
   ]
  },
  {
   "cell_type": "markdown",
   "metadata": {},
   "source": [
    "- se repite el mismo patron.\n",
    "- los usuarios de surf cosumen mas internet, por lo tanto les generara cobros extra"
   ]
  },
  {
   "cell_type": "markdown",
   "metadata": {
    "id": "tCijq3260q1N"
   },
   "source": [
    "### Ingreso"
   ]
  },
  {
   "cell_type": "code",
   "execution_count": 43,
   "metadata": {
    "trusted": true
   },
   "outputs": [],
   "source": [
    "# Filtrar datos por plan\n",
    "surf = users_merged[users_merged['plan_name'] == 'surf']\n",
    "ultimate = users_merged[users_merged['plan_name'] == 'ultimate']"
   ]
  },
  {
   "cell_type": "code",
   "execution_count": 44,
   "metadata": {
    "trusted": true
   },
   "outputs": [
    {
     "data": {
      "image/png": "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",
      "text/plain": [
       "<Figure size 800x500 with 1 Axes>"
      ]
     },
     "metadata": {},
     "output_type": "display_data"
    }
   ],
   "source": [
    "# Histograma de ingresos según minutos de llamadas por plan\n",
    "plt.figure(figsize=(8, 5))\n",
    "plt.hist(surf['duration'], bins=30, alpha=0.6, label='Surf', edgecolor='black', color='blue')\n",
    "plt.hist(ultimate['duration'], bins=30, alpha=0.6, label='Ultimate', edgecolor='black', color='orange')\n",
    "plt.xlabel('Minutos de llamadas')\n",
    "plt.ylabel('Frecuencia de usuarios')\n",
    "plt.title('Distribución de minutos de llamadas por plan')\n",
    "plt.legend(title='Plan')\n",
    "plt.grid(axis='y', linestyle='--', alpha=0.5)\n",
    "plt.show()"
   ]
  },
  {
   "cell_type": "code",
   "execution_count": 45,
   "metadata": {
    "trusted": true
   },
   "outputs": [
    {
     "data": {
      "image/png": "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",
      "text/plain": [
       "<Figure size 800x500 with 1 Axes>"
      ]
     },
     "metadata": {},
     "output_type": "display_data"
    }
   ],
   "source": [
    "# Histograma de ingresos según cantidad de mensajes por plan\n",
    "plt.figure(figsize=(8, 5))\n",
    "plt.hist(surf['messages_count'], bins=30, alpha=0.6, label='Surf', edgecolor='black', color='blue')\n",
    "plt.hist(ultimate['messages_count'], bins=30, alpha=0.6, label='Ultimate', edgecolor='black', color='orange')\n",
    "plt.xlabel('Cantidad de mensajes')\n",
    "plt.ylabel('Frecuencia de usuarios')\n",
    "plt.title('Distribución de cantidad de mensajes por plan')\n",
    "plt.legend(title='Plan')\n",
    "plt.grid(axis='y', linestyle='--', alpha=0.5)\n",
    "plt.show()\n"
   ]
  },
  {
   "cell_type": "code",
   "execution_count": 46,
   "metadata": {
    "trusted": true
   },
   "outputs": [
    {
     "data": {
      "image/png": "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",
      "text/plain": [
       "<Figure size 800x500 with 1 Axes>"
      ]
     },
     "metadata": {},
     "output_type": "display_data"
    }
   ],
   "source": [
    "# Histograma de ingresos según uso de internet por plan\n",
    "plt.figure(figsize=(8, 5))\n",
    "plt.hist(surf['mb_used'], bins=30, alpha=0.6, label='Surf', edgecolor='black', color='blue')\n",
    "plt.hist(ultimate['mb_used'], bins=30, alpha=0.6, label='Ultimate', edgecolor='black', color='orange')\n",
    "plt.xlabel('Uso de Internet (MB)')\n",
    "plt.ylabel('Frecuencia de usuarios')\n",
    "plt.title('Distribución de uso de Internet por plan')\n",
    "plt.legend(title='Plan')\n",
    "plt.grid(axis='y', linestyle='--', alpha=0.5)\n",
    "plt.show()"
   ]
  },
  {
   "cell_type": "markdown",
   "metadata": {},
   "source": [
    "- podemos observar que en todo surf genera mas ingresos, esto se debe a que superan el limine de su plan y pagan extra por cada servisio que usan despues del limite\n"
   ]
  },
  {
   "cell_type": "markdown",
   "metadata": {
    "id": "ajJ7VKeI0q1Q"
   },
   "source": [
    "## Prueba de hipótesis estadísticas"
   ]
  },
  {
   "cell_type": "markdown",
   "metadata": {
    "id": "AdXAZ-yL0q1Q"
   },
   "source": [
    "**Prueba la hipótesis de que son diferentes los ingresos promedio procedentes de los usuarios de los planes de llamada Ultimate y Surf**"
   ]
  },
  {
   "cell_type": "code",
   "execution_count": 47,
   "metadata": {
    "id": "nFoPNlPq0q1R",
    "trusted": true
   },
   "outputs": [
    {
     "name": "stdout",
     "output_type": "stream",
     "text": [
      "Valor p: 3.1703905481135738e-15\n",
      "Rechazamos H₀: Los ingresos medios son significativamente diferentes.\n"
     ]
    }
   ],
   "source": [
    "# Extraer ingresos de cada plan\n",
    "surf_revenue = users_merged[users_merged['plan_name'] == 'surf']['total_revenue']\n",
    "ultimate_revenue = users_merged[users_merged['plan_name'] == 'ultimate']['total_revenue']\n",
    "\n",
    "\n",
    "# Realizar la prueba t de Student\n",
    "test_results = st.ttest_ind(surf_revenue, ultimate_revenue, equal_var=False)  # Welch's t-test\n",
    "\n",
    "# Nivel de significancia\n",
    "alpha = 0.05\n",
    "\n",
    "# Interpretar los resultados\n",
    "print('Valor p:', test_results.pvalue)\n",
    "\n",
    "if test_results.pvalue < alpha:\n",
    "    print(\"Rechazamos H₀: Los ingresos medios son significativamente diferentes.\")\n",
    "else:\n",
    "    print(\"No podemos rechazar H₀: No hay evidencia suficiente para decir que los ingresos son distintos.\")"
   ]
  },
  {
   "cell_type": "code",
   "execution_count": 48,
   "metadata": {
    "trusted": true
   },
   "outputs": [
    {
     "name": "stdout",
     "output_type": "stream",
     "text": [
      "media de surf 60.706408137317226\n",
      "media de ultimate 72.31388888888888\n",
      "desviacion estandar de surf 55.38804160009509\n",
      "desviacion estandar de ultimate 11.3951079657421\n"
     ]
    }
   ],
   "source": [
    "print('media de surf', surf_revenue.mean())\n",
    "print('media de ultimate',ultimate_revenue.mean())\n",
    "print('desviacion estandar de surf', surf_revenue.std())\n",
    "print('desviacion estandar de ultimate', ultimate_revenue.std())"
   ]
  },
  {
   "cell_type": "markdown",
   "metadata": {
    "id": "tCcAruM60q1R"
   },
   "source": [
    "**Prueba la hipótesis de que el ingreso promedio de los usuarios del área NY-NJ es diferente al de los usuarios de otras regiones**"
   ]
  },
  {
   "cell_type": "code",
   "execution_count": 49,
   "metadata": {
    "id": "Cqcj7wrZ0q1S",
    "trusted": true
   },
   "outputs": [
    {
     "name": "stdout",
     "output_type": "stream",
     "text": [
      "Valor p de Levene: 0.12580\n",
      "Varianzas iguales\n",
      "Valor p de prueba t: 0.04356\n",
      "Rechazamos H₀: Hay una diferencia significativa en los ingresos.\n"
     ]
    }
   ],
   "source": [
    "\n",
    "# Unir users con users_merged usando la columna de usuario (ajustar si es diferente)\n",
    "users_merged = users_merged.merge(users[['user_id', 'city']], on='user_id', how='left')\n",
    "\n",
    "# Filtrar ingresos de NY-NJ y otras regiones\n",
    "ny_nj_income = users_merged[users_merged['city'] == 'New York-Newark-Jersey City, NY-NJ-PA MSA']['total_revenue']\n",
    "other_income = users_merged[users_merged['city'] != 'New York-Newark-Jersey City, NY-NJ-PA MSA']['total_revenue']\n",
    "\n",
    "# Prueba de Levene para igualdad de varianzas\n",
    "levene_stat, levene_p = st.levene(ny_nj_income, other_income)\n",
    "\n",
    "# Determinar si las varianzas son iguales\n",
    "equal_var = levene_p > 0.05  # Si p > 0.05, asumimos varianzas iguales\n",
    "\n",
    "# Prueba t de Student con el parámetro adecuado\n",
    "test_results = st.ttest_ind(ny_nj_income, other_income, equal_var=equal_var)\n",
    "\n",
    "# Mostrar resultados\n",
    "print(f'Valor p de Levene: {levene_p:.5f}')\n",
    "print('Varianzas iguales' if equal_var else 'Varianzas diferentes')\n",
    "print(f'Valor p de prueba t: {test_results.pvalue:.5f}')\n",
    "\n",
    "alpha = 0.05\n",
    "if test_results.pvalue < alpha:\n",
    "    print(\"Rechazamos H₀: Hay una diferencia significativa en los ingresos.\")\n",
    "else:\n",
    "    print(\"No podemos rechazar H₀: No hay evidencia suficiente de diferencia en ingresos.\")"
   ]
  },
  {
   "cell_type": "markdown",
   "metadata": {
    "id": "bbTR8UQO0q1T"
   },
   "source": [
    "## Conclusión general"
   ]
  },
  {
   "cell_type": "markdown",
   "metadata": {},
   "source": [
    "- al agrupar todos los datos y hacer las comparaciones me pude dar cuenta de las inconsistensias de los usuarios.\n",
    "- los clientes de surf consumen mucho para su plan, lo recomendable seria que estibierna en el paln ultiamte.\n",
    "- para la empresa es bueno ya que genera muchos ingresos, pero los usuaros estan pagando mucho por no saber elegir el plan adecuado.\n",
    "- se podria dar mayor orientación a los usuarios para elegir el plan "
   ]
  }
 ],
 "metadata": {
  "ExecuteTimeLog": [
   {
    "duration": 828,
    "start_time": "2021-11-16T09:21:11.304Z"
   },
   {
    "duration": 893,
    "start_time": "2021-11-16T09:21:17.728Z"
   },
   {
    "duration": 1150,
    "start_time": "2021-11-16T09:21:29.568Z"
   },
   {
    "duration": 3,
    "start_time": "2021-11-16T09:24:14.495Z"
   },
   {
    "duration": 120,
    "start_time": "2021-11-16T09:24:46.630Z"
   },
   {
    "duration": 3,
    "start_time": "2021-11-16T09:28:27.882Z"
   },
   {
    "duration": 4,
    "start_time": "2021-11-16T09:29:54.281Z"
   },
   {
    "duration": 3,
    "start_time": "2021-11-16T09:30:45.936Z"
   },
   {
    "duration": 4,
    "start_time": "2021-11-16T09:31:06.300Z"
   },
   {
    "duration": 113,
    "start_time": "2021-11-16T09:31:37.208Z"
   },
   {
    "duration": 143,
    "start_time": "2021-11-16T09:31:48.656Z"
   },
   {
    "duration": 98,
    "start_time": "2021-11-16T09:31:55.678Z"
   },
   {
    "duration": 3,
    "start_time": "2021-11-16T09:32:08.535Z"
   },
   {
    "duration": 111,
    "start_time": "2021-11-16T09:32:10.120Z"
   },
   {
    "duration": 3,
    "start_time": "2021-11-16T09:32:15.732Z"
   },
   {
    "duration": 4,
    "start_time": "2021-11-16T09:32:29.423Z"
   },
   {
    "duration": 3,
    "start_time": "2021-11-16T10:03:03.074Z"
   },
   {
    "duration": 3,
    "start_time": "2021-11-16T10:10:01.288Z"
   },
   {
    "duration": 3,
    "start_time": "2021-11-16T10:10:46.923Z"
   },
   {
    "duration": 121,
    "start_time": "2021-11-16T10:37:46.494Z"
   },
   {
    "duration": 125,
    "start_time": "2021-11-16T10:38:20.632Z"
   },
   {
    "duration": 112,
    "start_time": "2021-11-16T10:46:53.001Z"
   },
   {
    "duration": 110,
    "start_time": "2021-11-16T10:48:25.775Z"
   },
   {
    "duration": 3,
    "start_time": "2021-11-16T10:50:18.720Z"
   },
   {
    "duration": 4,
    "start_time": "2021-11-16T10:50:37.649Z"
   },
   {
    "duration": 2,
    "start_time": "2021-11-16T10:50:51.884Z"
   },
   {
    "duration": 3,
    "start_time": "2021-11-16T10:51:56.237Z"
   },
   {
    "duration": 101,
    "start_time": "2021-11-16T10:53:13.791Z"
   },
   {
    "duration": 3,
    "start_time": "2021-11-16T10:55:59.186Z"
   },
   {
    "duration": 3,
    "start_time": "2021-11-16T10:56:10.751Z"
   },
   {
    "duration": 3,
    "start_time": "2021-11-16T10:56:49.038Z"
   },
   {
    "duration": 3,
    "start_time": "2021-11-16T10:56:49.174Z"
   },
   {
    "duration": 4,
    "start_time": "2021-11-16T10:56:49.414Z"
   },
   {
    "duration": 3,
    "start_time": "2021-11-16T10:56:49.680Z"
   },
   {
    "duration": 3,
    "start_time": "2021-11-16T10:56:50.370Z"
   },
   {
    "duration": 114,
    "start_time": "2021-11-16T10:59:34.518Z"
   },
   {
    "duration": 3,
    "start_time": "2021-11-16T11:01:41.201Z"
   },
   {
    "duration": 116,
    "start_time": "2021-11-16T11:01:48.754Z"
   },
   {
    "duration": 3,
    "start_time": "2021-11-16T11:02:16.685Z"
   },
   {
    "duration": 3,
    "start_time": "2021-11-16T11:02:19.479Z"
   },
   {
    "duration": 3,
    "start_time": "2021-11-16T11:02:47.067Z"
   },
   {
    "duration": 3,
    "start_time": "2021-11-16T11:02:49.353Z"
   },
   {
    "duration": 3,
    "start_time": "2021-11-16T11:03:07.835Z"
   },
   {
    "duration": 3,
    "start_time": "2021-11-16T11:03:07.953Z"
   },
   {
    "duration": 112,
    "start_time": "2021-11-16T11:07:52.072Z"
   },
   {
    "duration": 187,
    "start_time": "2021-11-16T11:09:23.468Z"
   },
   {
    "duration": 4,
    "start_time": "2021-11-16T11:10:01.455Z"
   },
   {
    "duration": 3,
    "start_time": "2021-11-16T11:10:05.069Z"
   },
   {
    "duration": 4,
    "start_time": "2021-11-16T11:10:13.376Z"
   },
   {
    "duration": 3,
    "start_time": "2021-11-16T11:10:14.434Z"
   },
   {
    "duration": 3,
    "start_time": "2021-11-16T11:10:22.853Z"
   },
   {
    "duration": 4,
    "start_time": "2021-11-16T11:27:29.279Z"
   },
   {
    "duration": 4,
    "start_time": "2021-11-16T11:29:08.919Z"
   },
   {
    "duration": 118,
    "start_time": "2021-11-16T11:29:46.703Z"
   },
   {
    "duration": 437,
    "start_time": "2021-11-16T11:36:02.181Z"
   },
   {
    "duration": 157,
    "start_time": "2021-11-16T11:36:14.388Z"
   },
   {
    "duration": 207,
    "start_time": "2021-11-16T11:47:15.898Z"
   },
   {
    "duration": 3,
    "start_time": "2021-11-16T11:53:52.092Z"
   },
   {
    "duration": 3,
    "start_time": "2021-11-16T11:53:52.236Z"
   },
   {
    "duration": 3,
    "start_time": "2021-11-16T11:59:12.005Z"
   },
   {
    "duration": 112,
    "start_time": "2021-11-16T12:00:33.446Z"
   },
   {
    "duration": 3,
    "start_time": "2021-11-16T12:02:14.453Z"
   },
   {
    "duration": 3,
    "start_time": "2021-11-16T12:02:39.512Z"
   },
   {
    "duration": 106,
    "start_time": "2021-11-16T12:03:03.460Z"
   },
   {
    "duration": 3,
    "start_time": "2021-11-17T20:37:21.139Z"
   },
   {
    "duration": 3,
    "start_time": "2021-11-17T20:37:22.229Z"
   },
   {
    "duration": 3,
    "start_time": "2021-11-17T20:38:38.806Z"
   },
   {
    "duration": 3,
    "start_time": "2021-11-17T20:38:41.958Z"
   },
   {
    "duration": 3,
    "start_time": "2021-11-17T20:43:46.551Z"
   },
   {
    "duration": 4,
    "start_time": "2021-11-17T20:58:21.835Z"
   },
   {
    "duration": 3,
    "start_time": "2021-11-17T20:59:21.872Z"
   },
   {
    "duration": 4,
    "start_time": "2021-11-17T20:59:45.352Z"
   },
   {
    "duration": 4,
    "start_time": "2021-11-17T20:59:49.646Z"
   },
   {
    "duration": 159,
    "start_time": "2021-11-17T21:02:26.949Z"
   },
   {
    "duration": 3,
    "start_time": "2021-11-17T21:03:53.461Z"
   },
   {
    "duration": 3,
    "start_time": "2021-11-17T21:03:53.694Z"
   },
   {
    "duration": 3,
    "start_time": "2021-11-17T21:05:28.145Z"
   },
   {
    "duration": 116,
    "start_time": "2021-11-17T21:05:57.787Z"
   },
   {
    "duration": 3,
    "start_time": "2021-11-17T21:06:37.993Z"
   },
   {
    "duration": 3,
    "start_time": "2021-11-17T21:06:38.261Z"
   },
   {
    "duration": 3,
    "start_time": "2021-11-17T21:11:54.358Z"
   },
   {
    "duration": 3,
    "start_time": "2021-11-17T21:12:43.846Z"
   },
   {
    "duration": 4,
    "start_time": "2021-11-17T21:13:08.773Z"
   },
   {
    "duration": 3,
    "start_time": "2021-11-17T21:14:44.441Z"
   },
   {
    "duration": 3,
    "start_time": "2021-11-17T21:15:42.059Z"
   },
   {
    "duration": 4,
    "start_time": "2021-11-17T21:15:51.995Z"
   },
   {
    "duration": 3,
    "start_time": "2021-11-17T21:15:53.923Z"
   },
   {
    "duration": 3,
    "start_time": "2021-11-17T21:15:55.282Z"
   },
   {
    "duration": 3,
    "start_time": "2021-11-17T21:16:28.492Z"
   },
   {
    "duration": 3,
    "start_time": "2021-11-17T21:16:32.603Z"
   },
   {
    "duration": 3,
    "start_time": "2021-11-17T21:17:06.941Z"
   },
   {
    "duration": 98,
    "start_time": "2021-11-17T21:18:05.733Z"
   },
   {
    "duration": 4,
    "start_time": "2021-11-17T21:21:35.255Z"
   },
   {
    "duration": 3,
    "start_time": "2021-11-17T21:21:37.804Z"
   },
   {
    "duration": 4,
    "start_time": "2021-11-17T21:23:06.071Z"
   },
   {
    "duration": 3,
    "start_time": "2021-11-17T21:23:24.799Z"
   },
   {
    "duration": 3,
    "start_time": "2021-11-17T21:23:32.591Z"
   },
   {
    "duration": 98,
    "start_time": "2021-11-17T21:28:31.559Z"
   },
   {
    "duration": 3,
    "start_time": "2021-11-17T21:28:45.448Z"
   },
   {
    "duration": 3,
    "start_time": "2021-11-17T21:29:17.303Z"
   },
   {
    "duration": 3,
    "start_time": "2021-11-17T21:29:29.617Z"
   },
   {
    "duration": 3,
    "start_time": "2021-11-17T21:29:32.681Z"
   },
   {
    "duration": 3,
    "start_time": "2021-11-17T21:36:11.474Z"
   },
   {
    "duration": 3,
    "start_time": "2021-11-17T21:36:14.791Z"
   },
   {
    "duration": 3,
    "start_time": "2021-11-17T21:36:53.943Z"
   },
   {
    "duration": 3,
    "start_time": "2021-11-17T21:36:56.165Z"
   },
   {
    "duration": 4,
    "start_time": "2021-11-17T21:37:16.590Z"
   },
   {
    "duration": 3,
    "start_time": "2021-11-17T21:37:22.702Z"
   },
   {
    "duration": 4,
    "start_time": "2021-11-17T21:38:03.479Z"
   },
   {
    "duration": 3,
    "start_time": "2021-11-17T21:38:08.601Z"
   },
   {
    "duration": 3,
    "start_time": "2021-11-17T21:38:12.928Z"
   },
   {
    "duration": 3,
    "start_time": "2021-11-17T21:38:48.896Z"
   },
   {
    "duration": 2,
    "start_time": "2021-11-17T21:38:49.171Z"
   },
   {
    "duration": 4,
    "start_time": "2021-11-17T21:39:57.889Z"
   },
   {
    "duration": 3,
    "start_time": "2021-11-17T21:39:58.057Z"
   },
   {
    "duration": 3,
    "start_time": "2021-11-17T21:41:20.108Z"
   },
   {
    "duration": 3,
    "start_time": "2021-11-17T21:41:20.629Z"
   },
   {
    "duration": 3,
    "start_time": "2021-11-17T21:42:49.136Z"
   },
   {
    "duration": 3,
    "start_time": "2021-11-17T21:43:15.137Z"
   },
   {
    "duration": 4,
    "start_time": "2021-11-17T21:43:16.766Z"
   },
   {
    "duration": 4,
    "start_time": "2021-11-17T21:43:31.711Z"
   },
   {
    "duration": 3,
    "start_time": "2021-11-17T21:43:36.312Z"
   },
   {
    "duration": 4,
    "start_time": "2021-11-17T21:45:08.825Z"
   },
   {
    "duration": 4,
    "start_time": "2021-11-17T21:45:10.119Z"
   },
   {
    "duration": 4,
    "start_time": "2021-11-17T21:45:13.748Z"
   },
   {
    "duration": 3,
    "start_time": "2021-11-17T21:45:22.219Z"
   },
   {
    "duration": 3,
    "start_time": "2021-11-17T21:45:33.412Z"
   },
   {
    "duration": 2,
    "start_time": "2021-11-17T21:46:01.885Z"
   },
   {
    "duration": 3,
    "start_time": "2021-11-17T21:46:03.628Z"
   },
   {
    "duration": 107,
    "start_time": "2021-11-17T21:47:32.512Z"
   },
   {
    "duration": 103,
    "start_time": "2021-11-17T21:50:36.243Z"
   },
   {
    "duration": 3,
    "start_time": "2021-11-18T06:28:31.440Z"
   },
   {
    "duration": 3,
    "start_time": "2021-11-18T06:29:00.168Z"
   },
   {
    "duration": 3,
    "start_time": "2021-11-18T06:31:27.008Z"
   },
   {
    "duration": 2,
    "start_time": "2021-11-18T06:35:34.288Z"
   },
   {
    "duration": 2,
    "start_time": "2021-11-18T06:38:04.527Z"
   },
   {
    "duration": 286,
    "start_time": "2025-02-24T02:06:44.595Z"
   },
   {
    "duration": 525,
    "start_time": "2025-02-24T02:10:41.040Z"
   },
   {
    "duration": 238,
    "start_time": "2025-02-24T02:10:52.482Z"
   },
   {
    "duration": 175,
    "start_time": "2025-02-24T02:10:59.680Z"
   },
   {
    "duration": 16,
    "start_time": "2025-02-24T02:15:04.218Z"
   },
   {
    "duration": 12,
    "start_time": "2025-02-24T02:15:21.752Z"
   },
   {
    "duration": 10,
    "start_time": "2025-02-24T02:15:37.963Z"
   },
   {
    "duration": 8,
    "start_time": "2025-02-24T02:15:42.850Z"
   },
   {
    "duration": 7,
    "start_time": "2025-02-24T02:15:53.543Z"
   },
   {
    "duration": 9,
    "start_time": "2025-02-24T02:22:09.309Z"
   },
   {
    "duration": 7,
    "start_time": "2025-02-24T02:22:15.716Z"
   },
   {
    "duration": 10,
    "start_time": "2025-02-24T02:23:07.611Z"
   },
   {
    "duration": 8,
    "start_time": "2025-02-24T02:23:25.675Z"
   },
   {
    "duration": 13,
    "start_time": "2025-02-24T02:26:41.667Z"
   },
   {
    "duration": 4,
    "start_time": "2025-02-24T02:26:51.408Z"
   },
   {
    "duration": 16,
    "start_time": "2025-02-24T02:30:57.405Z"
   },
   {
    "duration": 7,
    "start_time": "2025-02-24T02:31:25.109Z"
   },
   {
    "duration": 13,
    "start_time": "2025-02-24T02:33:19.629Z"
   },
   {
    "duration": 6,
    "start_time": "2025-02-24T02:33:33.687Z"
   },
   {
    "duration": 14,
    "start_time": "2025-02-24T02:34:01.598Z"
   },
   {
    "duration": 7,
    "start_time": "2025-02-24T02:34:12.985Z"
   },
   {
    "duration": 8,
    "start_time": "2025-02-24T02:47:01.159Z"
   },
   {
    "duration": 13,
    "start_time": "2025-02-24T02:47:59.583Z"
   },
   {
    "duration": 6,
    "start_time": "2025-02-24T02:48:12.823Z"
   },
   {
    "duration": 3,
    "start_time": "2025-02-24T02:54:39.431Z"
   },
   {
    "duration": 8,
    "start_time": "2025-02-24T02:54:53.643Z"
   },
   {
    "duration": 4,
    "start_time": "2025-02-24T03:06:50.410Z"
   },
   {
    "duration": 10,
    "start_time": "2025-02-24T03:07:03.901Z"
   },
   {
    "duration": 12,
    "start_time": "2025-02-24T03:09:59.906Z"
   },
   {
    "duration": 22,
    "start_time": "2025-02-24T03:10:11.138Z"
   },
   {
    "duration": 19,
    "start_time": "2025-02-24T03:10:27.601Z"
   },
   {
    "duration": 22,
    "start_time": "2025-02-24T03:10:42.697Z"
   },
   {
    "duration": 20,
    "start_time": "2025-02-24T03:10:53.111Z"
   },
   {
    "duration": 8,
    "start_time": "2025-02-24T03:15:43.445Z"
   },
   {
    "duration": 7,
    "start_time": "2025-02-24T03:15:58.308Z"
   },
   {
    "duration": 17,
    "start_time": "2025-02-24T03:16:21.474Z"
   },
   {
    "duration": 394,
    "start_time": "2025-02-24T03:19:33.773Z"
   },
   {
    "duration": 25,
    "start_time": "2025-02-24T03:20:21.463Z"
   },
   {
    "duration": 21,
    "start_time": "2025-02-24T03:26:50.172Z"
   },
   {
    "duration": 8,
    "start_time": "2025-02-24T03:33:29.666Z"
   },
   {
    "duration": 3,
    "start_time": "2025-02-24T03:34:04.755Z"
   },
   {
    "duration": 3,
    "start_time": "2025-02-24T03:34:40.523Z"
   },
   {
    "duration": 9,
    "start_time": "2025-02-24T03:35:38.896Z"
   },
   {
    "duration": 5,
    "start_time": "2025-02-24T03:39:42.491Z"
   },
   {
    "duration": 10,
    "start_time": "2025-02-24T03:40:33.222Z"
   },
   {
    "duration": 10,
    "start_time": "2025-02-24T03:40:41.098Z"
   },
   {
    "duration": 9,
    "start_time": "2025-02-24T03:41:05.154Z"
   },
   {
    "duration": 17,
    "start_time": "2025-02-24T03:45:43.189Z"
   },
   {
    "duration": 11,
    "start_time": "2025-02-24T03:49:31.641Z"
   },
   {
    "duration": 13,
    "start_time": "2025-02-24T03:50:47.949Z"
   },
   {
    "duration": 15,
    "start_time": "2025-02-24T03:53:49.601Z"
   },
   {
    "duration": 333,
    "start_time": "2025-02-24T03:54:28.723Z"
   },
   {
    "duration": 173,
    "start_time": "2025-02-24T03:54:29.058Z"
   },
   {
    "duration": 9,
    "start_time": "2025-02-24T03:54:29.233Z"
   },
   {
    "duration": 11,
    "start_time": "2025-02-24T03:54:29.244Z"
   },
   {
    "duration": 8,
    "start_time": "2025-02-24T03:54:29.258Z"
   },
   {
    "duration": 7,
    "start_time": "2025-02-24T03:54:29.268Z"
   },
   {
    "duration": 3,
    "start_time": "2025-02-24T03:54:29.276Z"
   },
   {
    "duration": 3,
    "start_time": "2025-02-24T03:54:29.281Z"
   },
   {
    "duration": 25,
    "start_time": "2025-02-24T03:54:29.286Z"
   },
   {
    "duration": 8,
    "start_time": "2025-02-24T03:54:29.314Z"
   },
   {
    "duration": 16,
    "start_time": "2025-02-24T03:54:29.323Z"
   },
   {
    "duration": 7,
    "start_time": "2025-02-24T03:54:29.341Z"
   },
   {
    "duration": 24,
    "start_time": "2025-02-24T03:54:29.350Z"
   },
   {
    "duration": 18,
    "start_time": "2025-02-24T03:54:29.406Z"
   },
   {
    "duration": 11,
    "start_time": "2025-02-24T03:54:29.425Z"
   },
   {
    "duration": 6,
    "start_time": "2025-02-24T03:54:29.438Z"
   },
   {
    "duration": 17,
    "start_time": "2025-02-24T03:54:29.445Z"
   },
   {
    "duration": 11,
    "start_time": "2025-02-24T03:54:29.464Z"
   },
   {
    "duration": 41,
    "start_time": "2025-02-24T03:54:29.477Z"
   },
   {
    "duration": 7,
    "start_time": "2025-02-24T03:54:29.520Z"
   },
   {
    "duration": 21,
    "start_time": "2025-02-24T03:54:29.529Z"
   },
   {
    "duration": 14,
    "start_time": "2025-02-24T03:54:29.552Z"
   },
   {
    "duration": 2,
    "start_time": "2025-02-24T03:54:29.568Z"
   },
   {
    "duration": 35,
    "start_time": "2025-02-24T03:54:29.572Z"
   },
   {
    "duration": 2,
    "start_time": "2025-02-24T03:54:29.609Z"
   },
   {
    "duration": 3,
    "start_time": "2025-02-24T03:54:29.613Z"
   },
   {
    "duration": 2,
    "start_time": "2025-02-24T03:54:29.618Z"
   },
   {
    "duration": 2,
    "start_time": "2025-02-24T03:54:29.624Z"
   },
   {
    "duration": 2,
    "start_time": "2025-02-24T03:54:29.628Z"
   },
   {
    "duration": 3,
    "start_time": "2025-02-24T03:54:29.632Z"
   },
   {
    "duration": 3,
    "start_time": "2025-02-24T03:54:29.636Z"
   },
   {
    "duration": 3,
    "start_time": "2025-02-24T03:54:29.641Z"
   },
   {
    "duration": 3,
    "start_time": "2025-02-24T03:54:29.645Z"
   },
   {
    "duration": 3,
    "start_time": "2025-02-24T03:54:29.649Z"
   },
   {
    "duration": 3,
    "start_time": "2025-02-24T03:54:29.654Z"
   },
   {
    "duration": 3,
    "start_time": "2025-02-24T03:54:29.658Z"
   },
   {
    "duration": 2,
    "start_time": "2025-02-24T03:54:29.707Z"
   },
   {
    "duration": 4,
    "start_time": "2025-02-24T03:54:29.711Z"
   },
   {
    "duration": 18,
    "start_time": "2025-02-24T03:55:48.666Z"
   },
   {
    "duration": 13,
    "start_time": "2025-02-24T03:56:15.456Z"
   },
   {
    "duration": 15,
    "start_time": "2025-02-24T03:56:30.132Z"
   },
   {
    "duration": 336,
    "start_time": "2025-02-24T03:57:05.234Z"
   },
   {
    "duration": 165,
    "start_time": "2025-02-24T03:57:05.572Z"
   },
   {
    "duration": 9,
    "start_time": "2025-02-24T03:57:05.739Z"
   },
   {
    "duration": 10,
    "start_time": "2025-02-24T03:57:05.751Z"
   },
   {
    "duration": 8,
    "start_time": "2025-02-24T03:57:05.763Z"
   },
   {
    "duration": 8,
    "start_time": "2025-02-24T03:57:05.773Z"
   },
   {
    "duration": 3,
    "start_time": "2025-02-24T03:57:05.805Z"
   },
   {
    "duration": 3,
    "start_time": "2025-02-24T03:57:05.810Z"
   },
   {
    "duration": 10,
    "start_time": "2025-02-24T03:57:05.816Z"
   },
   {
    "duration": 8,
    "start_time": "2025-02-24T03:57:05.829Z"
   },
   {
    "duration": 14,
    "start_time": "2025-02-24T03:57:05.839Z"
   },
   {
    "duration": 7,
    "start_time": "2025-02-24T03:57:05.854Z"
   },
   {
    "duration": 54,
    "start_time": "2025-02-24T03:57:05.862Z"
   },
   {
    "duration": 18,
    "start_time": "2025-02-24T03:57:05.918Z"
   },
   {
    "duration": 13,
    "start_time": "2025-02-24T03:57:05.938Z"
   },
   {
    "duration": 6,
    "start_time": "2025-02-24T03:57:05.953Z"
   },
   {
    "duration": 50,
    "start_time": "2025-02-24T03:57:05.961Z"
   },
   {
    "duration": 13,
    "start_time": "2025-02-24T03:57:06.012Z"
   },
   {
    "duration": 12,
    "start_time": "2025-02-24T03:57:06.027Z"
   },
   {
    "duration": 6,
    "start_time": "2025-02-24T03:57:06.041Z"
   },
   {
    "duration": 21,
    "start_time": "2025-02-24T03:57:06.048Z"
   },
   {
    "duration": 39,
    "start_time": "2025-02-24T03:57:06.071Z"
   },
   {
    "duration": 3,
    "start_time": "2025-02-24T03:57:06.111Z"
   },
   {
    "duration": 2,
    "start_time": "2025-02-24T03:57:06.116Z"
   },
   {
    "duration": 2,
    "start_time": "2025-02-24T03:57:06.121Z"
   },
   {
    "duration": 3,
    "start_time": "2025-02-24T03:57:06.125Z"
   },
   {
    "duration": 2,
    "start_time": "2025-02-24T03:57:06.130Z"
   },
   {
    "duration": 2,
    "start_time": "2025-02-24T03:57:06.137Z"
   },
   {
    "duration": 3,
    "start_time": "2025-02-24T03:57:06.141Z"
   },
   {
    "duration": 3,
    "start_time": "2025-02-24T03:57:06.145Z"
   },
   {
    "duration": 3,
    "start_time": "2025-02-24T03:57:06.149Z"
   },
   {
    "duration": 3,
    "start_time": "2025-02-24T03:57:06.154Z"
   },
   {
    "duration": 2,
    "start_time": "2025-02-24T03:57:06.159Z"
   },
   {
    "duration": 2,
    "start_time": "2025-02-24T03:57:06.206Z"
   },
   {
    "duration": 2,
    "start_time": "2025-02-24T03:57:06.210Z"
   },
   {
    "duration": 3,
    "start_time": "2025-02-24T03:57:06.214Z"
   },
   {
    "duration": 2,
    "start_time": "2025-02-24T03:57:06.219Z"
   },
   {
    "duration": 2,
    "start_time": "2025-02-24T03:57:06.223Z"
   },
   {
    "duration": 13,
    "start_time": "2025-02-24T04:00:45.496Z"
   },
   {
    "duration": 305,
    "start_time": "2025-02-24T04:02:17.755Z"
   },
   {
    "duration": 163,
    "start_time": "2025-02-24T04:02:18.062Z"
   },
   {
    "duration": 9,
    "start_time": "2025-02-24T04:02:18.227Z"
   },
   {
    "duration": 11,
    "start_time": "2025-02-24T04:02:18.238Z"
   },
   {
    "duration": 8,
    "start_time": "2025-02-24T04:02:18.250Z"
   },
   {
    "duration": 7,
    "start_time": "2025-02-24T04:02:18.260Z"
   },
   {
    "duration": 3,
    "start_time": "2025-02-24T04:02:18.268Z"
   },
   {
    "duration": 3,
    "start_time": "2025-02-24T04:02:18.273Z"
   },
   {
    "duration": 33,
    "start_time": "2025-02-24T04:02:18.278Z"
   },
   {
    "duration": 8,
    "start_time": "2025-02-24T04:02:18.314Z"
   },
   {
    "duration": 15,
    "start_time": "2025-02-24T04:02:18.324Z"
   },
   {
    "duration": 6,
    "start_time": "2025-02-24T04:02:18.341Z"
   },
   {
    "duration": 25,
    "start_time": "2025-02-24T04:02:18.348Z"
   },
   {
    "duration": 46,
    "start_time": "2025-02-24T04:02:18.374Z"
   },
   {
    "duration": 11,
    "start_time": "2025-02-24T04:02:18.422Z"
   },
   {
    "duration": 6,
    "start_time": "2025-02-24T04:02:18.435Z"
   },
   {
    "duration": 17,
    "start_time": "2025-02-24T04:02:18.443Z"
   },
   {
    "duration": 12,
    "start_time": "2025-02-24T04:02:18.461Z"
   },
   {
    "duration": 14,
    "start_time": "2025-02-24T04:02:18.505Z"
   },
   {
    "duration": 6,
    "start_time": "2025-02-24T04:02:18.521Z"
   },
   {
    "duration": 21,
    "start_time": "2025-02-24T04:02:18.529Z"
   },
   {
    "duration": 15,
    "start_time": "2025-02-24T04:02:18.551Z"
   },
   {
    "duration": 3,
    "start_time": "2025-02-24T04:02:18.567Z"
   },
   {
    "duration": 34,
    "start_time": "2025-02-24T04:02:18.572Z"
   },
   {
    "duration": 3,
    "start_time": "2025-02-24T04:02:18.608Z"
   },
   {
    "duration": 3,
    "start_time": "2025-02-24T04:02:18.612Z"
   },
   {
    "duration": 2,
    "start_time": "2025-02-24T04:02:18.618Z"
   },
   {
    "duration": 3,
    "start_time": "2025-02-24T04:02:18.624Z"
   },
   {
    "duration": 2,
    "start_time": "2025-02-24T04:02:18.629Z"
   },
   {
    "duration": 3,
    "start_time": "2025-02-24T04:02:18.633Z"
   },
   {
    "duration": 3,
    "start_time": "2025-02-24T04:02:18.637Z"
   },
   {
    "duration": 3,
    "start_time": "2025-02-24T04:02:18.642Z"
   },
   {
    "duration": 2,
    "start_time": "2025-02-24T04:02:18.647Z"
   },
   {
    "duration": 4,
    "start_time": "2025-02-24T04:02:18.650Z"
   },
   {
    "duration": 3,
    "start_time": "2025-02-24T04:02:18.655Z"
   },
   {
    "duration": 2,
    "start_time": "2025-02-24T04:02:18.660Z"
   },
   {
    "duration": 41,
    "start_time": "2025-02-24T04:02:18.664Z"
   },
   {
    "duration": 1,
    "start_time": "2025-02-24T04:02:18.707Z"
   },
   {
    "duration": 155,
    "start_time": "2025-02-24T20:59:30.682Z"
   },
   {
    "duration": 296,
    "start_time": "2025-02-24T20:59:57.502Z"
   },
   {
    "duration": 214,
    "start_time": "2025-02-24T20:59:57.801Z"
   },
   {
    "duration": 13,
    "start_time": "2025-02-24T20:59:58.018Z"
   },
   {
    "duration": 11,
    "start_time": "2025-02-24T20:59:58.034Z"
   },
   {
    "duration": 8,
    "start_time": "2025-02-24T20:59:58.046Z"
   },
   {
    "duration": 8,
    "start_time": "2025-02-24T20:59:58.637Z"
   },
   {
    "duration": 4,
    "start_time": "2025-02-24T20:59:58.647Z"
   },
   {
    "duration": 4,
    "start_time": "2025-02-24T20:59:58.652Z"
   },
   {
    "duration": 9,
    "start_time": "2025-02-24T20:59:58.657Z"
   },
   {
    "duration": 8,
    "start_time": "2025-02-24T20:59:58.669Z"
   },
   {
    "duration": 15,
    "start_time": "2025-02-24T20:59:58.679Z"
   },
   {
    "duration": 30,
    "start_time": "2025-02-24T20:59:58.695Z"
   },
   {
    "duration": 25,
    "start_time": "2025-02-24T20:59:58.726Z"
   },
   {
    "duration": 16,
    "start_time": "2025-02-24T20:59:58.753Z"
   },
   {
    "duration": 13,
    "start_time": "2025-02-24T20:59:58.770Z"
   },
   {
    "duration": 7,
    "start_time": "2025-02-24T20:59:58.784Z"
   },
   {
    "duration": 46,
    "start_time": "2025-02-24T20:59:58.793Z"
   },
   {
    "duration": 12,
    "start_time": "2025-02-24T20:59:58.840Z"
   },
   {
    "duration": 13,
    "start_time": "2025-02-24T20:59:58.856Z"
   },
   {
    "duration": 8,
    "start_time": "2025-02-24T20:59:58.871Z"
   },
   {
    "duration": 45,
    "start_time": "2025-02-24T20:59:58.882Z"
   },
   {
    "duration": 14,
    "start_time": "2025-02-24T20:59:58.929Z"
   },
   {
    "duration": 8,
    "start_time": "2025-02-24T20:59:58.944Z"
   },
   {
    "duration": 3,
    "start_time": "2025-02-24T20:59:58.953Z"
   },
   {
    "duration": 3,
    "start_time": "2025-02-24T20:59:58.958Z"
   },
   {
    "duration": 3,
    "start_time": "2025-02-24T20:59:58.962Z"
   },
   {
    "duration": 4,
    "start_time": "2025-02-24T20:59:58.966Z"
   },
   {
    "duration": 3,
    "start_time": "2025-02-24T20:59:58.971Z"
   },
   {
    "duration": 3,
    "start_time": "2025-02-24T20:59:58.976Z"
   },
   {
    "duration": 4,
    "start_time": "2025-02-24T20:59:58.980Z"
   },
   {
    "duration": 39,
    "start_time": "2025-02-24T20:59:58.985Z"
   },
   {
    "duration": 4,
    "start_time": "2025-02-24T20:59:59.025Z"
   },
   {
    "duration": 3,
    "start_time": "2025-02-24T20:59:59.030Z"
   },
   {
    "duration": 3,
    "start_time": "2025-02-24T20:59:59.035Z"
   },
   {
    "duration": 3,
    "start_time": "2025-02-24T20:59:59.039Z"
   },
   {
    "duration": 4,
    "start_time": "2025-02-24T20:59:59.043Z"
   },
   {
    "duration": 4,
    "start_time": "2025-02-24T20:59:59.048Z"
   },
   {
    "duration": 3,
    "start_time": "2025-02-24T20:59:59.053Z"
   },
   {
    "duration": 7,
    "start_time": "2025-02-24T21:00:11.779Z"
   },
   {
    "duration": 7,
    "start_time": "2025-02-24T21:03:28.985Z"
   },
   {
    "duration": 22,
    "start_time": "2025-02-24T21:05:14.817Z"
   },
   {
    "duration": 6,
    "start_time": "2025-02-24T21:06:41.159Z"
   },
   {
    "duration": 334,
    "start_time": "2025-02-24T23:21:41.228Z"
   },
   {
    "duration": 227,
    "start_time": "2025-02-24T23:21:41.564Z"
   },
   {
    "duration": 9,
    "start_time": "2025-02-24T23:21:41.793Z"
   },
   {
    "duration": 13,
    "start_time": "2025-02-24T23:21:41.804Z"
   },
   {
    "duration": 8,
    "start_time": "2025-02-24T23:21:41.819Z"
   },
   {
    "duration": 8,
    "start_time": "2025-02-24T23:21:41.829Z"
   },
   {
    "duration": 3,
    "start_time": "2025-02-24T23:21:41.839Z"
   },
   {
    "duration": 4,
    "start_time": "2025-02-24T23:21:41.843Z"
   },
   {
    "duration": 8,
    "start_time": "2025-02-24T23:21:41.849Z"
   },
   {
    "duration": 9,
    "start_time": "2025-02-24T23:21:41.860Z"
   },
   {
    "duration": 14,
    "start_time": "2025-02-24T23:21:41.871Z"
   },
   {
    "duration": 39,
    "start_time": "2025-02-24T23:21:41.887Z"
   },
   {
    "duration": 25,
    "start_time": "2025-02-24T23:21:41.927Z"
   },
   {
    "duration": 16,
    "start_time": "2025-02-24T23:21:41.953Z"
   },
   {
    "duration": 11,
    "start_time": "2025-02-24T23:21:41.971Z"
   },
   {
    "duration": 6,
    "start_time": "2025-02-24T23:21:41.983Z"
   },
   {
    "duration": 50,
    "start_time": "2025-02-24T23:21:41.990Z"
   },
   {
    "duration": 13,
    "start_time": "2025-02-24T23:21:42.042Z"
   },
   {
    "duration": 13,
    "start_time": "2025-02-24T23:21:42.056Z"
   },
   {
    "duration": 7,
    "start_time": "2025-02-24T23:21:42.070Z"
   },
   {
    "duration": 50,
    "start_time": "2025-02-24T23:21:42.078Z"
   },
   {
    "duration": 14,
    "start_time": "2025-02-24T23:21:42.130Z"
   },
   {
    "duration": 6,
    "start_time": "2025-02-24T23:21:42.146Z"
   },
   {
    "duration": 6,
    "start_time": "2025-02-24T23:21:42.154Z"
   },
   {
    "duration": 3,
    "start_time": "2025-02-24T23:21:42.162Z"
   },
   {
    "duration": 2,
    "start_time": "2025-02-24T23:21:42.167Z"
   },
   {
    "duration": 3,
    "start_time": "2025-02-24T23:21:42.171Z"
   },
   {
    "duration": 2,
    "start_time": "2025-02-24T23:21:42.178Z"
   },
   {
    "duration": 3,
    "start_time": "2025-02-24T23:21:42.181Z"
   },
   {
    "duration": 40,
    "start_time": "2025-02-24T23:21:42.186Z"
   },
   {
    "duration": 3,
    "start_time": "2025-02-24T23:21:42.227Z"
   },
   {
    "duration": 3,
    "start_time": "2025-02-24T23:21:42.232Z"
   },
   {
    "duration": 4,
    "start_time": "2025-02-24T23:21:42.236Z"
   },
   {
    "duration": 3,
    "start_time": "2025-02-24T23:21:42.241Z"
   },
   {
    "duration": 3,
    "start_time": "2025-02-24T23:21:42.246Z"
   },
   {
    "duration": 3,
    "start_time": "2025-02-24T23:21:42.250Z"
   },
   {
    "duration": 2,
    "start_time": "2025-02-24T23:21:42.255Z"
   },
   {
    "duration": 3,
    "start_time": "2025-02-24T23:21:42.259Z"
   },
   {
    "duration": 7,
    "start_time": "2025-02-24T23:33:03.244Z"
   },
   {
    "duration": 9,
    "start_time": "2025-02-24T23:33:14.508Z"
   },
   {
    "duration": 18,
    "start_time": "2025-02-24T23:33:39.505Z"
   },
   {
    "duration": 20,
    "start_time": "2025-02-24T23:34:35.693Z"
   },
   {
    "duration": 15,
    "start_time": "2025-02-24T23:36:02.707Z"
   },
   {
    "duration": 7,
    "start_time": "2025-02-24T23:37:51.045Z"
   },
   {
    "duration": 14,
    "start_time": "2025-02-24T23:41:13.015Z"
   },
   {
    "duration": 15,
    "start_time": "2025-02-24T23:45:33.161Z"
   },
   {
    "duration": 180,
    "start_time": "2025-02-24T23:46:17.720Z"
   },
   {
    "duration": 8,
    "start_time": "2025-02-24T23:46:25.378Z"
   },
   {
    "duration": 5,
    "start_time": "2025-02-24T23:46:36.771Z"
   },
   {
    "duration": 6,
    "start_time": "2025-02-24T23:47:23.758Z"
   },
   {
    "duration": 8,
    "start_time": "2025-02-24T23:47:50.579Z"
   },
   {
    "duration": 6,
    "start_time": "2025-02-24T23:49:52.257Z"
   },
   {
    "duration": 8,
    "start_time": "2025-02-24T23:50:40.245Z"
   },
   {
    "duration": 12,
    "start_time": "2025-02-24T23:51:00.255Z"
   },
   {
    "duration": 8,
    "start_time": "2025-02-24T23:51:11.285Z"
   },
   {
    "duration": 5,
    "start_time": "2025-02-24T23:53:08.224Z"
   },
   {
    "duration": 7,
    "start_time": "2025-02-24T23:53:20.826Z"
   },
   {
    "duration": 10,
    "start_time": "2025-02-24T23:54:36.473Z"
   },
   {
    "duration": 15,
    "start_time": "2025-02-24T23:55:45.286Z"
   },
   {
    "duration": 7,
    "start_time": "2025-02-24T23:58:43.276Z"
   },
   {
    "duration": 8,
    "start_time": "2025-02-25T00:00:09.737Z"
   },
   {
    "duration": 6,
    "start_time": "2025-02-25T00:00:15.501Z"
   },
   {
    "duration": 14,
    "start_time": "2025-02-25T00:05:15.151Z"
   },
   {
    "duration": 11,
    "start_time": "2025-02-25T00:05:20.091Z"
   },
   {
    "duration": 6,
    "start_time": "2025-02-25T00:32:39.278Z"
   },
   {
    "duration": 5,
    "start_time": "2025-02-25T00:33:05.793Z"
   },
   {
    "duration": 5,
    "start_time": "2025-02-25T00:33:43.102Z"
   },
   {
    "duration": 316,
    "start_time": "2025-02-25T00:35:13.525Z"
   },
   {
    "duration": 162,
    "start_time": "2025-02-25T00:35:13.844Z"
   },
   {
    "duration": 9,
    "start_time": "2025-02-25T00:35:14.008Z"
   },
   {
    "duration": 11,
    "start_time": "2025-02-25T00:35:14.024Z"
   },
   {
    "duration": 8,
    "start_time": "2025-02-25T00:35:14.038Z"
   },
   {
    "duration": 7,
    "start_time": "2025-02-25T00:35:14.048Z"
   },
   {
    "duration": 3,
    "start_time": "2025-02-25T00:35:14.057Z"
   },
   {
    "duration": 3,
    "start_time": "2025-02-25T00:35:14.062Z"
   },
   {
    "duration": 8,
    "start_time": "2025-02-25T00:35:14.067Z"
   },
   {
    "duration": 9,
    "start_time": "2025-02-25T00:35:14.077Z"
   },
   {
    "duration": 54,
    "start_time": "2025-02-25T00:35:14.087Z"
   },
   {
    "duration": 7,
    "start_time": "2025-02-25T00:35:14.143Z"
   },
   {
    "duration": 26,
    "start_time": "2025-02-25T00:35:14.151Z"
   },
   {
    "duration": 17,
    "start_time": "2025-02-25T00:35:14.182Z"
   },
   {
    "duration": 11,
    "start_time": "2025-02-25T00:35:14.224Z"
   },
   {
    "duration": 6,
    "start_time": "2025-02-25T00:35:14.237Z"
   },
   {
    "duration": 17,
    "start_time": "2025-02-25T00:35:14.244Z"
   },
   {
    "duration": 12,
    "start_time": "2025-02-25T00:35:14.262Z"
   },
   {
    "duration": 14,
    "start_time": "2025-02-25T00:35:14.275Z"
   },
   {
    "duration": 42,
    "start_time": "2025-02-25T00:35:14.290Z"
   },
   {
    "duration": 23,
    "start_time": "2025-02-25T00:35:14.334Z"
   },
   {
    "duration": 14,
    "start_time": "2025-02-25T00:35:14.359Z"
   },
   {
    "duration": 7,
    "start_time": "2025-02-25T00:35:14.375Z"
   },
   {
    "duration": 302,
    "start_time": "2025-02-25T00:35:14.384Z"
   },
   {
    "duration": 0,
    "start_time": "2025-02-25T00:35:14.688Z"
   },
   {
    "duration": 0,
    "start_time": "2025-02-25T00:35:14.689Z"
   },
   {
    "duration": 0,
    "start_time": "2025-02-25T00:35:14.690Z"
   },
   {
    "duration": 0,
    "start_time": "2025-02-25T00:35:14.690Z"
   },
   {
    "duration": 0,
    "start_time": "2025-02-25T00:35:14.691Z"
   },
   {
    "duration": 0,
    "start_time": "2025-02-25T00:35:14.692Z"
   },
   {
    "duration": 0,
    "start_time": "2025-02-25T00:35:14.693Z"
   },
   {
    "duration": 0,
    "start_time": "2025-02-25T00:35:14.694Z"
   },
   {
    "duration": 0,
    "start_time": "2025-02-25T00:35:14.694Z"
   },
   {
    "duration": 0,
    "start_time": "2025-02-25T00:35:14.695Z"
   },
   {
    "duration": 0,
    "start_time": "2025-02-25T00:35:14.696Z"
   },
   {
    "duration": 0,
    "start_time": "2025-02-25T00:35:14.698Z"
   },
   {
    "duration": 0,
    "start_time": "2025-02-25T00:35:14.699Z"
   },
   {
    "duration": 0,
    "start_time": "2025-02-25T00:35:14.700Z"
   },
   {
    "duration": 7,
    "start_time": "2025-02-25T00:35:39.078Z"
   },
   {
    "duration": 14,
    "start_time": "2025-02-25T00:35:47.079Z"
   },
   {
    "duration": 5,
    "start_time": "2025-02-25T00:35:53.109Z"
   },
   {
    "duration": 12,
    "start_time": "2025-02-25T00:35:58.298Z"
   },
   {
    "duration": 13,
    "start_time": "2025-02-25T00:36:25.176Z"
   },
   {
    "duration": 11,
    "start_time": "2025-02-25T00:36:56.656Z"
   },
   {
    "duration": 12,
    "start_time": "2025-02-25T00:37:17.887Z"
   },
   {
    "duration": 11,
    "start_time": "2025-02-25T00:37:30.342Z"
   },
   {
    "duration": 10,
    "start_time": "2025-02-25T00:37:42.688Z"
   },
   {
    "duration": 7,
    "start_time": "2025-02-25T00:38:05.652Z"
   },
   {
    "duration": 9,
    "start_time": "2025-02-25T00:41:19.859Z"
   },
   {
    "duration": 15,
    "start_time": "2025-02-25T00:41:29.946Z"
   },
   {
    "duration": 7,
    "start_time": "2025-02-25T00:41:36.559Z"
   },
   {
    "duration": 14,
    "start_time": "2025-02-25T00:41:44.753Z"
   },
   {
    "duration": 10,
    "start_time": "2025-02-25T00:42:10.335Z"
   },
   {
    "duration": 14,
    "start_time": "2025-02-25T00:42:57.312Z"
   },
   {
    "duration": 13,
    "start_time": "2025-02-25T00:43:24.358Z"
   },
   {
    "duration": 15,
    "start_time": "2025-02-25T00:43:28.893Z"
   },
   {
    "duration": 15,
    "start_time": "2025-02-25T00:43:40.117Z"
   },
   {
    "duration": 16,
    "start_time": "2025-02-25T00:45:36.889Z"
   },
   {
    "duration": 17,
    "start_time": "2025-02-25T00:45:42.920Z"
   },
   {
    "duration": 17,
    "start_time": "2025-02-25T00:46:17.190Z"
   },
   {
    "duration": 20,
    "start_time": "2025-02-25T00:47:47.449Z"
   },
   {
    "duration": 11,
    "start_time": "2025-02-25T00:48:03.116Z"
   },
   {
    "duration": 17,
    "start_time": "2025-02-25T00:48:13.917Z"
   },
   {
    "duration": 16,
    "start_time": "2025-02-25T00:51:39.904Z"
   },
   {
    "duration": 13,
    "start_time": "2025-02-25T00:53:13.338Z"
   },
   {
    "duration": 16,
    "start_time": "2025-02-25T00:54:01.890Z"
   },
   {
    "duration": 36,
    "start_time": "2025-02-25T00:54:13.862Z"
   },
   {
    "duration": 16,
    "start_time": "2025-02-25T00:54:20.405Z"
   },
   {
    "duration": 13,
    "start_time": "2025-02-25T00:54:26.632Z"
   },
   {
    "duration": 15,
    "start_time": "2025-02-25T00:55:15.807Z"
   },
   {
    "duration": 15,
    "start_time": "2025-02-25T00:57:46.789Z"
   },
   {
    "duration": 15,
    "start_time": "2025-02-25T00:57:56.729Z"
   },
   {
    "duration": 13,
    "start_time": "2025-02-25T00:58:23.987Z"
   },
   {
    "duration": 11,
    "start_time": "2025-02-25T00:59:08.340Z"
   },
   {
    "duration": 14,
    "start_time": "2025-02-25T01:00:06.151Z"
   },
   {
    "duration": 14,
    "start_time": "2025-02-25T01:00:11.429Z"
   },
   {
    "duration": 14,
    "start_time": "2025-02-25T01:00:18.340Z"
   },
   {
    "duration": 13,
    "start_time": "2025-02-25T01:00:22.559Z"
   },
   {
    "duration": 13,
    "start_time": "2025-02-25T01:00:39.795Z"
   },
   {
    "duration": 15,
    "start_time": "2025-02-25T01:00:58.590Z"
   },
   {
    "duration": 17,
    "start_time": "2025-02-25T01:02:03.067Z"
   },
   {
    "duration": 16,
    "start_time": "2025-02-25T01:02:40.007Z"
   },
   {
    "duration": 16,
    "start_time": "2025-02-25T01:02:57.277Z"
   },
   {
    "duration": 16,
    "start_time": "2025-02-25T01:03:25.751Z"
   },
   {
    "duration": 14,
    "start_time": "2025-02-25T01:03:37.339Z"
   },
   {
    "duration": 13,
    "start_time": "2025-02-25T01:03:45.718Z"
   },
   {
    "duration": 15,
    "start_time": "2025-02-25T01:03:54.173Z"
   },
   {
    "duration": 14,
    "start_time": "2025-02-25T01:03:58.710Z"
   },
   {
    "duration": 17,
    "start_time": "2025-02-25T01:10:34.025Z"
   },
   {
    "duration": 16,
    "start_time": "2025-02-25T01:12:21.622Z"
   },
   {
    "duration": 18,
    "start_time": "2025-02-25T01:13:33.800Z"
   },
   {
    "duration": 16,
    "start_time": "2025-02-25T01:18:07.038Z"
   },
   {
    "duration": 14,
    "start_time": "2025-02-25T01:18:14.041Z"
   },
   {
    "duration": 19,
    "start_time": "2025-02-25T01:18:27.667Z"
   },
   {
    "duration": 17,
    "start_time": "2025-02-25T01:18:34.042Z"
   },
   {
    "duration": 24,
    "start_time": "2025-02-25T01:21:48.262Z"
   },
   {
    "duration": 18,
    "start_time": "2025-02-25T01:22:21.316Z"
   },
   {
    "duration": 17,
    "start_time": "2025-02-25T01:22:52.529Z"
   },
   {
    "duration": 17,
    "start_time": "2025-02-25T01:23:00.889Z"
   },
   {
    "duration": 17,
    "start_time": "2025-02-25T01:23:03.715Z"
   },
   {
    "duration": 19,
    "start_time": "2025-02-25T01:23:04.602Z"
   },
   {
    "duration": 18,
    "start_time": "2025-02-25T01:23:05.328Z"
   },
   {
    "duration": 17,
    "start_time": "2025-02-25T01:23:06.307Z"
   },
   {
    "duration": 18,
    "start_time": "2025-02-25T01:23:07.013Z"
   },
   {
    "duration": 18,
    "start_time": "2025-02-25T01:23:07.767Z"
   },
   {
    "duration": 17,
    "start_time": "2025-02-25T01:23:21.588Z"
   },
   {
    "duration": 306,
    "start_time": "2025-02-25T03:54:54.469Z"
   },
   {
    "duration": 208,
    "start_time": "2025-02-25T03:54:54.778Z"
   },
   {
    "duration": 10,
    "start_time": "2025-02-25T03:54:54.988Z"
   },
   {
    "duration": 10,
    "start_time": "2025-02-25T03:54:55.000Z"
   },
   {
    "duration": 11,
    "start_time": "2025-02-25T03:54:55.014Z"
   },
   {
    "duration": 10,
    "start_time": "2025-02-25T03:54:55.027Z"
   },
   {
    "duration": 5,
    "start_time": "2025-02-25T03:54:55.038Z"
   },
   {
    "duration": 4,
    "start_time": "2025-02-25T03:54:55.044Z"
   },
   {
    "duration": 8,
    "start_time": "2025-02-25T03:54:55.049Z"
   },
   {
    "duration": 8,
    "start_time": "2025-02-25T03:54:55.061Z"
   },
   {
    "duration": 42,
    "start_time": "2025-02-25T03:54:55.070Z"
   },
   {
    "duration": 7,
    "start_time": "2025-02-25T03:54:55.113Z"
   },
   {
    "duration": 26,
    "start_time": "2025-02-25T03:54:55.122Z"
   },
   {
    "duration": 16,
    "start_time": "2025-02-25T03:54:55.150Z"
   },
   {
    "duration": 11,
    "start_time": "2025-02-25T03:54:55.168Z"
   },
   {
    "duration": 33,
    "start_time": "2025-02-25T03:54:55.180Z"
   },
   {
    "duration": 18,
    "start_time": "2025-02-25T03:54:55.215Z"
   },
   {
    "duration": 12,
    "start_time": "2025-02-25T03:54:55.234Z"
   },
   {
    "duration": 13,
    "start_time": "2025-02-25T03:54:55.247Z"
   },
   {
    "duration": 6,
    "start_time": "2025-02-25T03:54:55.262Z"
   },
   {
    "duration": 55,
    "start_time": "2025-02-25T03:54:55.270Z"
   },
   {
    "duration": 14,
    "start_time": "2025-02-25T03:54:55.326Z"
   },
   {
    "duration": 7,
    "start_time": "2025-02-25T03:54:55.342Z"
   },
   {
    "duration": 16,
    "start_time": "2025-02-25T03:54:55.351Z"
   },
   {
    "duration": 16,
    "start_time": "2025-02-25T03:54:55.368Z"
   },
   {
    "duration": 38,
    "start_time": "2025-02-25T03:54:55.385Z"
   },
   {
    "duration": 12,
    "start_time": "2025-02-25T03:54:55.424Z"
   },
   {
    "duration": 20,
    "start_time": "2025-02-25T03:54:55.440Z"
   },
   {
    "duration": 2,
    "start_time": "2025-02-25T03:54:55.462Z"
   },
   {
    "duration": 5,
    "start_time": "2025-02-25T03:54:55.466Z"
   },
   {
    "duration": 3,
    "start_time": "2025-02-25T03:54:55.472Z"
   },
   {
    "duration": 35,
    "start_time": "2025-02-25T03:54:55.477Z"
   },
   {
    "duration": 2,
    "start_time": "2025-02-25T03:54:55.513Z"
   },
   {
    "duration": 3,
    "start_time": "2025-02-25T03:54:55.517Z"
   },
   {
    "duration": 3,
    "start_time": "2025-02-25T03:54:55.522Z"
   },
   {
    "duration": 3,
    "start_time": "2025-02-25T03:54:55.527Z"
   },
   {
    "duration": 2,
    "start_time": "2025-02-25T03:54:55.532Z"
   },
   {
    "duration": 3,
    "start_time": "2025-02-25T03:54:55.536Z"
   },
   {
    "duration": 8,
    "start_time": "2025-02-25T04:04:43.788Z"
   },
   {
    "duration": 7,
    "start_time": "2025-02-25T04:04:50.867Z"
   },
   {
    "duration": 9,
    "start_time": "2025-02-25T04:08:34.555Z"
   },
   {
    "duration": 115,
    "start_time": "2025-02-25T04:20:41.859Z"
   },
   {
    "duration": 8,
    "start_time": "2025-02-25T04:21:22.421Z"
   },
   {
    "duration": 196,
    "start_time": "2025-02-25T04:21:33.939Z"
   },
   {
    "duration": 6,
    "start_time": "2025-02-25T04:21:47.363Z"
   },
   {
    "duration": 17,
    "start_time": "2025-02-25T04:22:22.625Z"
   },
   {
    "duration": 4,
    "start_time": "2025-02-25T04:25:18.764Z"
   },
   {
    "duration": 9,
    "start_time": "2025-02-25T04:25:32.966Z"
   },
   {
    "duration": 10,
    "start_time": "2025-02-25T04:25:47.448Z"
   },
   {
    "duration": 12,
    "start_time": "2025-02-25T04:29:12.100Z"
   },
   {
    "duration": 9,
    "start_time": "2025-02-25T04:29:19.707Z"
   },
   {
    "duration": 13,
    "start_time": "2025-02-25T04:32:02.277Z"
   },
   {
    "duration": 7,
    "start_time": "2025-02-25T04:32:58.710Z"
   },
   {
    "duration": 17,
    "start_time": "2025-02-25T04:33:44.849Z"
   },
   {
    "duration": 6,
    "start_time": "2025-02-25T04:34:03.640Z"
   },
   {
    "duration": 6,
    "start_time": "2025-02-25T04:37:51.172Z"
   },
   {
    "duration": 5,
    "start_time": "2025-02-25T04:38:34.398Z"
   },
   {
    "duration": 18,
    "start_time": "2025-02-25T04:38:56.313Z"
   },
   {
    "duration": 7,
    "start_time": "2025-02-25T04:39:54.637Z"
   },
   {
    "duration": 17,
    "start_time": "2025-02-25T04:41:37.135Z"
   },
   {
    "duration": 20,
    "start_time": "2025-02-25T04:41:57.271Z"
   },
   {
    "duration": 17,
    "start_time": "2025-02-25T04:41:59.370Z"
   },
   {
    "duration": 17,
    "start_time": "2025-02-25T04:42:00.711Z"
   },
   {
    "duration": 304,
    "start_time": "2025-02-25T04:42:26.108Z"
   },
   {
    "duration": 177,
    "start_time": "2025-02-25T04:42:26.414Z"
   },
   {
    "duration": 10,
    "start_time": "2025-02-25T04:42:26.593Z"
   },
   {
    "duration": 13,
    "start_time": "2025-02-25T04:42:26.606Z"
   },
   {
    "duration": 8,
    "start_time": "2025-02-25T04:42:26.621Z"
   },
   {
    "duration": 9,
    "start_time": "2025-02-25T04:42:26.630Z"
   },
   {
    "duration": 3,
    "start_time": "2025-02-25T04:42:26.640Z"
   },
   {
    "duration": 4,
    "start_time": "2025-02-25T04:42:26.645Z"
   },
   {
    "duration": 9,
    "start_time": "2025-02-25T04:42:26.650Z"
   },
   {
    "duration": 9,
    "start_time": "2025-02-25T04:42:26.662Z"
   },
   {
    "duration": 50,
    "start_time": "2025-02-25T04:42:26.673Z"
   },
   {
    "duration": 6,
    "start_time": "2025-02-25T04:42:26.725Z"
   },
   {
    "duration": 35,
    "start_time": "2025-02-25T04:42:26.733Z"
   },
   {
    "duration": 20,
    "start_time": "2025-02-25T04:42:26.769Z"
   },
   {
    "duration": 30,
    "start_time": "2025-02-25T04:42:26.791Z"
   },
   {
    "duration": 8,
    "start_time": "2025-02-25T04:42:26.823Z"
   },
   {
    "duration": 22,
    "start_time": "2025-02-25T04:42:26.833Z"
   },
   {
    "duration": 11,
    "start_time": "2025-02-25T04:42:26.857Z"
   },
   {
    "duration": 14,
    "start_time": "2025-02-25T04:42:26.870Z"
   },
   {
    "duration": 31,
    "start_time": "2025-02-25T04:42:26.885Z"
   },
   {
    "duration": 21,
    "start_time": "2025-02-25T04:42:26.918Z"
   },
   {
    "duration": 15,
    "start_time": "2025-02-25T04:42:26.941Z"
   },
   {
    "duration": 8,
    "start_time": "2025-02-25T04:42:26.957Z"
   },
   {
    "duration": 46,
    "start_time": "2025-02-25T04:42:26.967Z"
   },
   {
    "duration": 16,
    "start_time": "2025-02-25T04:42:27.015Z"
   },
   {
    "duration": 13,
    "start_time": "2025-02-25T04:42:27.033Z"
   },
   {
    "duration": 11,
    "start_time": "2025-02-25T04:42:27.049Z"
   },
   {
    "duration": 16,
    "start_time": "2025-02-25T04:42:27.065Z"
   },
   {
    "duration": 39,
    "start_time": "2025-02-25T04:42:27.083Z"
   },
   {
    "duration": 2,
    "start_time": "2025-02-25T04:42:27.124Z"
   },
   {
    "duration": 2,
    "start_time": "2025-02-25T04:42:27.128Z"
   },
   {
    "duration": 2,
    "start_time": "2025-02-25T04:42:27.132Z"
   },
   {
    "duration": 3,
    "start_time": "2025-02-25T04:42:27.136Z"
   },
   {
    "duration": 4,
    "start_time": "2025-02-25T04:42:27.140Z"
   },
   {
    "duration": 3,
    "start_time": "2025-02-25T04:42:27.145Z"
   },
   {
    "duration": 3,
    "start_time": "2025-02-25T04:42:27.150Z"
   },
   {
    "duration": 3,
    "start_time": "2025-02-25T04:42:27.154Z"
   },
   {
    "duration": 3,
    "start_time": "2025-02-25T04:42:27.158Z"
   },
   {
    "duration": 12,
    "start_time": "2025-02-25T04:42:53.869Z"
   },
   {
    "duration": 11,
    "start_time": "2025-02-25T04:43:02.079Z"
   },
   {
    "duration": 13,
    "start_time": "2025-02-25T04:43:26.724Z"
   },
   {
    "duration": 14,
    "start_time": "2025-02-25T04:43:36.415Z"
   },
   {
    "duration": 293,
    "start_time": "2025-02-25T04:43:56.394Z"
   },
   {
    "duration": 176,
    "start_time": "2025-02-25T04:43:56.690Z"
   },
   {
    "duration": 10,
    "start_time": "2025-02-25T04:43:56.868Z"
   },
   {
    "duration": 14,
    "start_time": "2025-02-25T04:43:56.880Z"
   },
   {
    "duration": 19,
    "start_time": "2025-02-25T04:43:56.895Z"
   },
   {
    "duration": 10,
    "start_time": "2025-02-25T04:43:56.915Z"
   },
   {
    "duration": 3,
    "start_time": "2025-02-25T04:43:56.927Z"
   },
   {
    "duration": 4,
    "start_time": "2025-02-25T04:43:56.931Z"
   },
   {
    "duration": 9,
    "start_time": "2025-02-25T04:43:56.937Z"
   },
   {
    "duration": 10,
    "start_time": "2025-02-25T04:43:56.949Z"
   },
   {
    "duration": 51,
    "start_time": "2025-02-25T04:43:56.961Z"
   },
   {
    "duration": 9,
    "start_time": "2025-02-25T04:43:57.014Z"
   },
   {
    "duration": 37,
    "start_time": "2025-02-25T04:43:57.024Z"
   },
   {
    "duration": 20,
    "start_time": "2025-02-25T04:43:57.062Z"
   },
   {
    "duration": 32,
    "start_time": "2025-02-25T04:43:57.084Z"
   },
   {
    "duration": 7,
    "start_time": "2025-02-25T04:43:57.118Z"
   },
   {
    "duration": 17,
    "start_time": "2025-02-25T04:43:57.126Z"
   },
   {
    "duration": 13,
    "start_time": "2025-02-25T04:43:57.145Z"
   },
   {
    "duration": 13,
    "start_time": "2025-02-25T04:43:57.160Z"
   },
   {
    "duration": 37,
    "start_time": "2025-02-25T04:43:57.175Z"
   },
   {
    "duration": 34,
    "start_time": "2025-02-25T04:43:57.215Z"
   },
   {
    "duration": 19,
    "start_time": "2025-02-25T04:43:57.252Z"
   },
   {
    "duration": 11,
    "start_time": "2025-02-25T04:43:57.273Z"
   },
   {
    "duration": 37,
    "start_time": "2025-02-25T04:43:57.287Z"
   },
   {
    "duration": 23,
    "start_time": "2025-02-25T04:43:57.325Z"
   },
   {
    "duration": 17,
    "start_time": "2025-02-25T04:43:57.350Z"
   },
   {
    "duration": 16,
    "start_time": "2025-02-25T04:43:57.371Z"
   },
   {
    "duration": 20,
    "start_time": "2025-02-25T04:43:57.413Z"
   },
   {
    "duration": 11,
    "start_time": "2025-02-25T04:43:57.435Z"
   },
   {
    "duration": 2,
    "start_time": "2025-02-25T04:43:57.449Z"
   },
   {
    "duration": 3,
    "start_time": "2025-02-25T04:43:57.453Z"
   },
   {
    "duration": 4,
    "start_time": "2025-02-25T04:43:57.457Z"
   },
   {
    "duration": 3,
    "start_time": "2025-02-25T04:43:57.463Z"
   },
   {
    "duration": 4,
    "start_time": "2025-02-25T04:43:57.467Z"
   },
   {
    "duration": 2,
    "start_time": "2025-02-25T04:43:57.473Z"
   },
   {
    "duration": 2,
    "start_time": "2025-02-25T04:43:57.477Z"
   },
   {
    "duration": 2,
    "start_time": "2025-02-25T04:43:57.512Z"
   },
   {
    "duration": 2,
    "start_time": "2025-02-25T04:43:57.516Z"
   },
   {
    "duration": 15,
    "start_time": "2025-02-25T04:44:07.069Z"
   },
   {
    "duration": 12,
    "start_time": "2025-02-25T04:44:11.810Z"
   },
   {
    "duration": 15,
    "start_time": "2025-02-25T04:44:17.408Z"
   },
   {
    "duration": 305,
    "start_time": "2025-02-25T04:44:30.514Z"
   },
   {
    "duration": 192,
    "start_time": "2025-02-25T04:44:30.821Z"
   },
   {
    "duration": 10,
    "start_time": "2025-02-25T04:44:31.014Z"
   },
   {
    "duration": 11,
    "start_time": "2025-02-25T04:44:31.026Z"
   },
   {
    "duration": 8,
    "start_time": "2025-02-25T04:44:31.038Z"
   },
   {
    "duration": 9,
    "start_time": "2025-02-25T04:44:31.048Z"
   },
   {
    "duration": 4,
    "start_time": "2025-02-25T04:44:31.058Z"
   },
   {
    "duration": 5,
    "start_time": "2025-02-25T04:44:31.063Z"
   },
   {
    "duration": 41,
    "start_time": "2025-02-25T04:44:31.071Z"
   },
   {
    "duration": 9,
    "start_time": "2025-02-25T04:44:31.116Z"
   },
   {
    "duration": 15,
    "start_time": "2025-02-25T04:44:31.126Z"
   },
   {
    "duration": 6,
    "start_time": "2025-02-25T04:44:31.143Z"
   },
   {
    "duration": 24,
    "start_time": "2025-02-25T04:44:31.151Z"
   },
   {
    "duration": 48,
    "start_time": "2025-02-25T04:44:31.177Z"
   },
   {
    "duration": 15,
    "start_time": "2025-02-25T04:44:31.227Z"
   },
   {
    "duration": 6,
    "start_time": "2025-02-25T04:44:31.243Z"
   },
   {
    "duration": 17,
    "start_time": "2025-02-25T04:44:31.251Z"
   },
   {
    "duration": 12,
    "start_time": "2025-02-25T04:44:31.269Z"
   },
   {
    "duration": 14,
    "start_time": "2025-02-25T04:44:31.311Z"
   },
   {
    "duration": 8,
    "start_time": "2025-02-25T04:44:31.327Z"
   },
   {
    "duration": 20,
    "start_time": "2025-02-25T04:44:31.336Z"
   },
   {
    "duration": 14,
    "start_time": "2025-02-25T04:44:31.358Z"
   },
   {
    "duration": 8,
    "start_time": "2025-02-25T04:44:31.373Z"
   },
   {
    "duration": 43,
    "start_time": "2025-02-25T04:44:31.383Z"
   },
   {
    "duration": 16,
    "start_time": "2025-02-25T04:44:31.428Z"
   },
   {
    "duration": 13,
    "start_time": "2025-02-25T04:44:31.445Z"
   },
   {
    "duration": 12,
    "start_time": "2025-02-25T04:44:31.460Z"
   },
   {
    "duration": 41,
    "start_time": "2025-02-25T04:44:31.476Z"
   },
   {
    "duration": 12,
    "start_time": "2025-02-25T04:44:31.518Z"
   },
   {
    "duration": 2,
    "start_time": "2025-02-25T04:44:31.532Z"
   },
   {
    "duration": 2,
    "start_time": "2025-02-25T04:44:31.536Z"
   },
   {
    "duration": 3,
    "start_time": "2025-02-25T04:44:31.539Z"
   },
   {
    "duration": 3,
    "start_time": "2025-02-25T04:44:31.544Z"
   },
   {
    "duration": 3,
    "start_time": "2025-02-25T04:44:31.548Z"
   },
   {
    "duration": 3,
    "start_time": "2025-02-25T04:44:31.553Z"
   },
   {
    "duration": 3,
    "start_time": "2025-02-25T04:44:31.557Z"
   },
   {
    "duration": 2,
    "start_time": "2025-02-25T04:44:31.562Z"
   },
   {
    "duration": 3,
    "start_time": "2025-02-25T04:44:31.566Z"
   },
   {
    "duration": 272,
    "start_time": "2025-02-25T16:19:57.122Z"
   },
   {
    "duration": 214,
    "start_time": "2025-02-25T16:19:57.581Z"
   },
   {
    "duration": 9,
    "start_time": "2025-02-25T16:19:57.797Z"
   },
   {
    "duration": 12,
    "start_time": "2025-02-25T16:19:57.808Z"
   },
   {
    "duration": 7,
    "start_time": "2025-02-25T16:19:57.821Z"
   },
   {
    "duration": 7,
    "start_time": "2025-02-25T16:19:57.831Z"
   },
   {
    "duration": 3,
    "start_time": "2025-02-25T16:19:57.840Z"
   },
   {
    "duration": 4,
    "start_time": "2025-02-25T16:19:57.844Z"
   },
   {
    "duration": 7,
    "start_time": "2025-02-25T16:19:57.850Z"
   },
   {
    "duration": 8,
    "start_time": "2025-02-25T16:19:57.859Z"
   },
   {
    "duration": 14,
    "start_time": "2025-02-25T16:19:57.869Z"
   },
   {
    "duration": 7,
    "start_time": "2025-02-25T16:19:57.885Z"
   },
   {
    "duration": 61,
    "start_time": "2025-02-25T16:19:57.893Z"
   },
   {
    "duration": 17,
    "start_time": "2025-02-25T16:19:57.955Z"
   },
   {
    "duration": 12,
    "start_time": "2025-02-25T16:19:57.975Z"
   },
   {
    "duration": 5,
    "start_time": "2025-02-25T16:19:57.989Z"
   },
   {
    "duration": 42,
    "start_time": "2025-02-25T16:19:57.996Z"
   },
   {
    "duration": 13,
    "start_time": "2025-02-25T16:19:58.040Z"
   },
   {
    "duration": 13,
    "start_time": "2025-02-25T16:19:58.054Z"
   },
   {
    "duration": 7,
    "start_time": "2025-02-25T16:19:58.068Z"
   },
   {
    "duration": 54,
    "start_time": "2025-02-25T16:19:58.077Z"
   },
   {
    "duration": 18,
    "start_time": "2025-02-25T16:19:58.133Z"
   },
   {
    "duration": 7,
    "start_time": "2025-02-25T16:19:58.153Z"
   },
   {
    "duration": 18,
    "start_time": "2025-02-25T16:19:58.161Z"
   },
   {
    "duration": 17,
    "start_time": "2025-02-25T16:19:58.181Z"
   },
   {
    "duration": 44,
    "start_time": "2025-02-25T16:19:58.199Z"
   },
   {
    "duration": 12,
    "start_time": "2025-02-25T16:19:58.245Z"
   },
   {
    "duration": 16,
    "start_time": "2025-02-25T16:19:58.259Z"
   },
   {
    "duration": 10,
    "start_time": "2025-02-25T16:19:58.277Z"
   },
   {
    "duration": 2,
    "start_time": "2025-02-25T16:19:58.288Z"
   },
   {
    "duration": 3,
    "start_time": "2025-02-25T16:19:58.292Z"
   },
   {
    "duration": 3,
    "start_time": "2025-02-25T16:19:58.296Z"
   },
   {
    "duration": 31,
    "start_time": "2025-02-25T16:19:58.301Z"
   },
   {
    "duration": 4,
    "start_time": "2025-02-25T16:19:58.333Z"
   },
   {
    "duration": 4,
    "start_time": "2025-02-25T16:19:58.339Z"
   },
   {
    "duration": 2,
    "start_time": "2025-02-25T16:19:58.346Z"
   },
   {
    "duration": 4,
    "start_time": "2025-02-25T16:19:58.349Z"
   },
   {
    "duration": 3,
    "start_time": "2025-02-25T16:19:58.354Z"
   },
   {
    "duration": 9,
    "start_time": "2025-02-25T16:25:27.124Z"
   },
   {
    "duration": 8,
    "start_time": "2025-02-25T16:25:54.132Z"
   },
   {
    "duration": 171,
    "start_time": "2025-02-25T16:28:15.475Z"
   },
   {
    "duration": 8,
    "start_time": "2025-02-25T16:28:20.026Z"
   },
   {
    "duration": 7,
    "start_time": "2025-02-25T16:28:53.711Z"
   },
   {
    "duration": 13,
    "start_time": "2025-02-25T16:30:25.234Z"
   },
   {
    "duration": 286,
    "start_time": "2025-02-25T16:31:16.722Z"
   },
   {
    "duration": 167,
    "start_time": "2025-02-25T16:31:17.011Z"
   },
   {
    "duration": 10,
    "start_time": "2025-02-25T16:31:17.180Z"
   },
   {
    "duration": 13,
    "start_time": "2025-02-25T16:31:17.192Z"
   },
   {
    "duration": 8,
    "start_time": "2025-02-25T16:31:17.206Z"
   },
   {
    "duration": 23,
    "start_time": "2025-02-25T16:31:17.215Z"
   },
   {
    "duration": 3,
    "start_time": "2025-02-25T16:31:17.239Z"
   },
   {
    "duration": 4,
    "start_time": "2025-02-25T16:31:17.244Z"
   },
   {
    "duration": 9,
    "start_time": "2025-02-25T16:31:17.249Z"
   },
   {
    "duration": 8,
    "start_time": "2025-02-25T16:31:17.261Z"
   },
   {
    "duration": 15,
    "start_time": "2025-02-25T16:31:17.271Z"
   },
   {
    "duration": 7,
    "start_time": "2025-02-25T16:31:17.287Z"
   },
   {
    "duration": 25,
    "start_time": "2025-02-25T16:31:17.331Z"
   },
   {
    "duration": 16,
    "start_time": "2025-02-25T16:31:17.357Z"
   },
   {
    "duration": 11,
    "start_time": "2025-02-25T16:31:17.375Z"
   },
   {
    "duration": 6,
    "start_time": "2025-02-25T16:31:17.387Z"
   },
   {
    "duration": 46,
    "start_time": "2025-02-25T16:31:17.394Z"
   },
   {
    "duration": 12,
    "start_time": "2025-02-25T16:31:17.441Z"
   },
   {
    "duration": 15,
    "start_time": "2025-02-25T16:31:17.455Z"
   },
   {
    "duration": 7,
    "start_time": "2025-02-25T16:31:17.471Z"
   },
   {
    "duration": 20,
    "start_time": "2025-02-25T16:31:17.480Z"
   },
   {
    "duration": 40,
    "start_time": "2025-02-25T16:31:17.503Z"
   },
   {
    "duration": 7,
    "start_time": "2025-02-25T16:31:17.544Z"
   },
   {
    "duration": 16,
    "start_time": "2025-02-25T16:31:17.553Z"
   },
   {
    "duration": 16,
    "start_time": "2025-02-25T16:31:17.571Z"
   },
   {
    "duration": 12,
    "start_time": "2025-02-25T16:31:17.588Z"
   },
   {
    "duration": 40,
    "start_time": "2025-02-25T16:31:17.602Z"
   },
   {
    "duration": 215,
    "start_time": "2025-02-25T16:31:17.647Z"
   },
   {
    "duration": 0,
    "start_time": "2025-02-25T16:31:17.864Z"
   },
   {
    "duration": 0,
    "start_time": "2025-02-25T16:31:17.865Z"
   },
   {
    "duration": 0,
    "start_time": "2025-02-25T16:31:17.867Z"
   },
   {
    "duration": 0,
    "start_time": "2025-02-25T16:31:17.868Z"
   },
   {
    "duration": 0,
    "start_time": "2025-02-25T16:31:17.869Z"
   },
   {
    "duration": 0,
    "start_time": "2025-02-25T16:31:17.871Z"
   },
   {
    "duration": 0,
    "start_time": "2025-02-25T16:31:17.872Z"
   },
   {
    "duration": 0,
    "start_time": "2025-02-25T16:31:17.874Z"
   },
   {
    "duration": 0,
    "start_time": "2025-02-25T16:31:17.876Z"
   },
   {
    "duration": 0,
    "start_time": "2025-02-25T16:31:17.877Z"
   },
   {
    "duration": 22,
    "start_time": "2025-02-25T16:31:34.681Z"
   },
   {
    "duration": 18,
    "start_time": "2025-02-25T16:31:51.218Z"
   },
   {
    "duration": 13,
    "start_time": "2025-02-25T16:31:56.775Z"
   },
   {
    "duration": 10,
    "start_time": "2025-02-25T16:32:02.551Z"
   },
   {
    "duration": 7,
    "start_time": "2025-02-25T16:32:10.242Z"
   },
   {
    "duration": 18,
    "start_time": "2025-02-25T16:56:14.029Z"
   },
   {
    "duration": 22,
    "start_time": "2025-02-25T16:56:42.704Z"
   },
   {
    "duration": 19,
    "start_time": "2025-02-25T16:57:39.181Z"
   },
   {
    "duration": 15,
    "start_time": "2025-02-25T16:57:56.197Z"
   },
   {
    "duration": 20,
    "start_time": "2025-02-25T17:28:38.960Z"
   },
   {
    "duration": 21,
    "start_time": "2025-02-25T17:29:42.369Z"
   },
   {
    "duration": 15,
    "start_time": "2025-02-25T17:30:42.002Z"
   },
   {
    "duration": 11,
    "start_time": "2025-02-25T17:34:05.800Z"
   },
   {
    "duration": 24,
    "start_time": "2025-02-25T17:34:38.939Z"
   },
   {
    "duration": 23,
    "start_time": "2025-02-25T17:35:41.563Z"
   },
   {
    "duration": 275,
    "start_time": "2025-02-25T17:36:48.902Z"
   },
   {
    "duration": 161,
    "start_time": "2025-02-25T17:36:49.180Z"
   },
   {
    "duration": 9,
    "start_time": "2025-02-25T17:36:49.343Z"
   },
   {
    "duration": 12,
    "start_time": "2025-02-25T17:36:49.354Z"
   },
   {
    "duration": 7,
    "start_time": "2025-02-25T17:36:49.367Z"
   },
   {
    "duration": 8,
    "start_time": "2025-02-25T17:36:49.376Z"
   },
   {
    "duration": 3,
    "start_time": "2025-02-25T17:36:49.386Z"
   },
   {
    "duration": 4,
    "start_time": "2025-02-25T17:36:49.390Z"
   },
   {
    "duration": 39,
    "start_time": "2025-02-25T17:36:49.396Z"
   },
   {
    "duration": 9,
    "start_time": "2025-02-25T17:36:49.438Z"
   },
   {
    "duration": 15,
    "start_time": "2025-02-25T17:36:49.449Z"
   },
   {
    "duration": 6,
    "start_time": "2025-02-25T17:36:49.466Z"
   },
   {
    "duration": 25,
    "start_time": "2025-02-25T17:36:49.473Z"
   },
   {
    "duration": 45,
    "start_time": "2025-02-25T17:36:49.500Z"
   },
   {
    "duration": 13,
    "start_time": "2025-02-25T17:36:49.546Z"
   },
   {
    "duration": 5,
    "start_time": "2025-02-25T17:36:49.561Z"
   },
   {
    "duration": 17,
    "start_time": "2025-02-25T17:36:49.568Z"
   },
   {
    "duration": 11,
    "start_time": "2025-02-25T17:36:49.587Z"
   },
   {
    "duration": 44,
    "start_time": "2025-02-25T17:36:49.600Z"
   },
   {
    "duration": 7,
    "start_time": "2025-02-25T17:36:49.645Z"
   },
   {
    "duration": 20,
    "start_time": "2025-02-25T17:36:49.654Z"
   },
   {
    "duration": 14,
    "start_time": "2025-02-25T17:36:49.676Z"
   },
   {
    "duration": 7,
    "start_time": "2025-02-25T17:36:49.691Z"
   },
   {
    "duration": 15,
    "start_time": "2025-02-25T17:36:49.731Z"
   },
   {
    "duration": 19,
    "start_time": "2025-02-25T17:36:49.748Z"
   },
   {
    "duration": 18,
    "start_time": "2025-02-25T17:36:49.769Z"
   },
   {
    "duration": 18,
    "start_time": "2025-02-25T17:36:49.788Z"
   },
   {
    "duration": 18,
    "start_time": "2025-02-25T17:36:49.831Z"
   },
   {
    "duration": 11,
    "start_time": "2025-02-25T17:36:49.851Z"
   },
   {
    "duration": 198,
    "start_time": "2025-02-25T17:36:49.863Z"
   },
   {
    "duration": 0,
    "start_time": "2025-02-25T17:36:50.062Z"
   },
   {
    "duration": 0,
    "start_time": "2025-02-25T17:36:50.064Z"
   },
   {
    "duration": 0,
    "start_time": "2025-02-25T17:36:50.065Z"
   },
   {
    "duration": 0,
    "start_time": "2025-02-25T17:36:50.066Z"
   },
   {
    "duration": 0,
    "start_time": "2025-02-25T17:36:50.067Z"
   },
   {
    "duration": 0,
    "start_time": "2025-02-25T17:36:50.068Z"
   },
   {
    "duration": 0,
    "start_time": "2025-02-25T17:36:50.069Z"
   },
   {
    "duration": 0,
    "start_time": "2025-02-25T17:36:50.070Z"
   },
   {
    "duration": 23,
    "start_time": "2025-02-25T17:37:41.250Z"
   },
   {
    "duration": 17,
    "start_time": "2025-02-25T17:37:55.400Z"
   },
   {
    "duration": 18,
    "start_time": "2025-02-25T17:37:56.526Z"
   },
   {
    "duration": 9,
    "start_time": "2025-02-25T17:38:37.476Z"
   },
   {
    "duration": 8,
    "start_time": "2025-02-25T17:42:56.669Z"
   },
   {
    "duration": 3,
    "start_time": "2025-02-25T17:46:09.331Z"
   },
   {
    "duration": 112,
    "start_time": "2025-02-25T17:47:28.747Z"
   },
   {
    "duration": 7,
    "start_time": "2025-02-25T17:49:06.216Z"
   },
   {
    "duration": 16,
    "start_time": "2025-02-25T17:49:23.059Z"
   },
   {
    "duration": 10,
    "start_time": "2025-02-25T17:49:45.733Z"
   },
   {
    "duration": 10,
    "start_time": "2025-02-25T17:51:21.965Z"
   },
   {
    "duration": 9,
    "start_time": "2025-02-25T17:51:33.008Z"
   },
   {
    "duration": 10,
    "start_time": "2025-02-25T17:51:38.885Z"
   },
   {
    "duration": 10,
    "start_time": "2025-02-25T17:51:41.729Z"
   },
   {
    "duration": 9,
    "start_time": "2025-02-25T17:51:48.880Z"
   },
   {
    "duration": 1885,
    "start_time": "2025-02-25T17:54:37.953Z"
   },
   {
    "duration": 3,
    "start_time": "2025-02-25T17:54:40.825Z"
   },
   {
    "duration": 2,
    "start_time": "2025-02-25T17:54:41.730Z"
   },
   {
    "duration": 192,
    "start_time": "2025-02-25T17:58:07.972Z"
   },
   {
    "duration": 184,
    "start_time": "2025-02-25T18:03:29.701Z"
   },
   {
    "duration": 173,
    "start_time": "2025-02-25T18:10:21.046Z"
   },
   {
    "duration": 164,
    "start_time": "2025-02-25T18:12:33.111Z"
   },
   {
    "duration": 210,
    "start_time": "2025-02-25T18:12:46.104Z"
   },
   {
    "duration": 173,
    "start_time": "2025-02-25T18:12:55.217Z"
   },
   {
    "duration": 32,
    "start_time": "2025-02-25T18:13:43.336Z"
   },
   {
    "duration": 166,
    "start_time": "2025-02-25T18:13:52.285Z"
   },
   {
    "duration": 195,
    "start_time": "2025-02-25T18:14:58.111Z"
   },
   {
    "duration": 167,
    "start_time": "2025-02-25T18:15:10.485Z"
   },
   {
    "duration": 170,
    "start_time": "2025-02-25T18:15:20.140Z"
   },
   {
    "duration": 171,
    "start_time": "2025-02-25T18:15:33.065Z"
   },
   {
    "duration": 166,
    "start_time": "2025-02-25T18:16:03.925Z"
   },
   {
    "duration": 4,
    "start_time": "2025-02-25T18:17:19.539Z"
   },
   {
    "duration": 2,
    "start_time": "2025-02-25T18:18:33.798Z"
   },
   {
    "duration": 6,
    "start_time": "2025-02-25T18:19:02.273Z"
   },
   {
    "duration": 8,
    "start_time": "2025-02-25T18:19:19.112Z"
   },
   {
    "duration": 10,
    "start_time": "2025-02-25T18:22:15.035Z"
   },
   {
    "duration": 752,
    "start_time": "2025-02-25T18:25:34.802Z"
   },
   {
    "duration": 22,
    "start_time": "2025-02-25T18:26:11.135Z"
   },
   {
    "duration": 16,
    "start_time": "2025-02-25T18:27:41.066Z"
   },
   {
    "duration": 183,
    "start_time": "2025-02-25T18:30:45.000Z"
   },
   {
    "duration": 185,
    "start_time": "2025-02-25T18:31:46.214Z"
   },
   {
    "duration": 190,
    "start_time": "2025-02-25T18:32:56.307Z"
   },
   {
    "duration": 209,
    "start_time": "2025-02-25T18:33:24.792Z"
   },
   {
    "duration": 498,
    "start_time": "2025-02-25T18:35:20.562Z"
   },
   {
    "duration": 212,
    "start_time": "2025-02-25T18:35:31.975Z"
   },
   {
    "duration": 199,
    "start_time": "2025-02-25T18:38:50.989Z"
   },
   {
    "duration": 223,
    "start_time": "2025-02-25T18:41:01.854Z"
   },
   {
    "duration": 8,
    "start_time": "2025-02-25T19:19:08.650Z"
   },
   {
    "duration": 4,
    "start_time": "2025-02-25T19:20:54.423Z"
   },
   {
    "duration": 3,
    "start_time": "2025-02-25T19:23:37.752Z"
   },
   {
    "duration": 3,
    "start_time": "2025-02-25T19:24:46.055Z"
   },
   {
    "duration": 4,
    "start_time": "2025-02-25T19:24:54.703Z"
   },
   {
    "duration": 4,
    "start_time": "2025-02-25T19:26:58.698Z"
   },
   {
    "duration": 7,
    "start_time": "2025-02-25T19:32:45.837Z"
   },
   {
    "duration": 7,
    "start_time": "2025-02-25T19:38:24.629Z"
   },
   {
    "duration": 15,
    "start_time": "2025-02-25T19:44:39.222Z"
   },
   {
    "duration": 331,
    "start_time": "2025-02-25T19:45:30.794Z"
   },
   {
    "duration": 2,
    "start_time": "2025-02-25T19:45:43.000Z"
   },
   {
    "duration": 115,
    "start_time": "2025-02-25T19:46:04.220Z"
   },
   {
    "duration": 210,
    "start_time": "2025-02-25T19:46:46.367Z"
   },
   {
    "duration": 7,
    "start_time": "2025-02-25T20:54:13.261Z"
   },
   {
    "duration": 5,
    "start_time": "2025-02-25T20:57:49.208Z"
   },
   {
    "duration": 9,
    "start_time": "2025-02-25T20:58:57.620Z"
   },
   {
    "duration": 9,
    "start_time": "2025-02-25T21:01:09.422Z"
   },
   {
    "duration": 8,
    "start_time": "2025-02-25T21:01:13.441Z"
   },
   {
    "duration": 8,
    "start_time": "2025-02-25T21:01:21.613Z"
   },
   {
    "duration": 10,
    "start_time": "2025-02-25T21:06:13.185Z"
   },
   {
    "duration": 11,
    "start_time": "2025-02-25T21:08:03.396Z"
   },
   {
    "duration": 11,
    "start_time": "2025-02-25T21:08:42.949Z"
   },
   {
    "duration": 10,
    "start_time": "2025-02-25T21:12:05.584Z"
   },
   {
    "duration": 9,
    "start_time": "2025-02-25T21:12:54.428Z"
   },
   {
    "duration": 6,
    "start_time": "2025-02-25T21:18:09.376Z"
   },
   {
    "duration": 10,
    "start_time": "2025-02-25T21:18:29.622Z"
   },
   {
    "duration": 9,
    "start_time": "2025-02-25T21:22:53.378Z"
   },
   {
    "duration": 2722,
    "start_time": "2025-02-26T00:18:40.565Z"
   },
   {
    "duration": 271,
    "start_time": "2025-02-26T00:18:43.290Z"
   },
   {
    "duration": 12,
    "start_time": "2025-02-26T00:18:43.563Z"
   },
   {
    "duration": 12,
    "start_time": "2025-02-26T00:18:43.578Z"
   },
   {
    "duration": 11,
    "start_time": "2025-02-26T00:18:43.594Z"
   },
   {
    "duration": 11,
    "start_time": "2025-02-26T00:18:43.607Z"
   },
   {
    "duration": 24,
    "start_time": "2025-02-26T00:18:43.619Z"
   },
   {
    "duration": 4,
    "start_time": "2025-02-26T00:18:43.645Z"
   },
   {
    "duration": 9,
    "start_time": "2025-02-26T00:18:43.651Z"
   },
   {
    "duration": 10,
    "start_time": "2025-02-26T00:18:43.664Z"
   },
   {
    "duration": 23,
    "start_time": "2025-02-26T00:18:43.676Z"
   },
   {
    "duration": 7,
    "start_time": "2025-02-26T00:18:43.701Z"
   },
   {
    "duration": 38,
    "start_time": "2025-02-26T00:18:43.745Z"
   },
   {
    "duration": 23,
    "start_time": "2025-02-26T00:18:43.785Z"
   },
   {
    "duration": 11,
    "start_time": "2025-02-26T00:18:43.809Z"
   },
   {
    "duration": 22,
    "start_time": "2025-02-26T00:18:43.822Z"
   },
   {
    "duration": 18,
    "start_time": "2025-02-26T00:18:43.846Z"
   },
   {
    "duration": 15,
    "start_time": "2025-02-26T00:18:43.866Z"
   },
   {
    "duration": 16,
    "start_time": "2025-02-26T00:18:43.883Z"
   },
   {
    "duration": 42,
    "start_time": "2025-02-26T00:18:43.900Z"
   },
   {
    "duration": 22,
    "start_time": "2025-02-26T00:18:43.944Z"
   },
   {
    "duration": 14,
    "start_time": "2025-02-26T00:18:43.968Z"
   },
   {
    "duration": 10,
    "start_time": "2025-02-26T00:18:43.984Z"
   },
   {
    "duration": 16,
    "start_time": "2025-02-26T00:18:43.996Z"
   },
   {
    "duration": 45,
    "start_time": "2025-02-26T00:18:44.014Z"
   },
   {
    "duration": 17,
    "start_time": "2025-02-26T00:18:44.062Z"
   },
   {
    "duration": 12,
    "start_time": "2025-02-26T00:18:44.082Z"
   },
   {
    "duration": 45,
    "start_time": "2025-02-26T00:18:44.097Z"
   },
   {
    "duration": 11,
    "start_time": "2025-02-26T00:18:44.144Z"
   },
   {
    "duration": 21,
    "start_time": "2025-02-26T00:18:44.156Z"
   },
   {
    "duration": 242,
    "start_time": "2025-02-26T00:18:44.178Z"
   },
   {
    "duration": 248,
    "start_time": "2025-02-26T00:18:44.422Z"
   },
   {
    "duration": 9,
    "start_time": "2025-02-26T00:18:44.672Z"
   },
   {
    "duration": 170,
    "start_time": "2025-02-26T00:18:44.683Z"
   },
   {
    "duration": 11,
    "start_time": "2025-02-26T00:18:44.855Z"
   },
   {
    "duration": 9,
    "start_time": "2025-02-26T00:18:44.868Z"
   },
   {
    "duration": 4,
    "start_time": "2025-02-26T00:18:44.878Z"
   },
   {
    "duration": 3,
    "start_time": "2025-02-26T00:18:44.883Z"
   },
   {
    "duration": 12,
    "start_time": "2025-02-26T00:27:14.225Z"
   },
   {
    "duration": 10,
    "start_time": "2025-02-26T00:28:52.917Z"
   },
   {
    "duration": 200,
    "start_time": "2025-02-26T00:39:40.432Z"
   },
   {
    "duration": 237,
    "start_time": "2025-02-26T00:40:00.720Z"
   },
   {
    "duration": 173,
    "start_time": "2025-02-26T00:41:29.659Z"
   },
   {
    "duration": 628,
    "start_time": "2025-02-26T00:42:34.776Z"
   },
   {
    "duration": 68,
    "start_time": "2025-02-26T00:43:35.300Z"
   },
   {
    "duration": 181,
    "start_time": "2025-02-26T00:44:02.244Z"
   },
   {
    "duration": 193,
    "start_time": "2025-02-26T00:45:08.818Z"
   },
   {
    "duration": 804,
    "start_time": "2025-02-26T00:50:28.121Z"
   },
   {
    "duration": 157,
    "start_time": "2025-02-26T00:50:28.928Z"
   },
   {
    "duration": 11,
    "start_time": "2025-02-26T00:50:29.086Z"
   },
   {
    "duration": 9,
    "start_time": "2025-02-26T00:50:29.099Z"
   },
   {
    "duration": 7,
    "start_time": "2025-02-26T00:50:29.110Z"
   },
   {
    "duration": 8,
    "start_time": "2025-02-26T00:50:29.119Z"
   },
   {
    "duration": 16,
    "start_time": "2025-02-26T00:50:29.128Z"
   },
   {
    "duration": 15,
    "start_time": "2025-02-26T00:50:29.146Z"
   },
   {
    "duration": 7,
    "start_time": "2025-02-26T00:50:29.162Z"
   },
   {
    "duration": 24,
    "start_time": "2025-02-26T00:50:29.173Z"
   },
   {
    "duration": 45,
    "start_time": "2025-02-26T00:50:29.199Z"
   },
   {
    "duration": 12,
    "start_time": "2025-02-26T00:50:29.245Z"
   },
   {
    "duration": 6,
    "start_time": "2025-02-26T00:50:29.258Z"
   },
   {
    "duration": 17,
    "start_time": "2025-02-26T00:50:29.266Z"
   },
   {
    "duration": 12,
    "start_time": "2025-02-26T00:50:29.284Z"
   },
   {
    "duration": 12,
    "start_time": "2025-02-26T00:50:29.298Z"
   },
   {
    "duration": 38,
    "start_time": "2025-02-26T00:50:29.312Z"
   },
   {
    "duration": 27,
    "start_time": "2025-02-26T00:50:29.352Z"
   },
   {
    "duration": 15,
    "start_time": "2025-02-26T00:50:29.381Z"
   },
   {
    "duration": 9,
    "start_time": "2025-02-26T00:50:29.398Z"
   },
   {
    "duration": 45,
    "start_time": "2025-02-26T00:50:29.409Z"
   },
   {
    "duration": 20,
    "start_time": "2025-02-26T00:50:29.457Z"
   },
   {
    "duration": 12,
    "start_time": "2025-02-26T00:50:29.479Z"
   },
   {
    "duration": 12,
    "start_time": "2025-02-26T00:50:29.492Z"
   },
   {
    "duration": 41,
    "start_time": "2025-02-26T00:50:29.506Z"
   },
   {
    "duration": 11,
    "start_time": "2025-02-26T00:50:29.548Z"
   },
   {
    "duration": 18,
    "start_time": "2025-02-26T00:50:29.561Z"
   },
   {
    "duration": 206,
    "start_time": "2025-02-26T00:50:29.583Z"
   },
   {
    "duration": 215,
    "start_time": "2025-02-26T00:50:29.791Z"
   },
   {
    "duration": 7,
    "start_time": "2025-02-26T00:50:30.008Z"
   },
   {
    "duration": 182,
    "start_time": "2025-02-26T00:50:30.016Z"
   },
   {
    "duration": 186,
    "start_time": "2025-02-26T00:50:30.200Z"
   },
   {
    "duration": 3,
    "start_time": "2025-02-26T00:50:30.387Z"
   },
   {
    "duration": 9,
    "start_time": "2025-02-26T00:50:30.391Z"
   },
   {
    "duration": 2,
    "start_time": "2025-02-26T00:50:30.402Z"
   },
   {
    "duration": 3,
    "start_time": "2025-02-26T00:50:30.406Z"
   },
   {
    "duration": 8,
    "start_time": "2025-02-26T00:55:39.739Z"
   },
   {
    "duration": 188,
    "start_time": "2025-02-26T01:03:14.108Z"
   },
   {
    "duration": 207,
    "start_time": "2025-02-26T01:05:24.188Z"
   },
   {
    "duration": 224,
    "start_time": "2025-02-26T01:05:33.644Z"
   },
   {
    "duration": 264,
    "start_time": "2025-02-26T01:06:11.605Z"
   },
   {
    "duration": 225,
    "start_time": "2025-02-26T01:06:24.793Z"
   },
   {
    "duration": 221,
    "start_time": "2025-02-26T01:06:33.126Z"
   },
   {
    "duration": 264,
    "start_time": "2025-02-26T01:08:07.896Z"
   },
   {
    "duration": 287,
    "start_time": "2025-02-26T01:13:24.022Z"
   },
   {
    "duration": 253,
    "start_time": "2025-02-26T01:13:48.571Z"
   },
   {
    "duration": 207,
    "start_time": "2025-02-26T01:14:11.061Z"
   },
   {
    "duration": 218,
    "start_time": "2025-02-26T01:14:21.866Z"
   },
   {
    "duration": 193,
    "start_time": "2025-02-26T01:14:28.375Z"
   },
   {
    "duration": 195,
    "start_time": "2025-02-26T01:14:34.136Z"
   },
   {
    "duration": 6,
    "start_time": "2025-02-26T01:16:36.735Z"
   },
   {
    "duration": 237,
    "start_time": "2025-02-26T01:16:41.999Z"
   },
   {
    "duration": 223,
    "start_time": "2025-02-26T01:16:55.871Z"
   },
   {
    "duration": 194,
    "start_time": "2025-02-26T01:17:07.243Z"
   },
   {
    "duration": 830,
    "start_time": "2025-02-26T01:17:34.105Z"
   },
   {
    "duration": 326,
    "start_time": "2025-02-26T01:17:41.081Z"
   },
   {
    "duration": 232,
    "start_time": "2025-02-26T01:19:08.849Z"
   },
   {
    "duration": 205,
    "start_time": "2025-02-26T01:19:32.410Z"
   },
   {
    "duration": 217,
    "start_time": "2025-02-26T01:19:38.688Z"
   },
   {
    "duration": 244,
    "start_time": "2025-02-26T01:20:05.351Z"
   },
   {
    "duration": 219,
    "start_time": "2025-02-26T01:20:24.772Z"
   },
   {
    "duration": 253,
    "start_time": "2025-02-26T01:20:36.852Z"
   },
   {
    "duration": 333,
    "start_time": "2025-02-26T01:20:45.334Z"
   },
   {
    "duration": 366,
    "start_time": "2025-02-26T01:20:58.604Z"
   },
   {
    "duration": 327,
    "start_time": "2025-02-26T01:21:30.614Z"
   },
   {
    "duration": 239,
    "start_time": "2025-02-26T01:21:56.665Z"
   },
   {
    "duration": 235,
    "start_time": "2025-02-26T01:22:02.006Z"
   },
   {
    "duration": 112,
    "start_time": "2025-02-26T01:29:12.207Z"
   },
   {
    "duration": 114,
    "start_time": "2025-02-26T01:31:18.840Z"
   },
   {
    "duration": 117,
    "start_time": "2025-02-26T01:31:59.384Z"
   },
   {
    "duration": 136,
    "start_time": "2025-02-26T01:32:08.943Z"
   },
   {
    "duration": 132,
    "start_time": "2025-02-26T01:32:15.061Z"
   },
   {
    "duration": 9,
    "start_time": "2025-02-26T01:45:07.146Z"
   },
   {
    "duration": 194,
    "start_time": "2025-02-26T01:46:04.573Z"
   },
   {
    "duration": 236,
    "start_time": "2025-02-26T01:46:50.632Z"
   },
   {
    "duration": 326,
    "start_time": "2025-02-26T01:49:00.373Z"
   },
   {
    "duration": 229,
    "start_time": "2025-02-26T01:53:08.820Z"
   },
   {
    "duration": 224,
    "start_time": "2025-02-26T01:55:06.419Z"
   },
   {
    "duration": 210,
    "start_time": "2025-02-26T01:55:59.463Z"
   },
   {
    "duration": 152,
    "start_time": "2025-02-26T01:59:54.301Z"
   },
   {
    "duration": 228,
    "start_time": "2025-02-26T02:00:07.242Z"
   },
   {
    "duration": 211,
    "start_time": "2025-02-26T02:00:35.317Z"
   },
   {
    "duration": 237,
    "start_time": "2025-02-26T02:01:15.290Z"
   },
   {
    "duration": 435,
    "start_time": "2025-02-26T02:01:31.411Z"
   },
   {
    "duration": 221,
    "start_time": "2025-02-26T02:01:50.213Z"
   },
   {
    "duration": 220,
    "start_time": "2025-02-26T02:02:17.042Z"
   },
   {
    "duration": 210,
    "start_time": "2025-02-26T02:02:48.472Z"
   },
   {
    "duration": 201,
    "start_time": "2025-02-26T02:07:25.505Z"
   },
   {
    "duration": 125,
    "start_time": "2025-02-26T02:09:27.011Z"
   },
   {
    "duration": 116,
    "start_time": "2025-02-26T02:09:41.794Z"
   },
   {
    "duration": 121,
    "start_time": "2025-02-26T02:10:19.367Z"
   },
   {
    "duration": 2636,
    "start_time": "2025-02-26T04:08:00.224Z"
   },
   {
    "duration": 221,
    "start_time": "2025-02-26T04:08:02.862Z"
   },
   {
    "duration": 10,
    "start_time": "2025-02-26T04:08:03.084Z"
   },
   {
    "duration": 10,
    "start_time": "2025-02-26T04:08:03.097Z"
   },
   {
    "duration": 10,
    "start_time": "2025-02-26T04:08:03.109Z"
   },
   {
    "duration": 9,
    "start_time": "2025-02-26T04:08:03.121Z"
   },
   {
    "duration": 3,
    "start_time": "2025-02-26T04:08:03.132Z"
   },
   {
    "duration": 20,
    "start_time": "2025-02-26T04:08:03.136Z"
   },
   {
    "duration": 6,
    "start_time": "2025-02-26T04:08:03.158Z"
   },
   {
    "duration": 66,
    "start_time": "2025-02-26T04:08:03.167Z"
   },
   {
    "duration": 20,
    "start_time": "2025-02-26T04:08:03.235Z"
   },
   {
    "duration": 13,
    "start_time": "2025-02-26T04:08:03.257Z"
   },
   {
    "duration": 5,
    "start_time": "2025-02-26T04:08:03.272Z"
   },
   {
    "duration": 42,
    "start_time": "2025-02-26T04:08:03.279Z"
   },
   {
    "duration": 12,
    "start_time": "2025-02-26T04:08:03.323Z"
   },
   {
    "duration": 17,
    "start_time": "2025-02-26T04:08:03.336Z"
   },
   {
    "duration": 6,
    "start_time": "2025-02-26T04:08:03.356Z"
   },
   {
    "duration": 45,
    "start_time": "2025-02-26T04:08:03.364Z"
   },
   {
    "duration": 19,
    "start_time": "2025-02-26T04:08:03.411Z"
   },
   {
    "duration": 11,
    "start_time": "2025-02-26T04:08:03.431Z"
   },
   {
    "duration": 21,
    "start_time": "2025-02-26T04:08:03.443Z"
   },
   {
    "duration": 45,
    "start_time": "2025-02-26T04:08:03.466Z"
   },
   {
    "duration": 13,
    "start_time": "2025-02-26T04:08:03.513Z"
   },
   {
    "duration": 13,
    "start_time": "2025-02-26T04:08:03.528Z"
   },
   {
    "duration": 19,
    "start_time": "2025-02-26T04:08:03.542Z"
   },
   {
    "duration": 15,
    "start_time": "2025-02-26T04:08:03.562Z"
   },
   {
    "duration": 22,
    "start_time": "2025-02-26T04:08:03.605Z"
   },
   {
    "duration": 211,
    "start_time": "2025-02-26T04:08:03.631Z"
   },
   {
    "duration": 218,
    "start_time": "2025-02-26T04:08:03.844Z"
   },
   {
    "duration": 8,
    "start_time": "2025-02-26T04:08:04.064Z"
   },
   {
    "duration": 139,
    "start_time": "2025-02-26T04:08:04.075Z"
   },
   {
    "duration": 235,
    "start_time": "2025-02-26T04:08:04.216Z"
   },
   {
    "duration": 260,
    "start_time": "2025-02-26T04:08:04.453Z"
   },
   {
    "duration": 161,
    "start_time": "2025-02-26T04:08:04.716Z"
   },
   {
    "duration": 197,
    "start_time": "2025-02-26T04:08:04.879Z"
   },
   {
    "duration": 206,
    "start_time": "2025-02-26T04:08:05.078Z"
   },
   {
    "duration": 123,
    "start_time": "2025-02-26T04:08:05.287Z"
   },
   {
    "duration": 3,
    "start_time": "2025-02-26T04:08:05.412Z"
   },
   {
    "duration": 3,
    "start_time": "2025-02-26T04:08:05.416Z"
   },
   {
    "duration": 29,
    "start_time": "2025-02-26T04:09:15.990Z"
   },
   {
    "duration": 2,
    "start_time": "2025-02-26T04:09:36.725Z"
   },
   {
    "duration": 22,
    "start_time": "2025-02-26T04:11:00.967Z"
   },
   {
    "duration": 321,
    "start_time": "2025-02-26T04:13:04.488Z"
   },
   {
    "duration": 15,
    "start_time": "2025-02-26T04:13:34.163Z"
   },
   {
    "duration": 826,
    "start_time": "2025-02-26T04:14:21.971Z"
   },
   {
    "duration": 203,
    "start_time": "2025-02-26T04:14:22.799Z"
   },
   {
    "duration": 14,
    "start_time": "2025-02-26T04:14:23.003Z"
   },
   {
    "duration": 14,
    "start_time": "2025-02-26T04:14:23.020Z"
   },
   {
    "duration": 9,
    "start_time": "2025-02-26T04:14:23.037Z"
   },
   {
    "duration": 9,
    "start_time": "2025-02-26T04:14:23.048Z"
   },
   {
    "duration": 3,
    "start_time": "2025-02-26T04:14:23.059Z"
   },
   {
    "duration": 21,
    "start_time": "2025-02-26T04:14:23.063Z"
   },
   {
    "duration": 22,
    "start_time": "2025-02-26T04:14:23.085Z"
   },
   {
    "duration": 31,
    "start_time": "2025-02-26T04:14:23.109Z"
   },
   {
    "duration": 17,
    "start_time": "2025-02-26T04:14:23.141Z"
   },
   {
    "duration": 12,
    "start_time": "2025-02-26T04:14:23.159Z"
   },
   {
    "duration": 5,
    "start_time": "2025-02-26T04:14:23.175Z"
   },
   {
    "duration": 22,
    "start_time": "2025-02-26T04:14:23.207Z"
   },
   {
    "duration": 14,
    "start_time": "2025-02-26T04:14:23.231Z"
   },
   {
    "duration": 14,
    "start_time": "2025-02-26T04:14:23.246Z"
   },
   {
    "duration": 7,
    "start_time": "2025-02-26T04:14:23.261Z"
   },
   {
    "duration": 51,
    "start_time": "2025-02-26T04:14:23.270Z"
   },
   {
    "duration": 17,
    "start_time": "2025-02-26T04:14:23.322Z"
   },
   {
    "duration": 9,
    "start_time": "2025-02-26T04:14:23.340Z"
   },
   {
    "duration": 19,
    "start_time": "2025-02-26T04:14:23.352Z"
   },
   {
    "duration": 40,
    "start_time": "2025-02-26T04:14:23.373Z"
   },
   {
    "duration": 15,
    "start_time": "2025-02-26T04:14:23.414Z"
   },
   {
    "duration": 13,
    "start_time": "2025-02-26T04:14:23.430Z"
   },
   {
    "duration": 19,
    "start_time": "2025-02-26T04:14:23.445Z"
   },
   {
    "duration": 39,
    "start_time": "2025-02-26T04:14:23.466Z"
   },
   {
    "duration": 19,
    "start_time": "2025-02-26T04:14:23.507Z"
   },
   {
    "duration": 226,
    "start_time": "2025-02-26T04:14:23.527Z"
   },
   {
    "duration": 221,
    "start_time": "2025-02-26T04:14:23.755Z"
   },
   {
    "duration": 8,
    "start_time": "2025-02-26T04:14:23.978Z"
   },
   {
    "duration": 190,
    "start_time": "2025-02-26T04:14:23.987Z"
   },
   {
    "duration": 190,
    "start_time": "2025-02-26T04:14:24.180Z"
   },
   {
    "duration": 265,
    "start_time": "2025-02-26T04:14:24.373Z"
   },
   {
    "duration": 132,
    "start_time": "2025-02-26T04:14:24.640Z"
   },
   {
    "duration": 189,
    "start_time": "2025-02-26T04:14:24.774Z"
   },
   {
    "duration": 222,
    "start_time": "2025-02-26T04:14:24.965Z"
   },
   {
    "duration": 139,
    "start_time": "2025-02-26T04:14:25.189Z"
   },
   {
    "duration": 744,
    "start_time": "2025-02-26T04:14:25.330Z"
   },
   {
    "duration": 0,
    "start_time": "2025-02-26T04:14:26.076Z"
   },
   {
    "duration": 45,
    "start_time": "2025-02-26T04:14:50.172Z"
   },
   {
    "duration": 17,
    "start_time": "2025-02-26T04:15:48.278Z"
   },
   {
    "duration": 60,
    "start_time": "2025-02-26T04:15:58.914Z"
   },
   {
    "duration": 7,
    "start_time": "2025-02-26T04:16:19.535Z"
   },
   {
    "duration": 9,
    "start_time": "2025-02-26T04:20:51.670Z"
   },
   {
    "duration": 21,
    "start_time": "2025-02-26T04:21:25.249Z"
   },
   {
    "duration": 9,
    "start_time": "2025-02-26T04:21:31.733Z"
   },
   {
    "duration": 7,
    "start_time": "2025-02-26T04:22:36.238Z"
   },
   {
    "duration": 23,
    "start_time": "2025-02-26T04:37:06.701Z"
   },
   {
    "duration": 818,
    "start_time": "2025-02-26T04:37:43.975Z"
   },
   {
    "duration": 164,
    "start_time": "2025-02-26T04:37:44.795Z"
   },
   {
    "duration": 9,
    "start_time": "2025-02-26T04:37:44.961Z"
   },
   {
    "duration": 11,
    "start_time": "2025-02-26T04:37:44.972Z"
   },
   {
    "duration": 7,
    "start_time": "2025-02-26T04:37:44.985Z"
   },
   {
    "duration": 12,
    "start_time": "2025-02-26T04:37:44.994Z"
   },
   {
    "duration": 3,
    "start_time": "2025-02-26T04:37:45.008Z"
   },
   {
    "duration": 16,
    "start_time": "2025-02-26T04:37:45.012Z"
   },
   {
    "duration": 6,
    "start_time": "2025-02-26T04:37:45.029Z"
   },
   {
    "duration": 25,
    "start_time": "2025-02-26T04:37:45.039Z"
   },
   {
    "duration": 44,
    "start_time": "2025-02-26T04:37:45.065Z"
   },
   {
    "duration": 11,
    "start_time": "2025-02-26T04:37:45.111Z"
   },
   {
    "duration": 7,
    "start_time": "2025-02-26T04:37:45.124Z"
   },
   {
    "duration": 18,
    "start_time": "2025-02-26T04:37:45.132Z"
   },
   {
    "duration": 12,
    "start_time": "2025-02-26T04:37:45.151Z"
   },
   {
    "duration": 13,
    "start_time": "2025-02-26T04:37:45.164Z"
   },
   {
    "duration": 30,
    "start_time": "2025-02-26T04:37:45.178Z"
   },
   {
    "duration": 23,
    "start_time": "2025-02-26T04:37:45.210Z"
   },
   {
    "duration": 14,
    "start_time": "2025-02-26T04:37:45.234Z"
   },
   {
    "duration": 7,
    "start_time": "2025-02-26T04:37:45.249Z"
   },
   {
    "duration": 48,
    "start_time": "2025-02-26T04:37:45.258Z"
   },
   {
    "duration": 17,
    "start_time": "2025-02-26T04:37:45.308Z"
   },
   {
    "duration": 12,
    "start_time": "2025-02-26T04:37:45.327Z"
   },
   {
    "duration": 12,
    "start_time": "2025-02-26T04:37:45.341Z"
   },
   {
    "duration": 18,
    "start_time": "2025-02-26T04:37:45.355Z"
   },
   {
    "duration": 169,
    "start_time": "2025-02-26T04:37:45.374Z"
   },
   {
    "duration": 0,
    "start_time": "2025-02-26T04:37:45.546Z"
   },
   {
    "duration": 0,
    "start_time": "2025-02-26T04:37:45.547Z"
   },
   {
    "duration": 0,
    "start_time": "2025-02-26T04:37:45.548Z"
   },
   {
    "duration": 0,
    "start_time": "2025-02-26T04:37:45.550Z"
   },
   {
    "duration": 0,
    "start_time": "2025-02-26T04:37:45.551Z"
   },
   {
    "duration": 0,
    "start_time": "2025-02-26T04:37:45.553Z"
   },
   {
    "duration": 0,
    "start_time": "2025-02-26T04:37:45.554Z"
   },
   {
    "duration": 0,
    "start_time": "2025-02-26T04:37:45.556Z"
   },
   {
    "duration": 0,
    "start_time": "2025-02-26T04:37:45.557Z"
   },
   {
    "duration": 0,
    "start_time": "2025-02-26T04:37:45.559Z"
   },
   {
    "duration": 0,
    "start_time": "2025-02-26T04:37:45.561Z"
   },
   {
    "duration": 0,
    "start_time": "2025-02-26T04:37:45.562Z"
   },
   {
    "duration": 0,
    "start_time": "2025-02-26T04:37:45.564Z"
   },
   {
    "duration": 0,
    "start_time": "2025-02-26T04:37:45.565Z"
   },
   {
    "duration": 8,
    "start_time": "2025-02-26T04:38:55.597Z"
   },
   {
    "duration": 170,
    "start_time": "2025-02-26T04:40:05.755Z"
   },
   {
    "duration": 19,
    "start_time": "2025-02-26T04:40:12.016Z"
   },
   {
    "duration": 13,
    "start_time": "2025-02-26T04:41:12.494Z"
   },
   {
    "duration": 16,
    "start_time": "2025-02-26T04:48:15.639Z"
   },
   {
    "duration": 18,
    "start_time": "2025-02-26T04:55:01.486Z"
   },
   {
    "duration": 17,
    "start_time": "2025-02-26T04:55:34.181Z"
   },
   {
    "duration": 28,
    "start_time": "2025-02-26T05:01:19.213Z"
   },
   {
    "duration": 29,
    "start_time": "2025-02-26T05:01:44.207Z"
   },
   {
    "duration": 23,
    "start_time": "2025-02-26T05:02:59.935Z"
   },
   {
    "duration": 15,
    "start_time": "2025-02-26T05:03:07.873Z"
   },
   {
    "duration": 18,
    "start_time": "2025-02-26T05:03:32.358Z"
   },
   {
    "duration": 938,
    "start_time": "2025-02-26T05:03:53.398Z"
   },
   {
    "duration": 205,
    "start_time": "2025-02-26T05:03:54.338Z"
   },
   {
    "duration": 10,
    "start_time": "2025-02-26T05:03:54.546Z"
   },
   {
    "duration": 11,
    "start_time": "2025-02-26T05:03:54.558Z"
   },
   {
    "duration": 9,
    "start_time": "2025-02-26T05:03:54.570Z"
   },
   {
    "duration": 8,
    "start_time": "2025-02-26T05:03:54.581Z"
   },
   {
    "duration": 3,
    "start_time": "2025-02-26T05:03:54.605Z"
   },
   {
    "duration": 19,
    "start_time": "2025-02-26T05:03:54.610Z"
   },
   {
    "duration": 8,
    "start_time": "2025-02-26T05:03:54.631Z"
   },
   {
    "duration": 35,
    "start_time": "2025-02-26T05:03:54.642Z"
   },
   {
    "duration": 37,
    "start_time": "2025-02-26T05:03:54.679Z"
   },
   {
    "duration": 15,
    "start_time": "2025-02-26T05:03:54.718Z"
   },
   {
    "duration": 6,
    "start_time": "2025-02-26T05:03:54.734Z"
   },
   {
    "duration": 24,
    "start_time": "2025-02-26T05:03:54.742Z"
   },
   {
    "duration": 38,
    "start_time": "2025-02-26T05:03:54.768Z"
   },
   {
    "duration": 19,
    "start_time": "2025-02-26T05:03:54.808Z"
   },
   {
    "duration": 7,
    "start_time": "2025-02-26T05:03:54.829Z"
   },
   {
    "duration": 29,
    "start_time": "2025-02-26T05:03:54.837Z"
   },
   {
    "duration": 17,
    "start_time": "2025-02-26T05:03:54.868Z"
   },
   {
    "duration": 9,
    "start_time": "2025-02-26T05:03:54.905Z"
   },
   {
    "duration": 22,
    "start_time": "2025-02-26T05:03:54.917Z"
   },
   {
    "duration": 21,
    "start_time": "2025-02-26T05:03:54.941Z"
   },
   {
    "duration": 16,
    "start_time": "2025-02-26T05:03:54.963Z"
   },
   {
    "duration": 36,
    "start_time": "2025-02-26T05:03:54.981Z"
   },
   {
    "duration": 22,
    "start_time": "2025-02-26T05:03:55.020Z"
   },
   {
    "duration": 21,
    "start_time": "2025-02-26T05:03:55.045Z"
   },
   {
    "duration": 972,
    "start_time": "2025-02-26T05:03:55.070Z"
   },
   {
    "duration": 0,
    "start_time": "2025-02-26T05:03:56.045Z"
   },
   {
    "duration": 0,
    "start_time": "2025-02-26T05:03:56.046Z"
   },
   {
    "duration": 0,
    "start_time": "2025-02-26T05:03:56.047Z"
   },
   {
    "duration": 0,
    "start_time": "2025-02-26T05:03:56.049Z"
   },
   {
    "duration": 0,
    "start_time": "2025-02-26T05:03:56.050Z"
   },
   {
    "duration": 0,
    "start_time": "2025-02-26T05:03:56.051Z"
   },
   {
    "duration": 0,
    "start_time": "2025-02-26T05:03:56.052Z"
   },
   {
    "duration": 0,
    "start_time": "2025-02-26T05:03:56.053Z"
   },
   {
    "duration": 0,
    "start_time": "2025-02-26T05:03:56.054Z"
   },
   {
    "duration": 0,
    "start_time": "2025-02-26T05:03:56.055Z"
   },
   {
    "duration": 0,
    "start_time": "2025-02-26T05:03:56.057Z"
   },
   {
    "duration": 0,
    "start_time": "2025-02-26T05:03:56.058Z"
   },
   {
    "duration": 0,
    "start_time": "2025-02-26T05:03:56.059Z"
   },
   {
    "duration": 33,
    "start_time": "2025-02-26T05:04:35.737Z"
   },
   {
    "duration": 955,
    "start_time": "2025-02-26T05:05:14.416Z"
   },
   {
    "duration": 222,
    "start_time": "2025-02-26T05:05:15.373Z"
   },
   {
    "duration": 12,
    "start_time": "2025-02-26T05:05:15.601Z"
   },
   {
    "duration": 10,
    "start_time": "2025-02-26T05:05:15.615Z"
   },
   {
    "duration": 8,
    "start_time": "2025-02-26T05:05:15.627Z"
   },
   {
    "duration": 8,
    "start_time": "2025-02-26T05:05:15.636Z"
   },
   {
    "duration": 3,
    "start_time": "2025-02-26T05:05:15.645Z"
   },
   {
    "duration": 19,
    "start_time": "2025-02-26T05:05:15.650Z"
   },
   {
    "duration": 7,
    "start_time": "2025-02-26T05:05:15.671Z"
   },
   {
    "duration": 35,
    "start_time": "2025-02-26T05:05:15.706Z"
   },
   {
    "duration": 20,
    "start_time": "2025-02-26T05:05:15.743Z"
   },
   {
    "duration": 16,
    "start_time": "2025-02-26T05:05:15.766Z"
   },
   {
    "duration": 20,
    "start_time": "2025-02-26T05:05:15.785Z"
   },
   {
    "duration": 24,
    "start_time": "2025-02-26T05:05:15.808Z"
   },
   {
    "duration": 16,
    "start_time": "2025-02-26T05:05:15.835Z"
   },
   {
    "duration": 18,
    "start_time": "2025-02-26T05:05:15.854Z"
   },
   {
    "duration": 9,
    "start_time": "2025-02-26T05:05:15.876Z"
   },
   {
    "duration": 38,
    "start_time": "2025-02-26T05:05:15.888Z"
   },
   {
    "duration": 21,
    "start_time": "2025-02-26T05:05:15.930Z"
   },
   {
    "duration": 12,
    "start_time": "2025-02-26T05:05:15.953Z"
   },
   {
    "duration": 23,
    "start_time": "2025-02-26T05:05:15.968Z"
   },
   {
    "duration": 28,
    "start_time": "2025-02-26T05:05:15.994Z"
   },
   {
    "duration": 18,
    "start_time": "2025-02-26T05:05:16.025Z"
   },
   {
    "duration": 17,
    "start_time": "2025-02-26T05:05:16.047Z"
   },
   {
    "duration": 24,
    "start_time": "2025-02-26T05:05:16.067Z"
   },
   {
    "duration": 11,
    "start_time": "2025-02-26T05:05:16.095Z"
   },
   {
    "duration": 5,
    "start_time": "2025-02-26T05:05:16.107Z"
   },
   {
    "duration": 0,
    "start_time": "2025-02-26T05:05:16.114Z"
   },
   {
    "duration": 0,
    "start_time": "2025-02-26T05:05:16.115Z"
   },
   {
    "duration": 0,
    "start_time": "2025-02-26T05:05:16.116Z"
   },
   {
    "duration": 0,
    "start_time": "2025-02-26T05:05:16.117Z"
   },
   {
    "duration": 0,
    "start_time": "2025-02-26T05:05:16.118Z"
   },
   {
    "duration": 0,
    "start_time": "2025-02-26T05:05:16.119Z"
   },
   {
    "duration": 1,
    "start_time": "2025-02-26T05:05:16.120Z"
   },
   {
    "duration": 1,
    "start_time": "2025-02-26T05:05:16.121Z"
   },
   {
    "duration": 0,
    "start_time": "2025-02-26T05:05:16.123Z"
   },
   {
    "duration": 0,
    "start_time": "2025-02-26T05:05:16.124Z"
   },
   {
    "duration": 0,
    "start_time": "2025-02-26T05:05:16.125Z"
   },
   {
    "duration": 0,
    "start_time": "2025-02-26T05:05:16.126Z"
   },
   {
    "duration": 0,
    "start_time": "2025-02-26T05:05:16.127Z"
   },
   {
    "duration": 0,
    "start_time": "2025-02-26T05:05:16.128Z"
   },
   {
    "duration": 15,
    "start_time": "2025-02-26T05:05:24.187Z"
   },
   {
    "duration": 14,
    "start_time": "2025-02-26T05:05:34.339Z"
   },
   {
    "duration": 14,
    "start_time": "2025-02-26T05:05:36.371Z"
   },
   {
    "duration": 18,
    "start_time": "2025-02-26T05:05:39.077Z"
   },
   {
    "duration": 12,
    "start_time": "2025-02-26T05:05:48.350Z"
   },
   {
    "duration": 10,
    "start_time": "2025-02-26T05:08:27.732Z"
   },
   {
    "duration": 19,
    "start_time": "2025-02-26T05:08:32.142Z"
   },
   {
    "duration": 985,
    "start_time": "2025-02-26T05:08:49.459Z"
   },
   {
    "duration": 218,
    "start_time": "2025-02-26T05:08:50.446Z"
   },
   {
    "duration": 15,
    "start_time": "2025-02-26T05:08:50.667Z"
   },
   {
    "duration": 13,
    "start_time": "2025-02-26T05:08:50.685Z"
   },
   {
    "duration": 14,
    "start_time": "2025-02-26T05:08:50.701Z"
   },
   {
    "duration": 12,
    "start_time": "2025-02-26T05:08:50.718Z"
   },
   {
    "duration": 4,
    "start_time": "2025-02-26T05:08:50.733Z"
   },
   {
    "duration": 19,
    "start_time": "2025-02-26T05:08:50.738Z"
   },
   {
    "duration": 7,
    "start_time": "2025-02-26T05:08:50.758Z"
   },
   {
    "duration": 46,
    "start_time": "2025-02-26T05:08:50.768Z"
   },
   {
    "duration": 20,
    "start_time": "2025-02-26T05:08:50.816Z"
   },
   {
    "duration": 14,
    "start_time": "2025-02-26T05:08:50.839Z"
   },
   {
    "duration": 6,
    "start_time": "2025-02-26T05:08:50.855Z"
   },
   {
    "duration": 24,
    "start_time": "2025-02-26T05:08:50.862Z"
   },
   {
    "duration": 14,
    "start_time": "2025-02-26T05:08:50.906Z"
   },
   {
    "duration": 16,
    "start_time": "2025-02-26T05:08:50.922Z"
   },
   {
    "duration": 7,
    "start_time": "2025-02-26T05:08:50.940Z"
   },
   {
    "duration": 31,
    "start_time": "2025-02-26T05:08:50.949Z"
   },
   {
    "duration": 39,
    "start_time": "2025-02-26T05:08:50.981Z"
   },
   {
    "duration": 8,
    "start_time": "2025-02-26T05:08:51.022Z"
   },
   {
    "duration": 22,
    "start_time": "2025-02-26T05:08:51.031Z"
   },
   {
    "duration": 20,
    "start_time": "2025-02-26T05:08:51.054Z"
   },
   {
    "duration": 36,
    "start_time": "2025-02-26T05:08:51.076Z"
   },
   {
    "duration": 18,
    "start_time": "2025-02-26T05:08:51.115Z"
   },
   {
    "duration": 21,
    "start_time": "2025-02-26T05:08:51.136Z"
   },
   {
    "duration": 9,
    "start_time": "2025-02-26T05:08:51.158Z"
   },
   {
    "duration": 11,
    "start_time": "2025-02-26T05:08:51.169Z"
   },
   {
    "duration": 195,
    "start_time": "2025-02-26T05:08:51.184Z"
   },
   {
    "duration": 0,
    "start_time": "2025-02-26T05:08:51.381Z"
   },
   {
    "duration": 0,
    "start_time": "2025-02-26T05:08:51.382Z"
   },
   {
    "duration": 0,
    "start_time": "2025-02-26T05:08:51.384Z"
   },
   {
    "duration": 0,
    "start_time": "2025-02-26T05:08:51.385Z"
   },
   {
    "duration": 0,
    "start_time": "2025-02-26T05:08:51.386Z"
   },
   {
    "duration": 0,
    "start_time": "2025-02-26T05:08:51.387Z"
   },
   {
    "duration": 0,
    "start_time": "2025-02-26T05:08:51.389Z"
   },
   {
    "duration": 0,
    "start_time": "2025-02-26T05:08:51.390Z"
   },
   {
    "duration": 0,
    "start_time": "2025-02-26T05:08:51.391Z"
   },
   {
    "duration": 0,
    "start_time": "2025-02-26T05:08:51.405Z"
   },
   {
    "duration": 0,
    "start_time": "2025-02-26T05:08:51.406Z"
   },
   {
    "duration": 0,
    "start_time": "2025-02-26T05:08:51.408Z"
   },
   {
    "duration": 0,
    "start_time": "2025-02-26T05:08:51.409Z"
   },
   {
    "duration": 28,
    "start_time": "2025-02-26T05:13:09.261Z"
   },
   {
    "duration": 26,
    "start_time": "2025-02-26T05:13:54.585Z"
   },
   {
    "duration": 842,
    "start_time": "2025-02-26T05:14:36.558Z"
   },
   {
    "duration": 157,
    "start_time": "2025-02-26T05:14:37.403Z"
   },
   {
    "duration": 9,
    "start_time": "2025-02-26T05:14:37.562Z"
   },
   {
    "duration": 10,
    "start_time": "2025-02-26T05:14:37.573Z"
   },
   {
    "duration": 9,
    "start_time": "2025-02-26T05:14:37.586Z"
   },
   {
    "duration": 16,
    "start_time": "2025-02-26T05:14:37.596Z"
   },
   {
    "duration": 3,
    "start_time": "2025-02-26T05:14:37.614Z"
   },
   {
    "duration": 15,
    "start_time": "2025-02-26T05:14:37.618Z"
   },
   {
    "duration": 6,
    "start_time": "2025-02-26T05:14:37.635Z"
   },
   {
    "duration": 24,
    "start_time": "2025-02-26T05:14:37.644Z"
   },
   {
    "duration": 46,
    "start_time": "2025-02-26T05:14:37.670Z"
   },
   {
    "duration": 11,
    "start_time": "2025-02-26T05:14:37.720Z"
   },
   {
    "duration": 7,
    "start_time": "2025-02-26T05:14:37.733Z"
   },
   {
    "duration": 26,
    "start_time": "2025-02-26T05:14:37.741Z"
   },
   {
    "duration": 35,
    "start_time": "2025-02-26T05:14:37.770Z"
   },
   {
    "duration": 16,
    "start_time": "2025-02-26T05:14:37.808Z"
   },
   {
    "duration": 8,
    "start_time": "2025-02-26T05:14:37.827Z"
   },
   {
    "duration": 29,
    "start_time": "2025-02-26T05:14:37.837Z"
   },
   {
    "duration": 18,
    "start_time": "2025-02-26T05:14:37.867Z"
   },
   {
    "duration": 8,
    "start_time": "2025-02-26T05:14:37.905Z"
   },
   {
    "duration": 21,
    "start_time": "2025-02-26T05:14:37.915Z"
   },
   {
    "duration": 20,
    "start_time": "2025-02-26T05:14:37.938Z"
   },
   {
    "duration": 18,
    "start_time": "2025-02-26T05:14:37.962Z"
   },
   {
    "duration": 29,
    "start_time": "2025-02-26T05:14:37.982Z"
   },
   {
    "duration": 22,
    "start_time": "2025-02-26T05:14:38.012Z"
   },
   {
    "duration": 9,
    "start_time": "2025-02-26T05:14:38.036Z"
   },
   {
    "duration": 12,
    "start_time": "2025-02-26T05:14:38.047Z"
   },
   {
    "duration": 43,
    "start_time": "2025-02-26T05:14:38.063Z"
   },
   {
    "duration": 563,
    "start_time": "2025-02-26T05:14:38.107Z"
   },
   {
    "duration": 0,
    "start_time": "2025-02-26T05:14:38.672Z"
   },
   {
    "duration": 0,
    "start_time": "2025-02-26T05:14:38.673Z"
   },
   {
    "duration": 0,
    "start_time": "2025-02-26T05:14:38.674Z"
   },
   {
    "duration": 0,
    "start_time": "2025-02-26T05:14:38.676Z"
   },
   {
    "duration": 0,
    "start_time": "2025-02-26T05:14:38.676Z"
   },
   {
    "duration": 0,
    "start_time": "2025-02-26T05:14:38.678Z"
   },
   {
    "duration": 0,
    "start_time": "2025-02-26T05:14:38.679Z"
   },
   {
    "duration": 0,
    "start_time": "2025-02-26T05:14:38.679Z"
   },
   {
    "duration": 0,
    "start_time": "2025-02-26T05:14:38.681Z"
   },
   {
    "duration": 0,
    "start_time": "2025-02-26T05:14:38.681Z"
   },
   {
    "duration": 0,
    "start_time": "2025-02-26T05:14:38.682Z"
   },
   {
    "duration": 0,
    "start_time": "2025-02-26T05:14:38.683Z"
   },
   {
    "duration": 912,
    "start_time": "2025-02-26T05:17:31.987Z"
   },
   {
    "duration": 161,
    "start_time": "2025-02-26T05:17:32.901Z"
   },
   {
    "duration": 10,
    "start_time": "2025-02-26T05:17:33.063Z"
   },
   {
    "duration": 10,
    "start_time": "2025-02-26T05:17:33.075Z"
   },
   {
    "duration": 8,
    "start_time": "2025-02-26T05:17:33.087Z"
   },
   {
    "duration": 16,
    "start_time": "2025-02-26T05:17:33.097Z"
   },
   {
    "duration": 3,
    "start_time": "2025-02-26T05:17:33.115Z"
   },
   {
    "duration": 19,
    "start_time": "2025-02-26T05:17:33.119Z"
   },
   {
    "duration": 7,
    "start_time": "2025-02-26T05:17:33.140Z"
   },
   {
    "duration": 24,
    "start_time": "2025-02-26T05:17:33.149Z"
   },
   {
    "duration": 46,
    "start_time": "2025-02-26T05:17:33.175Z"
   },
   {
    "duration": 11,
    "start_time": "2025-02-26T05:17:33.223Z"
   },
   {
    "duration": 6,
    "start_time": "2025-02-26T05:17:33.237Z"
   },
   {
    "duration": 16,
    "start_time": "2025-02-26T05:17:33.246Z"
   },
   {
    "duration": 12,
    "start_time": "2025-02-26T05:17:33.265Z"
   },
   {
    "duration": 37,
    "start_time": "2025-02-26T05:17:33.278Z"
   },
   {
    "duration": 6,
    "start_time": "2025-02-26T05:17:33.317Z"
   },
   {
    "duration": 23,
    "start_time": "2025-02-26T05:17:33.324Z"
   },
   {
    "duration": 13,
    "start_time": "2025-02-26T05:17:33.349Z"
   },
   {
    "duration": 7,
    "start_time": "2025-02-26T05:17:33.364Z"
   },
   {
    "duration": 46,
    "start_time": "2025-02-26T05:17:33.373Z"
   },
   {
    "duration": 17,
    "start_time": "2025-02-26T05:17:33.421Z"
   },
   {
    "duration": 15,
    "start_time": "2025-02-26T05:17:33.440Z"
   },
   {
    "duration": 13,
    "start_time": "2025-02-26T05:17:33.457Z"
   },
   {
    "duration": 18,
    "start_time": "2025-02-26T05:17:33.505Z"
   },
   {
    "duration": 8,
    "start_time": "2025-02-26T05:17:33.525Z"
   },
   {
    "duration": 11,
    "start_time": "2025-02-26T05:17:33.534Z"
   },
   {
    "duration": 16,
    "start_time": "2025-02-26T05:17:33.546Z"
   },
   {
    "duration": 210,
    "start_time": "2025-02-26T05:17:33.564Z"
   },
   {
    "duration": 224,
    "start_time": "2025-02-26T05:17:33.776Z"
   },
   {
    "duration": 7,
    "start_time": "2025-02-26T05:17:34.005Z"
   },
   {
    "duration": 192,
    "start_time": "2025-02-26T05:17:34.013Z"
   },
   {
    "duration": 184,
    "start_time": "2025-02-26T05:17:34.207Z"
   },
   {
    "duration": 633,
    "start_time": "2025-02-26T05:17:34.393Z"
   },
   {
    "duration": 0,
    "start_time": "2025-02-26T05:17:35.028Z"
   },
   {
    "duration": 0,
    "start_time": "2025-02-26T05:17:35.029Z"
   },
   {
    "duration": 0,
    "start_time": "2025-02-26T05:17:35.031Z"
   },
   {
    "duration": 0,
    "start_time": "2025-02-26T05:17:35.032Z"
   },
   {
    "duration": 0,
    "start_time": "2025-02-26T05:17:35.034Z"
   },
   {
    "duration": 0,
    "start_time": "2025-02-26T05:17:35.036Z"
   },
   {
    "duration": 0,
    "start_time": "2025-02-26T05:17:35.037Z"
   },
   {
    "duration": 231,
    "start_time": "2025-02-26T05:17:55.824Z"
   },
   {
    "duration": 261,
    "start_time": "2025-02-26T05:18:01.725Z"
   },
   {
    "duration": 119,
    "start_time": "2025-02-26T05:18:14.560Z"
   },
   {
    "duration": 180,
    "start_time": "2025-02-26T05:18:21.091Z"
   },
   {
    "duration": 201,
    "start_time": "2025-02-26T05:18:24.794Z"
   },
   {
    "duration": 118,
    "start_time": "2025-02-26T05:18:28.303Z"
   },
   {
    "duration": 16,
    "start_time": "2025-02-26T05:18:35.557Z"
   },
   {
    "duration": 14,
    "start_time": "2025-02-26T05:18:57.528Z"
   },
   {
    "duration": 8,
    "start_time": "2025-02-26T05:19:25.523Z"
   },
   {
    "duration": 2522,
    "start_time": "2025-02-26T15:07:08.941Z"
   },
   {
    "duration": 196,
    "start_time": "2025-02-26T15:07:11.465Z"
   },
   {
    "duration": 9,
    "start_time": "2025-02-26T15:07:11.662Z"
   },
   {
    "duration": 9,
    "start_time": "2025-02-26T15:07:11.674Z"
   },
   {
    "duration": 8,
    "start_time": "2025-02-26T15:07:11.685Z"
   },
   {
    "duration": 8,
    "start_time": "2025-02-26T15:07:11.695Z"
   },
   {
    "duration": 3,
    "start_time": "2025-02-26T15:07:11.704Z"
   },
   {
    "duration": 16,
    "start_time": "2025-02-26T15:07:11.731Z"
   },
   {
    "duration": 6,
    "start_time": "2025-02-26T15:07:11.749Z"
   },
   {
    "duration": 25,
    "start_time": "2025-02-26T15:07:11.757Z"
   },
   {
    "duration": 17,
    "start_time": "2025-02-26T15:07:11.784Z"
   },
   {
    "duration": 12,
    "start_time": "2025-02-26T15:07:11.830Z"
   },
   {
    "duration": 6,
    "start_time": "2025-02-26T15:07:11.844Z"
   },
   {
    "duration": 16,
    "start_time": "2025-02-26T15:07:11.854Z"
   },
   {
    "duration": 11,
    "start_time": "2025-02-26T15:07:11.872Z"
   },
   {
    "duration": 14,
    "start_time": "2025-02-26T15:07:11.885Z"
   },
   {
    "duration": 36,
    "start_time": "2025-02-26T15:07:11.900Z"
   },
   {
    "duration": 24,
    "start_time": "2025-02-26T15:07:11.937Z"
   },
   {
    "duration": 16,
    "start_time": "2025-02-26T15:07:11.962Z"
   },
   {
    "duration": 7,
    "start_time": "2025-02-26T15:07:11.980Z"
   },
   {
    "duration": 43,
    "start_time": "2025-02-26T15:07:11.989Z"
   },
   {
    "duration": 15,
    "start_time": "2025-02-26T15:07:12.033Z"
   },
   {
    "duration": 13,
    "start_time": "2025-02-26T15:07:12.050Z"
   },
   {
    "duration": 11,
    "start_time": "2025-02-26T15:07:12.065Z"
   },
   {
    "duration": 16,
    "start_time": "2025-02-26T15:07:12.078Z"
   },
   {
    "duration": 36,
    "start_time": "2025-02-26T15:07:12.095Z"
   },
   {
    "duration": 10,
    "start_time": "2025-02-26T15:07:12.133Z"
   },
   {
    "duration": 14,
    "start_time": "2025-02-26T15:07:12.145Z"
   },
   {
    "duration": 213,
    "start_time": "2025-02-26T15:07:12.161Z"
   },
   {
    "duration": 222,
    "start_time": "2025-02-26T15:07:12.376Z"
   },
   {
    "duration": 7,
    "start_time": "2025-02-26T15:07:12.599Z"
   },
   {
    "duration": 129,
    "start_time": "2025-02-26T15:07:12.608Z"
   },
   {
    "duration": 180,
    "start_time": "2025-02-26T15:07:12.739Z"
   },
   {
    "duration": 303,
    "start_time": "2025-02-26T15:07:12.921Z"
   },
   {
    "duration": 128,
    "start_time": "2025-02-26T15:07:13.231Z"
   },
   {
    "duration": 183,
    "start_time": "2025-02-26T15:07:13.361Z"
   },
   {
    "duration": 204,
    "start_time": "2025-02-26T15:07:13.546Z"
   },
   {
    "duration": 121,
    "start_time": "2025-02-26T15:07:13.752Z"
   },
   {
    "duration": 221,
    "start_time": "2025-02-26T15:07:13.874Z"
   },
   {
    "duration": 0,
    "start_time": "2025-02-26T15:07:14.096Z"
   },
   {
    "duration": 0,
    "start_time": "2025-02-26T15:07:14.097Z"
   },
   {
    "duration": 6,
    "start_time": "2025-02-26T15:07:34.047Z"
   },
   {
    "duration": 17,
    "start_time": "2025-02-26T15:08:01.452Z"
   },
   {
    "duration": 300,
    "start_time": "2025-02-26T15:16:27.774Z"
   },
   {
    "duration": 40,
    "start_time": "2025-02-26T15:18:07.179Z"
   },
   {
    "duration": 413,
    "start_time": "2025-02-26T15:19:07.270Z"
   },
   {
    "duration": 4,
    "start_time": "2025-02-26T15:24:45.772Z"
   },
   {
    "duration": 75,
    "start_time": "2025-02-26T15:24:53.117Z"
   },
   {
    "duration": 73,
    "start_time": "2025-02-26T15:25:44.611Z"
   },
   {
    "duration": 1137,
    "start_time": "2025-02-26T15:27:12.277Z"
   },
   {
    "duration": 73,
    "start_time": "2025-02-26T15:27:19.071Z"
   },
   {
    "duration": 6,
    "start_time": "2025-02-26T15:27:54.278Z"
   },
   {
    "duration": 7,
    "start_time": "2025-02-26T15:27:57.837Z"
   },
   {
    "duration": 1019,
    "start_time": "2025-02-26T15:28:11.688Z"
   },
   {
    "duration": 980,
    "start_time": "2025-02-26T15:28:38.062Z"
   },
   {
    "duration": 821,
    "start_time": "2025-02-26T15:29:31.492Z"
   },
   {
    "duration": 157,
    "start_time": "2025-02-26T15:29:32.315Z"
   },
   {
    "duration": 10,
    "start_time": "2025-02-26T15:29:32.474Z"
   },
   {
    "duration": 8,
    "start_time": "2025-02-26T15:29:32.487Z"
   },
   {
    "duration": 7,
    "start_time": "2025-02-26T15:29:32.497Z"
   },
   {
    "duration": 26,
    "start_time": "2025-02-26T15:29:32.506Z"
   },
   {
    "duration": 3,
    "start_time": "2025-02-26T15:29:32.533Z"
   },
   {
    "duration": 15,
    "start_time": "2025-02-26T15:29:32.538Z"
   },
   {
    "duration": 6,
    "start_time": "2025-02-26T15:29:32.554Z"
   },
   {
    "duration": 24,
    "start_time": "2025-02-26T15:29:32.563Z"
   },
   {
    "duration": 16,
    "start_time": "2025-02-26T15:29:32.588Z"
   },
   {
    "duration": 12,
    "start_time": "2025-02-26T15:29:32.632Z"
   },
   {
    "duration": 5,
    "start_time": "2025-02-26T15:29:32.645Z"
   },
   {
    "duration": 17,
    "start_time": "2025-02-26T15:29:32.652Z"
   },
   {
    "duration": 13,
    "start_time": "2025-02-26T15:29:32.670Z"
   },
   {
    "duration": 13,
    "start_time": "2025-02-26T15:29:32.685Z"
   },
   {
    "duration": 36,
    "start_time": "2025-02-26T15:29:32.699Z"
   },
   {
    "duration": 20,
    "start_time": "2025-02-26T15:29:32.737Z"
   },
   {
    "duration": 14,
    "start_time": "2025-02-26T15:29:32.759Z"
   },
   {
    "duration": 7,
    "start_time": "2025-02-26T15:29:32.775Z"
   },
   {
    "duration": 48,
    "start_time": "2025-02-26T15:29:32.784Z"
   },
   {
    "duration": 17,
    "start_time": "2025-02-26T15:29:32.833Z"
   },
   {
    "duration": 11,
    "start_time": "2025-02-26T15:29:32.852Z"
   },
   {
    "duration": 12,
    "start_time": "2025-02-26T15:29:32.865Z"
   },
   {
    "duration": 17,
    "start_time": "2025-02-26T15:29:32.879Z"
   },
   {
    "duration": 35,
    "start_time": "2025-02-26T15:29:32.898Z"
   },
   {
    "duration": 10,
    "start_time": "2025-02-26T15:29:32.935Z"
   },
   {
    "duration": 937,
    "start_time": "2025-02-26T15:29:32.949Z"
   },
   {
    "duration": 184,
    "start_time": "2025-02-26T15:29:33.888Z"
   },
   {
    "duration": 221,
    "start_time": "2025-02-26T15:29:34.074Z"
   },
   {
    "duration": 6,
    "start_time": "2025-02-26T15:29:34.297Z"
   },
   {
    "duration": 177,
    "start_time": "2025-02-26T15:29:34.305Z"
   },
   {
    "duration": 183,
    "start_time": "2025-02-26T15:29:34.483Z"
   },
   {
    "duration": 239,
    "start_time": "2025-02-26T15:29:34.668Z"
   },
   {
    "duration": 129,
    "start_time": "2025-02-26T15:29:34.909Z"
   },
   {
    "duration": 191,
    "start_time": "2025-02-26T15:29:35.040Z"
   },
   {
    "duration": 205,
    "start_time": "2025-02-26T15:29:35.233Z"
   },
   {
    "duration": 125,
    "start_time": "2025-02-26T15:29:35.440Z"
   },
   {
    "duration": 16,
    "start_time": "2025-02-26T15:29:35.567Z"
   },
   {
    "duration": 7,
    "start_time": "2025-02-26T15:29:35.585Z"
   },
   {
    "duration": 2,
    "start_time": "2025-02-26T15:29:35.594Z"
   },
   {
    "duration": 9,
    "start_time": "2025-02-26T15:31:49.077Z"
   },
   {
    "duration": 10,
    "start_time": "2025-02-26T15:31:59.885Z"
   },
   {
    "duration": 12,
    "start_time": "2025-02-26T15:32:06.342Z"
   },
   {
    "duration": 12,
    "start_time": "2025-02-26T15:32:14.836Z"
   },
   {
    "duration": 990,
    "start_time": "2025-02-26T15:35:37.723Z"
   },
   {
    "duration": 983,
    "start_time": "2025-02-26T15:35:50.080Z"
   },
   {
    "duration": 4,
    "start_time": "2025-02-26T15:35:54.923Z"
   },
   {
    "duration": 3,
    "start_time": "2025-02-26T16:00:15.370Z"
   },
   {
    "duration": 1027,
    "start_time": "2025-02-26T16:00:18.327Z"
   },
   {
    "duration": 3,
    "start_time": "2025-02-26T16:05:59.183Z"
   },
   {
    "duration": 949,
    "start_time": "2025-02-26T16:06:03.669Z"
   },
   {
    "duration": 938,
    "start_time": "2025-02-26T16:17:16.114Z"
   },
   {
    "duration": 971,
    "start_time": "2025-02-26T16:17:46.136Z"
   },
   {
    "duration": 7,
    "start_time": "2025-02-26T16:18:30.391Z"
   },
   {
    "duration": 281,
    "start_time": "2025-02-26T16:22:53.526Z"
   },
   {
    "duration": 976,
    "start_time": "2025-02-26T16:25:46.420Z"
   },
   {
    "duration": 13,
    "start_time": "2025-02-26T16:26:01.453Z"
   },
   {
    "duration": 13,
    "start_time": "2025-02-26T16:26:22.132Z"
   },
   {
    "duration": 12,
    "start_time": "2025-02-26T16:26:27.228Z"
   },
   {
    "duration": 11,
    "start_time": "2025-02-26T16:26:36.424Z"
   },
   {
    "duration": 1005,
    "start_time": "2025-02-26T16:28:42.254Z"
   },
   {
    "duration": 988,
    "start_time": "2025-02-26T16:29:00.721Z"
   },
   {
    "duration": 968,
    "start_time": "2025-02-26T16:29:09.209Z"
   },
   {
    "duration": 399,
    "start_time": "2025-02-26T16:34:08.735Z"
   },
   {
    "duration": 5,
    "start_time": "2025-02-26T16:34:22.705Z"
   },
   {
    "duration": 4,
    "start_time": "2025-02-26T16:34:26.878Z"
   },
   {
    "duration": 14,
    "start_time": "2025-02-26T16:34:37.971Z"
   },
   {
    "duration": 3,
    "start_time": "2025-02-26T16:35:11.541Z"
   },
   {
    "duration": 15,
    "start_time": "2025-02-26T16:35:26.586Z"
   },
   {
    "duration": 6,
    "start_time": "2025-02-26T16:35:58.161Z"
   },
   {
    "duration": 13,
    "start_time": "2025-02-26T16:36:17.886Z"
   },
   {
    "duration": 16,
    "start_time": "2025-02-26T16:36:58.432Z"
   },
   {
    "duration": 5,
    "start_time": "2025-02-26T16:38:47.822Z"
   },
   {
    "duration": 13,
    "start_time": "2025-02-26T16:39:06.326Z"
   },
   {
    "duration": 3,
    "start_time": "2025-02-26T16:39:22.845Z"
   },
   {
    "duration": 14,
    "start_time": "2025-02-26T16:39:25.904Z"
   },
   {
    "duration": 831,
    "start_time": "2025-02-26T16:39:50.288Z"
   },
   {
    "duration": 160,
    "start_time": "2025-02-26T16:39:51.121Z"
   },
   {
    "duration": 9,
    "start_time": "2025-02-26T16:39:51.283Z"
   },
   {
    "duration": 9,
    "start_time": "2025-02-26T16:39:51.296Z"
   },
   {
    "duration": 8,
    "start_time": "2025-02-26T16:39:51.306Z"
   },
   {
    "duration": 16,
    "start_time": "2025-02-26T16:39:51.316Z"
   },
   {
    "duration": 3,
    "start_time": "2025-02-26T16:39:51.333Z"
   },
   {
    "duration": 15,
    "start_time": "2025-02-26T16:39:51.337Z"
   },
   {
    "duration": 6,
    "start_time": "2025-02-26T16:39:51.353Z"
   },
   {
    "duration": 25,
    "start_time": "2025-02-26T16:39:51.362Z"
   },
   {
    "duration": 45,
    "start_time": "2025-02-26T16:39:51.388Z"
   },
   {
    "duration": 11,
    "start_time": "2025-02-26T16:39:51.435Z"
   },
   {
    "duration": 5,
    "start_time": "2025-02-26T16:39:51.448Z"
   },
   {
    "duration": 17,
    "start_time": "2025-02-26T16:39:51.455Z"
   },
   {
    "duration": 12,
    "start_time": "2025-02-26T16:39:51.473Z"
   },
   {
    "duration": 44,
    "start_time": "2025-02-26T16:39:51.487Z"
   },
   {
    "duration": 6,
    "start_time": "2025-02-26T16:39:51.533Z"
   },
   {
    "duration": 20,
    "start_time": "2025-02-26T16:39:51.541Z"
   },
   {
    "duration": 14,
    "start_time": "2025-02-26T16:39:51.562Z"
   },
   {
    "duration": 9,
    "start_time": "2025-02-26T16:39:51.578Z"
   },
   {
    "duration": 15,
    "start_time": "2025-02-26T16:39:51.589Z"
   },
   {
    "duration": 40,
    "start_time": "2025-02-26T16:39:51.605Z"
   },
   {
    "duration": 13,
    "start_time": "2025-02-26T16:39:51.646Z"
   },
   {
    "duration": 12,
    "start_time": "2025-02-26T16:39:51.661Z"
   },
   {
    "duration": 16,
    "start_time": "2025-02-26T16:39:51.675Z"
   },
   {
    "duration": 40,
    "start_time": "2025-02-26T16:39:51.693Z"
   },
   {
    "duration": 10,
    "start_time": "2025-02-26T16:39:51.735Z"
   },
   {
    "duration": 5,
    "start_time": "2025-02-26T16:39:51.748Z"
   },
   {
    "duration": 12,
    "start_time": "2025-02-26T16:39:51.755Z"
   },
   {
    "duration": 3,
    "start_time": "2025-02-26T16:39:51.769Z"
   },
   {
    "duration": 7,
    "start_time": "2025-02-26T16:39:51.773Z"
   },
   {
    "duration": 12,
    "start_time": "2025-02-26T16:39:51.781Z"
   },
   {
    "duration": 38,
    "start_time": "2025-02-26T16:39:51.794Z"
   },
   {
    "duration": 13,
    "start_time": "2025-02-26T16:39:51.833Z"
   },
   {
    "duration": 198,
    "start_time": "2025-02-26T16:39:51.847Z"
   },
   {
    "duration": 221,
    "start_time": "2025-02-26T16:39:52.047Z"
   },
   {
    "duration": 6,
    "start_time": "2025-02-26T16:39:52.270Z"
   },
   {
    "duration": 176,
    "start_time": "2025-02-26T16:39:52.278Z"
   },
   {
    "duration": 177,
    "start_time": "2025-02-26T16:39:52.456Z"
   },
   {
    "duration": 242,
    "start_time": "2025-02-26T16:39:52.635Z"
   },
   {
    "duration": 133,
    "start_time": "2025-02-26T16:39:52.879Z"
   },
   {
    "duration": 208,
    "start_time": "2025-02-26T16:39:53.014Z"
   },
   {
    "duration": 206,
    "start_time": "2025-02-26T16:39:53.224Z"
   },
   {
    "duration": 117,
    "start_time": "2025-02-26T16:39:53.432Z"
   },
   {
    "duration": 12,
    "start_time": "2025-02-26T16:39:53.551Z"
   },
   {
    "duration": 6,
    "start_time": "2025-02-26T16:39:53.565Z"
   },
   {
    "duration": 2,
    "start_time": "2025-02-26T16:39:53.573Z"
   },
   {
    "duration": 7,
    "start_time": "2025-02-26T16:47:25.179Z"
   },
   {
    "duration": 5,
    "start_time": "2025-02-26T16:49:59.965Z"
   },
   {
    "duration": 12,
    "start_time": "2025-02-26T16:50:10.956Z"
   },
   {
    "duration": 6,
    "start_time": "2025-02-26T16:51:59.721Z"
   },
   {
    "duration": 791,
    "start_time": "2025-02-26T16:55:57.932Z"
   },
   {
    "duration": 157,
    "start_time": "2025-02-26T16:55:58.725Z"
   },
   {
    "duration": 9,
    "start_time": "2025-02-26T16:55:58.884Z"
   },
   {
    "duration": 9,
    "start_time": "2025-02-26T16:55:58.896Z"
   },
   {
    "duration": 7,
    "start_time": "2025-02-26T16:55:58.907Z"
   },
   {
    "duration": 18,
    "start_time": "2025-02-26T16:55:58.916Z"
   },
   {
    "duration": 3,
    "start_time": "2025-02-26T16:55:58.935Z"
   },
   {
    "duration": 16,
    "start_time": "2025-02-26T16:55:58.939Z"
   },
   {
    "duration": 6,
    "start_time": "2025-02-26T16:55:58.956Z"
   },
   {
    "duration": 26,
    "start_time": "2025-02-26T16:55:58.966Z"
   },
   {
    "duration": 45,
    "start_time": "2025-02-26T16:55:58.993Z"
   },
   {
    "duration": 12,
    "start_time": "2025-02-26T16:55:59.040Z"
   },
   {
    "duration": 6,
    "start_time": "2025-02-26T16:55:59.053Z"
   },
   {
    "duration": 18,
    "start_time": "2025-02-26T16:55:59.061Z"
   },
   {
    "duration": 12,
    "start_time": "2025-02-26T16:55:59.081Z"
   },
   {
    "duration": 43,
    "start_time": "2025-02-26T16:55:59.096Z"
   },
   {
    "duration": 7,
    "start_time": "2025-02-26T16:55:59.140Z"
   },
   {
    "duration": 21,
    "start_time": "2025-02-26T16:55:59.148Z"
   },
   {
    "duration": 15,
    "start_time": "2025-02-26T16:55:59.170Z"
   },
   {
    "duration": 7,
    "start_time": "2025-02-26T16:55:59.187Z"
   },
   {
    "duration": 43,
    "start_time": "2025-02-26T16:55:59.197Z"
   },
   {
    "duration": 15,
    "start_time": "2025-02-26T16:55:59.241Z"
   },
   {
    "duration": 12,
    "start_time": "2025-02-26T16:55:59.258Z"
   },
   {
    "duration": 12,
    "start_time": "2025-02-26T16:55:59.272Z"
   },
   {
    "duration": 45,
    "start_time": "2025-02-26T16:55:59.286Z"
   },
   {
    "duration": 8,
    "start_time": "2025-02-26T16:55:59.332Z"
   },
   {
    "duration": 11,
    "start_time": "2025-02-26T16:55:59.342Z"
   },
   {
    "duration": 6,
    "start_time": "2025-02-26T16:55:59.357Z"
   },
   {
    "duration": 3,
    "start_time": "2025-02-26T16:55:59.364Z"
   },
   {
    "duration": 5,
    "start_time": "2025-02-26T16:55:59.369Z"
   },
   {
    "duration": 4,
    "start_time": "2025-02-26T16:55:59.377Z"
   },
   {
    "duration": 13,
    "start_time": "2025-02-26T16:55:59.383Z"
   },
   {
    "duration": 215,
    "start_time": "2025-02-26T16:55:59.397Z"
   },
   {
    "duration": 218,
    "start_time": "2025-02-26T16:55:59.613Z"
   },
   {
    "duration": 7,
    "start_time": "2025-02-26T16:55:59.833Z"
   },
   {
    "duration": 179,
    "start_time": "2025-02-26T16:55:59.841Z"
   },
   {
    "duration": 189,
    "start_time": "2025-02-26T16:56:00.022Z"
   },
   {
    "duration": 266,
    "start_time": "2025-02-26T16:56:00.213Z"
   },
   {
    "duration": 132,
    "start_time": "2025-02-26T16:56:00.481Z"
   },
   {
    "duration": 187,
    "start_time": "2025-02-26T16:56:00.615Z"
   },
   {
    "duration": 206,
    "start_time": "2025-02-26T16:56:00.804Z"
   },
   {
    "duration": 122,
    "start_time": "2025-02-26T16:56:01.012Z"
   },
   {
    "duration": 13,
    "start_time": "2025-02-26T16:56:01.136Z"
   },
   {
    "duration": 5,
    "start_time": "2025-02-26T16:56:01.152Z"
   },
   {
    "duration": 2,
    "start_time": "2025-02-26T16:56:01.159Z"
   },
   {
    "duration": 5,
    "start_time": "2025-02-26T16:59:15.261Z"
   },
   {
    "duration": 12,
    "start_time": "2025-02-26T16:59:18.974Z"
   },
   {
    "duration": 7,
    "start_time": "2025-02-26T16:59:34.678Z"
   },
   {
    "duration": 810,
    "start_time": "2025-02-26T16:59:46.201Z"
   },
   {
    "duration": 153,
    "start_time": "2025-02-26T16:59:47.013Z"
   },
   {
    "duration": 10,
    "start_time": "2025-02-26T16:59:47.167Z"
   },
   {
    "duration": 11,
    "start_time": "2025-02-26T16:59:47.181Z"
   },
   {
    "duration": 10,
    "start_time": "2025-02-26T16:59:47.194Z"
   },
   {
    "duration": 27,
    "start_time": "2025-02-26T16:59:47.205Z"
   },
   {
    "duration": 4,
    "start_time": "2025-02-26T16:59:47.233Z"
   },
   {
    "duration": 16,
    "start_time": "2025-02-26T16:59:47.238Z"
   },
   {
    "duration": 7,
    "start_time": "2025-02-26T16:59:47.255Z"
   },
   {
    "duration": 25,
    "start_time": "2025-02-26T16:59:47.265Z"
   },
   {
    "duration": 41,
    "start_time": "2025-02-26T16:59:47.291Z"
   },
   {
    "duration": 12,
    "start_time": "2025-02-26T16:59:47.334Z"
   },
   {
    "duration": 6,
    "start_time": "2025-02-26T16:59:47.347Z"
   },
   {
    "duration": 15,
    "start_time": "2025-02-26T16:59:47.355Z"
   },
   {
    "duration": 12,
    "start_time": "2025-02-26T16:59:47.372Z"
   },
   {
    "duration": 12,
    "start_time": "2025-02-26T16:59:47.386Z"
   },
   {
    "duration": 6,
    "start_time": "2025-02-26T16:59:47.432Z"
   },
   {
    "duration": 21,
    "start_time": "2025-02-26T16:59:47.440Z"
   },
   {
    "duration": 14,
    "start_time": "2025-02-26T16:59:47.462Z"
   },
   {
    "duration": 7,
    "start_time": "2025-02-26T16:59:47.478Z"
   },
   {
    "duration": 46,
    "start_time": "2025-02-26T16:59:47.486Z"
   },
   {
    "duration": 15,
    "start_time": "2025-02-26T16:59:47.533Z"
   },
   {
    "duration": 12,
    "start_time": "2025-02-26T16:59:47.550Z"
   },
   {
    "duration": 12,
    "start_time": "2025-02-26T16:59:47.564Z"
   },
   {
    "duration": 18,
    "start_time": "2025-02-26T16:59:47.577Z"
   },
   {
    "duration": 36,
    "start_time": "2025-02-26T16:59:47.596Z"
   },
   {
    "duration": 10,
    "start_time": "2025-02-26T16:59:47.633Z"
   },
   {
    "duration": 10,
    "start_time": "2025-02-26T16:59:47.647Z"
   },
   {
    "duration": 10,
    "start_time": "2025-02-26T16:59:47.659Z"
   },
   {
    "duration": 7,
    "start_time": "2025-02-26T16:59:47.672Z"
   },
   {
    "duration": 4,
    "start_time": "2025-02-26T16:59:47.682Z"
   },
   {
    "duration": 13,
    "start_time": "2025-02-26T16:59:47.688Z"
   },
   {
    "duration": 200,
    "start_time": "2025-02-26T16:59:47.702Z"
   },
   {
    "duration": 220,
    "start_time": "2025-02-26T16:59:47.904Z"
   },
   {
    "duration": 9,
    "start_time": "2025-02-26T16:59:48.126Z"
   },
   {
    "duration": 186,
    "start_time": "2025-02-26T16:59:48.137Z"
   },
   {
    "duration": 185,
    "start_time": "2025-02-26T16:59:48.325Z"
   },
   {
    "duration": 240,
    "start_time": "2025-02-26T16:59:48.513Z"
   },
   {
    "duration": 131,
    "start_time": "2025-02-26T16:59:48.755Z"
   },
   {
    "duration": 186,
    "start_time": "2025-02-26T16:59:48.888Z"
   },
   {
    "duration": 217,
    "start_time": "2025-02-26T16:59:49.076Z"
   },
   {
    "duration": 136,
    "start_time": "2025-02-26T16:59:49.295Z"
   },
   {
    "duration": 13,
    "start_time": "2025-02-26T16:59:49.433Z"
   },
   {
    "duration": 5,
    "start_time": "2025-02-26T16:59:49.448Z"
   },
   {
    "duration": 2,
    "start_time": "2025-02-26T16:59:49.455Z"
   },
   {
    "duration": 845,
    "start_time": "2025-02-26T17:00:11.769Z"
   },
   {
    "duration": 155,
    "start_time": "2025-02-26T17:00:12.616Z"
   },
   {
    "duration": 10,
    "start_time": "2025-02-26T17:00:12.772Z"
   },
   {
    "duration": 10,
    "start_time": "2025-02-26T17:00:12.784Z"
   },
   {
    "duration": 8,
    "start_time": "2025-02-26T17:00:12.796Z"
   },
   {
    "duration": 8,
    "start_time": "2025-02-26T17:00:12.806Z"
   },
   {
    "duration": 3,
    "start_time": "2025-02-26T17:00:12.835Z"
   },
   {
    "duration": 20,
    "start_time": "2025-02-26T17:00:12.840Z"
   },
   {
    "duration": 8,
    "start_time": "2025-02-26T17:00:12.861Z"
   },
   {
    "duration": 26,
    "start_time": "2025-02-26T17:00:12.872Z"
   },
   {
    "duration": 38,
    "start_time": "2025-02-26T17:00:12.900Z"
   },
   {
    "duration": 11,
    "start_time": "2025-02-26T17:00:12.941Z"
   },
   {
    "duration": 6,
    "start_time": "2025-02-26T17:00:12.954Z"
   },
   {
    "duration": 16,
    "start_time": "2025-02-26T17:00:12.962Z"
   },
   {
    "duration": 13,
    "start_time": "2025-02-26T17:00:12.980Z"
   },
   {
    "duration": 43,
    "start_time": "2025-02-26T17:00:12.995Z"
   },
   {
    "duration": 6,
    "start_time": "2025-02-26T17:00:13.040Z"
   },
   {
    "duration": 20,
    "start_time": "2025-02-26T17:00:13.048Z"
   },
   {
    "duration": 14,
    "start_time": "2025-02-26T17:00:13.070Z"
   },
   {
    "duration": 7,
    "start_time": "2025-02-26T17:00:13.086Z"
   },
   {
    "duration": 47,
    "start_time": "2025-02-26T17:00:13.095Z"
   },
   {
    "duration": 15,
    "start_time": "2025-02-26T17:00:13.143Z"
   },
   {
    "duration": 13,
    "start_time": "2025-02-26T17:00:13.160Z"
   },
   {
    "duration": 12,
    "start_time": "2025-02-26T17:00:13.175Z"
   },
   {
    "duration": 17,
    "start_time": "2025-02-26T17:00:13.191Z"
   },
   {
    "duration": 30,
    "start_time": "2025-02-26T17:00:13.209Z"
   },
   {
    "duration": 9,
    "start_time": "2025-02-26T17:00:13.241Z"
   },
   {
    "duration": 5,
    "start_time": "2025-02-26T17:00:13.255Z"
   },
   {
    "duration": 2,
    "start_time": "2025-02-26T17:00:13.261Z"
   },
   {
    "duration": 6,
    "start_time": "2025-02-26T17:00:13.265Z"
   },
   {
    "duration": 6,
    "start_time": "2025-02-26T17:00:13.272Z"
   },
   {
    "duration": 12,
    "start_time": "2025-02-26T17:00:13.279Z"
   },
   {
    "duration": 215,
    "start_time": "2025-02-26T17:00:13.293Z"
   },
   {
    "duration": 217,
    "start_time": "2025-02-26T17:00:13.509Z"
   },
   {
    "duration": 8,
    "start_time": "2025-02-26T17:00:13.727Z"
   },
   {
    "duration": 169,
    "start_time": "2025-02-26T17:00:13.737Z"
   },
   {
    "duration": 186,
    "start_time": "2025-02-26T17:00:13.907Z"
   },
   {
    "duration": 242,
    "start_time": "2025-02-26T17:00:14.095Z"
   },
   {
    "duration": 129,
    "start_time": "2025-02-26T17:00:14.339Z"
   },
   {
    "duration": 191,
    "start_time": "2025-02-26T17:00:14.470Z"
   },
   {
    "duration": 209,
    "start_time": "2025-02-26T17:00:14.663Z"
   },
   {
    "duration": 119,
    "start_time": "2025-02-26T17:00:14.874Z"
   },
   {
    "duration": 16,
    "start_time": "2025-02-26T17:00:14.995Z"
   },
   {
    "duration": 19,
    "start_time": "2025-02-26T17:00:15.013Z"
   },
   {
    "duration": 2,
    "start_time": "2025-02-26T17:00:15.035Z"
   },
   {
    "duration": 6,
    "start_time": "2025-02-26T17:03:59.543Z"
   },
   {
    "duration": 4,
    "start_time": "2025-02-26T17:48:21.481Z"
   },
   {
    "duration": 3,
    "start_time": "2025-02-26T17:48:28.082Z"
   },
   {
    "duration": 5,
    "start_time": "2025-02-26T17:48:30.241Z"
   },
   {
    "duration": 4,
    "start_time": "2025-02-26T17:48:33.754Z"
   },
   {
    "duration": 13,
    "start_time": "2025-02-26T17:48:43.055Z"
   },
   {
    "duration": 5,
    "start_time": "2025-02-26T17:49:40.511Z"
   },
   {
    "duration": 14,
    "start_time": "2025-02-26T17:49:43.413Z"
   },
   {
    "duration": 5,
    "start_time": "2025-02-26T17:51:52.412Z"
   },
   {
    "duration": 3,
    "start_time": "2025-02-26T17:51:54.784Z"
   },
   {
    "duration": 6,
    "start_time": "2025-02-26T17:51:57.308Z"
   },
   {
    "duration": 5,
    "start_time": "2025-02-26T17:52:04.016Z"
   },
   {
    "duration": 12,
    "start_time": "2025-02-26T17:52:10.635Z"
   },
   {
    "duration": 870,
    "start_time": "2025-02-26T17:54:44.241Z"
   },
   {
    "duration": 154,
    "start_time": "2025-02-26T17:54:45.113Z"
   },
   {
    "duration": 10,
    "start_time": "2025-02-26T17:54:45.269Z"
   },
   {
    "duration": 10,
    "start_time": "2025-02-26T17:54:45.281Z"
   },
   {
    "duration": 8,
    "start_time": "2025-02-26T17:54:45.293Z"
   },
   {
    "duration": 9,
    "start_time": "2025-02-26T17:54:45.303Z"
   },
   {
    "duration": 3,
    "start_time": "2025-02-26T17:54:45.330Z"
   },
   {
    "duration": 15,
    "start_time": "2025-02-26T17:54:45.335Z"
   },
   {
    "duration": 6,
    "start_time": "2025-02-26T17:54:45.352Z"
   },
   {
    "duration": 24,
    "start_time": "2025-02-26T17:54:45.362Z"
   },
   {
    "duration": 16,
    "start_time": "2025-02-26T17:54:45.388Z"
   },
   {
    "duration": 11,
    "start_time": "2025-02-26T17:54:45.432Z"
   },
   {
    "duration": 6,
    "start_time": "2025-02-26T17:54:45.444Z"
   },
   {
    "duration": 16,
    "start_time": "2025-02-26T17:54:45.452Z"
   },
   {
    "duration": 12,
    "start_time": "2025-02-26T17:54:45.471Z"
   },
   {
    "duration": 13,
    "start_time": "2025-02-26T17:54:45.485Z"
   },
   {
    "duration": 36,
    "start_time": "2025-02-26T17:54:45.500Z"
   },
   {
    "duration": 20,
    "start_time": "2025-02-26T17:54:45.537Z"
   },
   {
    "duration": 14,
    "start_time": "2025-02-26T17:54:45.559Z"
   },
   {
    "duration": 9,
    "start_time": "2025-02-26T17:54:45.575Z"
   },
   {
    "duration": 15,
    "start_time": "2025-02-26T17:54:45.587Z"
   },
   {
    "duration": 40,
    "start_time": "2025-02-26T17:54:45.604Z"
   },
   {
    "duration": 12,
    "start_time": "2025-02-26T17:54:45.645Z"
   },
   {
    "duration": 11,
    "start_time": "2025-02-26T17:54:45.659Z"
   },
   {
    "duration": 16,
    "start_time": "2025-02-26T17:54:45.672Z"
   },
   {
    "duration": 8,
    "start_time": "2025-02-26T17:54:45.690Z"
   },
   {
    "duration": 40,
    "start_time": "2025-02-26T17:54:45.699Z"
   },
   {
    "duration": 5,
    "start_time": "2025-02-26T17:54:45.744Z"
   },
   {
    "duration": 4,
    "start_time": "2025-02-26T17:54:45.750Z"
   },
   {
    "duration": 5,
    "start_time": "2025-02-26T17:54:45.757Z"
   },
   {
    "duration": 5,
    "start_time": "2025-02-26T17:54:45.764Z"
   },
   {
    "duration": 22,
    "start_time": "2025-02-26T17:54:45.770Z"
   },
   {
    "duration": 8,
    "start_time": "2025-02-26T17:54:45.795Z"
   },
   {
    "duration": 215,
    "start_time": "2025-02-26T17:54:45.804Z"
   },
   {
    "duration": 218,
    "start_time": "2025-02-26T17:54:46.021Z"
   },
   {
    "duration": 7,
    "start_time": "2025-02-26T17:54:46.241Z"
   },
   {
    "duration": 179,
    "start_time": "2025-02-26T17:54:46.250Z"
   },
   {
    "duration": 177,
    "start_time": "2025-02-26T17:54:46.431Z"
   },
   {
    "duration": 236,
    "start_time": "2025-02-26T17:54:46.609Z"
   },
   {
    "duration": 130,
    "start_time": "2025-02-26T17:54:46.847Z"
   },
   {
    "duration": 192,
    "start_time": "2025-02-26T17:54:46.979Z"
   },
   {
    "duration": 212,
    "start_time": "2025-02-26T17:54:47.173Z"
   },
   {
    "duration": 123,
    "start_time": "2025-02-26T17:54:47.386Z"
   },
   {
    "duration": 21,
    "start_time": "2025-02-26T17:54:47.511Z"
   },
   {
    "duration": 6,
    "start_time": "2025-02-26T17:54:47.534Z"
   },
   {
    "duration": 2,
    "start_time": "2025-02-26T17:54:47.541Z"
   },
   {
    "duration": 7,
    "start_time": "2025-02-26T17:56:57.573Z"
   },
   {
    "duration": 6,
    "start_time": "2025-02-26T18:02:01.100Z"
   },
   {
    "duration": 12,
    "start_time": "2025-02-26T18:02:12.414Z"
   },
   {
    "duration": 12,
    "start_time": "2025-02-26T18:02:45.004Z"
   },
   {
    "duration": 4,
    "start_time": "2025-02-26T18:05:06.491Z"
   },
   {
    "duration": 5,
    "start_time": "2025-02-26T18:05:09.612Z"
   },
   {
    "duration": 13,
    "start_time": "2025-02-26T18:05:13.136Z"
   },
   {
    "duration": 7,
    "start_time": "2025-02-26T18:05:28.773Z"
   },
   {
    "duration": 5,
    "start_time": "2025-02-26T18:06:01.080Z"
   },
   {
    "duration": 15,
    "start_time": "2025-02-26T18:06:03.754Z"
   },
   {
    "duration": 6,
    "start_time": "2025-02-26T18:06:06.046Z"
   },
   {
    "duration": 354,
    "start_time": "2025-02-26T18:06:28.898Z"
   },
   {
    "duration": 6,
    "start_time": "2025-02-26T18:06:38.369Z"
   },
   {
    "duration": 5,
    "start_time": "2025-02-26T18:07:04.538Z"
   },
   {
    "duration": 15,
    "start_time": "2025-02-26T18:07:08.246Z"
   },
   {
    "duration": 808,
    "start_time": "2025-02-26T18:08:01.599Z"
   },
   {
    "duration": 156,
    "start_time": "2025-02-26T18:08:02.410Z"
   },
   {
    "duration": 9,
    "start_time": "2025-02-26T18:08:02.567Z"
   },
   {
    "duration": 10,
    "start_time": "2025-02-26T18:08:02.579Z"
   },
   {
    "duration": 8,
    "start_time": "2025-02-26T18:08:02.590Z"
   },
   {
    "duration": 8,
    "start_time": "2025-02-26T18:08:02.600Z"
   },
   {
    "duration": 4,
    "start_time": "2025-02-26T18:08:02.609Z"
   },
   {
    "duration": 14,
    "start_time": "2025-02-26T18:08:02.633Z"
   },
   {
    "duration": 6,
    "start_time": "2025-02-26T18:08:02.648Z"
   },
   {
    "duration": 24,
    "start_time": "2025-02-26T18:08:02.659Z"
   },
   {
    "duration": 17,
    "start_time": "2025-02-26T18:08:02.684Z"
   },
   {
    "duration": 34,
    "start_time": "2025-02-26T18:08:02.702Z"
   },
   {
    "duration": 5,
    "start_time": "2025-02-26T18:08:02.738Z"
   },
   {
    "duration": 16,
    "start_time": "2025-02-26T18:08:02.745Z"
   },
   {
    "duration": 13,
    "start_time": "2025-02-26T18:08:02.763Z"
   },
   {
    "duration": 12,
    "start_time": "2025-02-26T18:08:02.778Z"
   },
   {
    "duration": 7,
    "start_time": "2025-02-26T18:08:02.792Z"
   },
   {
    "duration": 21,
    "start_time": "2025-02-26T18:08:02.831Z"
   },
   {
    "duration": 14,
    "start_time": "2025-02-26T18:08:02.854Z"
   },
   {
    "duration": 6,
    "start_time": "2025-02-26T18:08:02.870Z"
   },
   {
    "duration": 15,
    "start_time": "2025-02-26T18:08:02.878Z"
   },
   {
    "duration": 39,
    "start_time": "2025-02-26T18:08:02.895Z"
   },
   {
    "duration": 12,
    "start_time": "2025-02-26T18:08:02.936Z"
   },
   {
    "duration": 12,
    "start_time": "2025-02-26T18:08:02.949Z"
   },
   {
    "duration": 18,
    "start_time": "2025-02-26T18:08:02.962Z"
   },
   {
    "duration": 8,
    "start_time": "2025-02-26T18:08:02.981Z"
   },
   {
    "duration": 10,
    "start_time": "2025-02-26T18:08:02.990Z"
   },
   {
    "duration": 5,
    "start_time": "2025-02-26T18:08:03.034Z"
   },
   {
    "duration": 3,
    "start_time": "2025-02-26T18:08:03.042Z"
   },
   {
    "duration": 6,
    "start_time": "2025-02-26T18:08:03.047Z"
   },
   {
    "duration": 4,
    "start_time": "2025-02-26T18:08:03.054Z"
   },
   {
    "duration": 13,
    "start_time": "2025-02-26T18:08:03.060Z"
   },
   {
    "duration": 5,
    "start_time": "2025-02-26T18:08:03.075Z"
   },
   {
    "duration": 226,
    "start_time": "2025-02-26T18:08:03.082Z"
   },
   {
    "duration": 226,
    "start_time": "2025-02-26T18:08:03.310Z"
   },
   {
    "duration": 7,
    "start_time": "2025-02-26T18:08:03.538Z"
   },
   {
    "duration": 179,
    "start_time": "2025-02-26T18:08:03.547Z"
   },
   {
    "duration": 179,
    "start_time": "2025-02-26T18:08:03.728Z"
   },
   {
    "duration": 257,
    "start_time": "2025-02-26T18:08:03.909Z"
   },
   {
    "duration": 151,
    "start_time": "2025-02-26T18:08:04.167Z"
   },
   {
    "duration": 186,
    "start_time": "2025-02-26T18:08:04.320Z"
   },
   {
    "duration": 204,
    "start_time": "2025-02-26T18:08:04.508Z"
   },
   {
    "duration": 122,
    "start_time": "2025-02-26T18:08:04.714Z"
   },
   {
    "duration": 13,
    "start_time": "2025-02-26T18:08:04.838Z"
   },
   {
    "duration": 5,
    "start_time": "2025-02-26T18:08:04.853Z"
   },
   {
    "duration": 4,
    "start_time": "2025-02-26T18:08:04.859Z"
   },
   {
    "duration": 12,
    "start_time": "2025-02-26T18:09:33.628Z"
   },
   {
    "duration": 6,
    "start_time": "2025-02-26T18:10:11.577Z"
   },
   {
    "duration": 4,
    "start_time": "2025-02-26T18:10:13.868Z"
   },
   {
    "duration": 12,
    "start_time": "2025-02-26T18:10:16.564Z"
   },
   {
    "duration": 5,
    "start_time": "2025-02-26T18:10:39.176Z"
   },
   {
    "duration": 12,
    "start_time": "2025-02-26T18:10:42.304Z"
   },
   {
    "duration": 6,
    "start_time": "2025-02-26T18:10:59.577Z"
   },
   {
    "duration": 7,
    "start_time": "2025-02-26T18:11:24.542Z"
   },
   {
    "duration": 6,
    "start_time": "2025-02-26T18:11:25.338Z"
   },
   {
    "duration": 6,
    "start_time": "2025-02-26T18:11:25.719Z"
   },
   {
    "duration": 7,
    "start_time": "2025-02-26T18:11:26.075Z"
   },
   {
    "duration": 6,
    "start_time": "2025-02-26T18:11:26.327Z"
   },
   {
    "duration": 7,
    "start_time": "2025-02-26T18:11:28.900Z"
   },
   {
    "duration": 7,
    "start_time": "2025-02-26T18:11:29.099Z"
   },
   {
    "duration": 6,
    "start_time": "2025-02-26T18:12:00.367Z"
   },
   {
    "duration": 12,
    "start_time": "2025-02-26T18:12:35.208Z"
   },
   {
    "duration": 6,
    "start_time": "2025-02-26T18:12:50.178Z"
   },
   {
    "duration": 6,
    "start_time": "2025-02-26T18:13:27.833Z"
   },
   {
    "duration": 8,
    "start_time": "2025-02-26T18:15:31.982Z"
   },
   {
    "duration": 12,
    "start_time": "2025-02-26T18:19:25.343Z"
   },
   {
    "duration": 16,
    "start_time": "2025-02-26T18:27:04.487Z"
   },
   {
    "duration": 12,
    "start_time": "2025-02-26T18:28:23.442Z"
   },
   {
    "duration": 140,
    "start_time": "2025-02-26T18:28:39.560Z"
   },
   {
    "duration": 867,
    "start_time": "2025-02-26T18:28:48.320Z"
   },
   {
    "duration": 177,
    "start_time": "2025-02-26T18:28:49.190Z"
   },
   {
    "duration": 13,
    "start_time": "2025-02-26T18:28:49.369Z"
   },
   {
    "duration": 11,
    "start_time": "2025-02-26T18:28:49.386Z"
   },
   {
    "duration": 12,
    "start_time": "2025-02-26T18:28:49.399Z"
   },
   {
    "duration": 8,
    "start_time": "2025-02-26T18:28:49.413Z"
   },
   {
    "duration": 3,
    "start_time": "2025-02-26T18:28:49.432Z"
   },
   {
    "duration": 16,
    "start_time": "2025-02-26T18:28:49.437Z"
   },
   {
    "duration": 7,
    "start_time": "2025-02-26T18:28:49.456Z"
   },
   {
    "duration": 27,
    "start_time": "2025-02-26T18:28:49.467Z"
   },
   {
    "duration": 52,
    "start_time": "2025-02-26T18:28:49.496Z"
   },
   {
    "duration": 17,
    "start_time": "2025-02-26T18:28:49.550Z"
   },
   {
    "duration": 11,
    "start_time": "2025-02-26T18:28:49.569Z"
   },
   {
    "duration": 24,
    "start_time": "2025-02-26T18:28:49.582Z"
   },
   {
    "duration": 15,
    "start_time": "2025-02-26T18:28:49.630Z"
   },
   {
    "duration": 16,
    "start_time": "2025-02-26T18:28:49.647Z"
   },
   {
    "duration": 8,
    "start_time": "2025-02-26T18:28:49.665Z"
   },
   {
    "duration": 56,
    "start_time": "2025-02-26T18:28:49.675Z"
   },
   {
    "duration": 16,
    "start_time": "2025-02-26T18:28:49.733Z"
   },
   {
    "duration": 7,
    "start_time": "2025-02-26T18:28:49.751Z"
   },
   {
    "duration": 33,
    "start_time": "2025-02-26T18:28:49.760Z"
   },
   {
    "duration": 38,
    "start_time": "2025-02-26T18:28:49.795Z"
   },
   {
    "duration": 17,
    "start_time": "2025-02-26T18:28:49.836Z"
   },
   {
    "duration": 15,
    "start_time": "2025-02-26T18:28:49.855Z"
   },
   {
    "duration": 26,
    "start_time": "2025-02-26T18:28:49.872Z"
   },
   {
    "duration": 11,
    "start_time": "2025-02-26T18:28:49.932Z"
   },
   {
    "duration": 13,
    "start_time": "2025-02-26T18:28:49.945Z"
   },
   {
    "duration": 7,
    "start_time": "2025-02-26T18:28:49.963Z"
   },
   {
    "duration": 4,
    "start_time": "2025-02-26T18:28:49.972Z"
   },
   {
    "duration": 9,
    "start_time": "2025-02-26T18:28:49.977Z"
   },
   {
    "duration": 6,
    "start_time": "2025-02-26T18:28:49.988Z"
   },
   {
    "duration": 47,
    "start_time": "2025-02-26T18:28:49.996Z"
   },
   {
    "duration": 6,
    "start_time": "2025-02-26T18:28:50.045Z"
   },
   {
    "duration": 228,
    "start_time": "2025-02-26T18:28:50.053Z"
   },
   {
    "duration": 258,
    "start_time": "2025-02-26T18:28:50.283Z"
   },
   {
    "duration": 14,
    "start_time": "2025-02-26T18:28:50.545Z"
   },
   {
    "duration": 211,
    "start_time": "2025-02-26T18:28:50.564Z"
   },
   {
    "duration": 212,
    "start_time": "2025-02-26T18:28:50.780Z"
   },
   {
    "duration": 263,
    "start_time": "2025-02-26T18:28:50.995Z"
   },
   {
    "duration": 134,
    "start_time": "2025-02-26T18:28:51.260Z"
   },
   {
    "duration": 195,
    "start_time": "2025-02-26T18:28:51.396Z"
   },
   {
    "duration": 229,
    "start_time": "2025-02-26T18:28:51.593Z"
   },
   {
    "duration": 125,
    "start_time": "2025-02-26T18:28:51.824Z"
   },
   {
    "duration": 21,
    "start_time": "2025-02-26T18:28:51.950Z"
   },
   {
    "duration": 9,
    "start_time": "2025-02-26T18:28:51.977Z"
   },
   {
    "duration": 18,
    "start_time": "2025-02-26T18:28:51.989Z"
   },
   {
    "duration": 2,
    "start_time": "2025-02-26T18:28:52.009Z"
   },
   {
    "duration": 9,
    "start_time": "2025-02-26T18:32:49.877Z"
   },
   {
    "duration": 14,
    "start_time": "2025-02-26T18:33:13.414Z"
   },
   {
    "duration": 10,
    "start_time": "2025-02-26T18:34:51.801Z"
   },
   {
    "duration": 12,
    "start_time": "2025-02-26T18:36:26.796Z"
   },
   {
    "duration": 12,
    "start_time": "2025-02-26T18:36:33.127Z"
   },
   {
    "duration": 13,
    "start_time": "2025-02-26T18:36:35.046Z"
   },
   {
    "duration": 11,
    "start_time": "2025-02-26T18:36:35.901Z"
   },
   {
    "duration": 11,
    "start_time": "2025-02-26T18:36:36.621Z"
   },
   {
    "duration": 13,
    "start_time": "2025-02-26T18:36:37.280Z"
   },
   {
    "duration": 12,
    "start_time": "2025-02-26T18:36:37.902Z"
   },
   {
    "duration": 12,
    "start_time": "2025-02-26T18:36:38.653Z"
   },
   {
    "duration": 12,
    "start_time": "2025-02-26T18:36:39.494Z"
   },
   {
    "duration": 11,
    "start_time": "2025-02-26T18:36:41.164Z"
   },
   {
    "duration": 11,
    "start_time": "2025-02-26T18:36:43.824Z"
   },
   {
    "duration": 5,
    "start_time": "2025-02-26T18:37:55.839Z"
   },
   {
    "duration": 5,
    "start_time": "2025-02-26T18:37:57.160Z"
   },
   {
    "duration": 8,
    "start_time": "2025-02-26T18:37:57.429Z"
   },
   {
    "duration": 7,
    "start_time": "2025-02-26T18:37:57.720Z"
   },
   {
    "duration": 5,
    "start_time": "2025-02-26T18:38:06.433Z"
   },
   {
    "duration": 6,
    "start_time": "2025-02-26T18:38:09.193Z"
   },
   {
    "duration": 670,
    "start_time": "2025-02-26T18:39:06.497Z"
   },
   {
    "duration": 119,
    "start_time": "2025-02-26T18:39:28.948Z"
   },
   {
    "duration": 17,
    "start_time": "2025-02-26T18:41:11.951Z"
   },
   {
    "duration": 212,
    "start_time": "2025-02-26T18:41:56.561Z"
   },
   {
    "duration": 865,
    "start_time": "2025-02-26T18:44:06.963Z"
   },
   {
    "duration": 162,
    "start_time": "2025-02-26T18:44:07.830Z"
   },
   {
    "duration": 9,
    "start_time": "2025-02-26T18:44:07.993Z"
   },
   {
    "duration": 9,
    "start_time": "2025-02-26T18:44:08.005Z"
   },
   {
    "duration": 21,
    "start_time": "2025-02-26T18:44:08.015Z"
   },
   {
    "duration": 8,
    "start_time": "2025-02-26T18:44:08.039Z"
   },
   {
    "duration": 3,
    "start_time": "2025-02-26T18:44:08.049Z"
   },
   {
    "duration": 14,
    "start_time": "2025-02-26T18:44:08.054Z"
   },
   {
    "duration": 7,
    "start_time": "2025-02-26T18:44:08.069Z"
   },
   {
    "duration": 53,
    "start_time": "2025-02-26T18:44:08.080Z"
   },
   {
    "duration": 17,
    "start_time": "2025-02-26T18:44:08.139Z"
   },
   {
    "duration": 11,
    "start_time": "2025-02-26T18:44:08.158Z"
   },
   {
    "duration": 6,
    "start_time": "2025-02-26T18:44:08.171Z"
   },
   {
    "duration": 16,
    "start_time": "2025-02-26T18:44:08.179Z"
   },
   {
    "duration": 38,
    "start_time": "2025-02-26T18:44:08.196Z"
   },
   {
    "duration": 16,
    "start_time": "2025-02-26T18:44:08.236Z"
   },
   {
    "duration": 7,
    "start_time": "2025-02-26T18:44:08.253Z"
   },
   {
    "duration": 21,
    "start_time": "2025-02-26T18:44:08.263Z"
   },
   {
    "duration": 14,
    "start_time": "2025-02-26T18:44:08.285Z"
   },
   {
    "duration": 30,
    "start_time": "2025-02-26T18:44:08.300Z"
   },
   {
    "duration": 21,
    "start_time": "2025-02-26T18:44:08.332Z"
   },
   {
    "duration": 21,
    "start_time": "2025-02-26T18:44:08.355Z"
   },
   {
    "duration": 19,
    "start_time": "2025-02-26T18:44:08.381Z"
   },
   {
    "duration": 40,
    "start_time": "2025-02-26T18:44:08.403Z"
   },
   {
    "duration": 28,
    "start_time": "2025-02-26T18:44:08.445Z"
   },
   {
    "duration": 14,
    "start_time": "2025-02-26T18:44:08.476Z"
   },
   {
    "duration": 18,
    "start_time": "2025-02-26T18:44:08.494Z"
   },
   {
    "duration": 7,
    "start_time": "2025-02-26T18:44:08.532Z"
   },
   {
    "duration": 4,
    "start_time": "2025-02-26T18:44:08.543Z"
   },
   {
    "duration": 10,
    "start_time": "2025-02-26T18:44:08.548Z"
   },
   {
    "duration": 8,
    "start_time": "2025-02-26T18:44:08.561Z"
   },
   {
    "duration": 23,
    "start_time": "2025-02-26T18:44:08.571Z"
   },
   {
    "duration": 7,
    "start_time": "2025-02-26T18:44:08.596Z"
   },
   {
    "duration": 243,
    "start_time": "2025-02-26T18:44:08.605Z"
   },
   {
    "duration": 252,
    "start_time": "2025-02-26T18:44:08.850Z"
   },
   {
    "duration": 6,
    "start_time": "2025-02-26T18:44:09.105Z"
   },
   {
    "duration": 228,
    "start_time": "2025-02-26T18:44:09.112Z"
   },
   {
    "duration": 195,
    "start_time": "2025-02-26T18:44:09.342Z"
   },
   {
    "duration": 293,
    "start_time": "2025-02-26T18:44:09.539Z"
   },
   {
    "duration": 133,
    "start_time": "2025-02-26T18:44:09.835Z"
   },
   {
    "duration": 186,
    "start_time": "2025-02-26T18:44:09.971Z"
   },
   {
    "duration": 288,
    "start_time": "2025-02-26T18:44:10.159Z"
   },
   {
    "duration": 178,
    "start_time": "2025-02-26T18:44:10.450Z"
   },
   {
    "duration": 230,
    "start_time": "2025-02-26T18:44:10.632Z"
   },
   {
    "duration": 20,
    "start_time": "2025-02-26T18:44:10.864Z"
   },
   {
    "duration": 7,
    "start_time": "2025-02-26T18:44:10.886Z"
   },
   {
    "duration": 36,
    "start_time": "2025-02-26T18:44:10.896Z"
   },
   {
    "duration": 2,
    "start_time": "2025-02-26T18:44:10.934Z"
   },
   {
    "duration": 13,
    "start_time": "2025-02-26T18:44:48.687Z"
   },
   {
    "duration": 14,
    "start_time": "2025-02-26T18:44:59.288Z"
   },
   {
    "duration": 14,
    "start_time": "2025-02-26T18:45:09.092Z"
   },
   {
    "duration": 13,
    "start_time": "2025-02-26T18:45:14.749Z"
   },
   {
    "duration": 4,
    "start_time": "2025-02-26T18:47:24.655Z"
   },
   {
    "duration": 820,
    "start_time": "2025-02-26T18:47:34.303Z"
   },
   {
    "duration": 150,
    "start_time": "2025-02-26T18:47:35.125Z"
   },
   {
    "duration": 9,
    "start_time": "2025-02-26T18:47:35.277Z"
   },
   {
    "duration": 10,
    "start_time": "2025-02-26T18:47:35.288Z"
   },
   {
    "duration": 8,
    "start_time": "2025-02-26T18:47:35.300Z"
   },
   {
    "duration": 24,
    "start_time": "2025-02-26T18:47:35.309Z"
   },
   {
    "duration": 2,
    "start_time": "2025-02-26T18:47:35.335Z"
   },
   {
    "duration": 15,
    "start_time": "2025-02-26T18:47:35.339Z"
   },
   {
    "duration": 6,
    "start_time": "2025-02-26T18:47:35.355Z"
   },
   {
    "duration": 25,
    "start_time": "2025-02-26T18:47:35.365Z"
   },
   {
    "duration": 45,
    "start_time": "2025-02-26T18:47:35.392Z"
   },
   {
    "duration": 11,
    "start_time": "2025-02-26T18:47:35.438Z"
   },
   {
    "duration": 5,
    "start_time": "2025-02-26T18:47:35.451Z"
   },
   {
    "duration": 17,
    "start_time": "2025-02-26T18:47:35.458Z"
   },
   {
    "duration": 9,
    "start_time": "2025-02-26T18:47:35.476Z"
   },
   {
    "duration": 45,
    "start_time": "2025-02-26T18:47:35.486Z"
   },
   {
    "duration": 6,
    "start_time": "2025-02-26T18:47:35.533Z"
   },
   {
    "duration": 20,
    "start_time": "2025-02-26T18:47:35.541Z"
   },
   {
    "duration": 14,
    "start_time": "2025-02-26T18:47:35.562Z"
   },
   {
    "duration": 7,
    "start_time": "2025-02-26T18:47:35.578Z"
   },
   {
    "duration": 15,
    "start_time": "2025-02-26T18:47:35.587Z"
   },
   {
    "duration": 15,
    "start_time": "2025-02-26T18:47:35.631Z"
   },
   {
    "duration": 12,
    "start_time": "2025-02-26T18:47:35.648Z"
   },
   {
    "duration": 12,
    "start_time": "2025-02-26T18:47:35.662Z"
   },
   {
    "duration": 16,
    "start_time": "2025-02-26T18:47:35.677Z"
   },
   {
    "duration": 7,
    "start_time": "2025-02-26T18:47:35.695Z"
   },
   {
    "duration": 10,
    "start_time": "2025-02-26T18:47:35.731Z"
   },
   {
    "duration": 4,
    "start_time": "2025-02-26T18:47:35.747Z"
   },
   {
    "duration": 2,
    "start_time": "2025-02-26T18:47:35.753Z"
   },
   {
    "duration": 6,
    "start_time": "2025-02-26T18:47:35.757Z"
   },
   {
    "duration": 5,
    "start_time": "2025-02-26T18:47:35.764Z"
   },
   {
    "duration": 14,
    "start_time": "2025-02-26T18:47:35.771Z"
   },
   {
    "duration": 6,
    "start_time": "2025-02-26T18:47:35.786Z"
   },
   {
    "duration": 222,
    "start_time": "2025-02-26T18:47:35.793Z"
   },
   {
    "duration": 223,
    "start_time": "2025-02-26T18:47:36.016Z"
   },
   {
    "duration": 7,
    "start_time": "2025-02-26T18:47:36.241Z"
   },
   {
    "duration": 173,
    "start_time": "2025-02-26T18:47:36.249Z"
   },
   {
    "duration": 179,
    "start_time": "2025-02-26T18:47:36.423Z"
   },
   {
    "duration": 247,
    "start_time": "2025-02-26T18:47:36.604Z"
   },
   {
    "duration": 125,
    "start_time": "2025-02-26T18:47:36.852Z"
   },
   {
    "duration": 184,
    "start_time": "2025-02-26T18:47:36.979Z"
   },
   {
    "duration": 226,
    "start_time": "2025-02-26T18:47:37.165Z"
   },
   {
    "duration": 120,
    "start_time": "2025-02-26T18:47:37.394Z"
   },
   {
    "duration": 218,
    "start_time": "2025-02-26T18:47:37.515Z"
   },
   {
    "duration": 15,
    "start_time": "2025-02-26T18:47:37.735Z"
   },
   {
    "duration": 5,
    "start_time": "2025-02-26T18:47:37.753Z"
   },
   {
    "duration": 12,
    "start_time": "2025-02-26T18:47:37.760Z"
   },
   {
    "duration": 2,
    "start_time": "2025-02-26T18:47:37.773Z"
   },
   {
    "duration": 10,
    "start_time": "2025-02-26T18:49:47.328Z"
   },
   {
    "duration": 15,
    "start_time": "2025-02-26T18:52:19.454Z"
   },
   {
    "duration": 4,
    "start_time": "2025-02-26T18:53:38.106Z"
   },
   {
    "duration": 5,
    "start_time": "2025-02-26T18:55:26.254Z"
   },
   {
    "duration": 3,
    "start_time": "2025-02-26T18:56:05.932Z"
   },
   {
    "duration": 4,
    "start_time": "2025-02-26T18:56:07.021Z"
   },
   {
    "duration": 7,
    "start_time": "2025-02-26T18:56:19.070Z"
   },
   {
    "duration": 5,
    "start_time": "2025-02-26T18:57:25.817Z"
   },
   {
    "duration": 14,
    "start_time": "2025-02-26T18:57:31.603Z"
   },
   {
    "duration": 857,
    "start_time": "2025-02-26T18:58:04.554Z"
   },
   {
    "duration": 171,
    "start_time": "2025-02-26T18:58:05.414Z"
   },
   {
    "duration": 10,
    "start_time": "2025-02-26T18:58:05.587Z"
   },
   {
    "duration": 10,
    "start_time": "2025-02-26T18:58:05.600Z"
   },
   {
    "duration": 21,
    "start_time": "2025-02-26T18:58:05.612Z"
   },
   {
    "duration": 9,
    "start_time": "2025-02-26T18:58:05.635Z"
   },
   {
    "duration": 3,
    "start_time": "2025-02-26T18:58:05.646Z"
   },
   {
    "duration": 16,
    "start_time": "2025-02-26T18:58:05.650Z"
   },
   {
    "duration": 8,
    "start_time": "2025-02-26T18:58:05.667Z"
   },
   {
    "duration": 52,
    "start_time": "2025-02-26T18:58:05.679Z"
   },
   {
    "duration": 17,
    "start_time": "2025-02-26T18:58:05.733Z"
   },
   {
    "duration": 12,
    "start_time": "2025-02-26T18:58:05.751Z"
   },
   {
    "duration": 6,
    "start_time": "2025-02-26T18:58:05.764Z"
   },
   {
    "duration": 17,
    "start_time": "2025-02-26T18:58:05.772Z"
   },
   {
    "duration": 9,
    "start_time": "2025-02-26T18:58:05.790Z"
   },
   {
    "duration": 13,
    "start_time": "2025-02-26T18:58:05.832Z"
   },
   {
    "duration": 7,
    "start_time": "2025-02-26T18:58:05.846Z"
   },
   {
    "duration": 20,
    "start_time": "2025-02-26T18:58:05.854Z"
   },
   {
    "duration": 14,
    "start_time": "2025-02-26T18:58:05.876Z"
   },
   {
    "duration": 7,
    "start_time": "2025-02-26T18:58:05.891Z"
   },
   {
    "duration": 46,
    "start_time": "2025-02-26T18:58:05.899Z"
   },
   {
    "duration": 16,
    "start_time": "2025-02-26T18:58:05.947Z"
   },
   {
    "duration": 14,
    "start_time": "2025-02-26T18:58:05.965Z"
   },
   {
    "duration": 13,
    "start_time": "2025-02-26T18:58:05.981Z"
   },
   {
    "duration": 46,
    "start_time": "2025-02-26T18:58:05.995Z"
   },
   {
    "duration": 8,
    "start_time": "2025-02-26T18:58:06.042Z"
   },
   {
    "duration": 11,
    "start_time": "2025-02-26T18:58:06.052Z"
   },
   {
    "duration": 5,
    "start_time": "2025-02-26T18:58:06.068Z"
   },
   {
    "duration": 3,
    "start_time": "2025-02-26T18:58:06.074Z"
   },
   {
    "duration": 6,
    "start_time": "2025-02-26T18:58:06.078Z"
   },
   {
    "duration": 5,
    "start_time": "2025-02-26T18:58:06.085Z"
   },
   {
    "duration": 4,
    "start_time": "2025-02-26T18:58:06.092Z"
   },
   {
    "duration": 47,
    "start_time": "2025-02-26T18:58:06.097Z"
   },
   {
    "duration": 6,
    "start_time": "2025-02-26T18:58:06.145Z"
   },
   {
    "duration": 194,
    "start_time": "2025-02-26T18:58:06.153Z"
   },
   {
    "duration": 241,
    "start_time": "2025-02-26T18:58:06.349Z"
   },
   {
    "duration": 6,
    "start_time": "2025-02-26T18:58:06.592Z"
   },
   {
    "duration": 177,
    "start_time": "2025-02-26T18:58:06.600Z"
   },
   {
    "duration": 184,
    "start_time": "2025-02-26T18:58:06.779Z"
   },
   {
    "duration": 246,
    "start_time": "2025-02-26T18:58:06.965Z"
   },
   {
    "duration": 130,
    "start_time": "2025-02-26T18:58:07.213Z"
   },
   {
    "duration": 183,
    "start_time": "2025-02-26T18:58:07.345Z"
   },
   {
    "duration": 227,
    "start_time": "2025-02-26T18:58:07.530Z"
   },
   {
    "duration": 125,
    "start_time": "2025-02-26T18:58:07.759Z"
   },
   {
    "duration": 224,
    "start_time": "2025-02-26T18:58:07.885Z"
   },
   {
    "duration": 9,
    "start_time": "2025-02-26T18:58:08.111Z"
   },
   {
    "duration": 15,
    "start_time": "2025-02-26T18:58:08.131Z"
   },
   {
    "duration": 6,
    "start_time": "2025-02-26T18:58:08.148Z"
   },
   {
    "duration": 13,
    "start_time": "2025-02-26T18:58:08.155Z"
   },
   {
    "duration": 3,
    "start_time": "2025-02-26T18:58:08.169Z"
   },
   {
    "duration": 15,
    "start_time": "2025-02-26T18:58:38.784Z"
   },
   {
    "duration": 17,
    "start_time": "2025-02-26T18:58:49.781Z"
   },
   {
    "duration": 6,
    "start_time": "2025-02-26T18:59:34.456Z"
   },
   {
    "duration": 4,
    "start_time": "2025-02-26T19:02:12.803Z"
   },
   {
    "duration": 3,
    "start_time": "2025-02-26T19:02:16.151Z"
   },
   {
    "duration": 7,
    "start_time": "2025-02-26T19:02:18.582Z"
   },
   {
    "duration": 5,
    "start_time": "2025-02-26T19:02:22.971Z"
   },
   {
    "duration": 15,
    "start_time": "2025-02-26T19:02:26.241Z"
   },
   {
    "duration": 4,
    "start_time": "2025-02-26T19:04:31.774Z"
   },
   {
    "duration": 2,
    "start_time": "2025-02-26T19:04:33.923Z"
   },
   {
    "duration": 6,
    "start_time": "2025-02-26T19:04:36.611Z"
   },
   {
    "duration": 4,
    "start_time": "2025-02-26T19:04:38.646Z"
   },
   {
    "duration": 857,
    "start_time": "2025-02-26T19:05:53.227Z"
   },
   {
    "duration": 169,
    "start_time": "2025-02-26T19:05:54.086Z"
   },
   {
    "duration": 11,
    "start_time": "2025-02-26T19:05:54.257Z"
   },
   {
    "duration": 10,
    "start_time": "2025-02-26T19:05:54.270Z"
   },
   {
    "duration": 10,
    "start_time": "2025-02-26T19:05:54.282Z"
   },
   {
    "duration": 9,
    "start_time": "2025-02-26T19:05:54.294Z"
   },
   {
    "duration": 25,
    "start_time": "2025-02-26T19:05:54.306Z"
   },
   {
    "duration": 16,
    "start_time": "2025-02-26T19:05:54.334Z"
   },
   {
    "duration": 7,
    "start_time": "2025-02-26T19:05:54.352Z"
   },
   {
    "duration": 26,
    "start_time": "2025-02-26T19:05:54.361Z"
   },
   {
    "duration": 47,
    "start_time": "2025-02-26T19:05:54.389Z"
   },
   {
    "duration": 11,
    "start_time": "2025-02-26T19:05:54.438Z"
   },
   {
    "duration": 6,
    "start_time": "2025-02-26T19:05:54.451Z"
   },
   {
    "duration": 18,
    "start_time": "2025-02-26T19:05:54.461Z"
   },
   {
    "duration": 10,
    "start_time": "2025-02-26T19:05:54.481Z"
   },
   {
    "duration": 47,
    "start_time": "2025-02-26T19:05:54.493Z"
   },
   {
    "duration": 9,
    "start_time": "2025-02-26T19:05:54.543Z"
   },
   {
    "duration": 24,
    "start_time": "2025-02-26T19:05:54.555Z"
   },
   {
    "duration": 16,
    "start_time": "2025-02-26T19:05:54.581Z"
   },
   {
    "duration": 33,
    "start_time": "2025-02-26T19:05:54.599Z"
   },
   {
    "duration": 17,
    "start_time": "2025-02-26T19:05:54.634Z"
   },
   {
    "duration": 17,
    "start_time": "2025-02-26T19:05:54.653Z"
   },
   {
    "duration": 15,
    "start_time": "2025-02-26T19:05:54.672Z"
   },
   {
    "duration": 44,
    "start_time": "2025-02-26T19:05:54.688Z"
   },
   {
    "duration": 18,
    "start_time": "2025-02-26T19:05:54.734Z"
   },
   {
    "duration": 8,
    "start_time": "2025-02-26T19:05:54.754Z"
   },
   {
    "duration": 11,
    "start_time": "2025-02-26T19:05:54.764Z"
   },
   {
    "duration": 6,
    "start_time": "2025-02-26T19:05:54.778Z"
   },
   {
    "duration": 5,
    "start_time": "2025-02-26T19:05:54.785Z"
   },
   {
    "duration": 39,
    "start_time": "2025-02-26T19:05:54.794Z"
   },
   {
    "duration": 6,
    "start_time": "2025-02-26T19:05:54.836Z"
   },
   {
    "duration": 17,
    "start_time": "2025-02-26T19:05:54.844Z"
   },
   {
    "duration": 6,
    "start_time": "2025-02-26T19:05:54.863Z"
   },
   {
    "duration": 233,
    "start_time": "2025-02-26T19:05:54.871Z"
   },
   {
    "duration": 236,
    "start_time": "2025-02-26T19:05:55.107Z"
   },
   {
    "duration": 7,
    "start_time": "2025-02-26T19:05:55.346Z"
   },
   {
    "duration": 203,
    "start_time": "2025-02-26T19:05:55.355Z"
   },
   {
    "duration": 182,
    "start_time": "2025-02-26T19:05:55.560Z"
   },
   {
    "duration": 260,
    "start_time": "2025-02-26T19:05:55.744Z"
   },
   {
    "duration": 133,
    "start_time": "2025-02-26T19:05:56.006Z"
   },
   {
    "duration": 206,
    "start_time": "2025-02-26T19:05:56.141Z"
   },
   {
    "duration": 213,
    "start_time": "2025-02-26T19:05:56.350Z"
   },
   {
    "duration": 132,
    "start_time": "2025-02-26T19:05:56.565Z"
   },
   {
    "duration": 223,
    "start_time": "2025-02-26T19:05:56.700Z"
   },
   {
    "duration": 9,
    "start_time": "2025-02-26T19:05:56.930Z"
   },
   {
    "duration": 13,
    "start_time": "2025-02-26T19:05:56.941Z"
   },
   {
    "duration": 7,
    "start_time": "2025-02-26T19:05:56.956Z"
   },
   {
    "duration": 13,
    "start_time": "2025-02-26T19:05:56.965Z"
   },
   {
    "duration": 2,
    "start_time": "2025-02-26T19:05:56.980Z"
   },
   {
    "duration": 7,
    "start_time": "2025-02-26T19:07:50.645Z"
   },
   {
    "duration": 293,
    "start_time": "2025-02-26T19:15:17.788Z"
   },
   {
    "duration": 10,
    "start_time": "2025-02-26T19:27:35.331Z"
   },
   {
    "duration": 7,
    "start_time": "2025-02-26T19:34:06.022Z"
   },
   {
    "duration": 7,
    "start_time": "2025-02-26T19:35:30.137Z"
   },
   {
    "duration": 907,
    "start_time": "2025-02-26T19:36:16.583Z"
   },
   {
    "duration": 221,
    "start_time": "2025-02-26T19:36:17.492Z"
   },
   {
    "duration": 9,
    "start_time": "2025-02-26T19:36:17.714Z"
   },
   {
    "duration": 22,
    "start_time": "2025-02-26T19:36:17.726Z"
   },
   {
    "duration": 21,
    "start_time": "2025-02-26T19:36:17.750Z"
   },
   {
    "duration": 11,
    "start_time": "2025-02-26T19:36:17.772Z"
   },
   {
    "duration": 3,
    "start_time": "2025-02-26T19:36:17.785Z"
   },
   {
    "duration": 16,
    "start_time": "2025-02-26T19:36:17.789Z"
   },
   {
    "duration": 8,
    "start_time": "2025-02-26T19:36:17.807Z"
   },
   {
    "duration": 59,
    "start_time": "2025-02-26T19:36:17.818Z"
   },
   {
    "duration": 18,
    "start_time": "2025-02-26T19:36:17.879Z"
   },
   {
    "duration": 12,
    "start_time": "2025-02-26T19:36:17.899Z"
   },
   {
    "duration": 8,
    "start_time": "2025-02-26T19:36:17.913Z"
   },
   {
    "duration": 34,
    "start_time": "2025-02-26T19:36:17.923Z"
   },
   {
    "duration": 16,
    "start_time": "2025-02-26T19:36:17.959Z"
   },
   {
    "duration": 14,
    "start_time": "2025-02-26T19:36:17.977Z"
   },
   {
    "duration": 6,
    "start_time": "2025-02-26T19:36:17.993Z"
   },
   {
    "duration": 45,
    "start_time": "2025-02-26T19:36:18.001Z"
   },
   {
    "duration": 25,
    "start_time": "2025-02-26T19:36:18.048Z"
   },
   {
    "duration": 8,
    "start_time": "2025-02-26T19:36:18.074Z"
   },
   {
    "duration": 16,
    "start_time": "2025-02-26T19:36:18.085Z"
   },
   {
    "duration": 51,
    "start_time": "2025-02-26T19:36:18.103Z"
   },
   {
    "duration": 22,
    "start_time": "2025-02-26T19:36:18.155Z"
   },
   {
    "duration": 14,
    "start_time": "2025-02-26T19:36:18.181Z"
   },
   {
    "duration": 19,
    "start_time": "2025-02-26T19:36:18.197Z"
   },
   {
    "duration": 21,
    "start_time": "2025-02-26T19:36:18.218Z"
   },
   {
    "duration": 23,
    "start_time": "2025-02-26T19:36:18.241Z"
   },
   {
    "duration": 8,
    "start_time": "2025-02-26T19:36:18.269Z"
   },
   {
    "duration": 3,
    "start_time": "2025-02-26T19:36:18.279Z"
   },
   {
    "duration": 7,
    "start_time": "2025-02-26T19:36:18.283Z"
   },
   {
    "duration": 4,
    "start_time": "2025-02-26T19:36:18.292Z"
   },
   {
    "duration": 62,
    "start_time": "2025-02-26T19:36:18.298Z"
   },
   {
    "duration": 6,
    "start_time": "2025-02-26T19:36:18.363Z"
   },
   {
    "duration": 228,
    "start_time": "2025-02-26T19:36:18.371Z"
   },
   {
    "duration": 309,
    "start_time": "2025-02-26T19:36:18.601Z"
   },
   {
    "duration": 6,
    "start_time": "2025-02-26T19:36:18.912Z"
   },
   {
    "duration": 199,
    "start_time": "2025-02-26T19:36:18.919Z"
   },
   {
    "duration": 229,
    "start_time": "2025-02-26T19:36:19.121Z"
   },
   {
    "duration": 274,
    "start_time": "2025-02-26T19:36:19.352Z"
   },
   {
    "duration": 178,
    "start_time": "2025-02-26T19:36:19.629Z"
   },
   {
    "duration": 216,
    "start_time": "2025-02-26T19:36:19.810Z"
   },
   {
    "duration": 236,
    "start_time": "2025-02-26T19:36:20.028Z"
   },
   {
    "duration": 144,
    "start_time": "2025-02-26T19:36:20.266Z"
   },
   {
    "duration": 253,
    "start_time": "2025-02-26T19:36:20.413Z"
   },
   {
    "duration": 6,
    "start_time": "2025-02-26T19:36:20.668Z"
   },
   {
    "duration": 14,
    "start_time": "2025-02-26T19:36:20.676Z"
   },
   {
    "duration": 2,
    "start_time": "2025-02-26T19:36:20.692Z"
   },
   {
    "duration": 8,
    "start_time": "2025-02-26T19:42:30.625Z"
   },
   {
    "duration": 9,
    "start_time": "2025-02-26T19:43:02.903Z"
   },
   {
    "duration": 283,
    "start_time": "2025-02-26T19:43:37.138Z"
   },
   {
    "duration": 5,
    "start_time": "2025-02-26T19:43:44.575Z"
   },
   {
    "duration": 397,
    "start_time": "2025-02-26T19:50:50.983Z"
   },
   {
    "duration": 43,
    "start_time": "2025-02-26T19:51:37.073Z"
   },
   {
    "duration": 10,
    "start_time": "2025-02-26T19:54:09.690Z"
   },
   {
    "duration": 46,
    "start_time": "2025-02-26T19:55:27.052Z"
   },
   {
    "duration": 10,
    "start_time": "2025-02-26T19:56:23.590Z"
   },
   {
    "duration": 7,
    "start_time": "2025-02-26T19:57:48.010Z"
   },
   {
    "duration": 6,
    "start_time": "2025-02-26T19:57:57.136Z"
   },
   {
    "duration": 6,
    "start_time": "2025-02-26T19:59:25.164Z"
   },
   {
    "duration": 17,
    "start_time": "2025-02-26T20:13:43.921Z"
   },
   {
    "duration": 12,
    "start_time": "2025-02-26T20:14:09.794Z"
   },
   {
    "duration": 45,
    "start_time": "2025-02-26T20:30:04.097Z"
   },
   {
    "duration": 846,
    "start_time": "2025-02-26T20:30:29.677Z"
   },
   {
    "duration": 154,
    "start_time": "2025-02-26T20:30:30.526Z"
   },
   {
    "duration": 10,
    "start_time": "2025-02-26T20:30:30.681Z"
   },
   {
    "duration": 9,
    "start_time": "2025-02-26T20:30:30.694Z"
   },
   {
    "duration": 8,
    "start_time": "2025-02-26T20:30:30.704Z"
   },
   {
    "duration": 25,
    "start_time": "2025-02-26T20:30:30.713Z"
   },
   {
    "duration": 4,
    "start_time": "2025-02-26T20:30:30.740Z"
   },
   {
    "duration": 15,
    "start_time": "2025-02-26T20:30:30.745Z"
   },
   {
    "duration": 7,
    "start_time": "2025-02-26T20:30:30.761Z"
   },
   {
    "duration": 27,
    "start_time": "2025-02-26T20:30:30.771Z"
   },
   {
    "duration": 17,
    "start_time": "2025-02-26T20:30:30.831Z"
   },
   {
    "duration": 16,
    "start_time": "2025-02-26T20:30:30.850Z"
   },
   {
    "duration": 6,
    "start_time": "2025-02-26T20:30:30.867Z"
   },
   {
    "duration": 18,
    "start_time": "2025-02-26T20:30:30.874Z"
   },
   {
    "duration": 10,
    "start_time": "2025-02-26T20:30:30.894Z"
   },
   {
    "duration": 16,
    "start_time": "2025-02-26T20:30:30.931Z"
   },
   {
    "duration": 10,
    "start_time": "2025-02-26T20:30:30.949Z"
   },
   {
    "duration": 23,
    "start_time": "2025-02-26T20:30:30.960Z"
   },
   {
    "duration": 15,
    "start_time": "2025-02-26T20:30:30.985Z"
   },
   {
    "duration": 37,
    "start_time": "2025-02-26T20:30:31.001Z"
   },
   {
    "duration": 17,
    "start_time": "2025-02-26T20:30:31.042Z"
   },
   {
    "duration": 15,
    "start_time": "2025-02-26T20:30:31.061Z"
   },
   {
    "duration": 13,
    "start_time": "2025-02-26T20:30:31.078Z"
   },
   {
    "duration": 42,
    "start_time": "2025-02-26T20:30:31.093Z"
   },
   {
    "duration": 18,
    "start_time": "2025-02-26T20:30:31.137Z"
   },
   {
    "duration": 12,
    "start_time": "2025-02-26T20:30:31.159Z"
   },
   {
    "duration": 14,
    "start_time": "2025-02-26T20:30:31.172Z"
   },
   {
    "duration": 5,
    "start_time": "2025-02-26T20:30:31.191Z"
   },
   {
    "duration": 3,
    "start_time": "2025-02-26T20:30:31.198Z"
   },
   {
    "duration": 30,
    "start_time": "2025-02-26T20:30:31.203Z"
   },
   {
    "duration": 4,
    "start_time": "2025-02-26T20:30:31.235Z"
   },
   {
    "duration": 12,
    "start_time": "2025-02-26T20:30:31.242Z"
   },
   {
    "duration": 216,
    "start_time": "2025-02-26T20:30:31.256Z"
   },
   {
    "duration": 252,
    "start_time": "2025-02-26T20:30:31.475Z"
   },
   {
    "duration": 6,
    "start_time": "2025-02-26T20:30:31.732Z"
   },
   {
    "duration": 183,
    "start_time": "2025-02-26T20:30:31.739Z"
   },
   {
    "duration": 182,
    "start_time": "2025-02-26T20:30:31.924Z"
   },
   {
    "duration": 251,
    "start_time": "2025-02-26T20:30:32.108Z"
   },
   {
    "duration": 135,
    "start_time": "2025-02-26T20:30:32.361Z"
   },
   {
    "duration": 192,
    "start_time": "2025-02-26T20:30:32.497Z"
   },
   {
    "duration": 216,
    "start_time": "2025-02-26T20:30:32.691Z"
   },
   {
    "duration": 125,
    "start_time": "2025-02-26T20:30:32.908Z"
   },
   {
    "duration": 211,
    "start_time": "2025-02-26T20:30:33.034Z"
   },
   {
    "duration": 7,
    "start_time": "2025-02-26T20:30:33.247Z"
   },
   {
    "duration": 13,
    "start_time": "2025-02-26T20:30:33.256Z"
   },
   {
    "duration": 690,
    "start_time": "2025-02-26T20:30:33.270Z"
   },
   {
    "duration": 11,
    "start_time": "2025-02-26T20:32:11.585Z"
   },
   {
    "duration": 220,
    "start_time": "2025-02-26T20:36:28.178Z"
   },
   {
    "duration": 3,
    "start_time": "2025-02-26T20:39:15.862Z"
   },
   {
    "duration": 4,
    "start_time": "2025-02-26T20:50:38.212Z"
   },
   {
    "duration": 5,
    "start_time": "2025-02-26T20:51:12.227Z"
   },
   {
    "duration": 5,
    "start_time": "2025-02-26T20:52:23.895Z"
   },
   {
    "duration": 155,
    "start_time": "2025-02-26T20:54:39.413Z"
   },
   {
    "duration": 141,
    "start_time": "2025-02-26T20:56:27.546Z"
   },
   {
    "duration": 4,
    "start_time": "2025-02-26T20:59:42.224Z"
   },
   {
    "duration": 137,
    "start_time": "2025-02-26T20:59:45.304Z"
   },
   {
    "duration": 208,
    "start_time": "2025-02-26T21:00:20.073Z"
   },
   {
    "duration": 128,
    "start_time": "2025-02-26T21:00:55.467Z"
   },
   {
    "duration": 5,
    "start_time": "2025-02-26T21:01:02.407Z"
   },
   {
    "duration": 5,
    "start_time": "2025-02-26T21:01:06.562Z"
   },
   {
    "duration": 218,
    "start_time": "2025-02-26T21:01:08.242Z"
   },
   {
    "duration": 187,
    "start_time": "2025-02-26T21:01:33.552Z"
   },
   {
    "duration": 207,
    "start_time": "2025-02-26T21:01:51.140Z"
   },
   {
    "duration": 1336,
    "start_time": "2025-02-27T15:09:20.534Z"
   },
   {
    "duration": 974,
    "start_time": "2025-02-27T15:09:21.876Z"
   },
   {
    "duration": 30,
    "start_time": "2025-02-27T15:09:22.856Z"
   },
   {
    "duration": 31,
    "start_time": "2025-02-27T15:09:22.891Z"
   },
   {
    "duration": 21,
    "start_time": "2025-02-27T15:09:22.930Z"
   },
   {
    "duration": 26,
    "start_time": "2025-02-27T15:09:22.968Z"
   },
   {
    "duration": 11,
    "start_time": "2025-02-27T15:09:23.001Z"
   },
   {
    "duration": 36,
    "start_time": "2025-02-27T15:09:23.018Z"
   },
   {
    "duration": 15,
    "start_time": "2025-02-27T15:09:23.059Z"
   },
   {
    "duration": 54,
    "start_time": "2025-02-27T15:09:23.083Z"
   },
   {
    "duration": 35,
    "start_time": "2025-02-27T15:09:23.147Z"
   },
   {
    "duration": 23,
    "start_time": "2025-02-27T15:09:23.187Z"
   },
   {
    "duration": 10,
    "start_time": "2025-02-27T15:09:23.216Z"
   },
   {
    "duration": 35,
    "start_time": "2025-02-27T15:09:23.235Z"
   },
   {
    "duration": 15,
    "start_time": "2025-02-27T15:09:23.275Z"
   },
   {
    "duration": 28,
    "start_time": "2025-02-27T15:09:23.298Z"
   },
   {
    "duration": 11,
    "start_time": "2025-02-27T15:09:23.331Z"
   },
   {
    "duration": 44,
    "start_time": "2025-02-27T15:09:23.350Z"
   },
   {
    "duration": 35,
    "start_time": "2025-02-27T15:09:23.399Z"
   },
   {
    "duration": 19,
    "start_time": "2025-02-27T15:09:23.439Z"
   },
   {
    "duration": 31,
    "start_time": "2025-02-27T15:09:23.463Z"
   },
   {
    "duration": 30,
    "start_time": "2025-02-27T15:09:23.499Z"
   },
   {
    "duration": 32,
    "start_time": "2025-02-27T15:09:23.534Z"
   },
   {
    "duration": 27,
    "start_time": "2025-02-27T15:09:23.573Z"
   },
   {
    "duration": 20,
    "start_time": "2025-02-27T15:09:23.611Z"
   },
   {
    "duration": 13,
    "start_time": "2025-02-27T15:09:23.650Z"
   },
   {
    "duration": 20,
    "start_time": "2025-02-27T15:09:23.674Z"
   },
   {
    "duration": 15,
    "start_time": "2025-02-27T15:09:23.703Z"
   },
   {
    "duration": 5,
    "start_time": "2025-02-27T15:09:23.723Z"
   },
   {
    "duration": 17,
    "start_time": "2025-02-27T15:09:23.733Z"
   },
   {
    "duration": 9,
    "start_time": "2025-02-27T15:09:23.758Z"
   },
   {
    "duration": 33,
    "start_time": "2025-02-27T15:09:23.773Z"
   },
   {
    "duration": 377,
    "start_time": "2025-02-27T15:09:23.813Z"
   },
   {
    "duration": 403,
    "start_time": "2025-02-27T15:09:24.195Z"
   },
   {
    "duration": 12,
    "start_time": "2025-02-27T15:09:24.604Z"
   },
   {
    "duration": 369,
    "start_time": "2025-02-27T15:09:24.622Z"
   },
   {
    "duration": 310,
    "start_time": "2025-02-27T15:09:25.008Z"
   },
   {
    "duration": 428,
    "start_time": "2025-02-27T15:09:25.323Z"
   },
   {
    "duration": 245,
    "start_time": "2025-02-27T15:09:25.757Z"
   },
   {
    "duration": 347,
    "start_time": "2025-02-27T15:09:26.007Z"
   },
   {
    "duration": 426,
    "start_time": "2025-02-27T15:09:26.360Z"
   },
   {
    "duration": 237,
    "start_time": "2025-02-27T15:09:26.791Z"
   },
   {
    "duration": 8,
    "start_time": "2025-02-27T15:09:27.038Z"
   },
   {
    "duration": 439,
    "start_time": "2025-02-27T15:09:27.051Z"
   },
   {
    "duration": 457,
    "start_time": "2025-02-27T15:09:27.497Z"
   },
   {
    "duration": 350,
    "start_time": "2025-02-27T15:09:27.961Z"
   },
   {
    "duration": 425,
    "start_time": "2025-02-27T15:09:28.319Z"
   },
   {
    "duration": 0,
    "start_time": "2025-02-27T15:09:28.750Z"
   },
   {
    "duration": 0,
    "start_time": "2025-02-27T15:09:28.757Z"
   },
   {
    "duration": 22,
    "start_time": "2025-02-27T15:09:41.608Z"
   },
   {
    "duration": 10,
    "start_time": "2025-02-27T15:09:44.208Z"
   },
   {
    "duration": 27,
    "start_time": "2025-02-27T15:09:46.383Z"
   },
   {
    "duration": 2539,
    "start_time": "2025-02-27T16:33:58.317Z"
   },
   {
    "duration": 216,
    "start_time": "2025-02-27T16:34:00.859Z"
   },
   {
    "duration": 10,
    "start_time": "2025-02-27T16:34:01.077Z"
   },
   {
    "duration": 12,
    "start_time": "2025-02-27T16:34:01.089Z"
   },
   {
    "duration": 8,
    "start_time": "2025-02-27T16:34:01.102Z"
   },
   {
    "duration": 17,
    "start_time": "2025-02-27T16:34:01.112Z"
   },
   {
    "duration": 3,
    "start_time": "2025-02-27T16:34:01.130Z"
   },
   {
    "duration": 16,
    "start_time": "2025-02-27T16:34:01.135Z"
   },
   {
    "duration": 6,
    "start_time": "2025-02-27T16:34:01.152Z"
   },
   {
    "duration": 29,
    "start_time": "2025-02-27T16:34:01.162Z"
   },
   {
    "duration": 42,
    "start_time": "2025-02-27T16:34:01.193Z"
   },
   {
    "duration": 11,
    "start_time": "2025-02-27T16:34:01.237Z"
   },
   {
    "duration": 7,
    "start_time": "2025-02-27T16:34:01.250Z"
   },
   {
    "duration": 15,
    "start_time": "2025-02-27T16:34:01.259Z"
   },
   {
    "duration": 9,
    "start_time": "2025-02-27T16:34:01.276Z"
   },
   {
    "duration": 46,
    "start_time": "2025-02-27T16:34:01.287Z"
   },
   {
    "duration": 7,
    "start_time": "2025-02-27T16:34:01.334Z"
   },
   {
    "duration": 21,
    "start_time": "2025-02-27T16:34:01.342Z"
   },
   {
    "duration": 15,
    "start_time": "2025-02-27T16:34:01.364Z"
   },
   {
    "duration": 7,
    "start_time": "2025-02-27T16:34:01.380Z"
   },
   {
    "duration": 46,
    "start_time": "2025-02-27T16:34:01.388Z"
   },
   {
    "duration": 15,
    "start_time": "2025-02-27T16:34:01.436Z"
   },
   {
    "duration": 12,
    "start_time": "2025-02-27T16:34:01.453Z"
   },
   {
    "duration": 13,
    "start_time": "2025-02-27T16:34:01.467Z"
   },
   {
    "duration": 45,
    "start_time": "2025-02-27T16:34:01.481Z"
   },
   {
    "duration": 9,
    "start_time": "2025-02-27T16:34:01.528Z"
   },
   {
    "duration": 11,
    "start_time": "2025-02-27T16:34:01.538Z"
   },
   {
    "duration": 5,
    "start_time": "2025-02-27T16:34:01.554Z"
   },
   {
    "duration": 3,
    "start_time": "2025-02-27T16:34:01.561Z"
   },
   {
    "duration": 6,
    "start_time": "2025-02-27T16:34:01.566Z"
   },
   {
    "duration": 5,
    "start_time": "2025-02-27T16:34:01.574Z"
   },
   {
    "duration": 45,
    "start_time": "2025-02-27T16:34:01.581Z"
   },
   {
    "duration": 191,
    "start_time": "2025-02-27T16:34:01.628Z"
   },
   {
    "duration": 221,
    "start_time": "2025-02-27T16:34:01.823Z"
   },
   {
    "duration": 7,
    "start_time": "2025-02-27T16:34:02.045Z"
   },
   {
    "duration": 130,
    "start_time": "2025-02-27T16:34:02.054Z"
   },
   {
    "duration": 177,
    "start_time": "2025-02-27T16:34:02.186Z"
   },
   {
    "duration": 303,
    "start_time": "2025-02-27T16:34:02.365Z"
   },
   {
    "duration": 130,
    "start_time": "2025-02-27T16:34:02.670Z"
   },
   {
    "duration": 188,
    "start_time": "2025-02-27T16:34:02.803Z"
   },
   {
    "duration": 221,
    "start_time": "2025-02-27T16:34:02.993Z"
   },
   {
    "duration": 133,
    "start_time": "2025-02-27T16:34:03.216Z"
   },
   {
    "duration": 5,
    "start_time": "2025-02-27T16:34:03.351Z"
   },
   {
    "duration": 220,
    "start_time": "2025-02-27T16:34:03.357Z"
   },
   {
    "duration": 210,
    "start_time": "2025-02-27T16:34:03.580Z"
   },
   {
    "duration": 264,
    "start_time": "2025-02-27T16:34:03.792Z"
   },
   {
    "duration": 7,
    "start_time": "2025-02-27T16:34:04.058Z"
   },
   {
    "duration": 8,
    "start_time": "2025-02-27T16:34:04.067Z"
   },
   {
    "duration": 14,
    "start_time": "2025-02-27T16:34:04.076Z"
   },
   {
    "duration": 140,
    "start_time": "2025-02-27T16:38:10.866Z"
   },
   {
    "duration": 13,
    "start_time": "2025-02-27T16:38:24.199Z"
   },
   {
    "duration": 4,
    "start_time": "2025-02-27T16:39:22.334Z"
   },
   {
    "duration": 25,
    "start_time": "2025-02-27T16:39:32.762Z"
   },
   {
    "duration": 828,
    "start_time": "2025-02-27T16:39:40.921Z"
   },
   {
    "duration": 156,
    "start_time": "2025-02-27T16:39:41.751Z"
   },
   {
    "duration": 10,
    "start_time": "2025-02-27T16:39:41.908Z"
   },
   {
    "duration": 12,
    "start_time": "2025-02-27T16:39:41.921Z"
   },
   {
    "duration": 9,
    "start_time": "2025-02-27T16:39:41.935Z"
   },
   {
    "duration": 10,
    "start_time": "2025-02-27T16:39:41.945Z"
   },
   {
    "duration": 3,
    "start_time": "2025-02-27T16:39:41.956Z"
   },
   {
    "duration": 15,
    "start_time": "2025-02-27T16:39:41.961Z"
   },
   {
    "duration": 6,
    "start_time": "2025-02-27T16:39:41.978Z"
   },
   {
    "duration": 58,
    "start_time": "2025-02-27T16:39:41.987Z"
   },
   {
    "duration": 16,
    "start_time": "2025-02-27T16:39:42.047Z"
   },
   {
    "duration": 13,
    "start_time": "2025-02-27T16:39:42.065Z"
   },
   {
    "duration": 6,
    "start_time": "2025-02-27T16:39:42.079Z"
   },
   {
    "duration": 45,
    "start_time": "2025-02-27T16:39:42.087Z"
   },
   {
    "duration": 10,
    "start_time": "2025-02-27T16:39:42.134Z"
   },
   {
    "duration": 13,
    "start_time": "2025-02-27T16:39:42.146Z"
   },
   {
    "duration": 7,
    "start_time": "2025-02-27T16:39:42.161Z"
   },
   {
    "duration": 21,
    "start_time": "2025-02-27T16:39:42.170Z"
   },
   {
    "duration": 43,
    "start_time": "2025-02-27T16:39:42.193Z"
   },
   {
    "duration": 8,
    "start_time": "2025-02-27T16:39:42.237Z"
   },
   {
    "duration": 16,
    "start_time": "2025-02-27T16:39:42.246Z"
   },
   {
    "duration": 16,
    "start_time": "2025-02-27T16:39:42.264Z"
   },
   {
    "duration": 42,
    "start_time": "2025-02-27T16:39:42.282Z"
   },
   {
    "duration": 13,
    "start_time": "2025-02-27T16:39:42.326Z"
   },
   {
    "duration": 13,
    "start_time": "2025-02-27T16:39:42.340Z"
   },
   {
    "duration": 8,
    "start_time": "2025-02-27T16:39:42.354Z"
   },
   {
    "duration": 3,
    "start_time": "2025-02-27T16:39:42.364Z"
   },
   {
    "duration": 9,
    "start_time": "2025-02-27T16:39:42.371Z"
   },
   {
    "duration": 6,
    "start_time": "2025-02-27T16:39:42.382Z"
   },
   {
    "duration": 34,
    "start_time": "2025-02-27T16:39:42.390Z"
   },
   {
    "duration": 6,
    "start_time": "2025-02-27T16:39:42.426Z"
   },
   {
    "duration": 5,
    "start_time": "2025-02-27T16:39:42.433Z"
   },
   {
    "duration": 13,
    "start_time": "2025-02-27T16:39:42.439Z"
   },
   {
    "duration": 206,
    "start_time": "2025-02-27T16:39:42.454Z"
   },
   {
    "duration": 236,
    "start_time": "2025-02-27T16:39:42.662Z"
   },
   {
    "duration": 6,
    "start_time": "2025-02-27T16:39:42.900Z"
   },
   {
    "duration": 184,
    "start_time": "2025-02-27T16:39:42.908Z"
   },
   {
    "duration": 187,
    "start_time": "2025-02-27T16:39:43.094Z"
   },
   {
    "duration": 248,
    "start_time": "2025-02-27T16:39:43.283Z"
   },
   {
    "duration": 130,
    "start_time": "2025-02-27T16:39:43.534Z"
   },
   {
    "duration": 194,
    "start_time": "2025-02-27T16:39:43.666Z"
   },
   {
    "duration": 204,
    "start_time": "2025-02-27T16:39:43.869Z"
   },
   {
    "duration": 126,
    "start_time": "2025-02-27T16:39:44.075Z"
   },
   {
    "duration": 5,
    "start_time": "2025-02-27T16:39:44.202Z"
   },
   {
    "duration": 222,
    "start_time": "2025-02-27T16:39:44.209Z"
   },
   {
    "duration": 268,
    "start_time": "2025-02-27T16:39:44.433Z"
   },
   {
    "duration": 211,
    "start_time": "2025-02-27T16:39:44.702Z"
   },
   {
    "duration": 12,
    "start_time": "2025-02-27T16:39:44.915Z"
   },
   {
    "duration": 5,
    "start_time": "2025-02-27T16:39:44.928Z"
   },
   {
    "duration": 10,
    "start_time": "2025-02-27T16:39:44.935Z"
   },
   {
    "duration": 846,
    "start_time": "2025-02-27T16:44:35.134Z"
   },
   {
    "duration": 152,
    "start_time": "2025-02-27T16:44:35.983Z"
   },
   {
    "duration": 9,
    "start_time": "2025-02-27T16:44:36.137Z"
   },
   {
    "duration": 9,
    "start_time": "2025-02-27T16:44:36.149Z"
   },
   {
    "duration": 7,
    "start_time": "2025-02-27T16:44:36.159Z"
   },
   {
    "duration": 8,
    "start_time": "2025-02-27T16:44:36.169Z"
   },
   {
    "duration": 3,
    "start_time": "2025-02-27T16:44:36.178Z"
   },
   {
    "duration": 44,
    "start_time": "2025-02-27T16:44:36.183Z"
   },
   {
    "duration": 7,
    "start_time": "2025-02-27T16:44:36.228Z"
   },
   {
    "duration": 24,
    "start_time": "2025-02-27T16:44:36.239Z"
   },
   {
    "duration": 16,
    "start_time": "2025-02-27T16:44:36.265Z"
   },
   {
    "duration": 41,
    "start_time": "2025-02-27T16:44:36.283Z"
   },
   {
    "duration": 6,
    "start_time": "2025-02-27T16:44:36.326Z"
   },
   {
    "duration": 17,
    "start_time": "2025-02-27T16:44:36.333Z"
   },
   {
    "duration": 9,
    "start_time": "2025-02-27T16:44:36.352Z"
   },
   {
    "duration": 13,
    "start_time": "2025-02-27T16:44:36.363Z"
   },
   {
    "duration": 6,
    "start_time": "2025-02-27T16:44:36.377Z"
   },
   {
    "duration": 54,
    "start_time": "2025-02-27T16:44:36.385Z"
   },
   {
    "duration": 14,
    "start_time": "2025-02-27T16:44:36.441Z"
   },
   {
    "duration": 7,
    "start_time": "2025-02-27T16:44:36.457Z"
   },
   {
    "duration": 15,
    "start_time": "2025-02-27T16:44:36.465Z"
   },
   {
    "duration": 43,
    "start_time": "2025-02-27T16:44:36.482Z"
   },
   {
    "duration": 12,
    "start_time": "2025-02-27T16:44:36.527Z"
   },
   {
    "duration": 12,
    "start_time": "2025-02-27T16:44:36.540Z"
   },
   {
    "duration": 12,
    "start_time": "2025-02-27T16:44:36.554Z"
   },
   {
    "duration": 8,
    "start_time": "2025-02-27T16:44:36.567Z"
   },
   {
    "duration": 3,
    "start_time": "2025-02-27T16:44:36.576Z"
   },
   {
    "duration": 41,
    "start_time": "2025-02-27T16:44:36.584Z"
   },
   {
    "duration": 6,
    "start_time": "2025-02-27T16:44:36.627Z"
   },
   {
    "duration": 3,
    "start_time": "2025-02-27T16:44:36.635Z"
   },
   {
    "duration": 6,
    "start_time": "2025-02-27T16:44:36.639Z"
   },
   {
    "duration": 4,
    "start_time": "2025-02-27T16:44:36.647Z"
   },
   {
    "duration": 13,
    "start_time": "2025-02-27T16:44:36.653Z"
   },
   {
    "duration": 220,
    "start_time": "2025-02-27T16:44:36.668Z"
   },
   {
    "duration": 226,
    "start_time": "2025-02-27T16:44:36.890Z"
   },
   {
    "duration": 11,
    "start_time": "2025-02-27T16:44:37.117Z"
   },
   {
    "duration": 190,
    "start_time": "2025-02-27T16:44:37.130Z"
   },
   {
    "duration": 177,
    "start_time": "2025-02-27T16:44:37.322Z"
   },
   {
    "duration": 317,
    "start_time": "2025-02-27T16:44:37.501Z"
   },
   {
    "duration": 131,
    "start_time": "2025-02-27T16:44:37.823Z"
   },
   {
    "duration": 192,
    "start_time": "2025-02-27T16:44:37.956Z"
   },
   {
    "duration": 213,
    "start_time": "2025-02-27T16:44:38.149Z"
   },
   {
    "duration": 127,
    "start_time": "2025-02-27T16:44:38.364Z"
   },
   {
    "duration": 5,
    "start_time": "2025-02-27T16:44:38.492Z"
   },
   {
    "duration": 215,
    "start_time": "2025-02-27T16:44:38.498Z"
   },
   {
    "duration": 275,
    "start_time": "2025-02-27T16:44:38.715Z"
   },
   {
    "duration": 203,
    "start_time": "2025-02-27T16:44:38.991Z"
   },
   {
    "duration": 7,
    "start_time": "2025-02-27T16:44:39.195Z"
   },
   {
    "duration": 3,
    "start_time": "2025-02-27T16:44:39.204Z"
   },
   {
    "duration": 24,
    "start_time": "2025-02-27T16:44:39.209Z"
   },
   {
    "duration": 862,
    "start_time": "2025-02-27T16:51:41.766Z"
   },
   {
    "duration": 175,
    "start_time": "2025-02-27T16:51:42.631Z"
   },
   {
    "duration": 11,
    "start_time": "2025-02-27T16:51:42.811Z"
   },
   {
    "duration": 11,
    "start_time": "2025-02-27T16:51:42.826Z"
   },
   {
    "duration": 9,
    "start_time": "2025-02-27T16:51:42.839Z"
   },
   {
    "duration": 9,
    "start_time": "2025-02-27T16:51:42.850Z"
   },
   {
    "duration": 4,
    "start_time": "2025-02-27T16:51:42.862Z"
   },
   {
    "duration": 20,
    "start_time": "2025-02-27T16:51:42.869Z"
   },
   {
    "duration": 42,
    "start_time": "2025-02-27T16:51:42.891Z"
   },
   {
    "duration": 35,
    "start_time": "2025-02-27T16:51:42.937Z"
   },
   {
    "duration": 4,
    "start_time": "2025-02-27T16:51:42.974Z"
   },
   {
    "duration": 20,
    "start_time": "2025-02-27T16:51:42.980Z"
   },
   {
    "duration": 15,
    "start_time": "2025-02-27T16:51:43.025Z"
   },
   {
    "duration": 6,
    "start_time": "2025-02-27T16:51:43.042Z"
   },
   {
    "duration": 19,
    "start_time": "2025-02-27T16:51:43.050Z"
   },
   {
    "duration": 11,
    "start_time": "2025-02-27T16:51:43.071Z"
   },
   {
    "duration": 47,
    "start_time": "2025-02-27T16:51:43.084Z"
   },
   {
    "duration": 8,
    "start_time": "2025-02-27T16:51:43.133Z"
   },
   {
    "duration": 28,
    "start_time": "2025-02-27T16:51:43.143Z"
   },
   {
    "duration": 18,
    "start_time": "2025-02-27T16:51:43.173Z"
   },
   {
    "duration": 33,
    "start_time": "2025-02-27T16:51:43.193Z"
   },
   {
    "duration": 22,
    "start_time": "2025-02-27T16:51:43.228Z"
   },
   {
    "duration": 18,
    "start_time": "2025-02-27T16:51:43.252Z"
   },
   {
    "duration": 14,
    "start_time": "2025-02-27T16:51:43.272Z"
   },
   {
    "duration": 47,
    "start_time": "2025-02-27T16:51:43.288Z"
   },
   {
    "duration": 15,
    "start_time": "2025-02-27T16:51:43.337Z"
   },
   {
    "duration": 9,
    "start_time": "2025-02-27T16:51:43.354Z"
   },
   {
    "duration": 10,
    "start_time": "2025-02-27T16:51:43.368Z"
   },
   {
    "duration": 7,
    "start_time": "2025-02-27T16:51:43.381Z"
   },
   {
    "duration": 4,
    "start_time": "2025-02-27T16:51:43.390Z"
   },
   {
    "duration": 33,
    "start_time": "2025-02-27T16:51:43.395Z"
   },
   {
    "duration": 5,
    "start_time": "2025-02-27T16:51:43.430Z"
   },
   {
    "duration": 13,
    "start_time": "2025-02-27T16:51:43.437Z"
   },
   {
    "duration": 236,
    "start_time": "2025-02-27T16:51:43.452Z"
   },
   {
    "duration": 240,
    "start_time": "2025-02-27T16:51:43.690Z"
   },
   {
    "duration": 8,
    "start_time": "2025-02-27T16:51:43.932Z"
   },
   {
    "duration": 208,
    "start_time": "2025-02-27T16:51:43.941Z"
   },
   {
    "duration": 204,
    "start_time": "2025-02-27T16:51:44.152Z"
   },
   {
    "duration": 272,
    "start_time": "2025-02-27T16:51:44.358Z"
   },
   {
    "duration": 153,
    "start_time": "2025-02-27T16:51:44.631Z"
   },
   {
    "duration": 199,
    "start_time": "2025-02-27T16:51:44.786Z"
   },
   {
    "duration": 220,
    "start_time": "2025-02-27T16:51:44.988Z"
   },
   {
    "duration": 154,
    "start_time": "2025-02-27T16:51:45.210Z"
   },
   {
    "duration": 5,
    "start_time": "2025-02-27T16:51:45.366Z"
   },
   {
    "duration": 229,
    "start_time": "2025-02-27T16:51:45.373Z"
   },
   {
    "duration": 298,
    "start_time": "2025-02-27T16:51:45.604Z"
   },
   {
    "duration": 213,
    "start_time": "2025-02-27T16:51:45.904Z"
   },
   {
    "duration": 8,
    "start_time": "2025-02-27T16:51:46.124Z"
   },
   {
    "duration": 5,
    "start_time": "2025-02-27T16:51:46.134Z"
   },
   {
    "duration": 12,
    "start_time": "2025-02-27T16:51:46.140Z"
   },
   {
    "duration": 861,
    "start_time": "2025-02-27T17:01:13.345Z"
   },
   {
    "duration": 158,
    "start_time": "2025-02-27T17:01:14.208Z"
   },
   {
    "duration": 10,
    "start_time": "2025-02-27T17:01:14.368Z"
   },
   {
    "duration": 9,
    "start_time": "2025-02-27T17:01:14.380Z"
   },
   {
    "duration": 8,
    "start_time": "2025-02-27T17:01:14.391Z"
   },
   {
    "duration": 26,
    "start_time": "2025-02-27T17:01:14.401Z"
   },
   {
    "duration": 3,
    "start_time": "2025-02-27T17:01:14.430Z"
   },
   {
    "duration": 17,
    "start_time": "2025-02-27T17:01:14.434Z"
   },
   {
    "duration": 6,
    "start_time": "2025-02-27T17:01:14.453Z"
   },
   {
    "duration": 25,
    "start_time": "2025-02-27T17:01:14.463Z"
   },
   {
    "duration": 4,
    "start_time": "2025-02-27T17:01:14.489Z"
   },
   {
    "duration": 18,
    "start_time": "2025-02-27T17:01:14.524Z"
   },
   {
    "duration": 12,
    "start_time": "2025-02-27T17:01:14.544Z"
   },
   {
    "duration": 6,
    "start_time": "2025-02-27T17:01:14.558Z"
   },
   {
    "duration": 16,
    "start_time": "2025-02-27T17:01:14.566Z"
   },
   {
    "duration": 41,
    "start_time": "2025-02-27T17:01:14.584Z"
   },
   {
    "duration": 14,
    "start_time": "2025-02-27T17:01:14.627Z"
   },
   {
    "duration": 7,
    "start_time": "2025-02-27T17:01:14.642Z"
   },
   {
    "duration": 21,
    "start_time": "2025-02-27T17:01:14.651Z"
   },
   {
    "duration": 14,
    "start_time": "2025-02-27T17:01:14.673Z"
   },
   {
    "duration": 35,
    "start_time": "2025-02-27T17:01:14.689Z"
   },
   {
    "duration": 17,
    "start_time": "2025-02-27T17:01:14.725Z"
   },
   {
    "duration": 16,
    "start_time": "2025-02-27T17:01:14.744Z"
   },
   {
    "duration": 14,
    "start_time": "2025-02-27T17:01:14.761Z"
   },
   {
    "duration": 12,
    "start_time": "2025-02-27T17:01:14.777Z"
   },
   {
    "duration": 37,
    "start_time": "2025-02-27T17:01:14.790Z"
   },
   {
    "duration": 9,
    "start_time": "2025-02-27T17:01:14.828Z"
   },
   {
    "duration": 10,
    "start_time": "2025-02-27T17:01:14.840Z"
   },
   {
    "duration": 7,
    "start_time": "2025-02-27T17:01:14.851Z"
   },
   {
    "duration": 3,
    "start_time": "2025-02-27T17:01:14.859Z"
   },
   {
    "duration": 6,
    "start_time": "2025-02-27T17:01:14.864Z"
   },
   {
    "duration": 4,
    "start_time": "2025-02-27T17:01:14.871Z"
   },
   {
    "duration": 49,
    "start_time": "2025-02-27T17:01:14.877Z"
   },
   {
    "duration": 206,
    "start_time": "2025-02-27T17:01:14.928Z"
   },
   {
    "duration": 217,
    "start_time": "2025-02-27T17:01:15.136Z"
   },
   {
    "duration": 7,
    "start_time": "2025-02-27T17:01:15.355Z"
   },
   {
    "duration": 203,
    "start_time": "2025-02-27T17:01:15.364Z"
   },
   {
    "duration": 172,
    "start_time": "2025-02-27T17:01:15.569Z"
   },
   {
    "duration": 250,
    "start_time": "2025-02-27T17:01:15.743Z"
   },
   {
    "duration": 132,
    "start_time": "2025-02-27T17:01:15.995Z"
   },
   {
    "duration": 194,
    "start_time": "2025-02-27T17:01:16.130Z"
   },
   {
    "duration": 215,
    "start_time": "2025-02-27T17:01:16.325Z"
   },
   {
    "duration": 126,
    "start_time": "2025-02-27T17:01:16.542Z"
   },
   {
    "duration": 5,
    "start_time": "2025-02-27T17:01:16.669Z"
   },
   {
    "duration": 215,
    "start_time": "2025-02-27T17:01:16.675Z"
   },
   {
    "duration": 269,
    "start_time": "2025-02-27T17:01:16.892Z"
   },
   {
    "duration": 206,
    "start_time": "2025-02-27T17:01:17.164Z"
   },
   {
    "duration": 7,
    "start_time": "2025-02-27T17:01:17.372Z"
   },
   {
    "duration": 5,
    "start_time": "2025-02-27T17:01:17.380Z"
   },
   {
    "duration": 10,
    "start_time": "2025-02-27T17:01:17.387Z"
   },
   {
    "duration": 11,
    "start_time": "2025-02-27T17:03:03.703Z"
   },
   {
    "duration": 14,
    "start_time": "2025-02-27T17:03:09.996Z"
   },
   {
    "duration": 13,
    "start_time": "2025-02-27T17:03:21.285Z"
   },
   {
    "duration": 13,
    "start_time": "2025-02-27T17:03:22.053Z"
   },
   {
    "duration": 13,
    "start_time": "2025-02-27T17:03:36.590Z"
   },
   {
    "duration": 17,
    "start_time": "2025-02-27T17:32:03.274Z"
   },
   {
    "duration": 25,
    "start_time": "2025-02-27T17:32:36.951Z"
   },
   {
    "duration": 5,
    "start_time": "2025-02-27T17:33:02.499Z"
   },
   {
    "duration": 16,
    "start_time": "2025-02-27T17:33:14.847Z"
   },
   {
    "duration": 1048,
    "start_time": "2025-02-27T17:34:23.015Z"
   },
   {
    "duration": 207,
    "start_time": "2025-02-27T17:34:24.067Z"
   },
   {
    "duration": 14,
    "start_time": "2025-02-27T17:34:24.281Z"
   },
   {
    "duration": 14,
    "start_time": "2025-02-27T17:34:24.302Z"
   },
   {
    "duration": 9,
    "start_time": "2025-02-27T17:34:24.320Z"
   },
   {
    "duration": 10,
    "start_time": "2025-02-27T17:34:24.331Z"
   },
   {
    "duration": 3,
    "start_time": "2025-02-27T17:34:24.343Z"
   },
   {
    "duration": 20,
    "start_time": "2025-02-27T17:34:24.348Z"
   },
   {
    "duration": 8,
    "start_time": "2025-02-27T17:34:24.370Z"
   },
   {
    "duration": 56,
    "start_time": "2025-02-27T17:34:24.382Z"
   },
   {
    "duration": 4,
    "start_time": "2025-02-27T17:34:24.440Z"
   },
   {
    "duration": 22,
    "start_time": "2025-02-27T17:34:24.446Z"
   },
   {
    "duration": 15,
    "start_time": "2025-02-27T17:34:24.469Z"
   },
   {
    "duration": 7,
    "start_time": "2025-02-27T17:34:24.486Z"
   },
   {
    "duration": 48,
    "start_time": "2025-02-27T17:34:24.494Z"
   },
   {
    "duration": 11,
    "start_time": "2025-02-27T17:34:24.545Z"
   },
   {
    "duration": 17,
    "start_time": "2025-02-27T17:34:24.558Z"
   },
   {
    "duration": 9,
    "start_time": "2025-02-27T17:34:24.577Z"
   },
   {
    "duration": 54,
    "start_time": "2025-02-27T17:34:24.588Z"
   },
   {
    "duration": 18,
    "start_time": "2025-02-27T17:34:24.644Z"
   },
   {
    "duration": 8,
    "start_time": "2025-02-27T17:34:24.664Z"
   },
   {
    "duration": 20,
    "start_time": "2025-02-27T17:34:24.675Z"
   },
   {
    "duration": 41,
    "start_time": "2025-02-27T17:34:24.698Z"
   },
   {
    "duration": 17,
    "start_time": "2025-02-27T17:34:24.741Z"
   },
   {
    "duration": 16,
    "start_time": "2025-02-27T17:34:24.760Z"
   },
   {
    "duration": 15,
    "start_time": "2025-02-27T17:34:24.778Z"
   },
   {
    "duration": 33,
    "start_time": "2025-02-27T17:34:24.795Z"
   },
   {
    "duration": 13,
    "start_time": "2025-02-27T17:34:24.833Z"
   },
   {
    "duration": 6,
    "start_time": "2025-02-27T17:34:24.849Z"
   },
   {
    "duration": 2,
    "start_time": "2025-02-27T17:34:24.857Z"
   },
   {
    "duration": 7,
    "start_time": "2025-02-27T17:34:24.861Z"
   },
   {
    "duration": 5,
    "start_time": "2025-02-27T17:34:24.870Z"
   },
   {
    "duration": 18,
    "start_time": "2025-02-27T17:34:24.877Z"
   },
   {
    "duration": 248,
    "start_time": "2025-02-27T17:34:24.925Z"
   },
   {
    "duration": 290,
    "start_time": "2025-02-27T17:34:25.175Z"
   },
   {
    "duration": 8,
    "start_time": "2025-02-27T17:34:25.467Z"
   },
   {
    "duration": 249,
    "start_time": "2025-02-27T17:34:25.477Z"
   },
   {
    "duration": 236,
    "start_time": "2025-02-27T17:34:25.728Z"
   },
   {
    "duration": 326,
    "start_time": "2025-02-27T17:34:25.966Z"
   },
   {
    "duration": 175,
    "start_time": "2025-02-27T17:34:26.294Z"
   },
   {
    "duration": 226,
    "start_time": "2025-02-27T17:34:26.472Z"
   },
   {
    "duration": 222,
    "start_time": "2025-02-27T17:34:26.702Z"
   },
   {
    "duration": 125,
    "start_time": "2025-02-27T17:34:26.926Z"
   },
   {
    "duration": 5,
    "start_time": "2025-02-27T17:34:27.053Z"
   },
   {
    "duration": 234,
    "start_time": "2025-02-27T17:34:27.060Z"
   },
   {
    "duration": 377,
    "start_time": "2025-02-27T17:34:27.298Z"
   },
   {
    "duration": 243,
    "start_time": "2025-02-27T17:34:27.677Z"
   },
   {
    "duration": 14,
    "start_time": "2025-02-27T17:34:27.926Z"
   },
   {
    "duration": 5,
    "start_time": "2025-02-27T17:34:27.944Z"
   },
   {
    "duration": 11,
    "start_time": "2025-02-27T17:34:27.952Z"
   },
   {
    "duration": 1014,
    "start_time": "2025-02-27T17:38:32.093Z"
   },
   {
    "duration": 219,
    "start_time": "2025-02-27T17:38:33.109Z"
   },
   {
    "duration": 12,
    "start_time": "2025-02-27T17:38:33.330Z"
   },
   {
    "duration": 15,
    "start_time": "2025-02-27T17:38:33.347Z"
   },
   {
    "duration": 9,
    "start_time": "2025-02-27T17:38:33.364Z"
   },
   {
    "duration": 11,
    "start_time": "2025-02-27T17:38:33.375Z"
   },
   {
    "duration": 4,
    "start_time": "2025-02-27T17:38:33.388Z"
   },
   {
    "duration": 37,
    "start_time": "2025-02-27T17:38:33.394Z"
   },
   {
    "duration": 9,
    "start_time": "2025-02-27T17:38:33.433Z"
   },
   {
    "duration": 41,
    "start_time": "2025-02-27T17:38:33.445Z"
   },
   {
    "duration": 4,
    "start_time": "2025-02-27T17:38:33.487Z"
   },
   {
    "duration": 43,
    "start_time": "2025-02-27T17:38:33.493Z"
   },
   {
    "duration": 15,
    "start_time": "2025-02-27T17:38:33.538Z"
   },
   {
    "duration": 6,
    "start_time": "2025-02-27T17:38:33.555Z"
   },
   {
    "duration": 24,
    "start_time": "2025-02-27T17:38:33.563Z"
   },
   {
    "duration": 37,
    "start_time": "2025-02-27T17:38:33.589Z"
   },
   {
    "duration": 18,
    "start_time": "2025-02-27T17:38:33.628Z"
   },
   {
    "duration": 8,
    "start_time": "2025-02-27T17:38:33.648Z"
   },
   {
    "duration": 32,
    "start_time": "2025-02-27T17:38:33.657Z"
   },
   {
    "duration": 39,
    "start_time": "2025-02-27T17:38:33.691Z"
   },
   {
    "duration": 8,
    "start_time": "2025-02-27T17:38:33.732Z"
   },
   {
    "duration": 21,
    "start_time": "2025-02-27T17:38:33.742Z"
   },
   {
    "duration": 20,
    "start_time": "2025-02-27T17:38:33.765Z"
   },
   {
    "duration": 38,
    "start_time": "2025-02-27T17:38:33.787Z"
   },
   {
    "duration": 17,
    "start_time": "2025-02-27T17:38:33.827Z"
   },
   {
    "duration": 15,
    "start_time": "2025-02-27T17:38:33.845Z"
   },
   {
    "duration": 18,
    "start_time": "2025-02-27T17:38:33.863Z"
   },
   {
    "duration": 14,
    "start_time": "2025-02-27T17:38:33.887Z"
   },
   {
    "duration": 23,
    "start_time": "2025-02-27T17:38:33.903Z"
   },
   {
    "duration": 3,
    "start_time": "2025-02-27T17:38:33.928Z"
   },
   {
    "duration": 7,
    "start_time": "2025-02-27T17:38:33.933Z"
   },
   {
    "duration": 6,
    "start_time": "2025-02-27T17:38:33.944Z"
   },
   {
    "duration": 25,
    "start_time": "2025-02-27T17:38:33.954Z"
   },
   {
    "duration": 254,
    "start_time": "2025-02-27T17:38:33.981Z"
   },
   {
    "duration": 287,
    "start_time": "2025-02-27T17:38:34.237Z"
   },
   {
    "duration": 12,
    "start_time": "2025-02-27T17:38:34.529Z"
   },
   {
    "duration": 234,
    "start_time": "2025-02-27T17:38:34.545Z"
   },
   {
    "duration": 238,
    "start_time": "2025-02-27T17:38:34.781Z"
   },
   {
    "duration": 320,
    "start_time": "2025-02-27T17:38:35.021Z"
   },
   {
    "duration": 167,
    "start_time": "2025-02-27T17:38:35.344Z"
   },
   {
    "duration": 244,
    "start_time": "2025-02-27T17:38:35.523Z"
   },
   {
    "duration": 273,
    "start_time": "2025-02-27T17:38:35.771Z"
   },
   {
    "duration": 161,
    "start_time": "2025-02-27T17:38:36.046Z"
   },
   {
    "duration": 16,
    "start_time": "2025-02-27T17:38:36.209Z"
   },
   {
    "duration": 278,
    "start_time": "2025-02-27T17:38:36.227Z"
   },
   {
    "duration": 355,
    "start_time": "2025-02-27T17:38:36.507Z"
   },
   {
    "duration": 266,
    "start_time": "2025-02-27T17:38:36.864Z"
   },
   {
    "duration": 7,
    "start_time": "2025-02-27T17:38:37.132Z"
   },
   {
    "duration": 4,
    "start_time": "2025-02-27T17:38:37.141Z"
   },
   {
    "duration": 11,
    "start_time": "2025-02-27T17:38:37.147Z"
   },
   {
    "duration": 1004,
    "start_time": "2025-02-27T17:43:07.984Z"
   },
   {
    "duration": 180,
    "start_time": "2025-02-27T17:43:08.990Z"
   },
   {
    "duration": 18,
    "start_time": "2025-02-27T17:43:09.172Z"
   },
   {
    "duration": 11,
    "start_time": "2025-02-27T17:43:09.193Z"
   },
   {
    "duration": 16,
    "start_time": "2025-02-27T17:43:09.208Z"
   },
   {
    "duration": 10,
    "start_time": "2025-02-27T17:43:09.227Z"
   },
   {
    "duration": 3,
    "start_time": "2025-02-27T17:43:09.240Z"
   },
   {
    "duration": 17,
    "start_time": "2025-02-27T17:43:09.245Z"
   },
   {
    "duration": 10,
    "start_time": "2025-02-27T17:43:09.265Z"
   },
   {
    "duration": 50,
    "start_time": "2025-02-27T17:43:09.280Z"
   },
   {
    "duration": 5,
    "start_time": "2025-02-27T17:43:09.332Z"
   },
   {
    "duration": 19,
    "start_time": "2025-02-27T17:43:09.339Z"
   },
   {
    "duration": 13,
    "start_time": "2025-02-27T17:43:09.360Z"
   },
   {
    "duration": 6,
    "start_time": "2025-02-27T17:43:09.377Z"
   },
   {
    "duration": 44,
    "start_time": "2025-02-27T17:43:09.384Z"
   },
   {
    "duration": 11,
    "start_time": "2025-02-27T17:43:09.430Z"
   },
   {
    "duration": 17,
    "start_time": "2025-02-27T17:43:09.443Z"
   },
   {
    "duration": 8,
    "start_time": "2025-02-27T17:43:09.462Z"
   },
   {
    "duration": 23,
    "start_time": "2025-02-27T17:43:09.473Z"
   },
   {
    "duration": 18,
    "start_time": "2025-02-27T17:43:09.525Z"
   },
   {
    "duration": 14,
    "start_time": "2025-02-27T17:43:09.545Z"
   },
   {
    "duration": 27,
    "start_time": "2025-02-27T17:43:09.562Z"
   },
   {
    "duration": 19,
    "start_time": "2025-02-27T17:43:09.592Z"
   },
   {
    "duration": 14,
    "start_time": "2025-02-27T17:43:09.623Z"
   },
   {
    "duration": 15,
    "start_time": "2025-02-27T17:43:09.639Z"
   },
   {
    "duration": 15,
    "start_time": "2025-02-27T17:43:09.656Z"
   },
   {
    "duration": 11,
    "start_time": "2025-02-27T17:43:09.674Z"
   },
   {
    "duration": 14,
    "start_time": "2025-02-27T17:43:09.691Z"
   },
   {
    "duration": 23,
    "start_time": "2025-02-27T17:43:09.707Z"
   },
   {
    "duration": 6,
    "start_time": "2025-02-27T17:43:09.732Z"
   },
   {
    "duration": 9,
    "start_time": "2025-02-27T17:43:09.739Z"
   },
   {
    "duration": 8,
    "start_time": "2025-02-27T17:43:09.750Z"
   },
   {
    "duration": 13,
    "start_time": "2025-02-27T17:43:09.761Z"
   },
   {
    "duration": 211,
    "start_time": "2025-02-27T17:43:09.776Z"
   },
   {
    "duration": 273,
    "start_time": "2025-02-27T17:43:09.990Z"
   },
   {
    "duration": 7,
    "start_time": "2025-02-27T17:43:10.266Z"
   },
   {
    "duration": 210,
    "start_time": "2025-02-27T17:43:10.276Z"
   },
   {
    "duration": 208,
    "start_time": "2025-02-27T17:43:10.490Z"
   },
   {
    "duration": 325,
    "start_time": "2025-02-27T17:43:10.702Z"
   },
   {
    "duration": 168,
    "start_time": "2025-02-27T17:43:11.030Z"
   },
   {
    "duration": 251,
    "start_time": "2025-02-27T17:43:11.200Z"
   },
   {
    "duration": 280,
    "start_time": "2025-02-27T17:43:11.453Z"
   },
   {
    "duration": 160,
    "start_time": "2025-02-27T17:43:11.735Z"
   },
   {
    "duration": 4,
    "start_time": "2025-02-27T17:43:11.898Z"
   },
   {
    "duration": 294,
    "start_time": "2025-02-27T17:43:11.904Z"
   },
   {
    "duration": 355,
    "start_time": "2025-02-27T17:43:12.200Z"
   },
   {
    "duration": 211,
    "start_time": "2025-02-27T17:43:12.557Z"
   },
   {
    "duration": 9,
    "start_time": "2025-02-27T17:43:12.770Z"
   },
   {
    "duration": 5,
    "start_time": "2025-02-27T17:43:12.781Z"
   },
   {
    "duration": 12,
    "start_time": "2025-02-27T17:43:12.788Z"
   },
   {
    "duration": 1006,
    "start_time": "2025-02-27T17:44:23.291Z"
   },
   {
    "duration": 205,
    "start_time": "2025-02-27T17:44:24.300Z"
   },
   {
    "duration": 14,
    "start_time": "2025-02-27T17:44:24.509Z"
   },
   {
    "duration": 11,
    "start_time": "2025-02-27T17:44:24.526Z"
   },
   {
    "duration": 9,
    "start_time": "2025-02-27T17:44:24.539Z"
   },
   {
    "duration": 9,
    "start_time": "2025-02-27T17:44:24.550Z"
   },
   {
    "duration": 3,
    "start_time": "2025-02-27T17:44:24.561Z"
   },
   {
    "duration": 24,
    "start_time": "2025-02-27T17:44:24.566Z"
   },
   {
    "duration": 9,
    "start_time": "2025-02-27T17:44:24.592Z"
   },
   {
    "duration": 38,
    "start_time": "2025-02-27T17:44:24.626Z"
   },
   {
    "duration": 4,
    "start_time": "2025-02-27T17:44:24.667Z"
   },
   {
    "duration": 22,
    "start_time": "2025-02-27T17:44:24.673Z"
   },
   {
    "duration": 37,
    "start_time": "2025-02-27T17:44:24.697Z"
   },
   {
    "duration": 6,
    "start_time": "2025-02-27T17:44:24.736Z"
   },
   {
    "duration": 24,
    "start_time": "2025-02-27T17:44:24.744Z"
   },
   {
    "duration": 15,
    "start_time": "2025-02-27T17:44:24.771Z"
   },
   {
    "duration": 36,
    "start_time": "2025-02-27T17:44:24.789Z"
   },
   {
    "duration": 9,
    "start_time": "2025-02-27T17:44:24.827Z"
   },
   {
    "duration": 30,
    "start_time": "2025-02-27T17:44:24.838Z"
   },
   {
    "duration": 18,
    "start_time": "2025-02-27T17:44:24.870Z"
   },
   {
    "duration": 10,
    "start_time": "2025-02-27T17:44:24.890Z"
   },
   {
    "duration": 42,
    "start_time": "2025-02-27T17:44:24.902Z"
   },
   {
    "duration": 21,
    "start_time": "2025-02-27T17:44:24.946Z"
   },
   {
    "duration": 17,
    "start_time": "2025-02-27T17:44:24.969Z"
   },
   {
    "duration": 37,
    "start_time": "2025-02-27T17:44:24.988Z"
   },
   {
    "duration": 15,
    "start_time": "2025-02-27T17:44:25.027Z"
   },
   {
    "duration": 8,
    "start_time": "2025-02-27T17:44:25.044Z"
   },
   {
    "duration": 13,
    "start_time": "2025-02-27T17:44:25.057Z"
   },
   {
    "duration": 6,
    "start_time": "2025-02-27T17:44:25.072Z"
   },
   {
    "duration": 3,
    "start_time": "2025-02-27T17:44:25.080Z"
   },
   {
    "duration": 7,
    "start_time": "2025-02-27T17:44:25.084Z"
   },
   {
    "duration": 34,
    "start_time": "2025-02-27T17:44:25.093Z"
   },
   {
    "duration": 17,
    "start_time": "2025-02-27T17:44:25.129Z"
   },
   {
    "duration": 214,
    "start_time": "2025-02-27T17:44:25.148Z"
   },
   {
    "duration": 240,
    "start_time": "2025-02-27T17:44:25.365Z"
   },
   {
    "duration": 15,
    "start_time": "2025-02-27T17:44:25.609Z"
   },
   {
    "duration": 201,
    "start_time": "2025-02-27T17:44:25.626Z"
   },
   {
    "duration": 197,
    "start_time": "2025-02-27T17:44:25.830Z"
   },
   {
    "duration": 282,
    "start_time": "2025-02-27T17:44:26.029Z"
   },
   {
    "duration": 135,
    "start_time": "2025-02-27T17:44:26.315Z"
   },
   {
    "duration": 205,
    "start_time": "2025-02-27T17:44:26.453Z"
   },
   {
    "duration": 216,
    "start_time": "2025-02-27T17:44:26.660Z"
   },
   {
    "duration": 129,
    "start_time": "2025-02-27T17:44:26.878Z"
   },
   {
    "duration": 6,
    "start_time": "2025-02-27T17:44:27.009Z"
   },
   {
    "duration": 266,
    "start_time": "2025-02-27T17:44:27.025Z"
   },
   {
    "duration": 303,
    "start_time": "2025-02-27T17:44:27.293Z"
   },
   {
    "duration": 222,
    "start_time": "2025-02-27T17:44:27.598Z"
   },
   {
    "duration": 15,
    "start_time": "2025-02-27T17:44:27.825Z"
   },
   {
    "duration": 6,
    "start_time": "2025-02-27T17:44:27.842Z"
   },
   {
    "duration": 11,
    "start_time": "2025-02-27T17:44:27.850Z"
   },
   {
    "duration": 1032,
    "start_time": "2025-02-27T17:46:15.766Z"
   },
   {
    "duration": 217,
    "start_time": "2025-02-27T17:46:16.801Z"
   },
   {
    "duration": 9,
    "start_time": "2025-02-27T17:46:17.020Z"
   },
   {
    "duration": 14,
    "start_time": "2025-02-27T17:46:17.032Z"
   },
   {
    "duration": 12,
    "start_time": "2025-02-27T17:46:17.048Z"
   },
   {
    "duration": 9,
    "start_time": "2025-02-27T17:46:17.062Z"
   },
   {
    "duration": 3,
    "start_time": "2025-02-27T17:46:17.073Z"
   },
   {
    "duration": 20,
    "start_time": "2025-02-27T17:46:17.079Z"
   },
   {
    "duration": 26,
    "start_time": "2025-02-27T17:46:17.101Z"
   },
   {
    "duration": 38,
    "start_time": "2025-02-27T17:46:17.131Z"
   },
   {
    "duration": 21,
    "start_time": "2025-02-27T17:46:17.171Z"
   },
   {
    "duration": 32,
    "start_time": "2025-02-27T17:46:17.195Z"
   },
   {
    "duration": 7,
    "start_time": "2025-02-27T17:46:17.229Z"
   },
   {
    "duration": 23,
    "start_time": "2025-02-27T17:46:17.238Z"
   },
   {
    "duration": 11,
    "start_time": "2025-02-27T17:46:17.263Z"
   },
   {
    "duration": 18,
    "start_time": "2025-02-27T17:46:17.276Z"
   },
   {
    "duration": 8,
    "start_time": "2025-02-27T17:46:17.324Z"
   },
   {
    "duration": 29,
    "start_time": "2025-02-27T17:46:17.334Z"
   },
   {
    "duration": 20,
    "start_time": "2025-02-27T17:46:17.364Z"
   },
   {
    "duration": 9,
    "start_time": "2025-02-27T17:46:17.386Z"
   },
   {
    "duration": 44,
    "start_time": "2025-02-27T17:46:17.397Z"
   },
   {
    "duration": 20,
    "start_time": "2025-02-27T17:46:17.443Z"
   },
   {
    "duration": 20,
    "start_time": "2025-02-27T17:46:17.466Z"
   },
   {
    "duration": 25,
    "start_time": "2025-02-27T17:46:17.490Z"
   },
   {
    "duration": 23,
    "start_time": "2025-02-27T17:46:17.524Z"
   },
   {
    "duration": 10,
    "start_time": "2025-02-27T17:46:17.553Z"
   },
   {
    "duration": 14,
    "start_time": "2025-02-27T17:46:17.568Z"
   },
   {
    "duration": 9,
    "start_time": "2025-02-27T17:46:17.587Z"
   },
   {
    "duration": 5,
    "start_time": "2025-02-27T17:46:17.600Z"
   },
   {
    "duration": 10,
    "start_time": "2025-02-27T17:46:17.609Z"
   },
   {
    "duration": 6,
    "start_time": "2025-02-27T17:46:17.627Z"
   },
   {
    "duration": 16,
    "start_time": "2025-02-27T17:46:17.636Z"
   },
   {
    "duration": 248,
    "start_time": "2025-02-27T17:46:17.654Z"
   },
   {
    "duration": 302,
    "start_time": "2025-02-27T17:46:17.904Z"
   },
   {
    "duration": 9,
    "start_time": "2025-02-27T17:46:18.208Z"
   },
   {
    "duration": 237,
    "start_time": "2025-02-27T17:46:18.219Z"
   },
   {
    "duration": 238,
    "start_time": "2025-02-27T17:46:18.458Z"
   },
   {
    "duration": 329,
    "start_time": "2025-02-27T17:46:18.698Z"
   },
   {
    "duration": 172,
    "start_time": "2025-02-27T17:46:19.030Z"
   },
   {
    "duration": 247,
    "start_time": "2025-02-27T17:46:19.204Z"
   },
   {
    "duration": 273,
    "start_time": "2025-02-27T17:46:19.453Z"
   },
   {
    "duration": 162,
    "start_time": "2025-02-27T17:46:19.728Z"
   },
   {
    "duration": 4,
    "start_time": "2025-02-27T17:46:19.892Z"
   },
   {
    "duration": 283,
    "start_time": "2025-02-27T17:46:19.898Z"
   },
   {
    "duration": 357,
    "start_time": "2025-02-27T17:46:20.183Z"
   },
   {
    "duration": 265,
    "start_time": "2025-02-27T17:46:20.542Z"
   },
   {
    "duration": 16,
    "start_time": "2025-02-27T17:46:20.809Z"
   },
   {
    "duration": 5,
    "start_time": "2025-02-27T17:46:20.827Z"
   },
   {
    "duration": 12,
    "start_time": "2025-02-27T17:46:20.834Z"
   },
   {
    "duration": 838,
    "start_time": "2025-02-27T17:48:52.820Z"
   },
   {
    "duration": 216,
    "start_time": "2025-02-27T17:48:53.660Z"
   },
   {
    "duration": 12,
    "start_time": "2025-02-27T17:48:53.878Z"
   },
   {
    "duration": 10,
    "start_time": "2025-02-27T17:48:53.892Z"
   },
   {
    "duration": 8,
    "start_time": "2025-02-27T17:48:53.904Z"
   },
   {
    "duration": 13,
    "start_time": "2025-02-27T17:48:53.914Z"
   },
   {
    "duration": 4,
    "start_time": "2025-02-27T17:48:53.928Z"
   },
   {
    "duration": 15,
    "start_time": "2025-02-27T17:48:53.933Z"
   },
   {
    "duration": 7,
    "start_time": "2025-02-27T17:48:53.950Z"
   },
   {
    "duration": 64,
    "start_time": "2025-02-27T17:48:53.960Z"
   },
   {
    "duration": 21,
    "start_time": "2025-02-27T17:48:54.026Z"
   },
   {
    "duration": 14,
    "start_time": "2025-02-27T17:48:54.048Z"
   },
   {
    "duration": 9,
    "start_time": "2025-02-27T17:48:54.065Z"
   },
   {
    "duration": 22,
    "start_time": "2025-02-27T17:48:54.075Z"
   },
   {
    "duration": 30,
    "start_time": "2025-02-27T17:48:54.098Z"
   },
   {
    "duration": 14,
    "start_time": "2025-02-27T17:48:54.130Z"
   },
   {
    "duration": 7,
    "start_time": "2025-02-27T17:48:54.146Z"
   },
   {
    "duration": 21,
    "start_time": "2025-02-27T17:48:54.154Z"
   },
   {
    "duration": 17,
    "start_time": "2025-02-27T17:48:54.177Z"
   },
   {
    "duration": 33,
    "start_time": "2025-02-27T17:48:54.195Z"
   },
   {
    "duration": 16,
    "start_time": "2025-02-27T17:48:54.231Z"
   },
   {
    "duration": 19,
    "start_time": "2025-02-27T17:48:54.248Z"
   },
   {
    "duration": 15,
    "start_time": "2025-02-27T17:48:54.269Z"
   },
   {
    "duration": 43,
    "start_time": "2025-02-27T17:48:54.285Z"
   },
   {
    "duration": 14,
    "start_time": "2025-02-27T17:48:54.331Z"
   },
   {
    "duration": 9,
    "start_time": "2025-02-27T17:48:54.346Z"
   },
   {
    "duration": 12,
    "start_time": "2025-02-27T17:48:54.356Z"
   },
   {
    "duration": 7,
    "start_time": "2025-02-27T17:48:54.373Z"
   },
   {
    "duration": 3,
    "start_time": "2025-02-27T17:48:54.381Z"
   },
   {
    "duration": 6,
    "start_time": "2025-02-27T17:48:54.386Z"
   },
   {
    "duration": 33,
    "start_time": "2025-02-27T17:48:54.394Z"
   },
   {
    "duration": 13,
    "start_time": "2025-02-27T17:48:54.429Z"
   },
   {
    "duration": 195,
    "start_time": "2025-02-27T17:48:54.444Z"
   },
   {
    "duration": 243,
    "start_time": "2025-02-27T17:48:54.643Z"
   },
   {
    "duration": 6,
    "start_time": "2025-02-27T17:48:54.888Z"
   },
   {
    "duration": 173,
    "start_time": "2025-02-27T17:48:54.896Z"
   },
   {
    "duration": 191,
    "start_time": "2025-02-27T17:48:55.071Z"
   },
   {
    "duration": 239,
    "start_time": "2025-02-27T17:48:55.264Z"
   },
   {
    "duration": 143,
    "start_time": "2025-02-27T17:48:55.504Z"
   },
   {
    "duration": 193,
    "start_time": "2025-02-27T17:48:55.649Z"
   },
   {
    "duration": 238,
    "start_time": "2025-02-27T17:48:55.844Z"
   },
   {
    "duration": 121,
    "start_time": "2025-02-27T17:48:56.084Z"
   },
   {
    "duration": 17,
    "start_time": "2025-02-27T17:48:56.207Z"
   },
   {
    "duration": 206,
    "start_time": "2025-02-27T17:48:56.227Z"
   },
   {
    "duration": 256,
    "start_time": "2025-02-27T17:48:56.435Z"
   },
   {
    "duration": 200,
    "start_time": "2025-02-27T17:48:56.693Z"
   },
   {
    "duration": 8,
    "start_time": "2025-02-27T17:48:56.895Z"
   },
   {
    "duration": 4,
    "start_time": "2025-02-27T17:48:56.906Z"
   },
   {
    "duration": 14,
    "start_time": "2025-02-27T17:48:56.924Z"
   },
   {
    "duration": 1056,
    "start_time": "2025-02-27T17:52:59.425Z"
   },
   {
    "duration": 227,
    "start_time": "2025-02-27T17:53:00.483Z"
   },
   {
    "duration": 12,
    "start_time": "2025-02-27T17:53:00.715Z"
   },
   {
    "duration": 12,
    "start_time": "2025-02-27T17:53:00.730Z"
   },
   {
    "duration": 9,
    "start_time": "2025-02-27T17:53:00.744Z"
   },
   {
    "duration": 9,
    "start_time": "2025-02-27T17:53:00.755Z"
   },
   {
    "duration": 3,
    "start_time": "2025-02-27T17:53:00.766Z"
   },
   {
    "duration": 20,
    "start_time": "2025-02-27T17:53:00.771Z"
   },
   {
    "duration": 32,
    "start_time": "2025-02-27T17:53:00.793Z"
   },
   {
    "duration": 37,
    "start_time": "2025-02-27T17:53:00.829Z"
   },
   {
    "duration": 23,
    "start_time": "2025-02-27T17:53:00.870Z"
   },
   {
    "duration": 32,
    "start_time": "2025-02-27T17:53:00.895Z"
   },
   {
    "duration": 7,
    "start_time": "2025-02-27T17:53:00.929Z"
   },
   {
    "duration": 24,
    "start_time": "2025-02-27T17:53:00.937Z"
   },
   {
    "duration": 11,
    "start_time": "2025-02-27T17:53:00.963Z"
   },
   {
    "duration": 18,
    "start_time": "2025-02-27T17:53:00.976Z"
   },
   {
    "duration": 10,
    "start_time": "2025-02-27T17:53:01.024Z"
   },
   {
    "duration": 31,
    "start_time": "2025-02-27T17:53:01.035Z"
   },
   {
    "duration": 18,
    "start_time": "2025-02-27T17:53:01.068Z"
   },
   {
    "duration": 36,
    "start_time": "2025-02-27T17:53:01.088Z"
   },
   {
    "duration": 21,
    "start_time": "2025-02-27T17:53:01.126Z"
   },
   {
    "duration": 21,
    "start_time": "2025-02-27T17:53:01.149Z"
   },
   {
    "duration": 33,
    "start_time": "2025-02-27T17:53:01.173Z"
   },
   {
    "duration": 25,
    "start_time": "2025-02-27T17:53:01.209Z"
   },
   {
    "duration": 15,
    "start_time": "2025-02-27T17:53:01.240Z"
   },
   {
    "duration": 9,
    "start_time": "2025-02-27T17:53:01.258Z"
   },
   {
    "duration": 13,
    "start_time": "2025-02-27T17:53:01.269Z"
   },
   {
    "duration": 6,
    "start_time": "2025-02-27T17:53:01.288Z"
   },
   {
    "duration": 3,
    "start_time": "2025-02-27T17:53:01.301Z"
   },
   {
    "duration": 28,
    "start_time": "2025-02-27T17:53:01.306Z"
   },
   {
    "duration": 8,
    "start_time": "2025-02-27T17:53:01.338Z"
   },
   {
    "duration": 21,
    "start_time": "2025-02-27T17:53:01.350Z"
   },
   {
    "duration": 250,
    "start_time": "2025-02-27T17:53:01.374Z"
   },
   {
    "duration": 295,
    "start_time": "2025-02-27T17:53:01.625Z"
   },
   {
    "duration": 7,
    "start_time": "2025-02-27T17:53:01.925Z"
   },
   {
    "duration": 254,
    "start_time": "2025-02-27T17:53:01.934Z"
   },
   {
    "duration": 241,
    "start_time": "2025-02-27T17:53:02.189Z"
   },
   {
    "duration": 326,
    "start_time": "2025-02-27T17:53:02.432Z"
   },
   {
    "duration": 177,
    "start_time": "2025-02-27T17:53:02.760Z"
   },
   {
    "duration": 252,
    "start_time": "2025-02-27T17:53:02.939Z"
   },
   {
    "duration": 274,
    "start_time": "2025-02-27T17:53:03.193Z"
   },
   {
    "duration": 158,
    "start_time": "2025-02-27T17:53:03.469Z"
   },
   {
    "duration": 5,
    "start_time": "2025-02-27T17:53:03.629Z"
   },
   {
    "duration": 304,
    "start_time": "2025-02-27T17:53:03.635Z"
   },
   {
    "duration": 361,
    "start_time": "2025-02-27T17:53:03.941Z"
   },
   {
    "duration": 271,
    "start_time": "2025-02-27T17:53:04.305Z"
   },
   {
    "duration": 8,
    "start_time": "2025-02-27T17:53:04.577Z"
   },
   {
    "duration": 5,
    "start_time": "2025-02-27T17:53:04.587Z"
   },
   {
    "duration": 11,
    "start_time": "2025-02-27T17:53:04.594Z"
   },
   {
    "duration": 1040,
    "start_time": "2025-02-27T18:00:09.636Z"
   },
   {
    "duration": 217,
    "start_time": "2025-02-27T18:00:10.678Z"
   },
   {
    "duration": 16,
    "start_time": "2025-02-27T18:00:10.900Z"
   },
   {
    "duration": 14,
    "start_time": "2025-02-27T18:00:10.918Z"
   },
   {
    "duration": 14,
    "start_time": "2025-02-27T18:00:10.933Z"
   },
   {
    "duration": 13,
    "start_time": "2025-02-27T18:00:10.950Z"
   },
   {
    "duration": 5,
    "start_time": "2025-02-27T18:00:10.967Z"
   },
   {
    "duration": 23,
    "start_time": "2025-02-27T18:00:10.974Z"
   },
   {
    "duration": 9,
    "start_time": "2025-02-27T18:00:10.999Z"
   },
   {
    "duration": 39,
    "start_time": "2025-02-27T18:00:11.024Z"
   },
   {
    "duration": 5,
    "start_time": "2025-02-27T18:00:11.064Z"
   },
   {
    "duration": 23,
    "start_time": "2025-02-27T18:00:11.070Z"
   },
   {
    "duration": 32,
    "start_time": "2025-02-27T18:00:11.095Z"
   },
   {
    "duration": 9,
    "start_time": "2025-02-27T18:00:11.129Z"
   },
   {
    "duration": 23,
    "start_time": "2025-02-27T18:00:11.140Z"
   },
   {
    "duration": 11,
    "start_time": "2025-02-27T18:00:11.165Z"
   },
   {
    "duration": 17,
    "start_time": "2025-02-27T18:00:11.178Z"
   },
   {
    "duration": 32,
    "start_time": "2025-02-27T18:00:11.197Z"
   },
   {
    "duration": 29,
    "start_time": "2025-02-27T18:00:11.231Z"
   },
   {
    "duration": 18,
    "start_time": "2025-02-27T18:00:11.262Z"
   },
   {
    "duration": 9,
    "start_time": "2025-02-27T18:00:11.282Z"
   },
   {
    "duration": 47,
    "start_time": "2025-02-27T18:00:11.293Z"
   },
   {
    "duration": 21,
    "start_time": "2025-02-27T18:00:11.342Z"
   },
   {
    "duration": 18,
    "start_time": "2025-02-27T18:00:11.365Z"
   },
   {
    "duration": 16,
    "start_time": "2025-02-27T18:00:11.385Z"
   },
   {
    "duration": 16,
    "start_time": "2025-02-27T18:00:11.423Z"
   },
   {
    "duration": 11,
    "start_time": "2025-02-27T18:00:11.441Z"
   },
   {
    "duration": 13,
    "start_time": "2025-02-27T18:00:11.457Z"
   },
   {
    "duration": 7,
    "start_time": "2025-02-27T18:00:11.472Z"
   },
   {
    "duration": 0,
    "start_time": "2025-02-27T18:00:11.480Z"
   },
   {
    "duration": 0,
    "start_time": "2025-02-27T18:00:11.482Z"
   },
   {
    "duration": 0,
    "start_time": "2025-02-27T18:00:11.483Z"
   },
   {
    "duration": 0,
    "start_time": "2025-02-27T18:00:11.485Z"
   },
   {
    "duration": 0,
    "start_time": "2025-02-27T18:00:11.486Z"
   },
   {
    "duration": 0,
    "start_time": "2025-02-27T18:00:11.488Z"
   },
   {
    "duration": 0,
    "start_time": "2025-02-27T18:00:11.489Z"
   },
   {
    "duration": 0,
    "start_time": "2025-02-27T18:00:11.491Z"
   },
   {
    "duration": 0,
    "start_time": "2025-02-27T18:00:11.492Z"
   },
   {
    "duration": 0,
    "start_time": "2025-02-27T18:00:11.493Z"
   },
   {
    "duration": 0,
    "start_time": "2025-02-27T18:00:11.526Z"
   },
   {
    "duration": 0,
    "start_time": "2025-02-27T18:00:11.528Z"
   },
   {
    "duration": 0,
    "start_time": "2025-02-27T18:00:11.529Z"
   },
   {
    "duration": 0,
    "start_time": "2025-02-27T18:00:11.530Z"
   },
   {
    "duration": 0,
    "start_time": "2025-02-27T18:00:11.531Z"
   },
   {
    "duration": 0,
    "start_time": "2025-02-27T18:00:11.534Z"
   },
   {
    "duration": 0,
    "start_time": "2025-02-27T18:00:11.535Z"
   },
   {
    "duration": 0,
    "start_time": "2025-02-27T18:00:11.536Z"
   },
   {
    "duration": 0,
    "start_time": "2025-02-27T18:00:11.538Z"
   },
   {
    "duration": 0,
    "start_time": "2025-02-27T18:00:11.539Z"
   },
   {
    "duration": 0,
    "start_time": "2025-02-27T18:00:11.540Z"
   },
   {
    "duration": 1012,
    "start_time": "2025-02-27T18:01:02.474Z"
   },
   {
    "duration": 210,
    "start_time": "2025-02-27T18:01:03.490Z"
   },
   {
    "duration": 11,
    "start_time": "2025-02-27T18:01:03.704Z"
   },
   {
    "duration": 16,
    "start_time": "2025-02-27T18:01:03.717Z"
   },
   {
    "duration": 10,
    "start_time": "2025-02-27T18:01:03.735Z"
   },
   {
    "duration": 11,
    "start_time": "2025-02-27T18:01:03.747Z"
   },
   {
    "duration": 4,
    "start_time": "2025-02-27T18:01:03.759Z"
   },
   {
    "duration": 20,
    "start_time": "2025-02-27T18:01:03.765Z"
   },
   {
    "duration": 8,
    "start_time": "2025-02-27T18:01:03.787Z"
   },
   {
    "duration": 64,
    "start_time": "2025-02-27T18:01:03.799Z"
   },
   {
    "duration": 4,
    "start_time": "2025-02-27T18:01:03.874Z"
   },
   {
    "duration": 27,
    "start_time": "2025-02-27T18:01:03.880Z"
   },
   {
    "duration": 16,
    "start_time": "2025-02-27T18:01:03.909Z"
   },
   {
    "duration": 6,
    "start_time": "2025-02-27T18:01:03.927Z"
   },
   {
    "duration": 24,
    "start_time": "2025-02-27T18:01:03.936Z"
   },
   {
    "duration": 11,
    "start_time": "2025-02-27T18:01:03.962Z"
   },
   {
    "duration": 16,
    "start_time": "2025-02-27T18:01:03.975Z"
   },
   {
    "duration": 9,
    "start_time": "2025-02-27T18:01:04.023Z"
   },
   {
    "duration": 31,
    "start_time": "2025-02-27T18:01:04.034Z"
   },
   {
    "duration": 19,
    "start_time": "2025-02-27T18:01:04.066Z"
   },
   {
    "duration": 8,
    "start_time": "2025-02-27T18:01:04.087Z"
   },
   {
    "duration": 44,
    "start_time": "2025-02-27T18:01:04.097Z"
   },
   {
    "duration": 21,
    "start_time": "2025-02-27T18:01:04.143Z"
   },
   {
    "duration": 16,
    "start_time": "2025-02-27T18:01:04.166Z"
   },
   {
    "duration": 16,
    "start_time": "2025-02-27T18:01:04.184Z"
   },
   {
    "duration": 16,
    "start_time": "2025-02-27T18:01:04.225Z"
   },
   {
    "duration": 11,
    "start_time": "2025-02-27T18:01:04.243Z"
   },
   {
    "duration": 13,
    "start_time": "2025-02-27T18:01:04.258Z"
   },
   {
    "duration": 4,
    "start_time": "2025-02-27T18:01:04.273Z"
   },
   {
    "duration": 0,
    "start_time": "2025-02-27T18:01:04.279Z"
   },
   {
    "duration": 0,
    "start_time": "2025-02-27T18:01:04.280Z"
   },
   {
    "duration": 0,
    "start_time": "2025-02-27T18:01:04.282Z"
   },
   {
    "duration": 0,
    "start_time": "2025-02-27T18:01:04.283Z"
   },
   {
    "duration": 0,
    "start_time": "2025-02-27T18:01:04.284Z"
   },
   {
    "duration": 0,
    "start_time": "2025-02-27T18:01:04.285Z"
   },
   {
    "duration": 0,
    "start_time": "2025-02-27T18:01:04.286Z"
   },
   {
    "duration": 0,
    "start_time": "2025-02-27T18:01:04.288Z"
   },
   {
    "duration": 0,
    "start_time": "2025-02-27T18:01:04.290Z"
   },
   {
    "duration": 0,
    "start_time": "2025-02-27T18:01:04.290Z"
   },
   {
    "duration": 0,
    "start_time": "2025-02-27T18:01:04.292Z"
   },
   {
    "duration": 0,
    "start_time": "2025-02-27T18:01:04.324Z"
   },
   {
    "duration": 0,
    "start_time": "2025-02-27T18:01:04.327Z"
   },
   {
    "duration": 0,
    "start_time": "2025-02-27T18:01:04.327Z"
   },
   {
    "duration": 0,
    "start_time": "2025-02-27T18:01:04.328Z"
   },
   {
    "duration": 0,
    "start_time": "2025-02-27T18:01:04.330Z"
   },
   {
    "duration": 0,
    "start_time": "2025-02-27T18:01:04.331Z"
   },
   {
    "duration": 0,
    "start_time": "2025-02-27T18:01:04.332Z"
   },
   {
    "duration": 0,
    "start_time": "2025-02-27T18:01:04.333Z"
   },
   {
    "duration": 0,
    "start_time": "2025-02-27T18:01:04.334Z"
   },
   {
    "duration": 0,
    "start_time": "2025-02-27T18:01:04.335Z"
   },
   {
    "duration": 1022,
    "start_time": "2025-02-27T18:01:42.024Z"
   },
   {
    "duration": 227,
    "start_time": "2025-02-27T18:01:43.050Z"
   },
   {
    "duration": 11,
    "start_time": "2025-02-27T18:01:43.280Z"
   },
   {
    "duration": 13,
    "start_time": "2025-02-27T18:01:43.293Z"
   },
   {
    "duration": 16,
    "start_time": "2025-02-27T18:01:43.308Z"
   },
   {
    "duration": 10,
    "start_time": "2025-02-27T18:01:43.326Z"
   },
   {
    "duration": 4,
    "start_time": "2025-02-27T18:01:43.338Z"
   },
   {
    "duration": 21,
    "start_time": "2025-02-27T18:01:43.344Z"
   },
   {
    "duration": 9,
    "start_time": "2025-02-27T18:01:43.367Z"
   },
   {
    "duration": 59,
    "start_time": "2025-02-27T18:01:43.382Z"
   },
   {
    "duration": 4,
    "start_time": "2025-02-27T18:01:43.443Z"
   },
   {
    "duration": 25,
    "start_time": "2025-02-27T18:01:43.449Z"
   },
   {
    "duration": 15,
    "start_time": "2025-02-27T18:01:43.478Z"
   },
   {
    "duration": 10,
    "start_time": "2025-02-27T18:01:43.495Z"
   },
   {
    "duration": 35,
    "start_time": "2025-02-27T18:01:43.508Z"
   },
   {
    "duration": 12,
    "start_time": "2025-02-27T18:01:43.545Z"
   },
   {
    "duration": 17,
    "start_time": "2025-02-27T18:01:43.559Z"
   },
   {
    "duration": 8,
    "start_time": "2025-02-27T18:01:43.578Z"
   },
   {
    "duration": 53,
    "start_time": "2025-02-27T18:01:43.588Z"
   },
   {
    "duration": 18,
    "start_time": "2025-02-27T18:01:43.643Z"
   },
   {
    "duration": 9,
    "start_time": "2025-02-27T18:01:43.663Z"
   },
   {
    "duration": 21,
    "start_time": "2025-02-27T18:01:43.674Z"
   },
   {
    "duration": 22,
    "start_time": "2025-02-27T18:01:43.725Z"
   },
   {
    "duration": 17,
    "start_time": "2025-02-27T18:01:43.749Z"
   },
   {
    "duration": 16,
    "start_time": "2025-02-27T18:01:43.768Z"
   },
   {
    "duration": 39,
    "start_time": "2025-02-27T18:01:43.786Z"
   },
   {
    "duration": 9,
    "start_time": "2025-02-27T18:01:43.827Z"
   },
   {
    "duration": 19,
    "start_time": "2025-02-27T18:01:43.842Z"
   },
   {
    "duration": 7,
    "start_time": "2025-02-27T18:01:43.862Z"
   },
   {
    "duration": 5,
    "start_time": "2025-02-27T18:01:43.871Z"
   },
   {
    "duration": 8,
    "start_time": "2025-02-27T18:01:43.877Z"
   },
   {
    "duration": 4,
    "start_time": "2025-02-27T18:01:43.887Z"
   },
   {
    "duration": 0,
    "start_time": "2025-02-27T18:01:43.892Z"
   },
   {
    "duration": 0,
    "start_time": "2025-02-27T18:01:43.894Z"
   },
   {
    "duration": 0,
    "start_time": "2025-02-27T18:01:43.895Z"
   },
   {
    "duration": 0,
    "start_time": "2025-02-27T18:01:43.896Z"
   },
   {
    "duration": 0,
    "start_time": "2025-02-27T18:01:43.897Z"
   },
   {
    "duration": 0,
    "start_time": "2025-02-27T18:01:43.923Z"
   },
   {
    "duration": 0,
    "start_time": "2025-02-27T18:01:43.925Z"
   },
   {
    "duration": 0,
    "start_time": "2025-02-27T18:01:43.926Z"
   },
   {
    "duration": 0,
    "start_time": "2025-02-27T18:01:43.927Z"
   },
   {
    "duration": 0,
    "start_time": "2025-02-27T18:01:43.928Z"
   },
   {
    "duration": 0,
    "start_time": "2025-02-27T18:01:43.930Z"
   },
   {
    "duration": 0,
    "start_time": "2025-02-27T18:01:43.931Z"
   },
   {
    "duration": 0,
    "start_time": "2025-02-27T18:01:43.932Z"
   },
   {
    "duration": 0,
    "start_time": "2025-02-27T18:01:43.933Z"
   },
   {
    "duration": 0,
    "start_time": "2025-02-27T18:01:43.934Z"
   },
   {
    "duration": 0,
    "start_time": "2025-02-27T18:01:43.935Z"
   },
   {
    "duration": 0,
    "start_time": "2025-02-27T18:01:43.936Z"
   },
   {
    "duration": 0,
    "start_time": "2025-02-27T18:01:43.937Z"
   },
   {
    "duration": 886,
    "start_time": "2025-02-27T18:02:20.247Z"
   },
   {
    "duration": 217,
    "start_time": "2025-02-27T18:02:21.138Z"
   },
   {
    "duration": 17,
    "start_time": "2025-02-27T18:02:21.357Z"
   },
   {
    "duration": 14,
    "start_time": "2025-02-27T18:02:21.378Z"
   },
   {
    "duration": 12,
    "start_time": "2025-02-27T18:02:21.395Z"
   },
   {
    "duration": 12,
    "start_time": "2025-02-27T18:02:21.410Z"
   },
   {
    "duration": 8,
    "start_time": "2025-02-27T18:02:21.426Z"
   },
   {
    "duration": 22,
    "start_time": "2025-02-27T18:02:21.437Z"
   },
   {
    "duration": 9,
    "start_time": "2025-02-27T18:02:21.461Z"
   },
   {
    "duration": 39,
    "start_time": "2025-02-27T18:02:21.474Z"
   },
   {
    "duration": 6,
    "start_time": "2025-02-27T18:02:21.526Z"
   },
   {
    "duration": 21,
    "start_time": "2025-02-27T18:02:21.536Z"
   },
   {
    "duration": 14,
    "start_time": "2025-02-27T18:02:21.559Z"
   },
   {
    "duration": 8,
    "start_time": "2025-02-27T18:02:21.577Z"
   },
   {
    "duration": 39,
    "start_time": "2025-02-27T18:02:21.587Z"
   },
   {
    "duration": 12,
    "start_time": "2025-02-27T18:02:21.628Z"
   },
   {
    "duration": 19,
    "start_time": "2025-02-27T18:02:21.642Z"
   },
   {
    "duration": 9,
    "start_time": "2025-02-27T18:02:21.663Z"
   },
   {
    "duration": 52,
    "start_time": "2025-02-27T18:02:21.674Z"
   },
   {
    "duration": 19,
    "start_time": "2025-02-27T18:02:21.728Z"
   },
   {
    "duration": 12,
    "start_time": "2025-02-27T18:02:21.750Z"
   },
   {
    "duration": 21,
    "start_time": "2025-02-27T18:02:21.763Z"
   },
   {
    "duration": 38,
    "start_time": "2025-02-27T18:02:21.787Z"
   },
   {
    "duration": 16,
    "start_time": "2025-02-27T18:02:21.827Z"
   },
   {
    "duration": 17,
    "start_time": "2025-02-27T18:02:21.845Z"
   },
   {
    "duration": 22,
    "start_time": "2025-02-27T18:02:21.864Z"
   },
   {
    "duration": 16,
    "start_time": "2025-02-27T18:02:21.887Z"
   },
   {
    "duration": 22,
    "start_time": "2025-02-27T18:02:21.910Z"
   },
   {
    "duration": 13,
    "start_time": "2025-02-27T18:02:21.936Z"
   },
   {
    "duration": 3,
    "start_time": "2025-02-27T18:02:21.951Z"
   },
   {
    "duration": 8,
    "start_time": "2025-02-27T18:02:21.956Z"
   },
   {
    "duration": 399,
    "start_time": "2025-02-27T18:02:21.966Z"
   },
   {
    "duration": 0,
    "start_time": "2025-02-27T18:02:22.367Z"
   },
   {
    "duration": 0,
    "start_time": "2025-02-27T18:02:22.371Z"
   },
   {
    "duration": 1,
    "start_time": "2025-02-27T18:02:22.373Z"
   },
   {
    "duration": 0,
    "start_time": "2025-02-27T18:02:22.376Z"
   },
   {
    "duration": 0,
    "start_time": "2025-02-27T18:02:22.378Z"
   },
   {
    "duration": 0,
    "start_time": "2025-02-27T18:02:22.379Z"
   },
   {
    "duration": 0,
    "start_time": "2025-02-27T18:02:22.381Z"
   },
   {
    "duration": 0,
    "start_time": "2025-02-27T18:02:22.382Z"
   },
   {
    "duration": 0,
    "start_time": "2025-02-27T18:02:22.384Z"
   },
   {
    "duration": 0,
    "start_time": "2025-02-27T18:02:22.386Z"
   },
   {
    "duration": 0,
    "start_time": "2025-02-27T18:02:22.387Z"
   },
   {
    "duration": 0,
    "start_time": "2025-02-27T18:02:22.389Z"
   },
   {
    "duration": 0,
    "start_time": "2025-02-27T18:02:22.391Z"
   },
   {
    "duration": 0,
    "start_time": "2025-02-27T18:02:22.392Z"
   },
   {
    "duration": 0,
    "start_time": "2025-02-27T18:02:22.394Z"
   },
   {
    "duration": 0,
    "start_time": "2025-02-27T18:02:22.396Z"
   },
   {
    "duration": 0,
    "start_time": "2025-02-27T18:02:22.397Z"
   },
   {
    "duration": 0,
    "start_time": "2025-02-27T18:02:22.424Z"
   },
   {
    "duration": 1048,
    "start_time": "2025-02-27T18:02:48.389Z"
   },
   {
    "duration": 225,
    "start_time": "2025-02-27T18:02:49.439Z"
   },
   {
    "duration": 10,
    "start_time": "2025-02-27T18:02:49.666Z"
   },
   {
    "duration": 11,
    "start_time": "2025-02-27T18:02:49.679Z"
   },
   {
    "duration": 9,
    "start_time": "2025-02-27T18:02:49.692Z"
   },
   {
    "duration": 31,
    "start_time": "2025-02-27T18:02:49.703Z"
   },
   {
    "duration": 3,
    "start_time": "2025-02-27T18:02:49.738Z"
   },
   {
    "duration": 22,
    "start_time": "2025-02-27T18:02:49.743Z"
   },
   {
    "duration": 8,
    "start_time": "2025-02-27T18:02:49.766Z"
   },
   {
    "duration": 55,
    "start_time": "2025-02-27T18:02:49.778Z"
   },
   {
    "duration": 6,
    "start_time": "2025-02-27T18:02:49.836Z"
   },
   {
    "duration": 26,
    "start_time": "2025-02-27T18:02:49.843Z"
   },
   {
    "duration": 19,
    "start_time": "2025-02-27T18:02:49.871Z"
   },
   {
    "duration": 10,
    "start_time": "2025-02-27T18:02:49.894Z"
   },
   {
    "duration": 35,
    "start_time": "2025-02-27T18:02:49.908Z"
   },
   {
    "duration": 12,
    "start_time": "2025-02-27T18:02:49.945Z"
   },
   {
    "duration": 22,
    "start_time": "2025-02-27T18:02:49.959Z"
   },
   {
    "duration": 9,
    "start_time": "2025-02-27T18:02:49.983Z"
   },
   {
    "duration": 50,
    "start_time": "2025-02-27T18:02:49.994Z"
   },
   {
    "duration": 18,
    "start_time": "2025-02-27T18:02:50.046Z"
   },
   {
    "duration": 9,
    "start_time": "2025-02-27T18:02:50.066Z"
   },
   {
    "duration": 20,
    "start_time": "2025-02-27T18:02:50.078Z"
   },
   {
    "duration": 42,
    "start_time": "2025-02-27T18:02:50.100Z"
   },
   {
    "duration": 17,
    "start_time": "2025-02-27T18:02:50.144Z"
   },
   {
    "duration": 16,
    "start_time": "2025-02-27T18:02:50.164Z"
   },
   {
    "duration": 42,
    "start_time": "2025-02-27T18:02:50.182Z"
   },
   {
    "duration": 10,
    "start_time": "2025-02-27T18:02:50.226Z"
   },
   {
    "duration": 12,
    "start_time": "2025-02-27T18:02:50.241Z"
   },
   {
    "duration": 7,
    "start_time": "2025-02-27T18:02:50.255Z"
   },
   {
    "duration": 3,
    "start_time": "2025-02-27T18:02:50.264Z"
   },
   {
    "duration": 7,
    "start_time": "2025-02-27T18:02:50.269Z"
   },
   {
    "duration": 5,
    "start_time": "2025-02-27T18:02:50.279Z"
   },
   {
    "duration": 47,
    "start_time": "2025-02-27T18:02:50.286Z"
   },
   {
    "duration": 250,
    "start_time": "2025-02-27T18:02:50.335Z"
   },
   {
    "duration": 301,
    "start_time": "2025-02-27T18:02:50.587Z"
   },
   {
    "duration": 9,
    "start_time": "2025-02-27T18:02:50.890Z"
   },
   {
    "duration": 254,
    "start_time": "2025-02-27T18:02:50.901Z"
   },
   {
    "duration": 208,
    "start_time": "2025-02-27T18:02:51.157Z"
   },
   {
    "duration": 301,
    "start_time": "2025-02-27T18:02:51.367Z"
   },
   {
    "duration": 168,
    "start_time": "2025-02-27T18:02:51.671Z"
   },
   {
    "duration": 262,
    "start_time": "2025-02-27T18:02:51.841Z"
   },
   {
    "duration": 281,
    "start_time": "2025-02-27T18:02:52.104Z"
   },
   {
    "duration": 162,
    "start_time": "2025-02-27T18:02:52.387Z"
   },
   {
    "duration": 4,
    "start_time": "2025-02-27T18:02:52.552Z"
   },
   {
    "duration": 308,
    "start_time": "2025-02-27T18:02:52.558Z"
   },
   {
    "duration": 363,
    "start_time": "2025-02-27T18:02:52.868Z"
   },
   {
    "duration": 275,
    "start_time": "2025-02-27T18:02:53.234Z"
   },
   {
    "duration": 13,
    "start_time": "2025-02-27T18:02:53.512Z"
   },
   {
    "duration": 4,
    "start_time": "2025-02-27T18:02:53.527Z"
   },
   {
    "duration": 13,
    "start_time": "2025-02-27T18:02:53.533Z"
   },
   {
    "duration": 15,
    "start_time": "2025-02-27T19:12:32.291Z"
   },
   {
    "duration": 5,
    "start_time": "2025-02-27T19:19:06.862Z"
   },
   {
    "duration": 735,
    "start_time": "2025-02-27T20:10:37.063Z"
   },
   {
    "duration": 932,
    "start_time": "2025-02-27T20:11:08.095Z"
   },
   {
    "duration": 164,
    "start_time": "2025-02-27T20:11:09.029Z"
   },
   {
    "duration": 11,
    "start_time": "2025-02-27T20:11:09.196Z"
   },
   {
    "duration": 15,
    "start_time": "2025-02-27T20:11:09.210Z"
   },
   {
    "duration": 11,
    "start_time": "2025-02-27T20:11:09.227Z"
   },
   {
    "duration": 11,
    "start_time": "2025-02-27T20:11:09.240Z"
   },
   {
    "duration": 4,
    "start_time": "2025-02-27T20:11:09.253Z"
   },
   {
    "duration": 21,
    "start_time": "2025-02-27T20:11:09.260Z"
   },
   {
    "duration": 8,
    "start_time": "2025-02-27T20:11:09.283Z"
   },
   {
    "duration": 58,
    "start_time": "2025-02-27T20:11:09.295Z"
   },
   {
    "duration": 4,
    "start_time": "2025-02-27T20:11:09.355Z"
   },
   {
    "duration": 18,
    "start_time": "2025-02-27T20:11:09.360Z"
   },
   {
    "duration": 11,
    "start_time": "2025-02-27T20:11:09.380Z"
   },
   {
    "duration": 39,
    "start_time": "2025-02-27T20:11:09.393Z"
   },
   {
    "duration": 17,
    "start_time": "2025-02-27T20:11:09.434Z"
   },
   {
    "duration": 11,
    "start_time": "2025-02-27T20:11:09.454Z"
   },
   {
    "duration": 17,
    "start_time": "2025-02-27T20:11:09.467Z"
   },
   {
    "duration": 40,
    "start_time": "2025-02-27T20:11:09.486Z"
   },
   {
    "duration": 21,
    "start_time": "2025-02-27T20:11:09.528Z"
   },
   {
    "duration": 16,
    "start_time": "2025-02-27T20:11:09.552Z"
   },
   {
    "duration": 7,
    "start_time": "2025-02-27T20:11:09.570Z"
   },
   {
    "duration": 17,
    "start_time": "2025-02-27T20:11:09.579Z"
   },
   {
    "duration": 20,
    "start_time": "2025-02-27T20:11:09.624Z"
   },
   {
    "duration": 14,
    "start_time": "2025-02-27T20:11:09.646Z"
   },
   {
    "duration": 15,
    "start_time": "2025-02-27T20:11:09.662Z"
   },
   {
    "duration": 15,
    "start_time": "2025-02-27T20:11:09.679Z"
   },
   {
    "duration": 36,
    "start_time": "2025-02-27T20:11:09.695Z"
   },
   {
    "duration": 14,
    "start_time": "2025-02-27T20:11:09.736Z"
   },
   {
    "duration": 7,
    "start_time": "2025-02-27T20:11:09.752Z"
   },
   {
    "duration": 4,
    "start_time": "2025-02-27T20:11:09.760Z"
   },
   {
    "duration": 6,
    "start_time": "2025-02-27T20:11:09.766Z"
   },
   {
    "duration": 5,
    "start_time": "2025-02-27T20:11:09.774Z"
   },
   {
    "duration": 48,
    "start_time": "2025-02-27T20:11:09.780Z"
   },
   {
    "duration": 203,
    "start_time": "2025-02-27T20:11:09.830Z"
   },
   {
    "duration": 240,
    "start_time": "2025-02-27T20:11:10.035Z"
   },
   {
    "duration": 9,
    "start_time": "2025-02-27T20:11:10.277Z"
   },
   {
    "duration": 215,
    "start_time": "2025-02-27T20:11:10.288Z"
   },
   {
    "duration": 199,
    "start_time": "2025-02-27T20:11:10.505Z"
   },
   {
    "duration": 260,
    "start_time": "2025-02-27T20:11:10.706Z"
   },
   {
    "duration": 159,
    "start_time": "2025-02-27T20:11:10.968Z"
   },
   {
    "duration": 211,
    "start_time": "2025-02-27T20:11:11.129Z"
   },
   {
    "duration": 268,
    "start_time": "2025-02-27T20:11:11.342Z"
   },
   {
    "duration": 134,
    "start_time": "2025-02-27T20:11:11.612Z"
   },
   {
    "duration": 5,
    "start_time": "2025-02-27T20:11:11.748Z"
   },
   {
    "duration": 222,
    "start_time": "2025-02-27T20:11:11.755Z"
   },
   {
    "duration": 290,
    "start_time": "2025-02-27T20:11:11.979Z"
   },
   {
    "duration": 222,
    "start_time": "2025-02-27T20:11:12.270Z"
   },
   {
    "duration": 8,
    "start_time": "2025-02-27T20:11:12.494Z"
   },
   {
    "duration": 4,
    "start_time": "2025-02-27T20:11:12.506Z"
   },
   {
    "duration": 15,
    "start_time": "2025-02-27T20:11:12.525Z"
   },
   {
    "duration": 712,
    "start_time": "2025-02-27T20:11:27.745Z"
   },
   {
    "duration": 13,
    "start_time": "2025-02-27T20:12:22.492Z"
   },
   {
    "duration": 837,
    "start_time": "2025-02-27T20:17:09.103Z"
   },
   {
    "duration": 166,
    "start_time": "2025-02-27T20:17:09.942Z"
   },
   {
    "duration": 13,
    "start_time": "2025-02-27T20:17:10.112Z"
   },
   {
    "duration": 11,
    "start_time": "2025-02-27T20:17:10.127Z"
   },
   {
    "duration": 10,
    "start_time": "2025-02-27T20:17:10.140Z"
   },
   {
    "duration": 11,
    "start_time": "2025-02-27T20:17:10.152Z"
   },
   {
    "duration": 5,
    "start_time": "2025-02-27T20:17:10.164Z"
   },
   {
    "duration": 20,
    "start_time": "2025-02-27T20:17:10.171Z"
   },
   {
    "duration": 33,
    "start_time": "2025-02-27T20:17:10.193Z"
   },
   {
    "duration": 36,
    "start_time": "2025-02-27T20:17:10.230Z"
   },
   {
    "duration": 4,
    "start_time": "2025-02-27T20:17:10.269Z"
   },
   {
    "duration": 19,
    "start_time": "2025-02-27T20:17:10.274Z"
   },
   {
    "duration": 41,
    "start_time": "2025-02-27T20:17:10.295Z"
   },
   {
    "duration": 11,
    "start_time": "2025-02-27T20:17:10.340Z"
   },
   {
    "duration": 25,
    "start_time": "2025-02-27T20:17:10.355Z"
   },
   {
    "duration": 12,
    "start_time": "2025-02-27T20:17:10.382Z"
   },
   {
    "duration": 40,
    "start_time": "2025-02-27T20:17:10.395Z"
   },
   {
    "duration": 8,
    "start_time": "2025-02-27T20:17:10.437Z"
   },
   {
    "duration": 25,
    "start_time": "2025-02-27T20:17:10.447Z"
   },
   {
    "duration": 16,
    "start_time": "2025-02-27T20:17:10.474Z"
   },
   {
    "duration": 32,
    "start_time": "2025-02-27T20:17:10.492Z"
   },
   {
    "duration": 19,
    "start_time": "2025-02-27T20:17:10.526Z"
   },
   {
    "duration": 21,
    "start_time": "2025-02-27T20:17:10.547Z"
   },
   {
    "duration": 14,
    "start_time": "2025-02-27T20:17:10.571Z"
   },
   {
    "duration": 38,
    "start_time": "2025-02-27T20:17:10.587Z"
   },
   {
    "duration": 15,
    "start_time": "2025-02-27T20:17:10.627Z"
   },
   {
    "duration": 9,
    "start_time": "2025-02-27T20:17:10.644Z"
   },
   {
    "duration": 11,
    "start_time": "2025-02-27T20:17:10.658Z"
   },
   {
    "duration": 776,
    "start_time": "2025-02-27T20:17:10.672Z"
   },
   {
    "duration": 0,
    "start_time": "2025-02-27T20:17:11.450Z"
   },
   {
    "duration": 0,
    "start_time": "2025-02-27T20:17:11.451Z"
   },
   {
    "duration": 0,
    "start_time": "2025-02-27T20:17:11.452Z"
   },
   {
    "duration": 0,
    "start_time": "2025-02-27T20:17:11.453Z"
   },
   {
    "duration": 0,
    "start_time": "2025-02-27T20:17:11.454Z"
   },
   {
    "duration": 0,
    "start_time": "2025-02-27T20:17:11.455Z"
   },
   {
    "duration": 0,
    "start_time": "2025-02-27T20:17:11.456Z"
   },
   {
    "duration": 0,
    "start_time": "2025-02-27T20:17:11.457Z"
   },
   {
    "duration": 0,
    "start_time": "2025-02-27T20:17:11.457Z"
   },
   {
    "duration": 0,
    "start_time": "2025-02-27T20:17:11.458Z"
   },
   {
    "duration": 0,
    "start_time": "2025-02-27T20:17:11.459Z"
   },
   {
    "duration": 0,
    "start_time": "2025-02-27T20:17:11.461Z"
   },
   {
    "duration": 0,
    "start_time": "2025-02-27T20:17:11.462Z"
   },
   {
    "duration": 0,
    "start_time": "2025-02-27T20:17:11.463Z"
   },
   {
    "duration": 0,
    "start_time": "2025-02-27T20:17:11.464Z"
   },
   {
    "duration": 1,
    "start_time": "2025-02-27T20:17:11.465Z"
   },
   {
    "duration": 0,
    "start_time": "2025-02-27T20:17:11.467Z"
   },
   {
    "duration": 0,
    "start_time": "2025-02-27T20:17:11.468Z"
   },
   {
    "duration": 0,
    "start_time": "2025-02-27T20:17:11.469Z"
   },
   {
    "duration": 0,
    "start_time": "2025-02-27T20:17:11.470Z"
   },
   {
    "duration": 6,
    "start_time": "2025-02-27T20:20:17.564Z"
   },
   {
    "duration": 5,
    "start_time": "2025-02-27T20:20:31.229Z"
   },
   {
    "duration": 14,
    "start_time": "2025-02-27T20:20:34.260Z"
   },
   {
    "duration": 5,
    "start_time": "2025-02-27T20:21:01.229Z"
   },
   {
    "duration": 5,
    "start_time": "2025-02-27T20:21:04.487Z"
   },
   {
    "duration": 21,
    "start_time": "2025-02-27T20:21:09.366Z"
   },
   {
    "duration": 860,
    "start_time": "2025-02-27T20:47:26.785Z"
   },
   {
    "duration": 206,
    "start_time": "2025-02-27T20:47:27.648Z"
   },
   {
    "duration": 11,
    "start_time": "2025-02-27T20:47:27.858Z"
   },
   {
    "duration": 11,
    "start_time": "2025-02-27T20:47:27.871Z"
   },
   {
    "duration": 10,
    "start_time": "2025-02-27T20:47:27.884Z"
   },
   {
    "duration": 10,
    "start_time": "2025-02-27T20:47:27.896Z"
   },
   {
    "duration": 4,
    "start_time": "2025-02-27T20:47:27.925Z"
   },
   {
    "duration": 19,
    "start_time": "2025-02-27T20:47:27.931Z"
   },
   {
    "duration": 7,
    "start_time": "2025-02-27T20:47:27.952Z"
   },
   {
    "duration": 27,
    "start_time": "2025-02-27T20:47:27.963Z"
   },
   {
    "duration": 34,
    "start_time": "2025-02-27T20:47:27.992Z"
   },
   {
    "duration": 19,
    "start_time": "2025-02-27T20:47:28.028Z"
   },
   {
    "duration": 13,
    "start_time": "2025-02-27T20:47:28.049Z"
   },
   {
    "duration": 7,
    "start_time": "2025-02-27T20:47:28.064Z"
   },
   {
    "duration": 23,
    "start_time": "2025-02-27T20:47:28.073Z"
   },
   {
    "duration": 13,
    "start_time": "2025-02-27T20:47:28.126Z"
   },
   {
    "duration": 15,
    "start_time": "2025-02-27T20:47:28.141Z"
   },
   {
    "duration": 8,
    "start_time": "2025-02-27T20:47:28.158Z"
   },
   {
    "duration": 30,
    "start_time": "2025-02-27T20:47:28.168Z"
   },
   {
    "duration": 41,
    "start_time": "2025-02-27T20:47:28.199Z"
   },
   {
    "duration": 8,
    "start_time": "2025-02-27T20:47:28.242Z"
   },
   {
    "duration": 21,
    "start_time": "2025-02-27T20:47:28.252Z"
   },
   {
    "duration": 21,
    "start_time": "2025-02-27T20:47:28.275Z"
   },
   {
    "duration": 40,
    "start_time": "2025-02-27T20:47:28.298Z"
   },
   {
    "duration": 16,
    "start_time": "2025-02-27T20:47:28.340Z"
   },
   {
    "duration": 14,
    "start_time": "2025-02-27T20:47:28.358Z"
   },
   {
    "duration": 9,
    "start_time": "2025-02-27T20:47:28.374Z"
   },
   {
    "duration": 38,
    "start_time": "2025-02-27T20:47:28.387Z"
   },
   {
    "duration": 13,
    "start_time": "2025-02-27T20:47:28.427Z"
   },
   {
    "duration": 9,
    "start_time": "2025-02-27T20:47:28.442Z"
   },
   {
    "duration": 7,
    "start_time": "2025-02-27T20:47:28.454Z"
   },
   {
    "duration": 18,
    "start_time": "2025-02-27T20:47:28.463Z"
   },
   {
    "duration": 223,
    "start_time": "2025-02-27T20:47:28.483Z"
   },
   {
    "duration": 274,
    "start_time": "2025-02-27T20:47:28.709Z"
   },
   {
    "duration": 7,
    "start_time": "2025-02-27T20:47:28.985Z"
   },
   {
    "duration": 204,
    "start_time": "2025-02-27T20:47:28.994Z"
   },
   {
    "duration": 196,
    "start_time": "2025-02-27T20:47:29.200Z"
   },
   {
    "duration": 272,
    "start_time": "2025-02-27T20:47:29.398Z"
   },
   {
    "duration": 153,
    "start_time": "2025-02-27T20:47:29.672Z"
   },
   {
    "duration": 212,
    "start_time": "2025-02-27T20:47:29.827Z"
   },
   {
    "duration": 247,
    "start_time": "2025-02-27T20:47:30.041Z"
   },
   {
    "duration": 128,
    "start_time": "2025-02-27T20:47:30.290Z"
   },
   {
    "duration": 5,
    "start_time": "2025-02-27T20:47:30.423Z"
   },
   {
    "duration": 243,
    "start_time": "2025-02-27T20:47:30.431Z"
   },
   {
    "duration": 311,
    "start_time": "2025-02-27T20:47:30.676Z"
   },
   {
    "duration": 236,
    "start_time": "2025-02-27T20:47:30.990Z"
   },
   {
    "duration": 11,
    "start_time": "2025-02-27T20:47:31.228Z"
   },
   {
    "duration": 7,
    "start_time": "2025-02-27T20:47:31.240Z"
   },
   {
    "duration": 12,
    "start_time": "2025-02-27T20:47:31.250Z"
   },
   {
    "duration": 17,
    "start_time": "2025-02-27T20:49:29.627Z"
   },
   {
    "duration": 746,
    "start_time": "2025-02-27T20:51:03.731Z"
   },
   {
    "duration": 14,
    "start_time": "2025-02-27T20:52:16.651Z"
   },
   {
    "duration": 59,
    "start_time": "2025-02-27T20:53:03.218Z"
   },
   {
    "duration": 13,
    "start_time": "2025-02-27T20:53:23.770Z"
   },
   {
    "duration": 885,
    "start_time": "2025-02-27T20:53:52.228Z"
   },
   {
    "duration": 158,
    "start_time": "2025-02-27T20:53:53.115Z"
   },
   {
    "duration": 12,
    "start_time": "2025-02-27T20:53:53.275Z"
   },
   {
    "duration": 12,
    "start_time": "2025-02-27T20:53:53.290Z"
   },
   {
    "duration": 18,
    "start_time": "2025-02-27T20:53:53.306Z"
   },
   {
    "duration": 10,
    "start_time": "2025-02-27T20:53:53.326Z"
   },
   {
    "duration": 3,
    "start_time": "2025-02-27T20:53:53.338Z"
   },
   {
    "duration": 17,
    "start_time": "2025-02-27T20:53:53.343Z"
   },
   {
    "duration": 7,
    "start_time": "2025-02-27T20:53:53.362Z"
   },
   {
    "duration": 55,
    "start_time": "2025-02-27T20:53:53.370Z"
   },
   {
    "duration": 5,
    "start_time": "2025-02-27T20:53:53.426Z"
   },
   {
    "duration": 17,
    "start_time": "2025-02-27T20:53:53.434Z"
   },
   {
    "duration": 12,
    "start_time": "2025-02-27T20:53:53.453Z"
   },
   {
    "duration": 7,
    "start_time": "2025-02-27T20:53:53.470Z"
   },
   {
    "duration": 53,
    "start_time": "2025-02-27T20:53:53.479Z"
   },
   {
    "duration": 10,
    "start_time": "2025-02-27T20:53:53.533Z"
   },
   {
    "duration": 15,
    "start_time": "2025-02-27T20:53:53.545Z"
   },
   {
    "duration": 9,
    "start_time": "2025-02-27T20:53:53.562Z"
   },
   {
    "duration": 57,
    "start_time": "2025-02-27T20:53:53.572Z"
   },
   {
    "duration": 18,
    "start_time": "2025-02-27T20:53:53.631Z"
   },
   {
    "duration": 10,
    "start_time": "2025-02-27T20:53:53.651Z"
   },
   {
    "duration": 19,
    "start_time": "2025-02-27T20:53:53.664Z"
   },
   {
    "duration": 44,
    "start_time": "2025-02-27T20:53:53.685Z"
   },
   {
    "duration": 18,
    "start_time": "2025-02-27T20:53:53.730Z"
   },
   {
    "duration": 19,
    "start_time": "2025-02-27T20:53:53.750Z"
   },
   {
    "duration": 15,
    "start_time": "2025-02-27T20:53:53.773Z"
   },
   {
    "duration": 9,
    "start_time": "2025-02-27T20:53:53.790Z"
   },
   {
    "duration": 28,
    "start_time": "2025-02-27T20:53:53.800Z"
   },
   {
    "duration": 14,
    "start_time": "2025-02-27T20:53:53.830Z"
   },
   {
    "duration": 8,
    "start_time": "2025-02-27T20:53:53.846Z"
   },
   {
    "duration": 5,
    "start_time": "2025-02-27T20:53:53.855Z"
   },
   {
    "duration": 17,
    "start_time": "2025-02-27T20:53:53.863Z"
   },
   {
    "duration": 237,
    "start_time": "2025-02-27T20:53:53.882Z"
   },
   {
    "duration": 243,
    "start_time": "2025-02-27T20:53:54.121Z"
   },
   {
    "duration": 8,
    "start_time": "2025-02-27T20:53:54.366Z"
   },
   {
    "duration": 213,
    "start_time": "2025-02-27T20:53:54.376Z"
   },
   {
    "duration": 205,
    "start_time": "2025-02-27T20:53:54.592Z"
   },
   {
    "duration": 257,
    "start_time": "2025-02-27T20:53:54.799Z"
   },
   {
    "duration": 160,
    "start_time": "2025-02-27T20:53:55.058Z"
   },
   {
    "duration": 207,
    "start_time": "2025-02-27T20:53:55.220Z"
   },
   {
    "duration": 213,
    "start_time": "2025-02-27T20:53:55.433Z"
   },
   {
    "duration": 163,
    "start_time": "2025-02-27T20:53:55.649Z"
   },
   {
    "duration": 9,
    "start_time": "2025-02-27T20:53:55.815Z"
   },
   {
    "duration": 221,
    "start_time": "2025-02-27T20:53:55.827Z"
   },
   {
    "duration": 333,
    "start_time": "2025-02-27T20:53:56.050Z"
   },
   {
    "duration": 222,
    "start_time": "2025-02-27T20:53:56.385Z"
   },
   {
    "duration": 16,
    "start_time": "2025-02-27T20:53:56.609Z"
   },
   {
    "duration": 4,
    "start_time": "2025-02-27T20:53:56.627Z"
   },
   {
    "duration": 12,
    "start_time": "2025-02-27T20:53:56.633Z"
   },
   {
    "duration": 10,
    "start_time": "2025-02-28T13:52:46.654Z"
   },
   {
    "duration": 3,
    "start_time": "2025-02-28T13:52:51.316Z"
   }
  ],
  "colab": {
   "provenance": []
  },
  "kernelspec": {
   "display_name": "base",
   "language": "python",
   "name": "python3"
  },
  "language_info": {
   "codemirror_mode": {
    "name": "ipython",
    "version": 3
   },
   "file_extension": ".py",
   "mimetype": "text/x-python",
   "name": "python",
   "nbconvert_exporter": "python",
   "pygments_lexer": "ipython3",
   "version": "3.12.7"
  },
  "toc": {
   "base_numbering": 1,
   "nav_menu": {},
   "number_sections": true,
   "sideBar": true,
   "skip_h1_title": false,
   "title_cell": "Table of Contents",
   "title_sidebar": "Contents",
   "toc_cell": false,
   "toc_position": {
    "height": "calc(100% - 180px)",
    "left": "10px",
    "top": "150px",
    "width": "165px"
   },
   "toc_section_display": true,
   "toc_window_display": false
  }
 },
 "nbformat": 4,
 "nbformat_minor": 1
}
